


!pip install "git+https://github.com/bblais/Game" --upgrade


import Game








pip install "git+https://github.com/bblais/Robot373" --upgrade











!pip install scikit-learn


!pip install "git+https://github.com/bblais/classy" --upgrade


!pip install "git+https://github.com/bblais/NumpyNet" --upgrade


!pip install tqdm


!pip install opencv-python



