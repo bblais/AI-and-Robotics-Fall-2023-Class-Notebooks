from Game import *


state=Board(4,4)
state


state.show_locations()


for i in range(4):
    state[i]=2
    state[i+12]=1
state


moves=[]
if player==1:
    for location in range(4,16):
        if state[location]==1 and state[location-4]==0:
            moves.append(  [location,location-4]  )
    
    for location in [4,5,6,8,9,10,12,13,14 ]:
        if state[location]==1 and (state[location-3]==0 or state[location-3]==2):
            moves.append(  [location,location-3]  )

moves



