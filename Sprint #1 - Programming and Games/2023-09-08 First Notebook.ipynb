{
 "cells": [
  {
   "cell_type": "code",
   "execution_count": 1,
   "id": "f73abae6-db52-43c0-806e-3cc2994dea17",
   "metadata": {},
   "outputs": [
    {
     "name": "stdout",
     "output_type": "stream",
     "text": [
      "hello world\n"
     ]
    }
   ],
   "source": [
    "print(\"hello world\")"
   ]
  },
  {
   "cell_type": "code",
   "execution_count": 2,
   "id": "40e9ce2d-7d66-4066-8717-0afa778ec287",
   "metadata": {},
   "outputs": [
    {
     "data": {
      "text/plain": [
       "'/Users/bblais/Documents/Git/AI-and-Robotics-Fall-2023-Class-Notebooks/Sprint #1 - Programming and Games'"
      ]
     },
     "execution_count": 2,
     "metadata": {},
     "output_type": "execute_result"
    }
   ],
   "source": [
    "pwd"
   ]
  },
  {
   "cell_type": "markdown",
   "id": "38558e86-9bd0-49f0-af3f-1c171f147dfc",
   "metadata": {},
   "source": [
    "# Markdown\n",
    "\n",
    "https://www.markdownguide.org/basic-syntax/\n",
    "\n",
    "## subheading\n",
    "\n",
    "Some text here.  Maybe some **bold** or *italic*.\n",
    "\n",
    "- how\n",
    "- about\n",
    "- a\n",
    "- bulleted list?\n",
    "\n",
    "Even equations like\n",
    "\n",
    "$$\n",
    "E=mc^2 \\times \\sqrt{\\frac{1}{1-v^2/c^2}}\n",
    "$$"
   ]
  },
  {
   "cell_type": "code",
   "execution_count": 3,
   "id": "e11f7f21-a218-4395-8098-fde49a5f817d",
   "metadata": {},
   "outputs": [
    {
     "data": {
      "text/plain": [
       "80932420"
      ]
     },
     "execution_count": 3,
     "metadata": {},
     "output_type": "execute_result"
    }
   ],
   "source": [
    "3746+34838*2323"
   ]
  },
  {
   "cell_type": "code",
   "execution_count": 4,
   "id": "4137b909-4534-46cd-b041-119482c9e133",
   "metadata": {},
   "outputs": [
    {
     "data": {
      "text/plain": [
       "30"
      ]
     },
     "execution_count": 4,
     "metadata": {},
     "output_type": "execute_result"
    }
   ],
   "source": [
    "a=5\n",
    "b=6\n",
    "a*b"
   ]
  },
  {
   "cell_type": "code",
   "execution_count": 5,
   "id": "ebf60fd7-5fb6-496d-ae92-abb21725ffb5",
   "metadata": {},
   "outputs": [
    {
     "data": {
      "text/plain": [
       "4413"
      ]
     },
     "execution_count": 5,
     "metadata": {},
     "output_type": "execute_result"
    }
   ],
   "source": [
    "bob=7847\n",
    "sally=3434\n",
    "bob-sally"
   ]
  },
  {
   "cell_type": "markdown",
   "id": "017a2da2-58a1-4706-9372-136226e4a0da",
   "metadata": {},
   "source": [
    "To do exponents, use ** not ^"
   ]
  },
  {
   "cell_type": "code",
   "execution_count": 6,
   "id": "b736e230-f3b7-4a9a-92ce-c70e6b119dc8",
   "metadata": {},
   "outputs": [
    {
     "data": {
      "text/plain": [
       "125"
      ]
     },
     "execution_count": 6,
     "metadata": {},
     "output_type": "execute_result"
    }
   ],
   "source": [
    "5**3"
   ]
  },
  {
   "cell_type": "code",
   "execution_count": 8,
   "id": "164f3c3e-3864-4685-bf18-a794c109208d",
   "metadata": {},
   "outputs": [
    {
     "data": {
      "text/plain": [
       "6"
      ]
     },
     "execution_count": 8,
     "metadata": {},
     "output_type": "execute_result"
    }
   ],
   "source": [
    "5^3  # gives a weird answer and is not an exponent"
   ]
  },
  {
   "cell_type": "code",
   "execution_count": 9,
   "id": "481bcf61-6bca-4a15-b965-d1186da3b2bc",
   "metadata": {},
   "outputs": [
    {
     "ename": "NameError",
     "evalue": "name 'cos' is not defined",
     "output_type": "error",
     "traceback": [
      "\u001b[0;31m---------------------------------------------------------------------------\u001b[0m",
      "\u001b[0;31mNameError\u001b[0m                                 Traceback (most recent call last)",
      "Cell \u001b[0;32mIn[9], line 1\u001b[0m\n\u001b[0;32m----> 1\u001b[0m cos(\u001b[38;5;241m45\u001b[39m)\n",
      "\u001b[0;31mNameError\u001b[0m: name 'cos' is not defined"
     ]
    }
   ],
   "source": [
    "cos(45)"
   ]
  },
  {
   "cell_type": "code",
   "execution_count": 10,
   "id": "b3a826f8-d3ed-4bf1-83b7-a87f71ebc174",
   "metadata": {},
   "outputs": [
    {
     "ename": "SyntaxError",
     "evalue": "unmatched ')' (276726727.py, line 1)",
     "output_type": "error",
     "traceback": [
      "\u001b[0;36m  Cell \u001b[0;32mIn[10], line 1\u001b[0;36m\u001b[0m\n\u001b[0;31m    print(c))\u001b[0m\n\u001b[0m            ^\u001b[0m\n\u001b[0;31mSyntaxError\u001b[0m\u001b[0;31m:\u001b[0m unmatched ')'\n"
     ]
    }
   ],
   "source": [
    "print(c))"
   ]
  },
  {
   "cell_type": "code",
   "execution_count": 11,
   "id": "80038f94-58f3-490a-9b7a-f8375182d096",
   "metadata": {},
   "outputs": [
    {
     "ename": "NameError",
     "evalue": "name 'c' is not defined",
     "output_type": "error",
     "traceback": [
      "\u001b[0;31m---------------------------------------------------------------------------\u001b[0m",
      "\u001b[0;31mNameError\u001b[0m                                 Traceback (most recent call last)",
      "Cell \u001b[0;32mIn[11], line 1\u001b[0m\n\u001b[0;32m----> 1\u001b[0m \u001b[38;5;28mprint\u001b[39m(c)\n",
      "\u001b[0;31mNameError\u001b[0m: name 'c' is not defined"
     ]
    }
   ],
   "source": [
    "print(c)"
   ]
  },
  {
   "cell_type": "code",
   "execution_count": 12,
   "id": "93bfed86-8799-4839-a8b7-bad2d3037130",
   "metadata": {},
   "outputs": [
    {
     "ename": "SyntaxError",
     "evalue": "cannot assign to expression (301523722.py, line 1)",
     "output_type": "error",
     "traceback": [
      "\u001b[0;36m  Cell \u001b[0;32mIn[12], line 1\u001b[0;36m\u001b[0m\n\u001b[0;31m    a+b=a*b=a/b\u001b[0m\n\u001b[0m    ^\u001b[0m\n\u001b[0;31mSyntaxError\u001b[0m\u001b[0;31m:\u001b[0m cannot assign to expression\n"
     ]
    }
   ],
   "source": [
    "a+b=a*b=a/b"
   ]
  },
  {
   "cell_type": "code",
   "execution_count": 13,
   "id": "5b348f27-e887-4b36-8d60-925276c2366d",
   "metadata": {},
   "outputs": [
    {
     "data": {
      "text/plain": [
       "5"
      ]
     },
     "execution_count": 13,
     "metadata": {},
     "output_type": "execute_result"
    }
   ],
   "source": [
    "a"
   ]
  },
  {
   "cell_type": "markdown",
   "id": "a3174485-5e3c-42b8-922b-3afb2008fb30",
   "metadata": {},
   "source": [
    "$$\n",
    "6a-4\n",
    "$$"
   ]
  },
  {
   "cell_type": "code",
   "execution_count": 14,
   "id": "bfa60952-d353-4100-8de1-3b349124bd15",
   "metadata": {},
   "outputs": [
    {
     "ename": "SyntaxError",
     "evalue": "invalid decimal literal (903712289.py, line 1)",
     "output_type": "error",
     "traceback": [
      "\u001b[0;36m  Cell \u001b[0;32mIn[14], line 1\u001b[0;36m\u001b[0m\n\u001b[0;31m    6a-4\u001b[0m\n\u001b[0m    ^\u001b[0m\n\u001b[0;31mSyntaxError\u001b[0m\u001b[0;31m:\u001b[0m invalid decimal literal\n"
     ]
    }
   ],
   "source": [
    "6a-4"
   ]
  },
  {
   "cell_type": "code",
   "execution_count": 15,
   "id": "406ffacb-a8ff-4c90-bed3-0c97658a39be",
   "metadata": {},
   "outputs": [
    {
     "data": {
      "text/plain": [
       "26"
      ]
     },
     "execution_count": 15,
     "metadata": {},
     "output_type": "execute_result"
    }
   ],
   "source": [
    "6*a-4"
   ]
  },
  {
   "cell_type": "code",
   "execution_count": 16,
   "id": "f16e73d4-efd0-456f-9248-ee241f51d764",
   "metadata": {},
   "outputs": [
    {
     "data": {
      "text/plain": [
       "5"
      ]
     },
     "execution_count": 16,
     "metadata": {},
     "output_type": "execute_result"
    }
   ],
   "source": [
    "a"
   ]
  },
  {
   "cell_type": "code",
   "execution_count": 17,
   "id": "d010e712-8a36-455d-a191-08246f646563",
   "metadata": {},
   "outputs": [],
   "source": [
    "a=a+1"
   ]
  },
  {
   "cell_type": "code",
   "execution_count": 18,
   "id": "a0a97586-6253-4886-b367-d65e3a13ed36",
   "metadata": {},
   "outputs": [
    {
     "data": {
      "text/plain": [
       "6"
      ]
     },
     "execution_count": 18,
     "metadata": {},
     "output_type": "execute_result"
    }
   ],
   "source": [
    "a"
   ]
  },
  {
   "cell_type": "code",
   "execution_count": 19,
   "id": "d7a40335-b37a-43a2-be1b-bb28ea5c3449",
   "metadata": {},
   "outputs": [
    {
     "data": {
      "text/plain": [
       "True"
      ]
     },
     "execution_count": 19,
     "metadata": {},
     "output_type": "execute_result"
    }
   ],
   "source": [
    "a==6"
   ]
  },
  {
   "cell_type": "code",
   "execution_count": 20,
   "id": "32d888e5-76d2-4848-a460-5e66a01a34c5",
   "metadata": {},
   "outputs": [
    {
     "data": {
      "text/plain": [
       "False"
      ]
     },
     "execution_count": 20,
     "metadata": {},
     "output_type": "execute_result"
    }
   ],
   "source": [
    "a+b==a*b"
   ]
  },
  {
   "cell_type": "code",
   "execution_count": 21,
   "id": "684edf94-b2b4-4459-8993-70a06e4afaba",
   "metadata": {},
   "outputs": [
    {
     "data": {
      "text/plain": [
       "(6, 6)"
      ]
     },
     "execution_count": 21,
     "metadata": {},
     "output_type": "execute_result"
    }
   ],
   "source": [
    "a,b"
   ]
  },
  {
   "cell_type": "code",
   "execution_count": null,
   "id": "ba1cedc8-ee06-424e-bbd5-3e715bcbf38f",
   "metadata": {},
   "outputs": [],
   "source": []
  }
 ],
 "metadata": {
  "kernelspec": {
   "display_name": "Python 3 (ipykernel)",
   "language": "python",
   "name": "python3"
  },
  "language_info": {
   "codemirror_mode": {
    "name": "ipython",
    "version": 3
   },
   "file_extension": ".py",
   "mimetype": "text/x-python",
   "name": "python",
   "nbconvert_exporter": "python",
   "pygments_lexer": "ipython3",
   "version": "3.11.4"
  }
 },
 "nbformat": 4,
 "nbformat_minor": 5
}
