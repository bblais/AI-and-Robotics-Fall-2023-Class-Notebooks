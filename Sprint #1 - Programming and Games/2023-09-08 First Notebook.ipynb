{
 "cells": [
  {
   "cell_type": "code",
   "execution_count": 1,
   "id": "f73abae6-db52-43c0-806e-3cc2994dea17",
   "metadata": {},
   "outputs": [
    {
     "name": "stdout",
     "output_type": "stream",
     "text": [
      "hello world\n"
     ]
    }
   ],
   "source": [
    "print(\"hello world\")"
   ]
  },
  {
   "cell_type": "code",
   "execution_count": 2,
   "id": "40e9ce2d-7d66-4066-8717-0afa778ec287",
   "metadata": {},
   "outputs": [
    {
     "data": {
      "text/plain": [
       "'/Users/bblais/Documents/Git/AI-and-Robotics-Fall-2023-Class-Notebooks/Sprint #1 - Programming and Games'"
      ]
     },
     "execution_count": 2,
     "metadata": {},
     "output_type": "execute_result"
    }
   ],
   "source": [
    "pwd"
   ]
  },
  {
   "cell_type": "markdown",
   "id": "38558e86-9bd0-49f0-af3f-1c171f147dfc",
   "metadata": {},
   "source": [
    "# Markdown\n",
    "\n",
    "https://www.markdownguide.org/basic-syntax/\n",
    "\n",
    "## subheading\n",
    "\n",
    "Some text here.  Maybe some **bold** or *italic*.\n",
    "\n",
    "- how\n",
    "- about\n",
    "- a\n",
    "- bulleted list?\n",
    "\n",
    "Even equations like\n",
    "\n",
    "$$\n",
    "E=mc^2 \\times \\sqrt{\\frac{1}{1-v^2/c^2}}\n",
    "$$"
   ]
  },
  {
   "cell_type": "code",
   "execution_count": null,
   "id": "e11f7f21-a218-4395-8098-fde49a5f817d",
   "metadata": {},
   "outputs": [],
   "source": []
  },
  {
   "cell_type": "code",
   "execution_count": null,
   "id": "4137b909-4534-46cd-b041-119482c9e133",
   "metadata": {},
   "outputs": [],
   "source": []
  },
  {
   "cell_type": "code",
   "execution_count": null,
   "id": "ebf60fd7-5fb6-496d-ae92-abb21725ffb5",
   "metadata": {},
   "outputs": [],
   "source": []
  },
  {
   "cell_type": "code",
   "execution_count": null,
   "id": "a3ff077b-a4b8-4d97-8c17-c5dcee316e6b",
   "metadata": {},
   "outputs": [],
   "source": []
  }
 ],
 "metadata": {
  "kernelspec": {
   "display_name": "Python 3 (ipykernel)",
   "language": "python",
   "name": "python3"
  },
  "language_info": {
   "codemirror_mode": {
    "name": "ipython",
    "version": 3
   },
   "file_extension": ".py",
   "mimetype": "text/x-python",
   "name": "python",
   "nbconvert_exporter": "python",
   "pygments_lexer": "ipython3",
   "version": "3.11.4"
  }
 },
 "nbformat": 4,
 "nbformat_minor": 5
}
