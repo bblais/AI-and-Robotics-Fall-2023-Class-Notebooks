print("hello world")


pwd





3746+34838*2323


a=5
b=6
a*b


bob=7847
sally=3434
bob-sally





5**3


5^3  # gives a weird answer and is not an exponent


cos(45)


print(c))


print(c)


a+b=a*b=a/b


a





6a-4


6*a-4


a


a=a+1


a


a==6


a+b==a*b


a,b



