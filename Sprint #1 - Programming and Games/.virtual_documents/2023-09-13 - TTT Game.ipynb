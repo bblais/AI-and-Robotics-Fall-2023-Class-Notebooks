from Game import *








state=Board(3,3)
state


state=Board(4,6)
state


state.show_locations()


state[8]=2
state


if state[8]==0:
    print("Not")
else:
    print("Bob")


state[8]


state[1,2]


def initial_state(): 
    """ returns  - The initial state of the game"""
    state=Board(3,3)
    return state


initial_state()


def show_state(state):
    """prints or shows the current state"""
    print(state)


def update_state(state,player,move):
    """returns  - the new state after the move for the player"""

    
    new_state=state
    new_state[move]=player

    return new_state



state=initial_state()
state=update_state(state,1,3)
state


state.show_locations()


state=update_state(state,2,8)
state



