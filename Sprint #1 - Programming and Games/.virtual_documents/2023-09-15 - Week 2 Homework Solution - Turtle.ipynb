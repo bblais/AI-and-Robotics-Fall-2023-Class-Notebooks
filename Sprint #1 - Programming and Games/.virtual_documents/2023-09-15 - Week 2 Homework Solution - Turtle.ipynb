%matplotlib inline
from mplturtle import *





reset(figsize=(5,5))
forward(50)
right(90)
forward(50)
right(90)
forward(50)
right(90)
forward(50)
right(90)


reset(figsize=(5,5))

for i in range(4):
    forward(101)
    right(90)



reset(figsize=(5,5))
size=30
for i in range(4):
    forward(size)
    right(90)



def square():
    for i in range(4):
        forward(101)
        right(90)
    


reset(figsize=(5,5))
square()


def square(size):
    # as if size=#
    for i in range(4):
        forward(size)
        right(90)
    


reset(figsize=(5,5))
square(101)


reset(figsize=(5,5))
square(20)








reset(figsize=(5,5))
square(30)

left(60)
forward(30)
right(120)
forward(30)


from numpy import sqrt


reset(figsize=(5,5))

square_size=30
square(square_size)

roof_size=square_size/sqrt(2)

left(45)
forward(roof_size)
right(90)
forward(roof_size)


def house(size):
    square_size=size
    square(square_size)
    
    roof_size=square_size/sqrt(2)
    
    left(45)
    forward(roof_size)
    right(90)
    forward(roof_size)    


reset(figsize=(5,5))
house(30)


reset(figsize=(5,5))
house(30)

forward(50)

house(30)


reset(figsize=(5,5))
house(30)

left(45)    # straighten out
penup()     # don't draw
forward(20) # move over
pendown()   # back to drawing

house(30)

left(45)    # straighten out
penup()     # don't draw
forward(20) # move over
pendown()   # back to drawing

house(30)





reset(figsize=(5,5))

number_of_houses=5
# row of houses
for i in range(number_of_houses):
    house(30)
    
    left(45)    # straighten out
    penup()     # don't draw
    forward(20) # move over
    pendown()   # back to drawing
    
    
left(180)    # turn around
penup()     # don't draw
forward(30*number_of_houses + 20*number_of_houses) # move over
pendown()   # back to drawing
left(180)    # turn around

right(90)
penup()     # don't draw
forward(60) # move over
pendown()   # back to drawing
left(90)

# row of houses
for i in range(number_of_houses):
    if i==0 or i==(number_of_houses-1):
        house(30)   
        left(45)    # straighten out

    else:
        penup()     # don't draw
        forward(30)
        pendown()   # back to drawing
        
    penup()     # don't draw
    forward(20) # move over
    pendown()   # back to drawing


    
left(180)    # turn around
penup()     # don't draw
forward(30*number_of_houses + 20*number_of_houses) # move over
pendown()   # back to drawing
left(180)    # turn around

right(90)
penup()     # don't draw
forward(60) # move over
pendown()   # back to drawing
left(90)

# row of houses
for i in range(number_of_houses):
    house(30)
    
    left(45)    # straighten out
    penup()     # don't draw
    forward(20) # move over
    pendown()   # back to drawing
    
    
left(180)    # turn around
penup()     # don't draw
forward(30*number_of_houses + 20*number_of_houses) # move over
pendown()   # back to drawing
left(180)    # turn around

right(90)
penup()     # don't draw
forward(60) # move over
pendown()   # back to drawing
left(90)



def forward_nodraw(length):
    penup()     # don't draw
    forward(length) # move over
    pendown()   # back to drawing    


def row_of_houses(number_of_houses):
    # row of houses
    for i in range(number_of_houses):
        house(30)
        
        left(45)    # straighten out
        forward_nodraw(20)
        


def next_row(number_of_houses):
    left(180)    # turn around
    forward_nodraw(30*number_of_houses + 20*number_of_houses)
    left(180)    # turn around
    
    right(90)
    forward_nodraw(60)
    left(90)    


reset(figsize=(5,5))
row_of_houses(5)
next_row(5)
row_of_houses(5)



reset(figsize=(5,5))
for row in range(5):
    row_of_houses(5)
    next_row(5)



def row_of_houses(number_of_houses,skip_middle=False):
    # row of houses
    for i in range(number_of_houses):
        if skip_middle:


            if i==0 or i==(number_of_houses-1):
                house(30)   
                left(45)    # straighten out
            else:
                forward_nodraw(30)

        
        else:
            house(30)
            left(45)    # straighten out
        forward_nodraw(20)
        


reset(figsize=(5,5))
row_of_houses(5)
next_row(5)
row_of_houses(5,skip_middle=True)
next_row(5)
row_of_houses(5)















def square(size):
    # as if size=#
    for i in range(4):
        forward(size)
        right(90)

def triangle(size):
    for i in range(3):
        forward(size)
        right(360/3)

def pentagon(size):
    for i in range(5):
        forward(size)
        right(360/5)



reset(figsize=(5,5))
square(50)
forward_nodraw(70)
triangle(50)

forward_nodraw(70)
pentagon(50)


def draw_shape(shape,size):

    if shape=='square':
        square(size)
    elif shape=='triangle':
        triangle(size)
    elif shape=='pentagon':
        pentagon(size)
    else:
        print("I don't know how to draw a shape called ",shape,"of size ",size)


reset(figsize=(5,5))
draw_shape('square',50)
forward_nodraw(70)
draw_shape('triangle',50)
forward_nodraw(70)
draw_shape('pentagon',50)



def draw_shape(shape,size):

    if shape=='square':
        N=4
    elif shape=='triangle':
        N=3
    elif shape=='pentagon':
        N=5
    else:
        print("I don't know how to draw a shape called ",shape,"of size ",size)
        return

    for i in range(N):
        forward(size)
        right(360/N)
    


reset(figsize=(5,5))
draw_shape('square',50)
forward_nodraw(90)
draw_shape('triangle',30)
forward_nodraw(90)
draw_shape('pentagon',70)




