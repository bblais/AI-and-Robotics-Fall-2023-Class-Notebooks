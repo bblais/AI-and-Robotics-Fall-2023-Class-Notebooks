from Game import *





def initial_state(): 
    """ returns  - The initial state of the game"""
    return 21


initial_state()


def valid_moves(state,player):
    """returns  - a list of the valid moves for the state and player"""

    if state==2:
        return [1,2]
    elif state==1:
        return [1]
    else:
        return [1,2,3]



valid_moves(17,1)


valid_moves(2,1)


valid_moves(1,1)


def show_state(state):
    """prints or shows the current state"""
    print("There are",state,"sticks.")


show_state(17)


def update_state(state,player,move):
    """returns  - the new state after the move for the player"""

    new_state=state-move

    return new_state



update_state(17,2,3)


update_state(17,2,5)


update_state(3,2,5)


def win_status(state,player):
    """    returns  - 'win'  if the state is a winning state for the player, 
               'lose' if the state is a losing state for the player,
               'stalemate' for a stalemate
               None otherwise
    """

    if state==0:
        return 'lose'

    if state==1:
        return 'win'


    return None
    



def random_move(state,player):    
    moves=valid_moves(state,player)
    return random.choice(moves)

random_agent=Agent(random_move)

def human_move(state,player):
    print("Player ", player)
    valid_move=False
    while not valid_move:
        move=int(input('What is your move? '))

        if move in valid_moves(state,player):
            valid_move=True
        else:
            print("Illegal move.")

    return move



human_move(2,1)


random_move(17,1)




















human_agent=Agent(human_move)
random_agent=Agent(random_move)


g=Game(number_of_games=1)
g.run(human_agent,random_agent)
g.report()   # state the percentage of wins, ties, etc...









