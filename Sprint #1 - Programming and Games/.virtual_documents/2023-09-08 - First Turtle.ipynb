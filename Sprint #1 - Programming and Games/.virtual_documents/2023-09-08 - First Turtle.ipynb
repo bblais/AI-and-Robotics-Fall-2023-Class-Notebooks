%matplotlib inline
from mplturtle import *


reset(figsize=(3,3))
forward(50)
right(90)
forward(50)


reset(figsize=(3,3))
forward(50)
right(30)
forward(50)


def house(length):
    pass


reset()
house(30)
forward(30)
house(30)



bob=30
reset()
house(bob)
forward(bob)
house(bob)





reset(figsize=(3,3))
forward(60)
penup()
forward(60)
pendown()
right(90)
forward(60)



