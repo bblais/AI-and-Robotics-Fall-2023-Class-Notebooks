%matplotlib inline
from mplturtle import *


reset()
forward(50)
right(90)
forward(50)


reset()
forward(50)
right(30)
forward(50)



