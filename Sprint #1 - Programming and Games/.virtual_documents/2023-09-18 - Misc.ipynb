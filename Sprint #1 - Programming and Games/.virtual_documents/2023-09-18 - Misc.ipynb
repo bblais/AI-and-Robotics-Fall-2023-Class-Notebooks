from Game import *





state=Board(3,3)
state[1]=state[3]=1


state


state.show_locations()


def valid_moves(state,player):

    moves=[]

    if player==1:
        for start in [0,1,3,4,6,7]:
            if state[start]==1 and state[start+1]==0:
                moves.append( [start,start+1] )

        

    elif player==2:
        pass # fill this in


    return moves


state=Board(3,3)
state[1]=state[3]=1
state


valid_moves(state,1)


state=Board(8,8)
for i in range(64):
    state[i]=random.choice([0,0,0,1,2])

state[1]=1
state[5]=1

state


state.show_locations()


def valid_moves(state,player):

    moves=[]

    if player==1:
        for start in [1,3,5,7]:
            if state[start]==1 and state[start+7]==0:
                moves.append( [start,start+7] )

        

    elif player==2:
        pass # fill this in


    return moves


valid_moves(state,1)











def initial_state():

    main=Board(4,4,4)
    pile=Board(2,3)
    move_count=0

    state=main,pile,move_count

    return state
    


state=initial_state()
main,pile,move_count=state


state=Board(3,3,3)
state.rc_from_index(20)








state=Board(4,4)
for i in range(16):
    state[i]=random.choice([1,2])

state


state.show_locations()


s=0
player=1
for i in range(4):
   if state[i]==player:
       s+=1

if s==3:
    print("yay!")


move=9
r,c=state.rc_from_index(move)
r,c


for c in range(4):
   if state[r,c]==player:
       s+=1









state=Board(3,3,3)
for i in range(27):
    state[i]=random.choice(range(9))
state


state.show_locations()


def win_status(state,player):
    subboard=Board(3,3)
    for i,location in enumerate([2,5,8,11,14,17,20,23,26]):
        subboard[i]=state[location]

    if ttt_win_status(subboard,player):
        return ttt_win_status(subboard,player)

    for i,location in enumerate([9,10,11,...]):
        subboard[i]=state[location]

    if ttt_win_status(subboard,player):
        return ttt_win_status(subboard,player)


    # check diagonals

    # check stalemate





state=Board(4,5)
for i in range(20):
    state[i]=random.choice([0,1,2])
state


state.show_locations()


for loc in [0,1,2,3,4,5,6,7,8,9]:
    if state[loc]==player and state[loc+5]==player and state[loc+10]==player:
        return 'win'






state=Board(5,5)
for i in range(25):
    state[i]=random.choice([0,1,2])
player=1
if player==1:
    other_player=2
else:
    other_player=1
    
state


state[15]=1
state[19]=2


state


state.show_locations()


moves=[]

for location in range(20):
    if state[location]==player and state[location+5]==0:
        moves.append([location,location+5])

    if location not in [0,5,10,15,20] and state[location]==player and state[location+4]==other_player:
        moves.append([location,location+5])

    # if state[location]==player and state[location+4]==other_player:
    #     moves.append([location,location+4])


moves



