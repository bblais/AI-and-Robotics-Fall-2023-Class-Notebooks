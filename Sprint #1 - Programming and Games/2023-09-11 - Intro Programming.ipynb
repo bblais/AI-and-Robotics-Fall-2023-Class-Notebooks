{
 "cells": [
  {
   "cell_type": "markdown",
   "id": "d03e4651-1994-428b-acf7-bee77f20ede7",
   "metadata": {},
   "source": [
    "## Repetition"
   ]
  },
  {
   "cell_type": "code",
   "execution_count": 1,
   "id": "3d0ae5ad-2ab8-4aa9-8a3c-954c9b34cec0",
   "metadata": {},
   "outputs": [
    {
     "name": "stdout",
     "output_type": "stream",
     "text": [
      "hello 5\n"
     ]
    }
   ],
   "source": [
    "a=5\n",
    "print(\"hello\",a)"
   ]
  },
  {
   "cell_type": "code",
   "execution_count": 3,
   "id": "539787b2-0f95-42cc-8c42-c26e7e827190",
   "metadata": {},
   "outputs": [],
   "source": [
    "b=100"
   ]
  },
  {
   "cell_type": "code",
   "execution_count": 8,
   "id": "a0289aa5-68fd-46d9-8124-29b4188c2c7c",
   "metadata": {},
   "outputs": [
    {
     "data": {
      "text/plain": [
       "100"
      ]
     },
     "execution_count": 8,
     "metadata": {},
     "output_type": "execute_result"
    }
   ],
   "source": [
    "b"
   ]
  },
  {
   "cell_type": "code",
   "execution_count": 5,
   "id": "af6759b6-1e0d-4b12-891d-b46064f01dbb",
   "metadata": {},
   "outputs": [
    {
     "name": "stdout",
     "output_type": "stream",
     "text": [
      "here\n",
      "hello\n",
      "there\n",
      "hello\n",
      "there\n",
      "hello\n",
      "there\n",
      "hello\n",
      "there\n",
      "hello\n",
      "there\n",
      "done\n"
     ]
    }
   ],
   "source": [
    "print(\"here\")\n",
    "for i in range(5):\n",
    "    print(\"hello\")\n",
    "\n",
    "    print(\"there\")\n",
    "\n",
    "print(\"done\")"
   ]
  },
  {
   "cell_type": "code",
   "execution_count": 7,
   "id": "1b6ec900-6a85-416f-a416-16643af72eeb",
   "metadata": {},
   "outputs": [
    {
     "name": "stdout",
     "output_type": "stream",
     "text": [
      "hello\n"
     ]
    },
    {
     "ename": "NameError",
     "evalue": "name 'Print' is not defined",
     "output_type": "error",
     "traceback": [
      "\u001b[0;31m---------------------------------------------------------------------------\u001b[0m",
      "\u001b[0;31mNameError\u001b[0m                                 Traceback (most recent call last)",
      "Cell \u001b[0;32mIn[7], line 2\u001b[0m\n\u001b[1;32m      1\u001b[0m \u001b[38;5;28mprint\u001b[39m(\u001b[38;5;124m\"\u001b[39m\u001b[38;5;124mhello\u001b[39m\u001b[38;5;124m\"\u001b[39m)\n\u001b[0;32m----> 2\u001b[0m Print(\u001b[38;5;124m\"\u001b[39m\u001b[38;5;124mhello\u001b[39m\u001b[38;5;124m\"\u001b[39m)\n",
      "\u001b[0;31mNameError\u001b[0m: name 'Print' is not defined"
     ]
    }
   ],
   "source": [
    "print(\"hello\")\n",
    "Print(\"hello\")"
   ]
  },
  {
   "cell_type": "code",
   "execution_count": 10,
   "id": "cac89f4e-9d17-4569-87dc-00f777d84176",
   "metadata": {},
   "outputs": [
    {
     "name": "stdout",
     "output_type": "stream",
     "text": [
      "here\n",
      "hello\n",
      "there\n",
      "hello\n",
      "there\n",
      "hello\n",
      "there\n",
      "hello\n",
      "there\n",
      "hello\n",
      "there\n",
      "hello\n",
      "there\n",
      "hello\n",
      "there\n",
      "hello\n",
      "there\n",
      "hello\n",
      "there\n",
      "hello\n",
      "there\n",
      "hello\n",
      "there\n",
      "hello\n",
      "there\n",
      "hello\n",
      "there\n",
      "hello\n",
      "there\n",
      "hello\n",
      "there\n",
      "done\n"
     ]
    }
   ],
   "source": [
    "print(\"here\")\n",
    "for i in range(15):\n",
    "    print(\"hello\")\n",
    "\n",
    "    print(\"there\")\n",
    "\n",
    "print(\"done\")"
   ]
  },
  {
   "cell_type": "code",
   "execution_count": 11,
   "id": "04d6d20d-5517-47fa-9e73-b42fc818fc58",
   "metadata": {},
   "outputs": [
    {
     "name": "stdout",
     "output_type": "stream",
     "text": [
      "here\n",
      "hello 0\n",
      "there\n",
      "hello 1\n",
      "there\n",
      "hello 2\n",
      "there\n",
      "hello 3\n",
      "there\n",
      "hello 4\n",
      "there\n",
      "done\n"
     ]
    }
   ],
   "source": [
    "print(\"here\")\n",
    "for i in range(5):\n",
    "    print(\"hello\",i)\n",
    "    print(\"there\")\n",
    "\n",
    "print(\"done\")"
   ]
  },
  {
   "cell_type": "code",
   "execution_count": 12,
   "id": "7dd2372b-0402-42e1-b5b1-780e57dd9d84",
   "metadata": {},
   "outputs": [
    {
     "name": "stdout",
     "output_type": "stream",
     "text": [
      "here\n",
      "hello 0\n",
      "there\n",
      "hello 1\n",
      "there\n",
      "hello 2\n",
      "there\n",
      "hello 3\n",
      "there\n",
      "hello 4\n",
      "there\n",
      "done\n"
     ]
    }
   ],
   "source": [
    "print(\"here\")\n",
    "for bob in range(5):\n",
    "    print(\"hello\",bob)\n",
    "    print(\"there\")\n",
    "\n",
    "print(\"done\")"
   ]
  },
  {
   "cell_type": "markdown",
   "id": "9b9f1554-1f6e-4ffa-97f3-6acce0c481a1",
   "metadata": {},
   "source": [
    "## Branching (if-then)"
   ]
  },
  {
   "cell_type": "code",
   "execution_count": 14,
   "id": "6e8f409f-690b-4404-8a78-89708819554d",
   "metadata": {},
   "outputs": [
    {
     "name": "stdout",
     "output_type": "stream",
     "text": [
      "here\n",
      "hello 0\n",
      "there\n",
      "hello 1\n",
      "there\n",
      "hello 2\n",
      "there\n",
      "hello 3\n",
      "there\n",
      "    hey!\n",
      "hello 4\n",
      "there\n",
      "    hey!\n",
      "done\n"
     ]
    }
   ],
   "source": [
    "print(\"here\")\n",
    "for bob in range(5):\n",
    "    print(\"hello\",bob)\n",
    "    print(\"there\")\n",
    "    if bob>2:\n",
    "        print(\"    hey!\")\n",
    "\n",
    "print(\"done\")"
   ]
  },
  {
   "cell_type": "code",
   "execution_count": null,
   "id": "0891c9cf-b9d7-4a49-b422-44d5f7c51e35",
   "metadata": {},
   "outputs": [],
   "source": []
  },
  {
   "cell_type": "markdown",
   "id": "7a4e83a4-24a4-4a01-8bd0-91c4b111a8f6",
   "metadata": {},
   "source": [
    "## Defining functions"
   ]
  },
  {
   "cell_type": "code",
   "execution_count": 15,
   "id": "746fa657-e995-499f-b623-f4a60b891ed6",
   "metadata": {},
   "outputs": [
    {
     "name": "stdout",
     "output_type": "stream",
     "text": [
      "hello\n",
      "there\n"
     ]
    }
   ],
   "source": [
    "print(\"hello\")\n",
    "print(\"there\")"
   ]
  },
  {
   "cell_type": "code",
   "execution_count": 17,
   "id": "a1870354-88dc-45f6-8b18-71294429db38",
   "metadata": {},
   "outputs": [
    {
     "name": "stdout",
     "output_type": "stream",
     "text": [
      "here\n",
      "hello\n",
      "there\n",
      "hello\n",
      "there\n",
      "hello\n",
      "there\n",
      "hello\n",
      "there\n",
      "hello\n",
      "there\n",
      "done\n"
     ]
    }
   ],
   "source": [
    "print(\"here\")\n",
    "for i in range(5):\n",
    "    print(\"hello\")\n",
    "\n",
    "    print(\"there\")\n",
    "\n",
    "print(\"done\")"
   ]
  },
  {
   "cell_type": "code",
   "execution_count": 18,
   "id": "f5e66061-40fe-4835-9917-dbfedecdc259",
   "metadata": {},
   "outputs": [],
   "source": [
    "def hellothere():\n",
    "    print(\"hello\")\n",
    "    print(\"there\")    "
   ]
  },
  {
   "cell_type": "code",
   "execution_count": 19,
   "id": "483d31e3-5582-4833-90a1-b1152ddd8c47",
   "metadata": {},
   "outputs": [
    {
     "name": "stdout",
     "output_type": "stream",
     "text": [
      "here\n",
      "hello\n",
      "there\n",
      "hello\n",
      "there\n",
      "hello\n",
      "there\n",
      "hello\n",
      "there\n",
      "hello\n",
      "there\n",
      "done\n"
     ]
    }
   ],
   "source": [
    "print(\"here\")\n",
    "for i in range(5):\n",
    "    hellothere()\n",
    "\n",
    "print(\"done\")"
   ]
  },
  {
   "cell_type": "code",
   "execution_count": 21,
   "id": "5ce20292-0866-4869-bcba-eaa051cadd88",
   "metadata": {},
   "outputs": [
    {
     "name": "stdout",
     "output_type": "stream",
     "text": [
      "here\n"
     ]
    },
    {
     "ename": "NameError",
     "evalue": "name 'Hellothere' is not defined",
     "output_type": "error",
     "traceback": [
      "\u001b[0;31m---------------------------------------------------------------------------\u001b[0m",
      "\u001b[0;31mNameError\u001b[0m                                 Traceback (most recent call last)",
      "Cell \u001b[0;32mIn[21], line 3\u001b[0m\n\u001b[1;32m      1\u001b[0m \u001b[38;5;28mprint\u001b[39m(\u001b[38;5;124m\"\u001b[39m\u001b[38;5;124mhere\u001b[39m\u001b[38;5;124m\"\u001b[39m)\n\u001b[1;32m      2\u001b[0m \u001b[38;5;28;01mfor\u001b[39;00m i \u001b[38;5;129;01min\u001b[39;00m \u001b[38;5;28mrange\u001b[39m(\u001b[38;5;241m5\u001b[39m):\n\u001b[0;32m----> 3\u001b[0m     Hellothere()\n\u001b[1;32m      5\u001b[0m \u001b[38;5;28mprint\u001b[39m(\u001b[38;5;124m\"\u001b[39m\u001b[38;5;124mdone\u001b[39m\u001b[38;5;124m\"\u001b[39m)\n",
      "\u001b[0;31mNameError\u001b[0m: name 'Hellothere' is not defined"
     ]
    }
   ],
   "source": [
    "print(\"here\")\n",
    "for i in range(5):\n",
    "    Hellothere()\n",
    "\n",
    "print(\"done\")"
   ]
  },
  {
   "cell_type": "code",
   "execution_count": 20,
   "id": "ce0c7d19-02ee-4efc-8477-c9a5c3c3f640",
   "metadata": {},
   "outputs": [
    {
     "name": "stdout",
     "output_type": "stream",
     "text": [
      "here\n"
     ]
    },
    {
     "ename": "NameError",
     "evalue": "name 'helloagain' is not defined",
     "output_type": "error",
     "traceback": [
      "\u001b[0;31m---------------------------------------------------------------------------\u001b[0m",
      "\u001b[0;31mNameError\u001b[0m                                 Traceback (most recent call last)",
      "Cell \u001b[0;32mIn[20], line 3\u001b[0m\n\u001b[1;32m      1\u001b[0m \u001b[38;5;28mprint\u001b[39m(\u001b[38;5;124m\"\u001b[39m\u001b[38;5;124mhere\u001b[39m\u001b[38;5;124m\"\u001b[39m)\n\u001b[1;32m      2\u001b[0m \u001b[38;5;28;01mfor\u001b[39;00m i \u001b[38;5;129;01min\u001b[39;00m \u001b[38;5;28mrange\u001b[39m(\u001b[38;5;241m5\u001b[39m):\n\u001b[0;32m----> 3\u001b[0m     helloagain()\n\u001b[1;32m      5\u001b[0m \u001b[38;5;28mprint\u001b[39m(\u001b[38;5;124m\"\u001b[39m\u001b[38;5;124mdone\u001b[39m\u001b[38;5;124m\"\u001b[39m)\n",
      "\u001b[0;31mNameError\u001b[0m: name 'helloagain' is not defined"
     ]
    }
   ],
   "source": [
    "print(\"here\")\n",
    "for i in range(5):\n",
    "    helloagain()\n",
    "\n",
    "print(\"done\")"
   ]
  },
  {
   "cell_type": "code",
   "execution_count": null,
   "id": "79341d7f-d7a2-4517-9829-68701326e7c9",
   "metadata": {},
   "outputs": [],
   "source": []
  }
 ],
 "metadata": {
  "kernelspec": {
   "display_name": "Python 3 (ipykernel)",
   "language": "python",
   "name": "python3"
  },
  "language_info": {
   "codemirror_mode": {
    "name": "ipython",
    "version": 3
   },
   "file_extension": ".py",
   "mimetype": "text/x-python",
   "name": "python",
   "nbconvert_exporter": "python",
   "pygments_lexer": "ipython3",
   "version": "3.11.4"
  }
 },
 "nbformat": 4,
 "nbformat_minor": 5
}
