{
 "cells": [
  {
   "cell_type": "code",
   "execution_count": 2,
   "id": "f939ac11-9b4d-4363-8875-a8933ec39054",
   "metadata": {},
   "outputs": [
    {
     "name": "stdout",
     "output_type": "stream",
     "text": [
      "Version:  0.2.42\n"
     ]
    }
   ],
   "source": [
    "from Game import *"
   ]
  },
  {
   "cell_type": "code",
   "execution_count": 3,
   "id": "a20fa350-877c-4263-88d9-f6f9283568f9",
   "metadata": {},
   "outputs": [],
   "source": [
    "state=Board(3,3)\n",
    "state[1]=state[3]=1"
   ]
  },
  {
   "cell_type": "code",
   "execution_count": 4,
   "id": "64e98188-310a-42d4-8395-d2ab28374ff8",
   "metadata": {},
   "outputs": [
    {
     "data": {
      "text/plain": [
       " 0  1  0 \n",
       " 1  0  0 \n",
       " 0  0  0 "
      ]
     },
     "execution_count": 4,
     "metadata": {},
     "output_type": "execute_result"
    }
   ],
   "source": [
    "state"
   ]
  },
  {
   "cell_type": "code",
   "execution_count": 5,
   "id": "3da4a011-ea6f-4f59-b73e-2511fa0b8692",
   "metadata": {},
   "outputs": [
    {
     "name": "stdout",
     "output_type": "stream",
     "text": [
      " 0  1  2 \n",
      " 3  4  5 \n",
      " 6  7  8 \n",
      "\n"
     ]
    }
   ],
   "source": [
    "state.show_locations()"
   ]
  },
  {
   "cell_type": "code",
   "execution_count": null,
   "id": "451bef82-91c7-4505-90ec-f1c41b9a02bf",
   "metadata": {},
   "outputs": [],
   "source": [
    "def valid_moves(state,player):\n",
    "\n",
    "    moves=[]\n",
    "\n",
    "    if player==1:\n",
    "        for start in [0,1,3,4,6,7]:\n",
    "            if state[start]==1 and state[start+1]==0:\n",
    "                moves.append( [start,start+1] )\n",
    "\n",
    "        \n",
    "\n",
    "    elif player==2:\n",
    "        pass # fill this in\n",
    "\n",
    "\n",
    "    return moves"
   ]
  },
  {
   "cell_type": "code",
   "execution_count": null,
   "id": "17d5cbc1-7857-49ef-a2e3-6004802ff705",
   "metadata": {},
   "outputs": [],
   "source": []
  },
  {
   "cell_type": "code",
   "execution_count": null,
   "id": "37d19d02-872c-48d5-be54-aa8096c4e9f4",
   "metadata": {},
   "outputs": [],
   "source": []
  },
  {
   "cell_type": "code",
   "execution_count": 8,
   "id": "e0b29643-d1cd-43af-b937-5345414da44d",
   "metadata": {},
   "outputs": [
    {
     "data": {
      "text/plain": [
       " 1  1  1  2 \n",
       " 2  2  1  1 \n",
       " 2  2  1  2 \n",
       " 1  2  2  2 "
      ]
     },
     "execution_count": 8,
     "metadata": {},
     "output_type": "execute_result"
    }
   ],
   "source": [
    "state=Board(4,4)\n",
    "for i in range(16):\n",
    "    state[i]=random.choice([1,2])\n",
    "\n",
    "state"
   ]
  },
  {
   "cell_type": "code",
   "execution_count": 9,
   "id": "40eea150-2f3c-4138-b536-275f3b4d25fb",
   "metadata": {},
   "outputs": [
    {
     "name": "stdout",
     "output_type": "stream",
     "text": [
      " 0  1  2  3 \n",
      " 4  5  6  7 \n",
      " 8  9 10 11 \n",
      "12 13 14 15 \n",
      "\n"
     ]
    }
   ],
   "source": [
    "state.show_locations()"
   ]
  },
  {
   "cell_type": "code",
   "execution_count": 10,
   "id": "c00848ca-c2c8-40ab-83b3-0e687bcbf610",
   "metadata": {},
   "outputs": [
    {
     "name": "stdout",
     "output_type": "stream",
     "text": [
      "yay!\n"
     ]
    }
   ],
   "source": [
    "s=0\n",
    "player=1\n",
    "for i in range(4):\n",
    "   if state[i]==player:\n",
    "       s+=1\n",
    "\n",
    "if s==3:\n",
    "    print(\"yay!\")"
   ]
  },
  {
   "cell_type": "code",
   "execution_count": 12,
   "id": "c5540787-6818-47f5-9cc5-379c894cae6f",
   "metadata": {},
   "outputs": [
    {
     "data": {
      "text/plain": [
       "(2, 1)"
      ]
     },
     "execution_count": 12,
     "metadata": {},
     "output_type": "execute_result"
    }
   ],
   "source": [
    "move=9\n",
    "r,c=state.rc_from_index(move)\n",
    "r,c"
   ]
  },
  {
   "cell_type": "code",
   "execution_count": 13,
   "id": "e1111db2-3759-4762-a18b-ef42cb4f02c5",
   "metadata": {},
   "outputs": [],
   "source": [
    "for c in range(4):\n",
    "   if state[r,c]==player:\n",
    "       s+=1\n"
   ]
  },
  {
   "cell_type": "code",
   "execution_count": 16,
   "id": "1b1f6d83-65a8-4553-9a7d-2ceb8c693cd7",
   "metadata": {},
   "outputs": [
    {
     "data": {
      "text/plain": [
       " 3  6  7 \n",
       " 6  6  1 \n",
       " 8  0  5 \n",
       "\n",
       "    4  2  7 \n",
       "    7  5  4 \n",
       "    3  5  4 \n",
       "\n",
       "       5  0  6 \n",
       "       4  3  2 \n",
       "       5  0  7 \n"
      ]
     },
     "execution_count": 16,
     "metadata": {},
     "output_type": "execute_result"
    }
   ],
   "source": [
    "state=Board(3,3,3)\n",
    "for i in range(27):\n",
    "    state[i]=random.choice(range(9))\n",
    "state"
   ]
  },
  {
   "cell_type": "code",
   "execution_count": 15,
   "id": "a125903c-5858-46df-94ed-6a347a173bd4",
   "metadata": {},
   "outputs": [
    {
     "name": "stdout",
     "output_type": "stream",
     "text": [
      " 0  1  2 \n",
      " 3  4  5 \n",
      " 6  7  8 \n",
      "\n",
      "    9 10 11 \n",
      "   12 13 14 \n",
      "   15 16 17 \n",
      "\n",
      "      18 19 20 \n",
      "      21 22 23 \n",
      "      24 25 26 \n",
      "\n",
      "\n"
     ]
    }
   ],
   "source": [
    "state.show_locations()"
   ]
  },
  {
   "cell_type": "code",
   "execution_count": 18,
   "id": "8125e38a-ff59-4b54-92c1-8cef188b4c59",
   "metadata": {},
   "outputs": [
    {
     "data": {
      "text/plain": [
       " 7  1  5 \n",
       " 7  4  4 \n",
       " 6  2  7 "
      ]
     },
     "execution_count": 18,
     "metadata": {},
     "output_type": "execute_result"
    }
   ],
   "source": [
    "def win_status(state,player):\n",
    "    subboard=Board(3,3)\n",
    "    for i,location in enumerate([2,5,8,11,14,17,20,23,26]):\n",
    "        subboard[i]=state[location]\n",
    "\n",
    "    if ttt_win_status(subboard,player):\n",
    "        return ttt_win_status(subboard,player)\n",
    "\n",
    "    for i,location in enumerate([9,10,11,...]):\n",
    "        subboard[i]=state[location]\n",
    "\n",
    "    if ttt_win_status(subboard,player):\n",
    "        return ttt_win_status(subboard,player)\n",
    "\n",
    "\n",
    "    # check diagonals\n",
    "\n",
    "    # check stalemate"
   ]
  },
  {
   "cell_type": "code",
   "execution_count": null,
   "id": "fec76d5d-b644-4a1f-a787-a3c1128a0460",
   "metadata": {},
   "outputs": [],
   "source": []
  }
 ],
 "metadata": {
  "kernelspec": {
   "display_name": "Python 3 (ipykernel)",
   "language": "python",
   "name": "python3"
  },
  "language_info": {
   "codemirror_mode": {
    "name": "ipython",
    "version": 3
   },
   "file_extension": ".py",
   "mimetype": "text/x-python",
   "name": "python",
   "nbconvert_exporter": "python",
   "pygments_lexer": "ipython3",
   "version": "3.11.4"
  }
 },
 "nbformat": 4,
 "nbformat_minor": 5
}
