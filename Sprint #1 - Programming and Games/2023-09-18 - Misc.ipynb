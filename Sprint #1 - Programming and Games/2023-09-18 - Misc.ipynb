{
 "cells": [
  {
   "cell_type": "code",
   "execution_count": 2,
   "id": "f939ac11-9b4d-4363-8875-a8933ec39054",
   "metadata": {},
   "outputs": [
    {
     "name": "stdout",
     "output_type": "stream",
     "text": [
      "Version:  0.2.42\n"
     ]
    }
   ],
   "source": [
    "from Game import *"
   ]
  },
  {
   "cell_type": "markdown",
   "id": "c347a311-6dfb-4f13-b596-f34a59980d6b",
   "metadata": {},
   "source": [
    "## Debug Dodgem"
   ]
  },
  {
   "cell_type": "code",
   "execution_count": 3,
   "id": "a20fa350-877c-4263-88d9-f6f9283568f9",
   "metadata": {},
   "outputs": [],
   "source": [
    "state=Board(3,3)\n",
    "state[1]=state[3]=1"
   ]
  },
  {
   "cell_type": "code",
   "execution_count": 4,
   "id": "64e98188-310a-42d4-8395-d2ab28374ff8",
   "metadata": {},
   "outputs": [
    {
     "data": {
      "text/plain": [
       " 0  1  0 \n",
       " 1  0  0 \n",
       " 0  0  0 "
      ]
     },
     "execution_count": 4,
     "metadata": {},
     "output_type": "execute_result"
    }
   ],
   "source": [
    "state"
   ]
  },
  {
   "cell_type": "code",
   "execution_count": 5,
   "id": "3da4a011-ea6f-4f59-b73e-2511fa0b8692",
   "metadata": {},
   "outputs": [
    {
     "name": "stdout",
     "output_type": "stream",
     "text": [
      " 0  1  2 \n",
      " 3  4  5 \n",
      " 6  7  8 \n",
      "\n"
     ]
    }
   ],
   "source": [
    "state.show_locations()"
   ]
  },
  {
   "cell_type": "code",
   "execution_count": 25,
   "id": "451bef82-91c7-4505-90ec-f1c41b9a02bf",
   "metadata": {},
   "outputs": [],
   "source": [
    "def valid_moves(state,player):\n",
    "\n",
    "    moves=[]\n",
    "\n",
    "    if player==1:\n",
    "        for start in [0,1,3,4,6,7]:\n",
    "            if state[start]==1 and state[start+1]==0:\n",
    "                moves.append( [start,start+1] )\n",
    "\n",
    "        \n",
    "\n",
    "    elif player==2:\n",
    "        pass # fill this in\n",
    "\n",
    "\n",
    "    return moves"
   ]
  },
  {
   "cell_type": "code",
   "execution_count": 26,
   "id": "17d5cbc1-7857-49ef-a2e3-6004802ff705",
   "metadata": {},
   "outputs": [
    {
     "data": {
      "text/plain": [
       " 0  1  0 \n",
       " 1  0  0 \n",
       " 0  0  0 "
      ]
     },
     "execution_count": 26,
     "metadata": {},
     "output_type": "execute_result"
    }
   ],
   "source": [
    "state=Board(3,3)\n",
    "state[1]=state[3]=1\n",
    "state"
   ]
  },
  {
   "cell_type": "code",
   "execution_count": 27,
   "id": "cb6ef9ee-53ba-4420-84a2-b90fdc4c3b11",
   "metadata": {},
   "outputs": [
    {
     "data": {
      "text/plain": [
       "[[1, 2], [3, 4]]"
      ]
     },
     "execution_count": 27,
     "metadata": {},
     "output_type": "execute_result"
    }
   ],
   "source": [
    "valid_moves(state,1)"
   ]
  },
  {
   "cell_type": "markdown",
   "id": "e037d4d7-7d35-4ca8-8fd0-5fb56e1663ec",
   "metadata": {},
   "source": [
    "## Debug Goblet"
   ]
  },
  {
   "cell_type": "code",
   "execution_count": 8,
   "id": "e0b29643-d1cd-43af-b937-5345414da44d",
   "metadata": {},
   "outputs": [
    {
     "data": {
      "text/plain": [
       " 1  1  1  2 \n",
       " 2  2  1  1 \n",
       " 2  2  1  2 \n",
       " 1  2  2  2 "
      ]
     },
     "execution_count": 8,
     "metadata": {},
     "output_type": "execute_result"
    }
   ],
   "source": [
    "state=Board(4,4)\n",
    "for i in range(16):\n",
    "    state[i]=random.choice([1,2])\n",
    "\n",
    "state"
   ]
  },
  {
   "cell_type": "code",
   "execution_count": 9,
   "id": "40eea150-2f3c-4138-b536-275f3b4d25fb",
   "metadata": {},
   "outputs": [
    {
     "name": "stdout",
     "output_type": "stream",
     "text": [
      " 0  1  2  3 \n",
      " 4  5  6  7 \n",
      " 8  9 10 11 \n",
      "12 13 14 15 \n",
      "\n"
     ]
    }
   ],
   "source": [
    "state.show_locations()"
   ]
  },
  {
   "cell_type": "code",
   "execution_count": 10,
   "id": "c00848ca-c2c8-40ab-83b3-0e687bcbf610",
   "metadata": {},
   "outputs": [
    {
     "name": "stdout",
     "output_type": "stream",
     "text": [
      "yay!\n"
     ]
    }
   ],
   "source": [
    "s=0\n",
    "player=1\n",
    "for i in range(4):\n",
    "   if state[i]==player:\n",
    "       s+=1\n",
    "\n",
    "if s==3:\n",
    "    print(\"yay!\")"
   ]
  },
  {
   "cell_type": "code",
   "execution_count": 12,
   "id": "c5540787-6818-47f5-9cc5-379c894cae6f",
   "metadata": {},
   "outputs": [
    {
     "data": {
      "text/plain": [
       "(2, 1)"
      ]
     },
     "execution_count": 12,
     "metadata": {},
     "output_type": "execute_result"
    }
   ],
   "source": [
    "move=9\n",
    "r,c=state.rc_from_index(move)\n",
    "r,c"
   ]
  },
  {
   "cell_type": "code",
   "execution_count": 13,
   "id": "e1111db2-3759-4762-a18b-ef42cb4f02c5",
   "metadata": {},
   "outputs": [],
   "source": [
    "for c in range(4):\n",
    "   if state[r,c]==player:\n",
    "       s+=1\n"
   ]
  },
  {
   "cell_type": "code",
   "execution_count": null,
   "id": "0b90dbe9-9899-4e57-913f-4a6ba6cc3322",
   "metadata": {},
   "outputs": [],
   "source": []
  },
  {
   "cell_type": "markdown",
   "id": "74268e9d-a1d6-408c-acab-6cb7ef4937d7",
   "metadata": {},
   "source": [
    "## Debug 3d ttt"
   ]
  },
  {
   "cell_type": "code",
   "execution_count": 16,
   "id": "1b1f6d83-65a8-4553-9a7d-2ceb8c693cd7",
   "metadata": {},
   "outputs": [
    {
     "data": {
      "text/plain": [
       " 3  6  7 \n",
       " 6  6  1 \n",
       " 8  0  5 \n",
       "\n",
       "    4  2  7 \n",
       "    7  5  4 \n",
       "    3  5  4 \n",
       "\n",
       "       5  0  6 \n",
       "       4  3  2 \n",
       "       5  0  7 \n"
      ]
     },
     "execution_count": 16,
     "metadata": {},
     "output_type": "execute_result"
    }
   ],
   "source": [
    "state=Board(3,3,3)\n",
    "for i in range(27):\n",
    "    state[i]=random.choice(range(9))\n",
    "state"
   ]
  },
  {
   "cell_type": "code",
   "execution_count": 15,
   "id": "a125903c-5858-46df-94ed-6a347a173bd4",
   "metadata": {},
   "outputs": [
    {
     "name": "stdout",
     "output_type": "stream",
     "text": [
      " 0  1  2 \n",
      " 3  4  5 \n",
      " 6  7  8 \n",
      "\n",
      "    9 10 11 \n",
      "   12 13 14 \n",
      "   15 16 17 \n",
      "\n",
      "      18 19 20 \n",
      "      21 22 23 \n",
      "      24 25 26 \n",
      "\n",
      "\n"
     ]
    }
   ],
   "source": [
    "state.show_locations()"
   ]
  },
  {
   "cell_type": "code",
   "execution_count": 18,
   "id": "8125e38a-ff59-4b54-92c1-8cef188b4c59",
   "metadata": {},
   "outputs": [
    {
     "data": {
      "text/plain": [
       " 7  1  5 \n",
       " 7  4  4 \n",
       " 6  2  7 "
      ]
     },
     "execution_count": 18,
     "metadata": {},
     "output_type": "execute_result"
    }
   ],
   "source": [
    "def win_status(state,player):\n",
    "    subboard=Board(3,3)\n",
    "    for i,location in enumerate([2,5,8,11,14,17,20,23,26]):\n",
    "        subboard[i]=state[location]\n",
    "\n",
    "    if ttt_win_status(subboard,player):\n",
    "        return ttt_win_status(subboard,player)\n",
    "\n",
    "    for i,location in enumerate([9,10,11,...]):\n",
    "        subboard[i]=state[location]\n",
    "\n",
    "    if ttt_win_status(subboard,player):\n",
    "        return ttt_win_status(subboard,player)\n",
    "\n",
    "\n",
    "    # check diagonals\n",
    "\n",
    "    # check stalemate"
   ]
  },
  {
   "cell_type": "markdown",
   "id": "8712c4c7-5846-44cc-af94-401f9c9125f4",
   "metadata": {},
   "source": [
    "## debug connect-3 and connect 4"
   ]
  },
  {
   "cell_type": "code",
   "execution_count": 21,
   "id": "e1959050-cc90-4369-a1ac-b3aa51d206e1",
   "metadata": {},
   "outputs": [
    {
     "data": {
      "text/plain": [
       " 0  1  1  1  0 \n",
       " 1  2  2  0  1 \n",
       " 1  1  0  0  1 \n",
       " 0  2  2  0  2 "
      ]
     },
     "execution_count": 21,
     "metadata": {},
     "output_type": "execute_result"
    }
   ],
   "source": [
    "state=Board(4,5)\n",
    "for i in range(20):\n",
    "    state[i]=random.choice([0,1,2])\n",
    "state"
   ]
  },
  {
   "cell_type": "code",
   "execution_count": 22,
   "id": "359d6ee4-481d-43df-b226-5e353b3e688f",
   "metadata": {},
   "outputs": [
    {
     "name": "stdout",
     "output_type": "stream",
     "text": [
      " 0  1  2  3  4 \n",
      " 5  6  7  8  9 \n",
      "10 11 12 13 14 \n",
      "15 16 17 18 19 \n",
      "\n"
     ]
    }
   ],
   "source": [
    "state.show_locations()"
   ]
  },
  {
   "cell_type": "code",
   "execution_count": null,
   "id": "9d90e31b-1bf6-4601-ab9d-e7c739dbcae7",
   "metadata": {},
   "outputs": [],
   "source": [
    "for loc in [0,1,2,3,4,5,6,7,8,9]:\n",
    "    if state[loc]==player and state[loc+5]==player and state[loc+10]==player:\n",
    "        return 'win'\n"
   ]
  },
  {
   "cell_type": "markdown",
   "id": "e7330b62-aa60-4462-a542-446e68389450",
   "metadata": {},
   "source": [
    "## debug breakthrough"
   ]
  },
  {
   "cell_type": "code",
   "execution_count": 37,
   "id": "6a06ebc4-9130-49b6-ada2-68affdb12979",
   "metadata": {},
   "outputs": [
    {
     "data": {
      "text/plain": [
       " 2  1  0  2  0 \n",
       " 2  1  0  2  1 \n",
       " 0  2  0  1  1 \n",
       " 2  0  2  1  1 \n",
       " 1  1  1  0  0 "
      ]
     },
     "execution_count": 37,
     "metadata": {},
     "output_type": "execute_result"
    }
   ],
   "source": [
    "state=Board(5,5)\n",
    "for i in range(25):\n",
    "    state[i]=random.choice([0,1,2])\n",
    "player=1\n",
    "if player==1:\n",
    "    other_player=2\n",
    "else:\n",
    "    other_player=1\n",
    "    \n",
    "state"
   ]
  },
  {
   "cell_type": "code",
   "execution_count": 42,
   "id": "38adde35-17fb-4497-8a44-2efe1a373452",
   "metadata": {},
   "outputs": [],
   "source": [
    "state[15]=1\n",
    "state[19]=2"
   ]
  },
  {
   "cell_type": "code",
   "execution_count": 43,
   "id": "38a7c352-4c53-4f94-a13b-952b4be49fa6",
   "metadata": {},
   "outputs": [
    {
     "data": {
      "text/plain": [
       " 2  1  0  2  0 \n",
       " 2  1  0  2  1 \n",
       " 0  2  0  1  1 \n",
       " 1  0  2  1  2 \n",
       " 1  1  1  0  0 "
      ]
     },
     "execution_count": 43,
     "metadata": {},
     "output_type": "execute_result"
    }
   ],
   "source": [
    "state"
   ]
  },
  {
   "cell_type": "code",
   "execution_count": 31,
   "id": "db14ac06-3b99-4a58-b761-a6081d50d272",
   "metadata": {},
   "outputs": [
    {
     "name": "stdout",
     "output_type": "stream",
     "text": [
      " 0  1  2  3  4 \n",
      " 5  6  7  8  9 \n",
      "10 11 12 13 14 \n",
      "15 16 17 18 19 \n",
      "20 21 22 23 24 \n",
      "\n"
     ]
    }
   ],
   "source": [
    "state.show_locations()"
   ]
  },
  {
   "cell_type": "code",
   "execution_count": 49,
   "id": "9a738675-8150-4646-849c-91e097fdab5f",
   "metadata": {},
   "outputs": [],
   "source": [
    "moves=[]\n",
    "\n",
    "for location in range(20):\n",
    "    if state[location]==player and state[location+5]==0:\n",
    "        moves.append([location,location+5])\n",
    "\n",
    "    if location not in [0,5,10,15,20] and state[location]==player and state[location+4]==other_player:\n",
    "        moves.append([location,location+5])\n",
    "\n",
    "    # if state[location]==player and state[location+4]==other_player:\n",
    "    #     moves.append([location,location+4])"
   ]
  },
  {
   "cell_type": "code",
   "execution_count": 50,
   "id": "0102d818-aed3-4114-bae9-831a13ad6f08",
   "metadata": {},
   "outputs": [
    {
     "data": {
      "text/plain": [
       "[[1, 6], [13, 18], [18, 23]]"
      ]
     },
     "execution_count": 50,
     "metadata": {},
     "output_type": "execute_result"
    }
   ],
   "source": [
    "moves"
   ]
  },
  {
   "cell_type": "code",
   "execution_count": null,
   "id": "67568e1d-5ddc-41d8-be17-6322f401f9e0",
   "metadata": {},
   "outputs": [],
   "source": []
  }
 ],
 "metadata": {
  "kernelspec": {
   "display_name": "Python 3 (ipykernel)",
   "language": "python",
   "name": "python3"
  },
  "language_info": {
   "codemirror_mode": {
    "name": "ipython",
    "version": 3
   },
   "file_extension": ".py",
   "mimetype": "text/x-python",
   "name": "python",
   "nbconvert_exporter": "python",
   "pygments_lexer": "ipython3",
   "version": "3.11.4"
  }
 },
 "nbformat": 4,
 "nbformat_minor": 5
}
