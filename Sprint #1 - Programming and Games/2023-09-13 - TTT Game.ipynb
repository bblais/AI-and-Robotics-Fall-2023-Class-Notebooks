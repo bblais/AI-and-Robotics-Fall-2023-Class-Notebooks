{
 "cells": [
  {
   "cell_type": "code",
   "execution_count": 1,
   "id": "944480d4-1658-481a-a9fd-93276e757292",
   "metadata": {},
   "outputs": [
    {
     "name": "stdout",
     "output_type": "stream",
     "text": [
      "Version:  0.2.41\n"
     ]
    }
   ],
   "source": [
    "from Game import *"
   ]
  },
  {
   "cell_type": "markdown",
   "id": "a89dfc07-597d-42d0-b5fb-f266efea914a",
   "metadata": {},
   "source": [
    "## Tic Tac Toe"
   ]
  },
  {
   "cell_type": "markdown",
   "id": "81ad71a2-22ba-498e-a2e8-fddc360d33bd",
   "metadata": {},
   "source": [
    "- what is a state? Board of integers 0 = empty, 1 = X , 2 = O\n",
    "- what is a move? single number (location)\n",
    "- what is the initial state? Board of all zeros\n",
    "- what are the valid moves?  all of the locations where the state[location]==0\n",
    "- from a move and a state, what's the new state?  new state has either 1 or 2 (player) replace the value at the move location\n",
    "- what constitutes a win/lose/stalemate? 3 in a row of the player in the board == 'win'  'stalemate' no moves left"
   ]
  },
  {
   "cell_type": "code",
   "execution_count": 2,
   "id": "6c72292a-46f7-4146-b135-5872ebecd0b5",
   "metadata": {},
   "outputs": [
    {
     "data": {
      "text/plain": [
       " 0  0  0 \n",
       " 0  0  0 \n",
       " 0  0  0 "
      ]
     },
     "execution_count": 2,
     "metadata": {},
     "output_type": "execute_result"
    }
   ],
   "source": [
    "state=Board(3,3)\n",
    "state"
   ]
  },
  {
   "cell_type": "code",
   "execution_count": 4,
   "id": "327afdf0-f1dd-4640-8b09-77dbce69d751",
   "metadata": {},
   "outputs": [
    {
     "data": {
      "text/plain": [
       " 0  0  0  0  0  0 \n",
       " 0  0  0  0  0  0 \n",
       " 0  0  0  0  0  0 \n",
       " 0  0  0  0  0  0 "
      ]
     },
     "execution_count": 4,
     "metadata": {},
     "output_type": "execute_result"
    }
   ],
   "source": [
    "state=Board(4,6)\n",
    "state"
   ]
  },
  {
   "cell_type": "code",
   "execution_count": 5,
   "id": "f69498d0-a6f7-43fe-a460-31c5f7270e7f",
   "metadata": {},
   "outputs": [
    {
     "name": "stdout",
     "output_type": "stream",
     "text": [
      " 0  1  2  3  4  5 \n",
      " 6  7  8  9 10 11 \n",
      "12 13 14 15 16 17 \n",
      "18 19 20 21 22 23 \n",
      "\n"
     ]
    }
   ],
   "source": [
    "state.show_locations()"
   ]
  },
  {
   "cell_type": "code",
   "execution_count": 10,
   "id": "66f1db5e-771d-4f4b-924a-cf9f704c62bf",
   "metadata": {},
   "outputs": [
    {
     "data": {
      "text/plain": [
       " 0  0  0  0  0  0 \n",
       " 0  0  2  0  0  0 \n",
       " 0  0  0  0  0  0 \n",
       " 0  0  0  0  0  0 "
      ]
     },
     "execution_count": 10,
     "metadata": {},
     "output_type": "execute_result"
    }
   ],
   "source": [
    "state[8]=2\n",
    "state"
   ]
  },
  {
   "cell_type": "code",
   "execution_count": 11,
   "id": "362a2c96-db51-4a9d-996a-0002d5c79c66",
   "metadata": {},
   "outputs": [
    {
     "name": "stdout",
     "output_type": "stream",
     "text": [
      "Bob\n"
     ]
    }
   ],
   "source": [
    "if state[8]==0:\n",
    "    print(\"Not\")\n",
    "else:\n",
    "    print(\"Bob\")"
   ]
  },
  {
   "cell_type": "code",
   "execution_count": 12,
   "id": "3df20504-6d4e-4df0-be58-dff0de164352",
   "metadata": {},
   "outputs": [
    {
     "data": {
      "text/plain": [
       "2"
      ]
     },
     "execution_count": 12,
     "metadata": {},
     "output_type": "execute_result"
    }
   ],
   "source": [
    "state[8]"
   ]
  },
  {
   "cell_type": "code",
   "execution_count": 13,
   "id": "627932eb-d6ed-410e-a06a-2b5609d9e638",
   "metadata": {},
   "outputs": [
    {
     "data": {
      "text/plain": [
       "2"
      ]
     },
     "execution_count": 13,
     "metadata": {},
     "output_type": "execute_result"
    }
   ],
   "source": [
    "state[1,2]"
   ]
  },
  {
   "cell_type": "code",
   "execution_count": 14,
   "id": "c48fae6d-1eb1-4f12-b1b9-fb5fc1e7c360",
   "metadata": {},
   "outputs": [],
   "source": [
    "def initial_state(): \n",
    "    \"\"\" returns  - The initial state of the game\"\"\"\n",
    "    state=Board(3,3)\n",
    "    return state"
   ]
  },
  {
   "cell_type": "code",
   "execution_count": 15,
   "id": "92e8b2aa-bc09-494c-b5e2-787f13de5ae7",
   "metadata": {},
   "outputs": [
    {
     "data": {
      "text/plain": [
       " 0  0  0 \n",
       " 0  0  0 \n",
       " 0  0  0 "
      ]
     },
     "execution_count": 15,
     "metadata": {},
     "output_type": "execute_result"
    }
   ],
   "source": [
    "initial_state()"
   ]
  },
  {
   "cell_type": "code",
   "execution_count": 16,
   "id": "c79d392c-12ee-40cc-83d0-30ac8072d546",
   "metadata": {},
   "outputs": [],
   "source": [
    "def show_state(state):\n",
    "    \"\"\"prints or shows the current state\"\"\"\n",
    "    print(state)"
   ]
  },
  {
   "cell_type": "code",
   "execution_count": 17,
   "id": "d9c29f7a-08af-4627-b326-0a919a6d71ac",
   "metadata": {},
   "outputs": [],
   "source": [
    "def update_state(state,player,move):\n",
    "    \"\"\"returns  - the new state after the move for the player\"\"\"\n",
    "\n",
    "    \n",
    "    new_state=state\n",
    "    new_state[move]=player\n",
    "\n",
    "    return new_state\n"
   ]
  },
  {
   "cell_type": "code",
   "execution_count": 18,
   "id": "f2966e28-197b-40c6-a75d-9dd295a266e1",
   "metadata": {},
   "outputs": [
    {
     "data": {
      "text/plain": [
       " 0  0  0 \n",
       " 1  0  0 \n",
       " 0  0  0 "
      ]
     },
     "execution_count": 18,
     "metadata": {},
     "output_type": "execute_result"
    }
   ],
   "source": [
    "state=initial_state()\n",
    "state=update_state(state,1,3)\n",
    "state"
   ]
  },
  {
   "cell_type": "code",
   "execution_count": 19,
   "id": "c3b965c2-a9f5-451f-bef6-6cf55447d75d",
   "metadata": {},
   "outputs": [
    {
     "name": "stdout",
     "output_type": "stream",
     "text": [
      " 0  1  2 \n",
      " 3  4  5 \n",
      " 6  7  8 \n",
      "\n"
     ]
    }
   ],
   "source": [
    "state.show_locations()"
   ]
  },
  {
   "cell_type": "code",
   "execution_count": 20,
   "id": "c74fa469-b64b-4ec6-8c7d-1a6476c477f7",
   "metadata": {},
   "outputs": [
    {
     "data": {
      "text/plain": [
       " 0  0  0 \n",
       " 1  0  0 \n",
       " 0  0  2 "
      ]
     },
     "execution_count": 20,
     "metadata": {},
     "output_type": "execute_result"
    }
   ],
   "source": [
    "state=update_state(state,2,8)\n",
    "state"
   ]
  },
  {
   "cell_type": "code",
   "execution_count": null,
   "id": "b0a631a4-ea10-485d-adc4-f4220e954765",
   "metadata": {},
   "outputs": [],
   "source": []
  }
 ],
 "metadata": {
  "kernelspec": {
   "display_name": "Python 3 (ipykernel)",
   "language": "python",
   "name": "python3"
  },
  "language_info": {
   "codemirror_mode": {
    "name": "ipython",
    "version": 3
   },
   "file_extension": ".py",
   "mimetype": "text/x-python",
   "name": "python",
   "nbconvert_exporter": "python",
   "pygments_lexer": "ipython3",
   "version": "3.11.4"
  }
 },
 "nbformat": 4,
 "nbformat_minor": 5
}
