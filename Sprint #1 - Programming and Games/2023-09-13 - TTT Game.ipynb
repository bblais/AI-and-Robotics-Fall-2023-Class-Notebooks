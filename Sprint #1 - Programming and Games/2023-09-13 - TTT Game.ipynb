{
 "cells": [
  {
   "cell_type": "code",
   "execution_count": 1,
   "id": "944480d4-1658-481a-a9fd-93276e757292",
   "metadata": {},
   "outputs": [
    {
     "name": "stdout",
     "output_type": "stream",
     "text": [
      "Version:  0.2.42\n"
     ]
    }
   ],
   "source": [
    "from Game import *"
   ]
  },
  {
   "cell_type": "markdown",
   "id": "a89dfc07-597d-42d0-b5fb-f266efea914a",
   "metadata": {},
   "source": [
    "## Tic Tac Toe"
   ]
  },
  {
   "cell_type": "markdown",
   "id": "81ad71a2-22ba-498e-a2e8-fddc360d33bd",
   "metadata": {},
   "source": [
    "- what is a state? Board of integers 0 = empty, 1 = X , 2 = O\n",
    "- what is a move? single number (location)\n",
    "- what is the initial state? Board of all zeros\n",
    "- what are the valid moves?  all of the locations where the state[location]==0\n",
    "- from a move and a state, what's the new state?  new state has either 1 or 2 (player) replace the value at the move location\n",
    "- what constitutes a win/lose/stalemate? 3 in a row of the player in the board == 'win'  'stalemate' no moves left"
   ]
  },
  {
   "cell_type": "code",
   "execution_count": 2,
   "id": "6c72292a-46f7-4146-b135-5872ebecd0b5",
   "metadata": {},
   "outputs": [
    {
     "data": {
      "text/plain": [
       " 0  0  0 \n",
       " 0  0  0 \n",
       " 0  0  0 "
      ]
     },
     "execution_count": 2,
     "metadata": {},
     "output_type": "execute_result"
    }
   ],
   "source": [
    "state=Board(3,3)\n",
    "state"
   ]
  },
  {
   "cell_type": "code",
   "execution_count": 3,
   "id": "327afdf0-f1dd-4640-8b09-77dbce69d751",
   "metadata": {},
   "outputs": [
    {
     "data": {
      "text/plain": [
       " 0  0  0  0  0  0 \n",
       " 0  0  0  0  0  0 \n",
       " 0  0  0  0  0  0 \n",
       " 0  0  0  0  0  0 "
      ]
     },
     "execution_count": 3,
     "metadata": {},
     "output_type": "execute_result"
    }
   ],
   "source": [
    "state=Board(4,6)\n",
    "state"
   ]
  },
  {
   "cell_type": "code",
   "execution_count": 4,
   "id": "f69498d0-a6f7-43fe-a460-31c5f7270e7f",
   "metadata": {},
   "outputs": [
    {
     "name": "stdout",
     "output_type": "stream",
     "text": [
      " 0  1  2  3  4  5 \n",
      " 6  7  8  9 10 11 \n",
      "12 13 14 15 16 17 \n",
      "18 19 20 21 22 23 \n",
      "\n"
     ]
    }
   ],
   "source": [
    "state.show_locations()"
   ]
  },
  {
   "cell_type": "code",
   "execution_count": 5,
   "id": "66f1db5e-771d-4f4b-924a-cf9f704c62bf",
   "metadata": {},
   "outputs": [
    {
     "data": {
      "text/plain": [
       " 0  0  0  0  0  0 \n",
       " 0  0  2  0  0  0 \n",
       " 0  0  0  0  0  0 \n",
       " 0  0  0  0  0  0 "
      ]
     },
     "execution_count": 5,
     "metadata": {},
     "output_type": "execute_result"
    }
   ],
   "source": [
    "state[8]=2\n",
    "state"
   ]
  },
  {
   "cell_type": "code",
   "execution_count": 6,
   "id": "362a2c96-db51-4a9d-996a-0002d5c79c66",
   "metadata": {},
   "outputs": [
    {
     "name": "stdout",
     "output_type": "stream",
     "text": [
      "Bob\n"
     ]
    }
   ],
   "source": [
    "if state[8]==0:\n",
    "    print(\"Not\")\n",
    "else:\n",
    "    print(\"Bob\")"
   ]
  },
  {
   "cell_type": "code",
   "execution_count": 12,
   "id": "3df20504-6d4e-4df0-be58-dff0de164352",
   "metadata": {},
   "outputs": [
    {
     "data": {
      "text/plain": [
       "2"
      ]
     },
     "execution_count": 12,
     "metadata": {},
     "output_type": "execute_result"
    }
   ],
   "source": [
    "state[8]"
   ]
  },
  {
   "cell_type": "code",
   "execution_count": 13,
   "id": "627932eb-d6ed-410e-a06a-2b5609d9e638",
   "metadata": {},
   "outputs": [
    {
     "data": {
      "text/plain": [
       "2"
      ]
     },
     "execution_count": 13,
     "metadata": {},
     "output_type": "execute_result"
    }
   ],
   "source": [
    "state[1,2]"
   ]
  },
  {
   "cell_type": "code",
   "execution_count": 8,
   "id": "c48fae6d-1eb1-4f12-b1b9-fb5fc1e7c360",
   "metadata": {},
   "outputs": [],
   "source": [
    "def initial_state(): \n",
    "    \"\"\" returns  - The initial state of the game\"\"\"\n",
    "    state=Board(3,3)\n",
    "    return state"
   ]
  },
  {
   "cell_type": "code",
   "execution_count": 15,
   "id": "92e8b2aa-bc09-494c-b5e2-787f13de5ae7",
   "metadata": {},
   "outputs": [
    {
     "data": {
      "text/plain": [
       " 0  0  0 \n",
       " 0  0  0 \n",
       " 0  0  0 "
      ]
     },
     "execution_count": 15,
     "metadata": {},
     "output_type": "execute_result"
    }
   ],
   "source": [
    "initial_state()"
   ]
  },
  {
   "cell_type": "code",
   "execution_count": 7,
   "id": "c79d392c-12ee-40cc-83d0-30ac8072d546",
   "metadata": {},
   "outputs": [],
   "source": [
    "def show_state(state):\n",
    "    \"\"\"prints or shows the current state\"\"\"\n",
    "    state.show_locations()\n",
    "    print(state)"
   ]
  },
  {
   "cell_type": "code",
   "execution_count": 9,
   "id": "8899fcec-1470-4c2c-aaeb-9c319338b711",
   "metadata": {},
   "outputs": [
    {
     "name": "stdout",
     "output_type": "stream",
     "text": [
      " 0  1  2 \n",
      " 3  4  5 \n",
      " 6  7  8 \n",
      "\n",
      " 0  0  0 \n",
      " 0  0  0 \n",
      " 0  0  0 \n",
      "\n"
     ]
    }
   ],
   "source": [
    "state=initial_state()\n",
    "show_state(state)"
   ]
  },
  {
   "cell_type": "code",
   "execution_count": 12,
   "id": "d9c29f7a-08af-4627-b326-0a919a6d71ac",
   "metadata": {},
   "outputs": [],
   "source": [
    "def update_state(state,player,move):\n",
    "    \"\"\"returns  - the new state after the move for the player\"\"\"\n",
    "\n",
    "    \n",
    "    new_state=state\n",
    "    new_state[move]=player\n",
    "\n",
    "    return new_state\n"
   ]
  },
  {
   "cell_type": "code",
   "execution_count": 11,
   "id": "f2966e28-197b-40c6-a75d-9dd295a266e1",
   "metadata": {},
   "outputs": [
    {
     "data": {
      "text/plain": [
       " 0  0  0 \n",
       " 1  0  0 \n",
       " 0  0  0 "
      ]
     },
     "execution_count": 11,
     "metadata": {},
     "output_type": "execute_result"
    }
   ],
   "source": [
    "state=initial_state()\n",
    "state=update_state(state,1,3)\n",
    "state"
   ]
  },
  {
   "cell_type": "code",
   "execution_count": 19,
   "id": "c3b965c2-a9f5-451f-bef6-6cf55447d75d",
   "metadata": {},
   "outputs": [
    {
     "name": "stdout",
     "output_type": "stream",
     "text": [
      " 0  1  2 \n",
      " 3  4  5 \n",
      " 6  7  8 \n",
      "\n"
     ]
    }
   ],
   "source": [
    "state.show_locations()"
   ]
  },
  {
   "cell_type": "code",
   "execution_count": 20,
   "id": "c74fa469-b64b-4ec6-8c7d-1a6476c477f7",
   "metadata": {},
   "outputs": [
    {
     "data": {
      "text/plain": [
       " 0  0  0 \n",
       " 1  0  0 \n",
       " 0  0  2 "
      ]
     },
     "execution_count": 20,
     "metadata": {},
     "output_type": "execute_result"
    }
   ],
   "source": [
    "state=update_state(state,2,8)\n",
    "state"
   ]
  },
  {
   "cell_type": "code",
   "execution_count": 17,
   "id": "b0a631a4-ea10-485d-adc4-f4220e954765",
   "metadata": {},
   "outputs": [],
   "source": [
    "def valid_moves(state,player):\n",
    "    \"\"\"returns  - a list of the valid moves for the state and player\"\"\"\n",
    "\n",
    "    moves=[]\n",
    "\n",
    "\n",
    "    for location in range(9):\n",
    "        if state[location]==0:\n",
    "            moves.append(location)\n",
    "\n",
    "\n",
    "    return moves\n"
   ]
  },
  {
   "cell_type": "code",
   "execution_count": 18,
   "id": "6a8d542c-d36d-41d6-beb7-130963fb81a1",
   "metadata": {},
   "outputs": [
    {
     "data": {
      "text/plain": [
       " 1  1  0 \n",
       " 0  2  2 \n",
       " 0  0  1 "
      ]
     },
     "execution_count": 18,
     "metadata": {},
     "output_type": "execute_result"
    }
   ],
   "source": [
    "state=initial_state()\n",
    "state[0]=1\n",
    "state[1]=1\n",
    "state[4]=2\n",
    "state[5]=2\n",
    "state[8]=1\n",
    "state"
   ]
  },
  {
   "cell_type": "code",
   "execution_count": 19,
   "id": "9e12113d-da39-426d-9ffc-5d8f079fca6e",
   "metadata": {},
   "outputs": [
    {
     "data": {
      "text/plain": [
       "[2, 3, 6, 7]"
      ]
     },
     "execution_count": 19,
     "metadata": {},
     "output_type": "execute_result"
    }
   ],
   "source": [
    "valid_moves(state,1)"
   ]
  },
  {
   "cell_type": "code",
   "execution_count": null,
   "id": "3ac164a8-71f8-4611-8d48-b42ec3e30bcb",
   "metadata": {},
   "outputs": [],
   "source": []
  },
  {
   "cell_type": "code",
   "execution_count": null,
   "id": "91b2c3c9-4d0f-4140-8ab9-530a6e395a1c",
   "metadata": {},
   "outputs": [],
   "source": []
  },
  {
   "cell_type": "code",
   "execution_count": 13,
   "id": "13d05333-aad1-4765-8b66-2784498f76f3",
   "metadata": {},
   "outputs": [
    {
     "data": {
      "text/plain": [
       "[4, 5, 'bob', 4545, 3432.2332]"
      ]
     },
     "execution_count": 13,
     "metadata": {},
     "output_type": "execute_result"
    }
   ],
   "source": [
    "a=[ 4,5,'bob',4545,3432.2332]\n",
    "a"
   ]
  },
  {
   "cell_type": "code",
   "execution_count": 14,
   "id": "69f10b97-3208-48d8-a43e-0274159d827d",
   "metadata": {},
   "outputs": [
    {
     "data": {
      "text/plain": [
       "'bob'"
      ]
     },
     "execution_count": 14,
     "metadata": {},
     "output_type": "execute_result"
    }
   ],
   "source": [
    "a[2]"
   ]
  },
  {
   "cell_type": "code",
   "execution_count": 15,
   "id": "4394aa24-bcc9-4c3c-a868-aa450b10d426",
   "metadata": {},
   "outputs": [
    {
     "data": {
      "text/plain": [
       "[4, 5, 'bob', 4545, 3432.2332, 'something']"
      ]
     },
     "execution_count": 15,
     "metadata": {},
     "output_type": "execute_result"
    }
   ],
   "source": [
    "a.append('something')\n",
    "a"
   ]
  },
  {
   "cell_type": "code",
   "execution_count": 16,
   "id": "dc1e8b15-599b-477a-ad4f-cd82ea62d214",
   "metadata": {},
   "outputs": [
    {
     "data": {
      "text/plain": [
       "[0, 2, 4, 6]"
      ]
     },
     "execution_count": 16,
     "metadata": {},
     "output_type": "execute_result"
    }
   ],
   "source": [
    "a=[]\n",
    "for i in range(4):\n",
    "    a.append(2*i)\n",
    "\n",
    "a"
   ]
  },
  {
   "cell_type": "code",
   "execution_count": 20,
   "id": "6cb1e3d9-c655-4e00-9a33-4d356928392e",
   "metadata": {},
   "outputs": [],
   "source": [
    "def win_status(state,player):\n",
    "    \"\"\"    returns  - 'win'  if the state is a winning state for the player, \n",
    "               'lose' if the state is a losing state for the player,\n",
    "               'stalemate' for a stalemate\n",
    "               None otherwise\n",
    "    \"\"\"\n",
    "\n",
    "    # 0  1  2 \n",
    "    # 3  4  5 \n",
    "    # 6  7  8 \n",
    "\n",
    "    if state[0]==state[1]==state[2]==player:\n",
    "        return 'win'\n",
    "    if state[3]==state[4]==state[5]==player:\n",
    "        return 'win'\n",
    "    if state[6]==state[7]==state[8]==player:\n",
    "        return 'win'\n",
    "    if state[0]==state[3]==state[6]==player:\n",
    "        return 'win'\n",
    "    if state[1]==state[4]==state[7]==player:\n",
    "        return 'win'\n",
    "    if state[2]==state[5]==state[8]==player:\n",
    "        return 'win'\n",
    "    if state[0]==state[4]==state[8]==player:\n",
    "        return 'win'\n",
    "    if state[6]==state[4]==state[2]==player:\n",
    "        return 'win'\n",
    "\n",
    "    \n",
    "    if not valid_moves(state,player):\n",
    "        return 'stalemate'\n",
    "\n"
   ]
  },
  {
   "cell_type": "code",
   "execution_count": 21,
   "id": "d192c2c3-d28a-45d8-9f56-e42f8ffa9123",
   "metadata": {},
   "outputs": [
    {
     "name": "stdout",
     "output_type": "stream",
     "text": [
      " 0  1  2 \n",
      " 3  4  5 \n",
      " 6  7  8 \n",
      "\n",
      " 1  1  1 \n",
      " 1  1  1 \n",
      " 1  1  1 \n",
      "\n"
     ]
    },
    {
     "data": {
      "text/plain": [
       "'win'"
      ]
     },
     "execution_count": 21,
     "metadata": {},
     "output_type": "execute_result"
    }
   ],
   "source": [
    "state=initial_state()\n",
    "for i in range(9):\n",
    "    state[i]=1\n",
    "show_state(state)\n",
    "win_status(state,1)"
   ]
  },
  {
   "cell_type": "code",
   "execution_count": 22,
   "id": "5c91915c-a07e-4a5d-9a9d-bef7b2357860",
   "metadata": {},
   "outputs": [
    {
     "name": "stdout",
     "output_type": "stream",
     "text": [
      " 0  1  2 \n",
      " 3  4  5 \n",
      " 6  7  8 \n",
      "\n",
      " 0  1  2 \n",
      " 3  4  5 \n",
      " 6  7  8 \n",
      "\n"
     ]
    }
   ],
   "source": [
    "# bad test for stalemate\n",
    "state=initial_state()\n",
    "for i in range(9):\n",
    "    state[i]=i\n",
    "show_state(state)\n",
    "win_status(state,1)"
   ]
  },
  {
   "cell_type": "code",
   "execution_count": 23,
   "id": "47300232-4f4c-46d9-974a-fb24cb1d1ae6",
   "metadata": {},
   "outputs": [
    {
     "name": "stdout",
     "output_type": "stream",
     "text": [
      " 0  1  2 \n",
      " 3  4  5 \n",
      " 6  7  8 \n",
      "\n",
      "10 11 12 \n",
      "13 14 15 \n",
      "16 17 18 \n",
      "\n"
     ]
    },
    {
     "data": {
      "text/plain": [
       "'stalemate'"
      ]
     },
     "execution_count": 23,
     "metadata": {},
     "output_type": "execute_result"
    }
   ],
   "source": [
    "state=initial_state()\n",
    "for i in range(9):\n",
    "    state[i]=i+10\n",
    "show_state(state)\n",
    "win_status(state,1)"
   ]
  },
  {
   "cell_type": "code",
   "execution_count": 26,
   "id": "ea4ef03c-517a-4e3a-9716-8cf1779ed90e",
   "metadata": {},
   "outputs": [],
   "source": [
    "def random_move(state,player):    \n",
    "    moves=valid_moves(state,player)\n",
    "    return random.choice(moves)\n",
    "\n",
    "random_agent=Agent(random_move)\n",
    "\n",
    "def human_move(state,player):\n",
    "    print(\"Player \", player)\n",
    "    valid_move=False\n",
    "    while not valid_move:\n",
    "        move=int(input('What is your move? '))\n",
    "\n",
    "        if move in valid_moves(state,player):\n",
    "            valid_move=True\n",
    "        else:\n",
    "            print(\"Illegal move.\")\n",
    "\n",
    "    return move\n"
   ]
  },
  {
   "cell_type": "code",
   "execution_count": 25,
   "id": "7cd7bed8-1932-4ba9-9112-a300f0709420",
   "metadata": {},
   "outputs": [
    {
     "name": "stdout",
     "output_type": "stream",
     "text": [
      "====\n",
      "Game  1\n",
      " 0  1  2 \n",
      " 3  4  5 \n",
      " 6  7  8 \n",
      "\n",
      " 0  0  0 \n",
      " 0  0  0 \n",
      " 0  0  0 \n",
      "\n",
      "Player  1\n"
     ]
    },
    {
     "name": "stdin",
     "output_type": "stream",
     "text": [
      "What is your move?  4\n"
     ]
    },
    {
     "name": "stdout",
     "output_type": "stream",
     "text": [
      "Player 1 moves 4\n",
      " 0  1  2 \n",
      " 3  4  5 \n",
      " 6  7  8 \n",
      "\n",
      " 0  0  0 \n",
      " 0  1  0 \n",
      " 0  0  0 \n",
      "\n",
      "Player 2 moves 1\n",
      " 0  1  2 \n",
      " 3  4  5 \n",
      " 6  7  8 \n",
      "\n",
      " 0  2  0 \n",
      " 0  1  0 \n",
      " 0  0  0 \n",
      "\n",
      "Player  1\n"
     ]
    },
    {
     "name": "stdin",
     "output_type": "stream",
     "text": [
      "What is your move?  6\n"
     ]
    },
    {
     "name": "stdout",
     "output_type": "stream",
     "text": [
      "Player 1 moves 6\n",
      " 0  1  2 \n",
      " 3  4  5 \n",
      " 6  7  8 \n",
      "\n",
      " 0  2  0 \n",
      " 0  1  0 \n",
      " 1  0  0 \n",
      "\n",
      "Player 2 moves 5\n",
      " 0  1  2 \n",
      " 3  4  5 \n",
      " 6  7  8 \n",
      "\n",
      " 0  2  0 \n",
      " 0  1  2 \n",
      " 1  0  0 \n",
      "\n",
      "Player  1\n"
     ]
    },
    {
     "name": "stdin",
     "output_type": "stream",
     "text": [
      "What is your move?  2\n"
     ]
    },
    {
     "name": "stdout",
     "output_type": "stream",
     "text": [
      "Player 1 moves 2\n",
      " 0  1  2 \n",
      " 3  4  5 \n",
      " 6  7  8 \n",
      "\n",
      " 0  2  1 \n",
      " 0  1  2 \n",
      " 1  0  0 \n",
      "\n",
      "Player  1 won.\n",
      "Total number of games:  1\n",
      "Winning 100.00 percent\n",
      "Losing 0.00 percent\n",
      "Tie 0.00 percent\n"
     ]
    }
   ],
   "source": [
    "human_agent=Agent(human_move)\n",
    "random_agent=Agent(random_move)\n",
    "\n",
    "\n",
    "g=Game(number_of_games=1)\n",
    "g.run(human_agent,random_agent)\n",
    "g.report()   # state the percentage of wins, ties, etc..."
   ]
  },
  {
   "cell_type": "code",
   "execution_count": null,
   "id": "6212f0c4-b73b-4f25-8f20-05fcdc055467",
   "metadata": {},
   "outputs": [],
   "source": []
  }
 ],
 "metadata": {
  "kernelspec": {
   "display_name": "Python 3 (ipykernel)",
   "language": "python",
   "name": "python3"
  },
  "language_info": {
   "codemirror_mode": {
    "name": "ipython",
    "version": 3
   },
   "file_extension": ".py",
   "mimetype": "text/x-python",
   "name": "python",
   "nbconvert_exporter": "python",
   "pygments_lexer": "ipython3",
   "version": "3.11.4"
  }
 },
 "nbformat": 4,
 "nbformat_minor": 5
}
