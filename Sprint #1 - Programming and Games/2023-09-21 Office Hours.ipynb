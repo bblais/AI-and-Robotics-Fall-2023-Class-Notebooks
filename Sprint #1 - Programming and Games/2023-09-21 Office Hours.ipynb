{
 "cells": [
  {
   "cell_type": "code",
   "execution_count": 1,
   "id": "cdf1b37f-858d-4abe-b689-c9d8191dc2f5",
   "metadata": {},
   "outputs": [
    {
     "name": "stdout",
     "output_type": "stream",
     "text": [
      "Version:  0.2.42\n"
     ]
    }
   ],
   "source": [
    "from Game import *"
   ]
  },
  {
   "cell_type": "code",
   "execution_count": 3,
   "id": "84d770fb-daaf-4896-81b8-26764c88aa9b",
   "metadata": {},
   "outputs": [
    {
     "data": {
      "text/plain": [
       " 0  0  0  0 \n",
       " 0  0  0  0 \n",
       " 0  0  0  0 \n",
       " 0  0  0  0 "
      ]
     },
     "execution_count": 3,
     "metadata": {},
     "output_type": "execute_result"
    }
   ],
   "source": [
    "state=Board(4,4)\n",
    "state"
   ]
  },
  {
   "cell_type": "code",
   "execution_count": 4,
   "id": "fcafa608-797d-4c59-94b6-9fe7262d9a4e",
   "metadata": {},
   "outputs": [
    {
     "name": "stdout",
     "output_type": "stream",
     "text": [
      " 0  1  2  3 \n",
      " 4  5  6  7 \n",
      " 8  9 10 11 \n",
      "12 13 14 15 \n",
      "\n"
     ]
    }
   ],
   "source": [
    "state.show_locations()"
   ]
  },
  {
   "cell_type": "code",
   "execution_count": 5,
   "id": "a57258e3-b922-4ccf-bb83-26f659939d36",
   "metadata": {},
   "outputs": [
    {
     "data": {
      "text/plain": [
       " 2  2  2  2 \n",
       " 0  0  0  0 \n",
       " 0  0  0  0 \n",
       " 1  1  1  1 "
      ]
     },
     "execution_count": 5,
     "metadata": {},
     "output_type": "execute_result"
    }
   ],
   "source": [
    "for i in range(4):\n",
    "    state[i]=2\n",
    "    state[i+12]=1\n",
    "state"
   ]
  },
  {
   "cell_type": "code",
   "execution_count": 6,
   "id": "3c202e63-6218-4298-9dcd-56967dceb856",
   "metadata": {},
   "outputs": [
    {
     "data": {
      "text/plain": [
       "[[12, 8], [13, 9], [14, 10], [15, 11]]"
      ]
     },
     "execution_count": 6,
     "metadata": {},
     "output_type": "execute_result"
    }
   ],
   "source": [
    "moves=[]\n",
    "if player==1:\n",
    "    for location in range(4,16):\n",
    "        if state[location]==1 and state[location-4]==0:\n",
    "            moves.append(  [location,location-4]  )\n",
    "    \n",
    "    for location in [4,5,6,8,9,10,12,13,14 ]:\n",
    "        if state[location]==1 and (state[location-3]==0 or state[location-3]==2):\n",
    "            moves.append(  [location,location-3]  )\n",
    "\n",
    "moves"
   ]
  },
  {
   "cell_type": "code",
   "execution_count": null,
   "id": "81550e45-7edf-4b2c-bcb3-779fdf6919be",
   "metadata": {},
   "outputs": [],
   "source": []
  }
 ],
 "metadata": {
  "kernelspec": {
   "display_name": "Python 3 (ipykernel)",
   "language": "python",
   "name": "python3"
  },
  "language_info": {
   "codemirror_mode": {
    "name": "ipython",
    "version": 3
   },
   "file_extension": ".py",
   "mimetype": "text/x-python",
   "name": "python",
   "nbconvert_exporter": "python",
   "pygments_lexer": "ipython3",
   "version": "3.11.4"
  }
 },
 "nbformat": 4,
 "nbformat_minor": 5
}
