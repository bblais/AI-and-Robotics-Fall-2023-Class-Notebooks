{
 "cells": [
  {
   "cell_type": "code",
   "execution_count": 1,
   "id": "b75c5d56-b33e-446c-97ae-4a8a336ea388",
   "metadata": {},
   "outputs": [],
   "source": [
    "names=\"\"\"\n",
    "Darya\n",
    "Mia\n",
    "Michael\n",
    "Gianni\n",
    "Griffin\n",
    "Brad\n",
    "Katie\n",
    "Adam\n",
    "Anxhela\n",
    "Natalia\n",
    "Jason\n",
    "Nathan\n",
    "Trey\n",
    "Chidi\n",
    "Jess\n",
    "Dave\n",
    "Ethan\n",
    "Reese\n",
    "Oscar\n",
    "Will\n",
    "\"\"\".strip().split()"
   ]
  },
  {
   "cell_type": "code",
   "execution_count": 2,
   "id": "7ad7d92b-9fc7-4ac0-88c3-2e1b07ae9657",
   "metadata": {},
   "outputs": [
    {
     "data": {
      "text/plain": [
       "['Darya',\n",
       " 'Mia',\n",
       " 'Michael',\n",
       " 'Gianni',\n",
       " 'Griffin',\n",
       " 'Brad',\n",
       " 'Katie',\n",
       " 'Adam',\n",
       " 'Anxhela',\n",
       " 'Natalia',\n",
       " 'Jason',\n",
       " 'Nathan',\n",
       " 'Trey',\n",
       " 'Chidi',\n",
       " 'Jess',\n",
       " 'Dave',\n",
       " 'Ethan',\n",
       " 'Reese',\n",
       " 'Oscar',\n",
       " 'Will']"
      ]
     },
     "execution_count": 2,
     "metadata": {},
     "output_type": "execute_result"
    }
   ],
   "source": [
    "names"
   ]
  },
  {
   "cell_type": "code",
   "execution_count": 3,
   "id": "488f0c31-d943-45b2-a2ca-8ac39cfa76c4",
   "metadata": {},
   "outputs": [],
   "source": [
    "from random import choice"
   ]
  },
  {
   "cell_type": "code",
   "execution_count": 4,
   "id": "c6a8c929-7523-4f46-b55e-31977a1a84a6",
   "metadata": {},
   "outputs": [],
   "source": [
    "names_orig=names.copy()"
   ]
  },
  {
   "cell_type": "code",
   "execution_count": 5,
   "id": "9c31b00b-6afd-46fa-a2da-b7ea4b73c2b4",
   "metadata": {},
   "outputs": [],
   "source": [
    "names=names_orig.copy()\n",
    "pairs=[]\n",
    "extra=None\n",
    "while names:\n",
    "    name1=choice(names)\n",
    "    names.remove(name1)\n",
    "    \n",
    "    try:\n",
    "        name2=choice(names)\n",
    "        names.remove(name2)\n",
    "    except IndexError:\n",
    "        extra=name1\n",
    "        continue\n",
    "    \n",
    "    pairs.append( [name1,name2])"
   ]
  },
  {
   "cell_type": "code",
   "execution_count": 6,
   "id": "5a72d571-4bb8-4fe2-b59c-6a79dd7a1b85",
   "metadata": {},
   "outputs": [
    {
     "data": {
      "text/plain": [
       "[['Chidi', 'Darya'],\n",
       " ['Trey', 'Will'],\n",
       " ['Natalia', 'Gianni'],\n",
       " ['Adam', 'Brad'],\n",
       " ['Mia', 'Jason'],\n",
       " ['Nathan', 'Griffin'],\n",
       " ['Ethan', 'Anxhela'],\n",
       " ['Michael', 'Jess'],\n",
       " ['Oscar', 'Katie'],\n",
       " ['Reese', 'Dave']]"
      ]
     },
     "execution_count": 6,
     "metadata": {},
     "output_type": "execute_result"
    }
   ],
   "source": [
    "pairs"
   ]
  },
  {
   "cell_type": "code",
   "execution_count": 7,
   "id": "5c0394a0-6a6a-40df-a92d-410de206306e",
   "metadata": {},
   "outputs": [],
   "source": [
    "extra"
   ]
  },
  {
   "cell_type": "code",
   "execution_count": 8,
   "id": "4a99c311-92be-467a-88a8-acc8322313c2",
   "metadata": {},
   "outputs": [
    {
     "name": "stdout",
     "output_type": "stream",
     "text": [
      "# Demo Pairs\n",
      "-  Chidi  -  Reese\n",
      "-  Darya  -  Dave\n",
      "-  Gianni  -  Griffin\n",
      "-  Jess  -  Katie\n",
      "-  Ethan  -  Mia\n",
      "-  Adam  -  Trey\n",
      "-  Anxhela  -  Jason\n",
      "-  Natalia  -  Will\n",
      "-  Michael  -  Nathan\n",
      "-  Brad  -  Oscar\n",
      "\n",
      "------\n",
      "\n",
      "-  Mia  -  Nathan\n",
      "-  Adam  -  Chidi\n",
      "-  Jason  -  Trey\n",
      "-  Katie  -  Michael\n",
      "-  Brad  -  Reese\n",
      "-  Gianni  -  Oscar\n",
      "-  Anxhela  -  Ethan\n",
      "-  Darya  -  Will\n",
      "-  Griffin  -  Natalia\n",
      "-  Dave  -  Jess\n",
      "\n",
      "------\n",
      "\n",
      "-  Trey  -  Will\n",
      "-  Jason  -  Nathan\n",
      "-  Adam  -  Anxhela\n",
      "-  Brad  -  Jess\n",
      "-  Ethan  -  Mia\n",
      "-  Chidi  -  Natalia\n",
      "-  Katie  -  Oscar\n",
      "-  Darya  -  Dave\n",
      "-  Gianni  -  Reese\n",
      "-  Griffin  -  Michael\n",
      "\n",
      "------\n",
      "\n"
     ]
    }
   ],
   "source": [
    "found_duplicate=True\n",
    "while found_duplicate:\n",
    "    print(\"# Demo Pairs\")\n",
    "    extra=None\n",
    "    found_duplicate=False\n",
    "    all_pairs=[]\n",
    "    for i in range(3):\n",
    "        names=names_orig.copy()\n",
    "        pairs=[]\n",
    "\n",
    "        while names:\n",
    "            \n",
    "            if extra:\n",
    "                name1=extra\n",
    "                extra=None\n",
    "            else:\n",
    "                name1=choice(names)\n",
    "                \n",
    "            names.remove(name1)\n",
    "\n",
    "            try:\n",
    "                name2=choice(names)\n",
    "                names.remove(name2)\n",
    "            except IndexError:\n",
    "                extra=name1\n",
    "                continue\n",
    "\n",
    "            if name2<name1:\n",
    "                name1,name2=name2,name1\n",
    "                \n",
    "            pairs.append( (name1,name2) )\n",
    "            \n",
    "        for p in pairs:\n",
    "            print(\"- \",p[0],\" - \",p[1])\n",
    "            if all_pairs:\n",
    "                if p in all_pairs[-1]:\n",
    "                    print(p,\"duplicate\")\n",
    "                    found_duplicate=True\n",
    "            \n",
    "\n",
    "        print(\"\\n------\\n\")\n",
    "        all_pairs.append(pairs)\n",
    "                        \n",
    "                        \n"
   ]
  },
  {
   "cell_type": "markdown",
   "id": "485e085b-3c8d-475b-b364-4ca6a8669e84",
   "metadata": {},
   "source": [
    "# Demo Pairs\n",
    "-  Reese  -  Will\n",
    "-  Gianni  -  Jason\n",
    "-  Griffin  -  Oscar\n",
    "-  Adam  -  Nathan\n",
    "-  Chidi  -  Mia\n",
    "-  Brad  -  Katie\n",
    "-  Darya  -  Jess\n",
    "-  Ethan  -  Michael\n",
    "-  Anxhela  -  Trey\n",
    "-  Dave  -  Natalia\n",
    "\n",
    "------\n",
    "\n",
    "-  Mia  -  Reese\n",
    "-  Adam  -  Gianni\n",
    "-  Chidi  -  Trey\n",
    "-  Katie  -  Oscar\n",
    "-  Jason  -  Michael\n",
    "-  Darya  -  Dave\n",
    "-  Brad  -  Jess\n",
    "-  Griffin  -  Nathan\n",
    "-  Anxhela  -  Will\n",
    "-  Ethan  -  Natalia\n",
    "\n",
    "------\n",
    "\n",
    "-  Jess  -  Natalia\n",
    "-  Anxhela  -  Michael\n",
    "-  Gianni  -  Trey\n",
    "-  Darya  -  Katie\n",
    "-  Chidi  -  Jason\n",
    "-  Brad  -  Mia\n",
    "-  Oscar  -  Will\n",
    "-  Dave  -  Nathan\n",
    "-  Adam  -  Reese\n",
    "-  Ethan  -  Griffin\n",
    "\n",
    "------\n"
   ]
  },
  {
   "cell_type": "code",
   "execution_count": 9,
   "id": "76af92bc-3083-4557-8a49-addbf7c1b2be",
   "metadata": {},
   "outputs": [
    {
     "data": {
      "text/plain": [
       "'Ethan'"
      ]
     },
     "execution_count": 9,
     "metadata": {},
     "output_type": "execute_result"
    }
   ],
   "source": [
    "name1"
   ]
  },
  {
   "cell_type": "code",
   "execution_count": 10,
   "id": "8de79f2e-1057-4624-8106-6f7d2c1bc66d",
   "metadata": {},
   "outputs": [
    {
     "data": {
      "text/plain": [
       "'Griffin'"
      ]
     },
     "execution_count": 10,
     "metadata": {},
     "output_type": "execute_result"
    }
   ],
   "source": [
    "name2"
   ]
  },
  {
   "cell_type": "code",
   "execution_count": null,
   "id": "ddc37e6e-a349-4ddb-b423-efb27257a493",
   "metadata": {},
   "outputs": [],
   "source": []
  }
 ],
 "metadata": {
  "kernelspec": {
   "display_name": "Python 3 (ipykernel)",
   "language": "python",
   "name": "python3"
  },
  "language_info": {
   "codemirror_mode": {
    "name": "ipython",
    "version": 3
   },
   "file_extension": ".py",
   "mimetype": "text/x-python",
   "name": "python",
   "nbconvert_exporter": "python",
   "pygments_lexer": "ipython3",
   "version": "3.9.12"
  },
  "vscode": {
   "interpreter": {
    "hash": "4caad4c65480177ebe51bb268db552b41575ad57e529d294f0e3c21e0e9fcd39"
   }
  }
 },
 "nbformat": 4,
 "nbformat_minor": 5
}
