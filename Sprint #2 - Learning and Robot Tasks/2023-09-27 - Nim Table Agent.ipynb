{
 "cells": [
  {
   "cell_type": "code",
   "execution_count": 1,
   "id": "5e9ad7e1-6b67-470e-a267-1cf507e5ae0a",
   "metadata": {},
   "outputs": [
    {
     "name": "stdout",
     "output_type": "stream",
     "text": [
      "Version:  0.2.42\n"
     ]
    }
   ],
   "source": [
    "from Game import *\n",
    "from Game.minimax import *"
   ]
  },
  {
   "cell_type": "markdown",
   "id": "37a58b7b-b93f-4086-a0c3-6fc12c45f1dd",
   "metadata": {},
   "source": [
    "## Nim"
   ]
  },
  {
   "cell_type": "code",
   "execution_count": 18,
   "id": "ed7923e5-3f6a-4fc2-bbb6-dff254f0cf99",
   "metadata": {},
   "outputs": [],
   "source": [
    "def initial_state(): \n",
    "    \"\"\" returns  - The initial state of the game\"\"\"\n",
    "    return 21\n",
    "\n",
    "def valid_moves(state,player):\n",
    "    \"\"\"returns  - a list of the valid moves for the state and player\"\"\"\n",
    "\n",
    "    if state==2:\n",
    "        return [1,2]\n",
    "    elif state==1:\n",
    "        return [1]\n",
    "    else:\n",
    "        return [1,2,3]\n",
    "\n",
    "def show_state(state):\n",
    "    \"\"\"prints or shows the current state\"\"\"\n",
    "    print(\"There are\",state,\"sticks.\")\n",
    "\n",
    "def update_state(state,player,move):\n",
    "    \"\"\"returns  - the new state after the move for the player\"\"\"\n",
    "\n",
    "    new_state=state-move\n",
    "\n",
    "    return new_state\n",
    "\n",
    "\n",
    "def win_status(state,player):\n",
    "    \"\"\"    returns  - 'win'  if the state is a winning state for the player, \n",
    "               'lose' if the state is a losing state for the player,\n",
    "               'stalemate' for a stalemate\n",
    "               None otherwise\n",
    "    \"\"\"\n",
    "\n",
    "    if state==0:\n",
    "        return 'lose'\n",
    "\n",
    "    if state==1:\n",
    "        return 'win'\n",
    "\n",
    "\n",
    "    return None\n",
    "    \n"
   ]
  },
  {
   "cell_type": "markdown",
   "id": "9be501f9-9d82-47a1-be10-b330571f3ec7",
   "metadata": {},
   "source": [
    "## Agents"
   ]
  },
  {
   "cell_type": "code",
   "execution_count": 19,
   "id": "27a364b6-2c01-433a-95fb-79e2597e9517",
   "metadata": {},
   "outputs": [],
   "source": [
    "def random_move(state,player):    \n",
    "    moves=valid_moves(state,player)\n",
    "    return random.choice(moves)\n",
    "\n",
    "random_agent=Agent(random_move)\n",
    "\n",
    "def human_move(state,player):\n",
    "    print(\"Player \", player)\n",
    "    valid_move=False\n",
    "    while not valid_move:\n",
    "        move=int(input('What is your move? '))\n",
    "\n",
    "        if move in valid_moves(state,player):\n",
    "            valid_move=True\n",
    "        else:\n",
    "            print(\"Illegal move.\")\n",
    "\n",
    "    return move\n",
    "\n",
    "human_agent=Agent(human_move)"
   ]
  },
  {
   "cell_type": "code",
   "execution_count": 20,
   "id": "2463820f-5620-422f-86ea-e577570b400b",
   "metadata": {},
   "outputs": [],
   "source": [
    "def minimax_move(state,player):\n",
    "\n",
    "    values,moves=minimax_values(state,player,adjust_values_by_depth=True)\n",
    "    return top_choice(moves,values)\n",
    "\n",
    "\n",
    "minimax_agent=Agent(minimax_move)"
   ]
  },
  {
   "cell_type": "code",
   "execution_count": 21,
   "id": "de90c693-c9b2-4a63-9036-1a6f1ee79347",
   "metadata": {},
   "outputs": [],
   "source": [
    "def table_move(state,player):\n",
    "\n",
    "    T=Table()  # start with an empty\n",
    "    T[6]=Table()\n",
    "    # T[state][action]\n",
    "    T[6][3]=-1\n",
    "    T[6][2]=-1\n",
    "    T[6][1]=+1\n",
    "    \n",
    "    T[5]=Table()\n",
    "    T[5][3]=-1\n",
    "    T[5][2]=-1\n",
    "    T[5][1]=-1    \n",
    "\n",
    "    move=top_choice(T[state])\n",
    "    return move\n",
    "\n",
    "\n",
    "table_agent=Agent(table_move)"
   ]
  },
  {
   "cell_type": "code",
   "execution_count": 22,
   "id": "a378de1a-3ce3-4b40-873a-95ccf084a84c",
   "metadata": {},
   "outputs": [],
   "source": [
    "def table_move(state,player):\n",
    "\n",
    "    T=Table()\n",
    "    count=1\n",
    "    for S in range(1,22):\n",
    "        T[S]=Table()\n",
    "        for action in [1,2,3]:\n",
    "            if S==1 and action>1: # not a valid move\n",
    "                continue\n",
    "            if S==2 and action>2: # not a valid move\n",
    "                continue\n",
    "            \n",
    "            T[S][action]=-1\n",
    "    \n",
    "            if count==1:\n",
    "                T[S][action]=-1\n",
    "            elif count==2 and action==1:\n",
    "                T[S][action]=+1\n",
    "            elif count==3 and action==2:\n",
    "                T[S][action]=+1\n",
    "            elif count==4 and action==3:\n",
    "                T[S][action]=+1\n",
    "            else:\n",
    "                pass\n",
    "            \n",
    "        count=count+1\n",
    "    \n",
    "        if count>4:\n",
    "            count=1\n",
    "\n",
    "    move=top_choice(T[state])\n",
    "    return move\n",
    "\n",
    "\n",
    "table_agent=Agent(table_move)\n",
    "\n",
    "\n",
    "# make the table here -- attach it to the agent\n",
    "\n"
   ]
  },
  {
   "cell_type": "code",
   "execution_count": 26,
   "id": "6dcffb95-4b8e-4d85-97e2-a0234df6bc28",
   "metadata": {},
   "outputs": [],
   "source": [
    "def table_move(state,player,info):\n",
    "    T=info.T\n",
    "    move=top_choice(T[state])\n",
    "    return move\n",
    "\n",
    "\n",
    "table_agent=Agent(table_move)\n",
    "\n",
    "\n",
    "# make the table here -- attach it to the agent\n",
    "T=Table()\n",
    "count=1\n",
    "for S in range(1,22):\n",
    "    T[S]=Table()\n",
    "    for action in [1,2,3]:\n",
    "        if S==1 and action>1: # not a valid move\n",
    "            continue\n",
    "        if S==2 and action>2: # not a valid move\n",
    "            continue\n",
    "        \n",
    "        T[S][action]=-1\n",
    "\n",
    "        if count==1:\n",
    "            T[S][action]=-1\n",
    "        elif count==2 and action==1:\n",
    "            T[S][action]=+1\n",
    "        elif count==3 and action==2:\n",
    "            T[S][action]=+1\n",
    "        elif count==4 and action==3:\n",
    "            T[S][action]=+1\n",
    "        else:\n",
    "            pass\n",
    "        \n",
    "    count=count+1\n",
    "\n",
    "    if count>4:\n",
    "        count=1\n",
    "\n",
    "table_agent.T=T\n"
   ]
  },
  {
   "cell_type": "code",
   "execution_count": 23,
   "id": "dc69abc5-27eb-4b72-8097-9e3254fcc6fd",
   "metadata": {},
   "outputs": [],
   "source": [
    "state=6"
   ]
  },
  {
   "cell_type": "code",
   "execution_count": 24,
   "id": "70295312-3191-437c-aa87-b90b32209004",
   "metadata": {},
   "outputs": [
    {
     "data": {
      "text/plain": [
       "1"
      ]
     },
     "execution_count": 24,
     "metadata": {},
     "output_type": "execute_result"
    }
   ],
   "source": [
    "(state-1)%4"
   ]
  },
  {
   "cell_type": "code",
   "execution_count": 10,
   "id": "43171fd2-f23c-4aa2-ade8-185b1aa59c4f",
   "metadata": {},
   "outputs": [],
   "source": [
    "def perfect_move(state,player):\n",
    "    move=(state-1)%4\n",
    "\n",
    "    if move==0:  # bad state\n",
    "        move=1\n",
    "\n",
    "    return move\n",
    "\n",
    "perfect_agent=Agent(perfect_move)"
   ]
  },
  {
   "cell_type": "code",
   "execution_count": null,
   "id": "8d57b07e-40e2-4ded-9a93-244923c5f0c0",
   "metadata": {},
   "outputs": [],
   "source": []
  },
  {
   "cell_type": "code",
   "execution_count": null,
   "id": "49619431-220a-4087-98d6-62fd795230de",
   "metadata": {},
   "outputs": [],
   "source": []
  },
  {
   "cell_type": "code",
   "execution_count": null,
   "id": "4341e841-b92a-41a1-be08-54264fdf1474",
   "metadata": {},
   "outputs": [],
   "source": []
  },
  {
   "cell_type": "code",
   "execution_count": null,
   "id": "a369787e-7702-4f42-baa7-a847926456f9",
   "metadata": {},
   "outputs": [],
   "source": []
  },
  {
   "cell_type": "code",
   "execution_count": 23,
   "id": "f555b926-39de-4256-9b7f-1f05f96ce2f4",
   "metadata": {},
   "outputs": [],
   "source": [
    "T=Table()"
   ]
  },
  {
   "cell_type": "code",
   "execution_count": 31,
   "id": "b722e087-4988-4328-bdac-a209ef61afc2",
   "metadata": {},
   "outputs": [
    {
     "name": "stdout",
     "output_type": "stream",
     "text": [
      "1 1 1\n",
      "2 1 2\n",
      "2 2 2\n",
      "3 1 3\n",
      "3 2 3\n",
      "3 3 3\n",
      "4 1 4\n",
      "4 2 4\n",
      "4 3 4\n",
      "5 1 1\n",
      "5 2 1\n",
      "5 3 1\n",
      "6 1 2\n",
      "6 2 2\n",
      "6 3 2\n",
      "7 1 3\n",
      "7 2 3\n",
      "7 3 3\n",
      "8 1 4\n",
      "8 2 4\n",
      "8 3 4\n",
      "9 1 1\n",
      "9 2 1\n",
      "9 3 1\n",
      "10 1 2\n",
      "10 2 2\n",
      "10 3 2\n",
      "11 1 3\n",
      "11 2 3\n",
      "11 3 3\n",
      "12 1 4\n",
      "12 2 4\n",
      "12 3 4\n",
      "13 1 1\n",
      "13 2 1\n",
      "13 3 1\n",
      "14 1 2\n",
      "14 2 2\n",
      "14 3 2\n",
      "15 1 3\n",
      "15 2 3\n",
      "15 3 3\n",
      "16 1 4\n",
      "16 2 4\n",
      "16 3 4\n",
      "17 1 1\n",
      "17 2 1\n",
      "17 3 1\n",
      "18 1 2\n",
      "18 2 2\n",
      "18 3 2\n",
      "19 1 3\n",
      "19 2 3\n",
      "19 3 3\n",
      "20 1 4\n",
      "20 2 4\n",
      "20 3 4\n",
      "21 1 1\n",
      "21 2 1\n",
      "21 3 1\n"
     ]
    }
   ],
   "source": [
    "T=Table()\n",
    "count=1\n",
    "for state in range(1,22):\n",
    "    T[state]=Table()\n",
    "    for action in [1,2,3]:\n",
    "        if state==1 and action>1: # not a valid move\n",
    "            continue\n",
    "        if state==2 and action>2: # not a valid move\n",
    "            continue\n",
    "        \n",
    "\n",
    "        \n",
    "        T[state][action]=-1\n",
    "\n",
    "        if count==1:\n",
    "            T[state][action]=-1\n",
    "        elif count==2 and action==1:\n",
    "            T[state][action]=+1\n",
    "        elif count==3 and action==2:\n",
    "            T[state][action]=+1\n",
    "        elif count==4 and action==3:\n",
    "            T[state][action]=+1\n",
    "        else:\n",
    "            pass\n",
    "        \n",
    "        print(state,action,count)\n",
    "        \n",
    "    count=count+1\n",
    "\n",
    "    if count>4:\n",
    "        count=1"
   ]
  },
  {
   "cell_type": "code",
   "execution_count": 32,
   "id": "0e12dbdd-f3f0-4af2-b20d-9b8998cd15df",
   "metadata": {},
   "outputs": [
    {
     "data": {
      "text/plain": [
       "{1: {1: -1},\n",
       " 2: {1: 1, 2: -1},\n",
       " 3: {1: -1, 2: 1, 3: -1},\n",
       " 4: {1: -1, 2: -1, 3: 1},\n",
       " 5: {1: -1, 2: -1, 3: -1},\n",
       " 6: {1: 1, 2: -1, 3: -1},\n",
       " 7: {1: -1, 2: 1, 3: -1},\n",
       " 8: {1: -1, 2: -1, 3: 1},\n",
       " 9: {1: -1, 2: -1, 3: -1},\n",
       " 10: {1: 1, 2: -1, 3: -1},\n",
       " 11: {1: -1, 2: 1, 3: -1},\n",
       " 12: {1: -1, 2: -1, 3: 1},\n",
       " 13: {1: -1, 2: -1, 3: -1},\n",
       " 14: {1: 1, 2: -1, 3: -1},\n",
       " 15: {1: -1, 2: 1, 3: -1},\n",
       " 16: {1: -1, 2: -1, 3: 1},\n",
       " 17: {1: -1, 2: -1, 3: -1},\n",
       " 18: {1: 1, 2: -1, 3: -1},\n",
       " 19: {1: -1, 2: 1, 3: -1},\n",
       " 20: {1: -1, 2: -1, 3: 1},\n",
       " 21: {1: -1, 2: -1, 3: -1}}"
      ]
     },
     "execution_count": 32,
     "metadata": {},
     "output_type": "execute_result"
    }
   ],
   "source": [
    "T"
   ]
  },
  {
   "cell_type": "code",
   "execution_count": 37,
   "id": "bf74b1b5-e118-4e02-8aa1-3aba71e952ea",
   "metadata": {},
   "outputs": [
    {
     "data": {
      "text/plain": [
       "1"
      ]
     },
     "execution_count": 37,
     "metadata": {},
     "output_type": "execute_result"
    }
   ],
   "source": [
    "top_choice(T[6])"
   ]
  },
  {
   "cell_type": "code",
   "execution_count": 12,
   "id": "5eb07fa3-41ff-47fc-80c4-5f03374cabf9",
   "metadata": {},
   "outputs": [
    {
     "data": {
      "text/plain": [
       "{}"
      ]
     },
     "execution_count": 12,
     "metadata": {},
     "output_type": "execute_result"
    }
   ],
   "source": [
    "T"
   ]
  },
  {
   "cell_type": "code",
   "execution_count": 16,
   "id": "8591b691-f1fb-4b6e-80a8-b0978aa9ae54",
   "metadata": {},
   "outputs": [],
   "source": [
    "T[6]=Table()\n",
    "# T[state][action]\n",
    "T[6][3]=-1\n",
    "T[6][2]=-1\n",
    "T[6][1]=+1\n",
    "\n",
    "T[5]=Table()\n",
    "T[5][3]=-1\n",
    "T[5][2]=-1\n",
    "T[5][1]=-1"
   ]
  },
  {
   "cell_type": "code",
   "execution_count": 17,
   "id": "a5474922-25fe-4b57-a539-cf37b6060acd",
   "metadata": {},
   "outputs": [
    {
     "data": {
      "text/plain": [
       "{6: {3: -1, 2: -1, 1: 1}, 5: {3: -1, 2: -1, 1: -1}}"
      ]
     },
     "execution_count": 17,
     "metadata": {},
     "output_type": "execute_result"
    }
   ],
   "source": [
    "T"
   ]
  },
  {
   "cell_type": "code",
   "execution_count": null,
   "id": "077ce3aa-3183-4999-95d2-6b69c4bdb657",
   "metadata": {},
   "outputs": [],
   "source": []
  },
  {
   "cell_type": "code",
   "execution_count": null,
   "id": "2fae4c57-7232-4909-8cac-99cb02dba4bf",
   "metadata": {},
   "outputs": [],
   "source": []
  },
  {
   "cell_type": "code",
   "execution_count": 27,
   "id": "76034b53-9a65-4ca9-9500-99804b847fde",
   "metadata": {},
   "outputs": [
    {
     "name": "stdout",
     "output_type": "stream",
     "text": [
      "====\n",
      "Game  1\n",
      "There are 21 sticks.\n",
      "Player 1 moves 1\n",
      "There are 20 sticks.\n",
      "Player 2 moves 3\n",
      "There are 17 sticks.\n",
      "Player 1 moves 1\n",
      "There are 16 sticks.\n",
      "Player 2 moves 3\n",
      "There are 13 sticks.\n",
      "Player 1 moves 1\n",
      "There are 12 sticks.\n",
      "Player 2 moves 3\n",
      "There are 9 sticks.\n",
      "Player 1 moves 1\n",
      "There are 8 sticks.\n",
      "Player 2 moves 3\n",
      "There are 5 sticks.\n",
      "Player 1 moves 1\n",
      "There are 4 sticks.\n",
      "Player 2 moves 3\n",
      "There are 1 sticks.\n",
      "Player  2 won.\n",
      "Total number of games:  1\n",
      "Winning 0.00 percent\n",
      "Losing 100.00 percent\n",
      "Tie 0.00 percent\n"
     ]
    }
   ],
   "source": [
    "g=Game(number_of_games=1)\n",
    "g.run(perfect_agent,table_agent)\n",
    "g.report()  "
   ]
  },
  {
   "cell_type": "code",
   "execution_count": 28,
   "id": "80373522-c344-4d00-93b2-737a1ee2f5c3",
   "metadata": {},
   "outputs": [
    {
     "data": {
      "text/plain": [
       "{1: {1: -1},\n",
       " 2: {1: 1, 2: -1},\n",
       " 3: {1: -1, 2: 1, 3: -1},\n",
       " 4: {1: -1, 2: -1, 3: 1},\n",
       " 5: {1: -1, 2: -1, 3: -1},\n",
       " 6: {1: 1, 2: -1, 3: -1},\n",
       " 7: {1: -1, 2: 1, 3: -1},\n",
       " 8: {1: -1, 2: -1, 3: 1},\n",
       " 9: {1: -1, 2: -1, 3: -1},\n",
       " 10: {1: 1, 2: -1, 3: -1},\n",
       " 11: {1: -1, 2: 1, 3: -1},\n",
       " 12: {1: -1, 2: -1, 3: 1},\n",
       " 13: {1: -1, 2: -1, 3: -1},\n",
       " 14: {1: 1, 2: -1, 3: -1},\n",
       " 15: {1: -1, 2: 1, 3: -1},\n",
       " 16: {1: -1, 2: -1, 3: 1},\n",
       " 17: {1: -1, 2: -1, 3: -1},\n",
       " 18: {1: 1, 2: -1, 3: -1},\n",
       " 19: {1: -1, 2: 1, 3: -1},\n",
       " 20: {1: -1, 2: -1, 3: 1},\n",
       " 21: {1: -1, 2: -1, 3: -1}}"
      ]
     },
     "execution_count": 28,
     "metadata": {},
     "output_type": "execute_result"
    }
   ],
   "source": [
    "table_agent.T"
   ]
  },
  {
   "cell_type": "code",
   "execution_count": 30,
   "id": "155f17fb-ed6d-4d51-b485-833b81d61a6d",
   "metadata": {},
   "outputs": [],
   "source": [
    "SaveTable(table_agent.T,'nim_table.json')"
   ]
  },
  {
   "cell_type": "code",
   "execution_count": null,
   "id": "db800045-0b4a-400b-a592-358d60023266",
   "metadata": {},
   "outputs": [],
   "source": []
  }
 ],
 "metadata": {
  "kernelspec": {
   "display_name": "Python 3 (ipykernel)",
   "language": "python",
   "name": "python3"
  },
  "language_info": {
   "codemirror_mode": {
    "name": "ipython",
    "version": 3
   },
   "file_extension": ".py",
   "mimetype": "text/x-python",
   "name": "python",
   "nbconvert_exporter": "python",
   "pygments_lexer": "ipython3",
   "version": "3.11.4"
  }
 },
 "nbformat": 4,
 "nbformat_minor": 5
}
