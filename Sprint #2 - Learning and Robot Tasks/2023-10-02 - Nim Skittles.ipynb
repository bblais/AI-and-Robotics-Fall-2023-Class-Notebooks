{
 "cells": [
  {
   "cell_type": "code",
   "execution_count": 1,
   "id": "5e9ad7e1-6b67-470e-a267-1cf507e5ae0a",
   "metadata": {},
   "outputs": [
    {
     "name": "stdout",
     "output_type": "stream",
     "text": [
      "Version:  0.2.42\n"
     ]
    }
   ],
   "source": [
    "from Game import *\n",
    "from Game.minimax import *"
   ]
  },
  {
   "cell_type": "markdown",
   "id": "37a58b7b-b93f-4086-a0c3-6fc12c45f1dd",
   "metadata": {},
   "source": [
    "## Nim"
   ]
  },
  {
   "cell_type": "code",
   "execution_count": 2,
   "id": "ed7923e5-3f6a-4fc2-bbb6-dff254f0cf99",
   "metadata": {},
   "outputs": [],
   "source": [
    "def initial_state(): \n",
    "    \"\"\" returns  - The initial state of the game\"\"\"\n",
    "    return 21\n",
    "\n",
    "def valid_moves(state,player):\n",
    "    \"\"\"returns  - a list of the valid moves for the state and player\"\"\"\n",
    "\n",
    "    if state==2:\n",
    "        return [1,2]\n",
    "    elif state==1:\n",
    "        return [1]\n",
    "    else:\n",
    "        return [1,2,3]\n",
    "\n",
    "def show_state(state):\n",
    "    \"\"\"prints or shows the current state\"\"\"\n",
    "    print(\"There are\",state,\"sticks.\")\n",
    "\n",
    "def update_state(state,player,move):\n",
    "    \"\"\"returns  - the new state after the move for the player\"\"\"\n",
    "\n",
    "    new_state=state-move\n",
    "\n",
    "    return new_state\n",
    "\n",
    "\n",
    "def win_status(state,player):\n",
    "    \"\"\"    returns  - 'win'  if the state is a winning state for the player, \n",
    "               'lose' if the state is a losing state for the player,\n",
    "               'stalemate' for a stalemate\n",
    "               None otherwise\n",
    "    \"\"\"\n",
    "\n",
    "    if state==0:\n",
    "        return 'lose'\n",
    "\n",
    "    if state==1:\n",
    "        return 'win'\n",
    "\n",
    "\n",
    "    return None\n",
    "    \n"
   ]
  },
  {
   "cell_type": "markdown",
   "id": "9be501f9-9d82-47a1-be10-b330571f3ec7",
   "metadata": {},
   "source": [
    "## Agents"
   ]
  },
  {
   "cell_type": "code",
   "execution_count": 3,
   "id": "27a364b6-2c01-433a-95fb-79e2597e9517",
   "metadata": {},
   "outputs": [],
   "source": [
    "def random_move(state,player):    \n",
    "    moves=valid_moves(state,player)\n",
    "    return random.choice(moves)\n",
    "\n",
    "random_agent=Agent(random_move)\n",
    "\n",
    "def human_move(state,player):\n",
    "    print(\"Player \", player)\n",
    "    valid_move=False\n",
    "    while not valid_move:\n",
    "        move=int(input('What is your move? '))\n",
    "\n",
    "        if move in valid_moves(state,player):\n",
    "            valid_move=True\n",
    "        else:\n",
    "            print(\"Illegal move.\")\n",
    "\n",
    "    return move\n",
    "\n",
    "human_agent=Agent(human_move)"
   ]
  },
  {
   "cell_type": "code",
   "execution_count": 4,
   "id": "2463820f-5620-422f-86ea-e577570b400b",
   "metadata": {},
   "outputs": [],
   "source": [
    "def minimax_move(state,player):\n",
    "    values,moves=minimax_values(state,player,display=False)\n",
    "    return top_choice(moves,values)\n",
    "\n",
    "\n",
    "minimax_agent=Agent(minimax_move)"
   ]
  },
  {
   "cell_type": "code",
   "execution_count": null,
   "id": "c9394387-72cc-48b6-94b8-cd555fbeb831",
   "metadata": {},
   "outputs": [],
   "source": []
  },
  {
   "cell_type": "code",
   "execution_count": 5,
   "id": "a6d6a508-6eb5-4b38-9901-2f4df211887d",
   "metadata": {},
   "outputs": [],
   "source": [
    "def skittles_move(state,player,info):\n",
    "    S=info.S\n",
    "    last_state=info.last_state\n",
    "    last_action=info.last_action\n",
    "\n",
    "    original_state=state\n",
    "    state=adjusted_state(original_state)\n",
    "    original_last_state=last_state\n",
    "    last_state=adjusted_state(original_last_state)\n",
    "    \n",
    "    # make/adjust the table\n",
    "\n",
    "    if state not in S:\n",
    "        # add a row to the table for each move\n",
    "        S[state]=Table()\n",
    "        moves=valid_moves(state,player)\n",
    "        for action in moves:\n",
    "            S[state][action]=3  # number of skittles/beads for each move\n",
    "    \n",
    "    move=weighted_choice(S[state])\n",
    "\n",
    "    if move is None:  # there are no skittles in this row\n",
    "        if last_state:\n",
    "            S[last_state][last_action]=S[last_state][last_action]-1\n",
    "            if S[last_state][last_action]<0:\n",
    "                S[last_state][last_action]=0\n",
    "\n",
    "        move=random_move(state,player)\n",
    "\n",
    "    \n",
    "    return move\n",
    "\n",
    "def skittles_after(status,player,info):\n",
    "    S=info.S\n",
    "    last_state=info.last_state\n",
    "    last_action=info.last_action\n",
    "\n",
    "    if status=='lose':\n",
    "        if last_state:\n",
    "            S[last_state][last_action]=S[last_state][last_action]-1\n",
    "            if S[last_state][last_action]<0:\n",
    "                S[last_state][last_action]=0\n",
    "                \n",
    "    # does this double-count the learning if you lose on your own turn        \n",
    "    "
   ]
  },
  {
   "cell_type": "code",
   "execution_count": 6,
   "id": "02ad0b1c-8edd-4790-bcf0-9afc60ce62ca",
   "metadata": {},
   "outputs": [],
   "source": [
    "skittles_agent=Agent(skittles_move)\n",
    "skittles_agent.S=Table()\n",
    "skittles_agent.post=skittles_after"
   ]
  },
  {
   "cell_type": "code",
   "execution_count": 7,
   "id": "43171fd2-f23c-4aa2-ade8-185b1aa59c4f",
   "metadata": {},
   "outputs": [],
   "source": [
    "def perfect_move(state,player):\n",
    "    move=(state-1)%4\n",
    "\n",
    "    if move==0:  # bad state\n",
    "        move=1\n",
    "\n",
    "    return move\n",
    "\n",
    "perfect_agent=Agent(perfect_move)"
   ]
  },
  {
   "cell_type": "code",
   "execution_count": null,
   "id": "2fae4c57-7232-4909-8cac-99cb02dba4bf",
   "metadata": {},
   "outputs": [],
   "source": []
  },
  {
   "cell_type": "code",
   "execution_count": 12,
   "id": "76034b53-9a65-4ca9-9500-99804b847fde",
   "metadata": {},
   "outputs": [
    {
     "name": "stdout",
     "output_type": "stream",
     "text": [
      "Total number of games:  100\n",
      "Winning 0.00 percent\n",
      "Losing 100.00 percent\n",
      "Tie 0.00 percent\n"
     ]
    }
   ],
   "source": [
    "g=Game(number_of_games=100)\n",
    "g.display=False\n",
    "g.run(perfect_agent,skittles_agent)\n",
    "g.report()  "
   ]
  },
  {
   "cell_type": "code",
   "execution_count": 9,
   "id": "155f17fb-ed6d-4d51-b485-833b81d61a6d",
   "metadata": {},
   "outputs": [],
   "source": [
    "SaveTable(skittles_agent.S,'nim skittles.json')"
   ]
  },
  {
   "cell_type": "code",
   "execution_count": 26,
   "id": "db800045-0b4a-400b-a592-358d60023266",
   "metadata": {},
   "outputs": [],
   "source": [
    "from tqdm import tqdm"
   ]
  },
  {
   "cell_type": "code",
   "execution_count": 28,
   "id": "7d35fe9a-825c-4a7f-b440-f162845c532c",
   "metadata": {},
   "outputs": [
    {
     "name": "stderr",
     "output_type": "stream",
     "text": [
      "100%|█████████████████████████████████████████████████████████████| 100/100 [00:01<00:00, 91.66it/s]\n"
     ]
    }
   ],
   "source": [
    "player_one_win_percentage=[]\n",
    "player_two_win_percentage=[]\n",
    "tie_percentage=[]\n",
    "number_of_games_played=[]\n",
    "number_of_games_per_loop=10\n",
    "\n",
    "agent1=perfect_agent\n",
    "agent2=skittles_agent\n",
    "skittles_agent.S=Table()\n",
    "\n",
    "games_so_far=0\n",
    "for i in tqdm(range(100),total=100):\n",
    "    g=Game(number_of_games=number_of_games_per_loop)\n",
    "    g.display=False\n",
    "    result=g.run(agent1,agent2)\n",
    "\n",
    "    games_so_far+=number_of_games_per_loop\n",
    "\n",
    "    number_of_games_played.append(games_so_far)\n",
    "    player_one_win_percentage.append(result.count(1)/number_of_games_per_loop)    \n",
    "    player_two_win_percentage.append(result.count(2)/number_of_games_per_loop)    \n",
    "    tie_percentage.append(result.count(0)/number_of_games_per_loop)    \n",
    "\n",
    "SaveTable(skittles_agent.S,'nim skittles.json')"
   ]
  },
  {
   "cell_type": "code",
   "execution_count": 29,
   "id": "dc36ea08-e631-41f4-aafc-b55b7445fa1c",
   "metadata": {},
   "outputs": [],
   "source": [
    "%matplotlib inline\n",
    "from pylab import plot"
   ]
  },
  {
   "cell_type": "code",
   "execution_count": 31,
   "id": "31f91ec0-8092-410b-b138-633933a5e20c",
   "metadata": {},
   "outputs": [
    {
     "data": {
      "text/plain": [
       "[<matplotlib.lines.Line2D at 0x1558b6bd0>]"
      ]
     },
     "execution_count": 31,
     "metadata": {},
     "output_type": "execute_result"
    },
    {
     "data": {
      "image/png": "[encoded data removed]",
      "text/plain": [
       "<Figure size 640x480 with 1 Axes>"
      ]
     },
     "metadata": {},
     "output_type": "display_data"
    }
   ],
   "source": [
    "\n",
    "plot(number_of_games_played,player_one_win_percentage,'-o')"
   ]
  },
  {
   "cell_type": "code",
   "execution_count": null,
   "id": "eea41c24-7fae-4cd5-bd27-7a58557ee50d",
   "metadata": {},
   "outputs": [],
   "source": []
  }
 ],
 "metadata": {
  "kernelspec": {
   "display_name": "Python 3 (ipykernel)",
   "language": "python",
   "name": "python3"
  },
  "language_info": {
   "codemirror_mode": {
    "name": "ipython",
    "version": 3
   },
   "file_extension": ".py",
   "mimetype": "text/x-python",
   "name": "python",
   "nbconvert_exporter": "python",
   "pygments_lexer": "ipython3",
   "version": "3.11.4"
  }
 },
 "nbformat": 4,
 "nbformat_minor": 5
}
