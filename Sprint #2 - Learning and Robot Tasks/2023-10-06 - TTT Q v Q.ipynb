{
 "cells": [
  {
   "cell_type": "code",
   "execution_count": 1,
   "id": "63c4c0d5-5ddf-4985-a1dd-c063338e091c",
   "metadata": {},
   "outputs": [
    {
     "name": "stdout",
     "output_type": "stream",
     "text": [
      "Version:  0.2.42\n"
     ]
    }
   ],
   "source": [
    "from Game import *\n",
    "from Game.minimax import *\n",
    "from tqdm import tqdm"
   ]
  },
  {
   "cell_type": "markdown",
   "id": "2bb415b0-d300-4fb5-831a-b5f4709a8777",
   "metadata": {},
   "source": [
    "## TTT"
   ]
  },
  {
   "cell_type": "code",
   "execution_count": 2,
   "id": "df762937-286f-428a-bf96-65030d88641a",
   "metadata": {},
   "outputs": [],
   "source": [
    "def initial_state(): \n",
    "    \"\"\" returns  - The initial state of the game\"\"\"\n",
    "    state=Board(3,3)\n",
    "    return state\n",
    "\n",
    "def show_state(state):\n",
    "    \"\"\"prints or shows the current state\"\"\"\n",
    "    state.show_locations()\n",
    "    print(state)\n",
    "\n",
    "def update_state(state,player,move):\n",
    "    \"\"\"returns  - the new state after the move for the player\"\"\"\n",
    "\n",
    "    \n",
    "    new_state=state\n",
    "    new_state[move]=player\n",
    "\n",
    "    return new_state\n",
    "\n",
    "def valid_moves(state,player):\n",
    "    \"\"\"returns  - a list of the valid moves for the state and player\"\"\"\n",
    "\n",
    "    moves=[]\n",
    "\n",
    "\n",
    "    for location in range(9):\n",
    "        if state[location]==0:\n",
    "            moves.append(location)\n",
    "\n",
    "\n",
    "    return moves\n",
    "\n",
    "def win_status(state,player):\n",
    "    \"\"\"    returns  - 'win'  if the state is a winning state for the player, \n",
    "               'lose' if the state is a losing state for the player,\n",
    "               'stalemate' for a stalemate\n",
    "               None otherwise\n",
    "    \"\"\"\n",
    "\n",
    "    # 0  1  2 \n",
    "    # 3  4  5 \n",
    "    # 6  7  8 \n",
    "\n",
    "    if state[0]==state[1]==state[2]==player:\n",
    "        return 'win'\n",
    "    if state[3]==state[4]==state[5]==player:\n",
    "        return 'win'\n",
    "    if state[6]==state[7]==state[8]==player:\n",
    "        return 'win'\n",
    "    if state[0]==state[3]==state[6]==player:\n",
    "        return 'win'\n",
    "    if state[1]==state[4]==state[7]==player:\n",
    "        return 'win'\n",
    "    if state[2]==state[5]==state[8]==player:\n",
    "        return 'win'\n",
    "    if state[0]==state[4]==state[8]==player:\n",
    "        return 'win'\n",
    "    if state[6]==state[4]==state[2]==player:\n",
    "        return 'win'\n",
    "\n",
    "    \n",
    "    if not valid_moves(state,player):\n",
    "        return 'stalemate'\n",
    "\n"
   ]
  },
  {
   "cell_type": "markdown",
   "id": "ac7114f5-a741-445e-a069-79f82bab0324",
   "metadata": {},
   "source": [
    "## Agents"
   ]
  },
  {
   "cell_type": "code",
   "execution_count": 3,
   "id": "c2c0fa9e-e1c1-437b-91a1-a7dc4deb9a1a",
   "metadata": {},
   "outputs": [],
   "source": [
    "def random_move(state,player):    \n",
    "    moves=valid_moves(state,player)\n",
    "    return random.choice(moves)\n",
    "\n",
    "random_agent=Agent(random_move)\n",
    "\n",
    "def human_move(state,player):\n",
    "    print(\"Player \", player)\n",
    "    valid_move=False\n",
    "    while not valid_move:\n",
    "        move=int(input('What is your move? '))\n",
    "\n",
    "        if move in valid_moves(state,player):\n",
    "            valid_move=True\n",
    "        else:\n",
    "            print(\"Illegal move.\")\n",
    "\n",
    "    return move\n",
    "human_agent=Agent(human_move)\n"
   ]
  },
  {
   "cell_type": "markdown",
   "id": "e8d908d4-62b5-43fb-a43e-18192cf6c5af",
   "metadata": {},
   "source": [
    "## Skittles Agent"
   ]
  },
  {
   "cell_type": "code",
   "execution_count": 4,
   "id": "4ed0766d-8975-4c2f-80a1-67d25a971a19",
   "metadata": {},
   "outputs": [],
   "source": [
    "def skittles_move(state,player,info):\n",
    "    S=info.S\n",
    "    last_state=info.last_state\n",
    "    last_action=info.last_action\n",
    "\n",
    "    # make/adjust the table\n",
    "\n",
    "    if state not in S:\n",
    "        # add a row to the table for each move\n",
    "        S[state]=Table()\n",
    "        moves=valid_moves(state,player)\n",
    "        for action in moves:\n",
    "            S[state][action]=1  # number of skittles/beads for each move\n",
    "    \n",
    "    move=weighted_choice(S[state])\n",
    "\n",
    "    if move is None:  # there are no skittles in this row\n",
    "        if last_state:\n",
    "            S[last_state][last_action]=S[last_state][last_action]-1\n",
    "            if S[last_state][last_action]<0:\n",
    "                S[last_state][last_action]=0\n",
    "\n",
    "        move=random_move(state,player)\n",
    "\n",
    "    \n",
    "    return move\n"
   ]
  },
  {
   "cell_type": "code",
   "execution_count": 5,
   "id": "12195bc7-7226-4b45-82ba-2b15e1b04834",
   "metadata": {},
   "outputs": [],
   "source": [
    "def skittles_after(status,player,info):\n",
    "    S=info.S\n",
    "    last_state=info.last_state\n",
    "    last_action=info.last_action\n",
    "\n",
    "    if status=='lose':\n",
    "        if last_state:\n",
    "            S[last_state][last_action]=S[last_state][last_action]-1\n",
    "            if S[last_state][last_action]<0:\n",
    "                S[last_state][last_action]=0\n",
    "                \n",
    "    # does this double-count the learning if you lose on your own turn        \n",
    "    "
   ]
  },
  {
   "cell_type": "code",
   "execution_count": 6,
   "id": "f7ed764c-ac41-4ad6-918d-a45055109a37",
   "metadata": {},
   "outputs": [],
   "source": [
    "skittles_agent1=Agent(skittles_move)\n",
    "skittles_agent1.S=Table()\n",
    "skittles_agent1.post=skittles_after\n",
    "\n",
    "skittles_agent2=Agent(skittles_move)\n",
    "skittles_agent2.S=Table()\n",
    "skittles_agent2.post=skittles_after"
   ]
  },
  {
   "cell_type": "markdown",
   "id": "7ddc491e-c3fd-4964-a098-84562bc99633",
   "metadata": {},
   "source": [
    "## Q Agent"
   ]
  },
  {
   "cell_type": "code",
   "execution_count": 7,
   "id": "5d748909-b9f1-45b6-b737-3424a2b17c86",
   "metadata": {},
   "outputs": [],
   "source": [
    "def Q_move(state,player,info):\n",
    "    Q=info.Q\n",
    "    last_state=info.last_state\n",
    "    last_action=info.last_action\n",
    "    learning=info.learning\n",
    "    \n",
    "    α=info.α  # learning rate\n",
    "    ϵ=info.ϵ  # how often to take a random move\n",
    "    γ=info.γ  # memory constant -- how quickly does the table update back in time (earlier in the game)\n",
    "    \n",
    "    # \\alpha <hit tab>    α\n",
    "    # \\epsilon <hit tab>  ϵ\n",
    "    # \\gamma <hit tab>    γ\n",
    "    \n",
    "    if state not in Q:\n",
    "        actions=valid_moves(state,player)\n",
    "        Q[state]=Table()\n",
    "        for action in actions:\n",
    "            Q[state][action]=0  # initial value of table\n",
    "    \n",
    "    if learning:\n",
    "        if random.random()<ϵ:  # take a random move occasionally to explore the environment\n",
    "            move=random_move(state,player)\n",
    "        else:\n",
    "            move=top_choice(Q[state])\n",
    "    else:\n",
    "        move=top_choice(Q[state])\n",
    "    \n",
    "    if not last_action is None:  # not the first move\n",
    "        reward=0\n",
    "        \n",
    "        # learn\n",
    "        if learning:\n",
    "            Q[last_state][last_action]+=α*(reward +\n",
    "                        γ*max([Q[state][a] for a in Q[state]]) - Q[last_state][last_action])\n",
    "    \n",
    "    return move"
   ]
  },
  {
   "cell_type": "code",
   "execution_count": 8,
   "id": "f7d09a48-6bd5-4adc-94a2-26a6a0f516f2",
   "metadata": {},
   "outputs": [],
   "source": [
    "def Q_after(status,player,info):\n",
    "    Q=info.Q\n",
    "    last_state=info.last_state\n",
    "    last_action=info.last_action\n",
    "    learning=info.learning\n",
    "    \n",
    "    α=info.α  # learning rate\n",
    "    ϵ=info.ϵ  # how often to take a random move\n",
    "    γ=info.γ  # memory constant -- how quickly does the table update back in time (earlier in the game)\n",
    "    \n",
    "    # \\alpha <hit tab>    α\n",
    "    # \\epsilon <hit tab>  ϵ\n",
    "    # \\gamma <hit tab>    γ\n",
    "\n",
    "    if status=='lose':\n",
    "        reward=-1\n",
    "    elif status=='win':\n",
    "        reward=1\n",
    "    elif status=='stalemate':\n",
    "        reward=.5 # value stalemate a little closer to a win\n",
    "    else:\n",
    "        reward=0\n",
    "    \n",
    "    \n",
    "    if learning:\n",
    "        Q[last_state][last_action]+=α*(reward - Q[last_state][last_action])\n",
    "        \n"
   ]
  },
  {
   "cell_type": "code",
   "execution_count": 9,
   "id": "1fde9c92-0746-454d-a6e3-ea9225295cf5",
   "metadata": {},
   "outputs": [],
   "source": [
    "Q1_agent=Agent(Q_move)\n",
    "Q1_agent.post=Q_after\n",
    "Q1_agent.Q=Table()  # makes an empty table\n",
    "Q1_agent.learning=True\n",
    "\n",
    "Q1_agent.α=0.4  # learning rate\n",
    "Q1_agent.ϵ=0.5  # how often to take a random move\n",
    "Q1_agent.γ=0.9  # memory constant -- how quickly does the table update back in time (earlier in the game)"
   ]
  },
  {
   "cell_type": "code",
   "execution_count": 10,
   "id": "d94b6480-6cad-413d-b431-a6fb15c30125",
   "metadata": {},
   "outputs": [],
   "source": [
    "Q2_agent=Agent(Q_move)\n",
    "Q2_agent.post=Q_after\n",
    "Q2_agent.Q=Table()  # makes an empty table\n",
    "Q2_agent.learning=True\n",
    "\n",
    "Q2_agent.α=0.4  # learning rate\n",
    "Q2_agent.ϵ=0.5  # how often to take a random move\n",
    "Q2_agent.γ=0.9  # memory constant -- how quickly does the table update back in time (earlier in the game)"
   ]
  },
  {
   "cell_type": "markdown",
   "id": "0f2d1fd0-e7f7-4b23-84bf-4c8948c3f9be",
   "metadata": {},
   "source": [
    "## Minimax"
   ]
  },
  {
   "cell_type": "code",
   "execution_count": 11,
   "id": "0d5e6f20-7560-438c-abb1-95c210a236dc",
   "metadata": {},
   "outputs": [],
   "source": [
    "def minimax_move(state,player):\n",
    "    values,moves=minimax_values(state,player,display=False)\n",
    "    return top_choice(moves,values)\n",
    "\n",
    "\n",
    "minimax_agent=Agent(minimax_move)"
   ]
  },
  {
   "cell_type": "markdown",
   "id": "ca6273af-f03f-44a0-b851-710ada601607",
   "metadata": {},
   "source": [
    "## Training"
   ]
  },
  {
   "cell_type": "code",
   "execution_count": 12,
   "id": "49a29bdb-37af-4a7d-bfa4-04ce2ff6b4a1",
   "metadata": {},
   "outputs": [],
   "source": [
    "agent1=Q1_agent\n",
    "agent1.Q=Table()\n",
    "agent2=Q2_agent\n",
    "agent2.Q=Table()"
   ]
  },
  {
   "cell_type": "code",
   "execution_count": 13,
   "id": "bb639662-dcda-49d8-ad52-f9c808bb048c",
   "metadata": {},
   "outputs": [],
   "source": [
    "S=Storage()\n",
    "one,two,ties,N=0,0,0,0"
   ]
  },
  {
   "cell_type": "code",
   "execution_count": 14,
   "id": "d02256fd-3724-4d16-bb2a-e62f7f7ca2b4",
   "metadata": {},
   "outputs": [],
   "source": [
    "N_test=100\n",
    "N_train=100"
   ]
  },
  {
   "cell_type": "code",
   "execution_count": 19,
   "id": "42c96ea4-11a4-4d17-8c72-3469ed01dd89",
   "metadata": {},
   "outputs": [
    {
     "name": "stderr",
     "output_type": "stream",
     "text": [
      "100%|█████████████████████████████████████████████████████████████| 200/200 [01:27<00:00,  2.30it/s]\n"
     ]
    }
   ],
   "source": [
    "for i in tqdm(range(200)):\n",
    "    Q1_agent.learning=True\n",
    "    Q2_agent.learning=True\n",
    "    g=Game(number_of_games=N_train)\n",
    "    g.display=False\n",
    "    result=g.run(agent1,agent2)\n",
    "\n",
    "    \n",
    "    Q1_agent.learning=False\n",
    "    Q2_agent.learning=False\n",
    "    g=Game(number_of_games=N_test)\n",
    "    g.display=False\n",
    "    result=g.run(agent1,agent2)\n",
    "    one,two,ties,N=one+result.count(1),two+result.count(2),ties+result.count(0),N+len(result)\n",
    "    \n",
    "    S+=one/N*100,two/N*100,ties/N*100,N\n"
   ]
  },
  {
   "cell_type": "markdown",
   "id": "45b01b54-4e98-492e-aa39-0e1dca50d0c9",
   "metadata": {},
   "source": [
    "## Progress"
   ]
  },
  {
   "cell_type": "code",
   "execution_count": 20,
   "id": "61abe046-f504-42b4-bcd4-c76259dc875b",
   "metadata": {},
   "outputs": [],
   "source": [
    "y1,y2,y0,x=S.arrays()"
   ]
  },
  {
   "cell_type": "code",
   "execution_count": 21,
   "id": "3bd35428-9e6a-4e22-941c-aac49e4d5208",
   "metadata": {},
   "outputs": [],
   "source": [
    "%matplotlib inline\n",
    "from matplotlib.pyplot import figure,plot,grid,legend,xlabel,ylabel,title\n",
    "from tqdm import tqdm"
   ]
  },
  {
   "cell_type": "code",
   "execution_count": 22,
   "id": "04bd326c-da2b-4e91-a966-08715e1f0e13",
   "metadata": {},
   "outputs": [
    {
     "data": {
      "text/plain": [
       "Text(0, 0.5, 'Percent')"
      ]
     },
     "execution_count": 22,
     "metadata": {},
     "output_type": "execute_result"
    },
    {
     "data": {
      "image/png": "[encoded data removed]",
      "text/plain": [
       "<Figure size 1600x800 with 1 Axes>"
      ]
     },
     "metadata": {},
     "output_type": "display_data"
    }
   ],
   "source": [
    "figure(figsize=(16,8))\n",
    "plot(x,y1,label='One Win')\n",
    "plot(x,y2,label='Two Win')\n",
    "plot(x,y0,label='Tie')\n",
    "legend()\n",
    "xlabel('Number of Games')\n",
    "ylabel('Percent')"
   ]
  },
  {
   "cell_type": "code",
   "execution_count": 23,
   "id": "f294cc1e-dc37-47ff-ad17-a822ed8d727a",
   "metadata": {},
   "outputs": [],
   "source": [
    "SaveTable(Q1_agent.Q,'TTT Q1 Table.json')\n",
    "SaveTable(Q2_agent.Q,'TTT Q2 Table.json')"
   ]
  },
  {
   "cell_type": "markdown",
   "id": "a7ebf435-36be-4f28-a907-5e85eabbd426",
   "metadata": {},
   "source": [
    "## Test"
   ]
  },
  {
   "cell_type": "code",
   "execution_count": 19,
   "id": "33e462e4-d27b-4dbd-8d24-35e795b050f0",
   "metadata": {},
   "outputs": [],
   "source": [
    "Q1_agent.learning=False\n",
    "Q2_agent.learning=False"
   ]
  },
  {
   "cell_type": "code",
   "execution_count": 20,
   "id": "fa0e53cf-52d8-46c1-876f-d9390708de98",
   "metadata": {},
   "outputs": [
    {
     "name": "stdout",
     "output_type": "stream",
     "text": [
      "Total number of games:  1000\n",
      "Winning 37.70 percent\n",
      "Losing 0.00 percent\n",
      "Tie 62.30 percent\n"
     ]
    }
   ],
   "source": [
    "g=Game(number_of_games=1000)\n",
    "g.display=False\n",
    "result=g.run(minimax_agent,Q2_agent)\n",
    "g.report()"
   ]
  },
  {
   "cell_type": "code",
   "execution_count": 21,
   "id": "0c17b55b-e52a-42a3-b0ea-31caeec58ec5",
   "metadata": {},
   "outputs": [
    {
     "name": "stdout",
     "output_type": "stream",
     "text": [
      "Total number of games:  1000\n",
      "Winning 0.00 percent\n",
      "Losing 82.50 percent\n",
      "Tie 17.50 percent\n"
     ]
    }
   ],
   "source": [
    "g=Game(number_of_games=1000)\n",
    "g.display=False\n",
    "result=g.run(random_agent,minimax_agent)\n",
    "g.report()"
   ]
  },
  {
   "cell_type": "code",
   "execution_count": 22,
   "id": "4094385a-efa1-49d1-92c6-7f3fce80bfbb",
   "metadata": {},
   "outputs": [
    {
     "name": "stdout",
     "output_type": "stream",
     "text": [
      "Total number of games:  1000\n",
      "Winning 4.30 percent\n",
      "Losing 82.40 percent\n",
      "Tie 13.30 percent\n"
     ]
    }
   ],
   "source": [
    "g=Game(number_of_games=1000)\n",
    "g.display=False\n",
    "result=g.run(random_agent,Q2_agent)\n",
    "g.report()"
   ]
  },
  {
   "cell_type": "code",
   "execution_count": 23,
   "id": "002a8a21-072d-4a5d-a511-37f6d6440f94",
   "metadata": {},
   "outputs": [
    {
     "name": "stdout",
     "output_type": "stream",
     "text": [
      "Total number of games:  1000\n",
      "Winning 59.10 percent\n",
      "Losing 30.00 percent\n",
      "Tie 10.90 percent\n"
     ]
    }
   ],
   "source": [
    "g=Game(number_of_games=1000)\n",
    "g.display=False\n",
    "result=g.run(random_agent,random_agent)\n",
    "g.report()"
   ]
  },
  {
   "cell_type": "code",
   "execution_count": null,
   "id": "c1c42f94-1817-4147-bd56-96ffc07b75ec",
   "metadata": {},
   "outputs": [],
   "source": []
  }
 ],
 "metadata": {
  "kernelspec": {
   "display_name": "Python 3 (ipykernel)",
   "language": "python",
   "name": "python3"
  },
  "language_info": {
   "codemirror_mode": {
    "name": "ipython",
    "version": 3
   },
   "file_extension": ".py",
   "mimetype": "text/x-python",
   "name": "python",
   "nbconvert_exporter": "python",
   "pygments_lexer": "ipython3",
   "version": "3.11.4"
  }
 },
 "nbformat": 4,
 "nbformat_minor": 5
}
