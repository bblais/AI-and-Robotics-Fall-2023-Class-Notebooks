{
 "cells": [
  {
   "cell_type": "code",
   "execution_count": 1,
   "id": "bcd31145-e9c4-42a7-920a-c9b0ab6b50b1",
   "metadata": {},
   "outputs": [
    {
     "name": "stdout",
     "output_type": "stream",
     "text": [
      "Version:  0.2.42\n"
     ]
    }
   ],
   "source": [
    "from Game import *\n",
    "from Game.minimax import *\n",
    "from tqdm import tqdm"
   ]
  },
  {
   "cell_type": "code",
   "execution_count": 2,
   "id": "367e566e-4522-4730-bf69-f1fde143e135",
   "metadata": {},
   "outputs": [],
   "source": [
    "def initial_state(): \n",
    "    \"\"\" returns  - The initial state of the game\"\"\"\n",
    "    state=Board(3,3)\n",
    "    return state\n",
    "\n",
    "def show_state(state):\n",
    "    \"\"\"prints or shows the current state\"\"\"\n",
    "    state.show_locations()\n",
    "    print(state)\n",
    "\n",
    "def update_state(state,player,move):\n",
    "    \"\"\"returns  - the new state after the move for the player\"\"\"\n",
    "\n",
    "    \n",
    "    new_state=state\n",
    "    new_state[move]=player\n",
    "\n",
    "    return new_state\n",
    "\n",
    "def valid_moves(state,player):\n",
    "    \"\"\"returns  - a list of the valid moves for the state and player\"\"\"\n",
    "\n",
    "    moves=[]\n",
    "\n",
    "\n",
    "    for location in range(9):\n",
    "        if state[location]==0:\n",
    "            moves.append(location)\n",
    "\n",
    "\n",
    "    return moves\n",
    "\n",
    "def win_status(state,player):\n",
    "    \"\"\"    returns  - 'win'  if the state is a winning state for the player, \n",
    "               'lose' if the state is a losing state for the player,\n",
    "               'stalemate' for a stalemate\n",
    "               None otherwise\n",
    "    \"\"\"\n",
    "\n",
    "    # 0  1  2 \n",
    "    # 3  4  5 \n",
    "    # 6  7  8 \n",
    "\n",
    "    if state[0]==state[1]==state[2]==player:\n",
    "        return 'win'\n",
    "    if state[3]==state[4]==state[5]==player:\n",
    "        return 'win'\n",
    "    if state[6]==state[7]==state[8]==player:\n",
    "        return 'win'\n",
    "    if state[0]==state[3]==state[6]==player:\n",
    "        return 'win'\n",
    "    if state[1]==state[4]==state[7]==player:\n",
    "        return 'win'\n",
    "    if state[2]==state[5]==state[8]==player:\n",
    "        return 'win'\n",
    "    if state[0]==state[4]==state[8]==player:\n",
    "        return 'win'\n",
    "    if state[6]==state[4]==state[2]==player:\n",
    "        return 'win'\n",
    "\n",
    "    \n",
    "    if not valid_moves(state,player):\n",
    "        return 'stalemate'\n",
    "\n"
   ]
  },
  {
   "cell_type": "code",
   "execution_count": 3,
   "id": "9f9abbe2-23c3-4c75-acac-ebc05203cc56",
   "metadata": {},
   "outputs": [],
   "source": [
    "def random_move(state,player):    \n",
    "    moves=valid_moves(state,player)\n",
    "    return random.choice(moves)\n",
    "\n",
    "random_agent=Agent(random_move)\n",
    "\n",
    "def human_move(state,player):\n",
    "    print(\"Player \", player)\n",
    "    valid_move=False\n",
    "    while not valid_move:\n",
    "        move=int(input('What is your move? '))\n",
    "\n",
    "        if move in valid_moves(state,player):\n",
    "            valid_move=True\n",
    "        else:\n",
    "            print(\"Illegal move.\")\n",
    "\n",
    "    return move\n",
    "human_agent=Agent(human_move)\n"
   ]
  },
  {
   "cell_type": "code",
   "execution_count": 4,
   "id": "f058df76-5975-4539-8f20-0649ceba19dc",
   "metadata": {},
   "outputs": [],
   "source": [
    "def Q_move(state,player,info):\n",
    "    Q=info.Q\n",
    "\n",
    "    if state not in Q:\n",
    "        return random_move(state,player)\n",
    "\n",
    "    move=top_choice(Q[state])\n",
    "    return move"
   ]
  },
  {
   "cell_type": "code",
   "execution_count": 7,
   "id": "7b5ab689-8705-458f-844f-69022275dc3b",
   "metadata": {},
   "outputs": [],
   "source": [
    "def convert_json_to_shelve(json_fname,shelve_fname):\n",
    "    shelve_fname=shelve_fname.replace(\".db\",\"\")\n",
    "    import shelve\n",
    "    from tqdm import tqdm\n",
    "    Q=LoadTable(json_fname)\n",
    "    d = shelve.open(shelve_fname)\n",
    "    for state in tqdm(Q):\n",
    "        d[str(state)]=Q[state]\n",
    "    d.close()    "
   ]
  },
  {
   "cell_type": "code",
   "execution_count": 8,
   "id": "ef078772-136e-4667-826c-b2651839c24e",
   "metadata": {},
   "outputs": [
    {
     "name": "stderr",
     "output_type": "stream",
     "text": [
      "100%|████████████████████████████████████████████████████████| 2418/2418 [00:00<00:00, 27310.55it/s]\n"
     ]
    }
   ],
   "source": [
    "convert_json_to_shelve(\"TTT Q1 Table.json\",\"TTT Q1 Table.db\")"
   ]
  },
  {
   "cell_type": "code",
   "execution_count": 18,
   "id": "a5887a90-7366-4337-9328-4d9fde09cbad",
   "metadata": {},
   "outputs": [],
   "source": [
    "def Q_move(state,player,info):\n",
    "    Q_fname=info.Q.replace(\".db\",\"\")  #omit the db -- it gets added automatically...yuck\n",
    "    import shelve\n",
    "    d = shelve.open(Q_fname) \n",
    "    try:\n",
    "        actions=d[str(state.immutable())]\n",
    "        move=top_choice(actions)\n",
    "    except KeyError:\n",
    "        move=random_move(state,player)\n",
    "\n",
    "    \n",
    "    d.close()\n",
    "    \n",
    "    return move"
   ]
  },
  {
   "cell_type": "code",
   "execution_count": 20,
   "id": "7cd43697-6c67-4879-be08-e8398bfaf96c",
   "metadata": {},
   "outputs": [],
   "source": [
    "Q1_agent=Agent(Q_move)\n",
    "Q1_agent.Q=\"TTT Q1 Table.db\""
   ]
  },
  {
   "cell_type": "code",
   "execution_count": 21,
   "id": "c76aea6c-47ea-4af2-92bc-9677fdbb51a5",
   "metadata": {},
   "outputs": [],
   "source": [
    "def minimax_move(state,player):\n",
    "    values,moves=minimax_values(state,player,display=False)\n",
    "    return top_choice(moves,values)\n",
    "\n",
    "\n",
    "minimax_agent=Agent(minimax_move)"
   ]
  },
  {
   "cell_type": "code",
   "execution_count": 22,
   "id": "fd163251-55c5-4d51-972c-d095ec6454f6",
   "metadata": {},
   "outputs": [
    {
     "name": "stdout",
     "output_type": "stream",
     "text": [
      "Total number of games:  100\n",
      "Winning 0.00 percent\n",
      "Losing 0.00 percent\n",
      "Tie 100.00 percent\n"
     ]
    }
   ],
   "source": [
    "agent1=Q1_agent\n",
    "agent2=minimax_agent\n",
    "\n",
    "g=Game(number_of_games=100)\n",
    "g.display=False\n",
    "result=g.run(agent1,agent2)\n",
    "g.report()"
   ]
  },
  {
   "cell_type": "code",
   "execution_count": null,
   "id": "92f95aa1-a2f9-4202-88dc-9c98ce277ba6",
   "metadata": {},
   "outputs": [],
   "source": []
  }
 ],
 "metadata": {
  "kernelspec": {
   "display_name": "Python 3 (ipykernel)",
   "language": "python",
   "name": "python3"
  },
  "language_info": {
   "codemirror_mode": {
    "name": "ipython",
    "version": 3
   },
   "file_extension": ".py",
   "mimetype": "text/x-python",
   "name": "python",
   "nbconvert_exporter": "python",
   "pygments_lexer": "ipython3",
   "version": "3.11.5"
  }
 },
 "nbformat": 4,
 "nbformat_minor": 5
}
