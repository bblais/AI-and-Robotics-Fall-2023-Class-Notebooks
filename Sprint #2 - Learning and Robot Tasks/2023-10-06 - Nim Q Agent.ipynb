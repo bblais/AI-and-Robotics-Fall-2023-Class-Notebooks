{
 "cells": [
  {
   "cell_type": "code",
   "execution_count": 1,
   "id": "5e9ad7e1-6b67-470e-a267-1cf507e5ae0a",
   "metadata": {},
   "outputs": [
    {
     "name": "stdout",
     "output_type": "stream",
     "text": [
      "Version:  0.2.42\n"
     ]
    }
   ],
   "source": [
    "from Game import *\n",
    "from Game.minimax import *"
   ]
  },
  {
   "cell_type": "markdown",
   "id": "37a58b7b-b93f-4086-a0c3-6fc12c45f1dd",
   "metadata": {},
   "source": [
    "## Nim"
   ]
  },
  {
   "cell_type": "code",
   "execution_count": 3,
   "id": "ed7923e5-3f6a-4fc2-bbb6-dff254f0cf99",
   "metadata": {},
   "outputs": [],
   "source": [
    "def initial_state(): \n",
    "    \"\"\" returns  - The initial state of the game\"\"\"\n",
    "    return 21\n",
    "\n",
    "def valid_moves(state,player):\n",
    "    \"\"\"returns  - a list of the valid moves for the state and player\"\"\"\n",
    "\n",
    "    if state==2:\n",
    "        return [1,2]\n",
    "    elif state==1:\n",
    "        return [1]\n",
    "    else:\n",
    "        return [1,2,3]\n",
    "\n",
    "def show_state(state):\n",
    "    \"\"\"prints or shows the current state\"\"\"\n",
    "    print(\"There are\",state,\"sticks.\")\n",
    "\n",
    "def update_state(state,player,move):\n",
    "    \"\"\"returns  - the new state after the move for the player\"\"\"\n",
    "\n",
    "    new_state=state-move\n",
    "\n",
    "    return new_state\n",
    "\n",
    "\n",
    "def win_status(state,player):\n",
    "    \"\"\"    returns  - 'win'  if the state is a winning state for the player, \n",
    "               'lose' if the state is a losing state for the player,\n",
    "               'stalemate' for a stalemate\n",
    "               None otherwise\n",
    "    \"\"\"\n",
    "\n",
    "    if state==0:\n",
    "        return 'lose'\n",
    "\n",
    "    if state==1:\n",
    "        return 'win'\n",
    "\n",
    "\n",
    "    return None\n",
    "    \n"
   ]
  },
  {
   "cell_type": "markdown",
   "id": "9be501f9-9d82-47a1-be10-b330571f3ec7",
   "metadata": {},
   "source": [
    "## Agents"
   ]
  },
  {
   "cell_type": "code",
   "execution_count": 4,
   "id": "27a364b6-2c01-433a-95fb-79e2597e9517",
   "metadata": {},
   "outputs": [],
   "source": [
    "def random_move(state,player):    \n",
    "    moves=valid_moves(state,player)\n",
    "    return random.choice(moves)\n",
    "\n",
    "random_agent=Agent(random_move)\n",
    "\n",
    "def human_move(state,player):\n",
    "    print(\"Player \", player)\n",
    "    valid_move=False\n",
    "    while not valid_move:\n",
    "        move=int(input('What is your move? '))\n",
    "\n",
    "        if move in valid_moves(state,player):\n",
    "            valid_move=True\n",
    "        else:\n",
    "            print(\"Illegal move.\")\n",
    "\n",
    "    return move\n",
    "\n",
    "human_agent=Agent(human_move)"
   ]
  },
  {
   "cell_type": "code",
   "execution_count": 5,
   "id": "2463820f-5620-422f-86ea-e577570b400b",
   "metadata": {},
   "outputs": [],
   "source": [
    "def minimax_move(state,player):\n",
    "    values,moves=minimax_values(state,player,display=False)\n",
    "    return top_choice(moves,values)\n",
    "\n",
    "\n",
    "minimax_agent=Agent(minimax_move)"
   ]
  },
  {
   "cell_type": "code",
   "execution_count": 11,
   "id": "c9394387-72cc-48b6-94b8-cd555fbeb831",
   "metadata": {},
   "outputs": [],
   "source": [
    "def Q_move(state,player,info):\n",
    "    Q=info.Q\n",
    "    last_state=info.last_state\n",
    "    last_action=info.last_action\n",
    "    learning=info.learning\n",
    "    \n",
    "    α=info.α  # learning rate\n",
    "    ϵ=info.ϵ  # how often to take a random move\n",
    "    γ=info.γ  # memory constant -- how quickly does the table update back in time (earlier in the game)\n",
    "    \n",
    "    # \\alpha <hit tab>    α\n",
    "    # \\epsilon <hit tab>  ϵ\n",
    "    # \\gamma <hit tab>    γ\n",
    "    \n",
    "    if state not in Q:\n",
    "        actions=valid_moves(state,player)\n",
    "        Q[state]=Table()\n",
    "        for action in actions:\n",
    "            Q[state][action]=0  # initial value of table\n",
    "    \n",
    "    if learning:\n",
    "        if random.random()<ϵ:  # take a random move occasionally to explore the environment\n",
    "            move=random_move(state,player)\n",
    "        else:\n",
    "            move=top_choice(Q[state])\n",
    "    else:\n",
    "        move=top_choice(Q[state])\n",
    "    \n",
    "    if not last_action is None:  # not the first move\n",
    "        reward=0\n",
    "        \n",
    "        # learn\n",
    "        if learning:\n",
    "            Q[last_state][last_action]+=α*(reward +\n",
    "                        γ*max([Q[state][a] for a in Q[state]]) - Q[last_state][last_action])\n",
    "    \n",
    "    return move\n",
    "\n",
    "\n",
    "def Q_after(status,player,info):\n",
    "    Q=info.Q\n",
    "    last_state=info.last_state\n",
    "    last_action=info.last_action\n",
    "    learning=info.learning\n",
    "    \n",
    "    α=info.α  # learning rate\n",
    "    ϵ=info.ϵ  # how often to take a random move\n",
    "    γ=info.γ  # memory constant -- how quickly does the table update back in time (earlier in the game)\n",
    "    \n",
    "    # \\alpha <hit tab>    α\n",
    "    # \\epsilon <hit tab>  ϵ\n",
    "    # \\gamma <hit tab>    γ\n",
    "\n",
    "    if status=='lose':\n",
    "        reward=-1\n",
    "    elif status=='win':\n",
    "        reward=1\n",
    "    elif status=='stalemate':\n",
    "        reward=.5 # value stalemate a little closer to a win\n",
    "    else:\n",
    "        reward=0\n",
    "    \n",
    "    \n",
    "    if learning:\n",
    "        Q[last_state][last_action]+=α*(reward - Q[last_state][last_action])\n",
    "        \n"
   ]
  },
  {
   "cell_type": "code",
   "execution_count": null,
   "id": "09277a22-695a-450a-a34a-edccea045925",
   "metadata": {},
   "outputs": [],
   "source": []
  },
  {
   "cell_type": "code",
   "execution_count": null,
   "id": "8d32bca1-365e-4e4e-887c-e54f6b798ca0",
   "metadata": {},
   "outputs": [],
   "source": []
  },
  {
   "cell_type": "code",
   "execution_count": null,
   "id": "b38233c9-f278-43b1-9ea7-d32f49bb6286",
   "metadata": {},
   "outputs": [],
   "source": []
  },
  {
   "cell_type": "code",
   "execution_count": 10,
   "id": "a6d6a508-6eb5-4b38-9901-2f4df211887d",
   "metadata": {},
   "outputs": [],
   "source": [
    "def skittles_move(state,player,info):\n",
    "    S=info.S\n",
    "    last_state=info.last_state\n",
    "    last_action=info.last_action\n",
    "    \n",
    "    # make/adjust the table\n",
    "\n",
    "    if state not in S:\n",
    "        # add a row to the table for each move\n",
    "        S[state]=Table()\n",
    "        moves=valid_moves(state,player)\n",
    "        for action in moves:\n",
    "            S[state][action]=3  # number of skittles/beads for each move\n",
    "    \n",
    "    move=weighted_choice(S[state])\n",
    "\n",
    "    if move is None:  # there are no skittles in this row\n",
    "        if last_state:\n",
    "            S[last_state][last_action]=S[last_state][last_action]-1\n",
    "            if S[last_state][last_action]<0:\n",
    "                S[last_state][last_action]=0\n",
    "\n",
    "        move=random_move(state,player)\n",
    "\n",
    "    \n",
    "    return move\n",
    "\n",
    "def skittles_after(status,player,info):\n",
    "    S=info.S\n",
    "    last_state=info.last_state\n",
    "    last_action=info.last_action\n",
    "\n",
    "    if status=='lose':\n",
    "        if last_state:\n",
    "            S[last_state][last_action]=S[last_state][last_action]-1\n",
    "            if S[last_state][last_action]<0:\n",
    "                S[last_state][last_action]=0\n",
    "                \n",
    "    # does this double-count the learning if you lose on your own turn        \n",
    "    "
   ]
  },
  {
   "cell_type": "code",
   "execution_count": 7,
   "id": "02ad0b1c-8edd-4790-bcf0-9afc60ce62ca",
   "metadata": {},
   "outputs": [],
   "source": [
    "skittles_agent=Agent(skittles_move)\n",
    "skittles_agent.S=Table()\n",
    "skittles_agent.post=skittles_after"
   ]
  },
  {
   "cell_type": "code",
   "execution_count": 12,
   "id": "849c716b-82ec-4902-914e-6c3a9a75aca3",
   "metadata": {},
   "outputs": [],
   "source": [
    "Q_agent=Agent(Q_move)\n",
    "Q_agent.post=Q_after\n",
    "Q_agent.Q=Table()  # makes an empty table\n",
    "Q_agent.learning=True\n",
    "\n",
    "Q_agent.α=0.4  # learning rate\n",
    "Q_agent.ϵ=0.5  # how often to take a random move\n",
    "Q_agent.γ=0.9  # memory constant -- how quickly does the table update back in time (earlier in the game)"
   ]
  },
  {
   "cell_type": "code",
   "execution_count": 13,
   "id": "43171fd2-f23c-4aa2-ade8-185b1aa59c4f",
   "metadata": {},
   "outputs": [],
   "source": [
    "def perfect_move(state,player):\n",
    "    move=(state-1)%4\n",
    "\n",
    "    if move==0:  # bad state\n",
    "        move=1\n",
    "\n",
    "    return move\n",
    "\n",
    "perfect_agent=Agent(perfect_move)"
   ]
  },
  {
   "cell_type": "code",
   "execution_count": null,
   "id": "2fae4c57-7232-4909-8cac-99cb02dba4bf",
   "metadata": {},
   "outputs": [],
   "source": []
  },
  {
   "cell_type": "code",
   "execution_count": 14,
   "id": "76034b53-9a65-4ca9-9500-99804b847fde",
   "metadata": {},
   "outputs": [
    {
     "name": "stdout",
     "output_type": "stream",
     "text": [
      "Total number of games:  100\n",
      "Winning 86.00 percent\n",
      "Losing 14.00 percent\n",
      "Tie 0.00 percent\n"
     ]
    }
   ],
   "source": [
    "g=Game(number_of_games=100)\n",
    "g.display=False\n",
    "g.run(perfect_agent,Q_agent)\n",
    "g.report()  "
   ]
  },
  {
   "cell_type": "code",
   "execution_count": 15,
   "id": "155f17fb-ed6d-4d51-b485-833b81d61a6d",
   "metadata": {},
   "outputs": [],
   "source": [
    "SaveTable(Q_agent.Q,'nim Q.json')"
   ]
  },
  {
   "cell_type": "markdown",
   "id": "a4090efa-aaa1-4882-9048-5e93cea037a9",
   "metadata": {},
   "source": [
    "## Progress"
   ]
  },
  {
   "cell_type": "code",
   "execution_count": 17,
   "id": "3d1a48fe-ba0b-45cb-aa53-713e53b4f3e9",
   "metadata": {},
   "outputs": [],
   "source": [
    "%matplotlib inline\n",
    "from matplotlib.pyplot import figure,plot,grid,legend,xlabel,ylabel,title\n",
    "from tqdm import tqdm"
   ]
  },
  {
   "cell_type": "code",
   "execution_count": 45,
   "id": "bee11766-4470-44aa-ae18-09c2d8ff8235",
   "metadata": {},
   "outputs": [],
   "source": [
    "agent1=perfect_agent\n",
    "agent2=Q_agent\n",
    "agent2.Q=Table()"
   ]
  },
  {
   "cell_type": "code",
   "execution_count": 46,
   "id": "eb5d9677-f56a-43f5-83d9-14288b56e2f3",
   "metadata": {},
   "outputs": [],
   "source": [
    "S=Storage()\n",
    "one,two,ties,N=0,0,0,0"
   ]
  },
  {
   "cell_type": "code",
   "execution_count": 47,
   "id": "2c59e598-d9d3-41b9-b3d7-c0805f11bc62",
   "metadata": {},
   "outputs": [],
   "source": [
    "N_test=100\n",
    "N_train=10"
   ]
  },
  {
   "cell_type": "code",
   "execution_count": 48,
   "id": "d8bc3eed-aaf1-411b-af79-887572846cf2",
   "metadata": {},
   "outputs": [
    {
     "name": "stderr",
     "output_type": "stream",
     "text": [
      "100%|█████████████████████████████████████████████████████████████| 150/150 [00:05<00:00, 26.18it/s]\n"
     ]
    }
   ],
   "source": [
    "for i in tqdm(range(150)):\n",
    "    Q_agent.learning=True\n",
    "    g=Game(number_of_games=N_train)\n",
    "    g.display=False\n",
    "    result=g.run(agent1,agent2)\n",
    "\n",
    "    \n",
    "    Q_agent.learning=False\n",
    "    g=Game(number_of_games=N_test)\n",
    "    g.display=False\n",
    "    result=g.run(agent1,agent2)\n",
    "    one,two,ties,N=one+result.count(1),two+result.count(2),ties+result.count(0),N+len(result)\n",
    "    \n",
    "    S+=one/N*100,two/N*100,ties/N*100,(i+1)*N_train"
   ]
  },
  {
   "cell_type": "code",
   "execution_count": 49,
   "id": "ad341896-ce3a-46d3-b8f7-6796c61ee233",
   "metadata": {},
   "outputs": [],
   "source": [
    "y1,y2,y0,x=S.arrays()"
   ]
  },
  {
   "cell_type": "code",
   "execution_count": 50,
   "id": "c01895e0-992b-42c5-8257-e6accf1a088d",
   "metadata": {},
   "outputs": [
    {
     "data": {
      "text/plain": [
       "Text(0, 0.5, 'Percent')"
      ]
     },
     "execution_count": 50,
     "metadata": {},
     "output_type": "execute_result"
    },
    {
     "data": {
      "image/png": "[encoded data removed]",
      "text/plain": [
       "<Figure size 1600x800 with 1 Axes>"
      ]
     },
     "metadata": {},
     "output_type": "display_data"
    }
   ],
   "source": [
    "figure(figsize=(16,8))\n",
    "plot(x,y1,label='One Win')\n",
    "plot(x,y2,label='Two Win')\n",
    "plot(x,y0,label='Tie')\n",
    "legend()\n",
    "xlabel('Number of Games')\n",
    "ylabel('Percent')"
   ]
  },
  {
   "cell_type": "code",
   "execution_count": 52,
   "id": "b8fd7e1f-1a0d-4cb5-8554-3384b0af49cb",
   "metadata": {},
   "outputs": [
    {
     "name": "stdout",
     "output_type": "stream",
     "text": [
      "Total number of games:  100\n",
      "Winning 0.00 percent\n",
      "Losing 100.00 percent\n",
      "Tie 0.00 percent\n"
     ]
    }
   ],
   "source": [
    "g=Game(number_of_games=100)\n",
    "g.display=False\n",
    "g.run(perfect_agent,Q_agent)\n",
    "g.report()  "
   ]
  },
  {
   "cell_type": "code",
   "execution_count": 53,
   "id": "9ec9d777-aeed-4f96-ad27-33df11897a87",
   "metadata": {},
   "outputs": [
    {
     "data": {
      "text/plain": [
       "{20: {1: -0.6560999999999996, 2: -0.6560999999999996, 3: 0.6560999999999996},\n",
       " 17: {1: -0.7289999999999996, 2: -0.7289999999999996, 3: -0.7289999999999996},\n",
       " 13: {1: -0.8099999999999997, 2: -0.8099999999999997, 3: -0.8099999999999997},\n",
       " 9: {1: -0.8999999999999998, 2: -0.8999999999999998, 3: -0.8999999999999998},\n",
       " 5: {1: -0.9999999999999999, 2: -0.9999999999999999, 3: -0.9999999999999999},\n",
       " 16: {1: -0.7289999999999996, 2: -0.7289999999999996, 3: 0.7289999999999996},\n",
       " 12: {1: -0.8099999999999997, 2: -0.8099999999999997, 3: 0.8099999999999997},\n",
       " 8: {1: -0.8999999999999998, 2: -0.8999999999999998, 3: 0.8999999999999998},\n",
       " 4: {1: -0.9999999999376327, 2: -0.9999999998960544, 3: 0.9999999999999999}}"
      ]
     },
     "execution_count": 53,
     "metadata": {},
     "output_type": "execute_result"
    }
   ],
   "source": [
    "Q_agent.Q"
   ]
  },
  {
   "cell_type": "code",
   "execution_count": 54,
   "id": "eaaf6957-4fd0-4577-af27-d61a0a690cf8",
   "metadata": {},
   "outputs": [],
   "source": [
    "SaveTable(Q_agent.Q,'nim Q.json')"
   ]
  },
  {
   "cell_type": "code",
   "execution_count": null,
   "id": "2b793d1c-e4d6-4dea-a4e0-7295f3a8b4a7",
   "metadata": {},
   "outputs": [],
   "source": []
  }
 ],
 "metadata": {
  "kernelspec": {
   "display_name": "Python 3 (ipykernel)",
   "language": "python",
   "name": "python3"
  },
  "language_info": {
   "codemirror_mode": {
    "name": "ipython",
    "version": 3
   },
   "file_extension": ".py",
   "mimetype": "text/x-python",
   "name": "python",
   "nbconvert_exporter": "python",
   "pygments_lexer": "ipython3",
   "version": "3.11.4"
  }
 },
 "nbformat": 4,
 "nbformat_minor": 5
}
