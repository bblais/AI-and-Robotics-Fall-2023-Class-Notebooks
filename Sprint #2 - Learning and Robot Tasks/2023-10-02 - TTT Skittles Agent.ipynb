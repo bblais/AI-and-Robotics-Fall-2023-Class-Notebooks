{
 "cells": [
  {
   "cell_type": "code",
   "execution_count": 1,
   "id": "63c4c0d5-5ddf-4985-a1dd-c063338e091c",
   "metadata": {},
   "outputs": [
    {
     "name": "stdout",
     "output_type": "stream",
     "text": [
      "Version:  0.2.42\n"
     ]
    }
   ],
   "source": [
    "from Game import *\n",
    "from Game.minimax import *"
   ]
  },
  {
   "cell_type": "markdown",
   "id": "2bb415b0-d300-4fb5-831a-b5f4709a8777",
   "metadata": {},
   "source": [
    "## TTT"
   ]
  },
  {
   "cell_type": "code",
   "execution_count": 2,
   "id": "df762937-286f-428a-bf96-65030d88641a",
   "metadata": {},
   "outputs": [],
   "source": [
    "def initial_state(): \n",
    "    \"\"\" returns  - The initial state of the game\"\"\"\n",
    "    state=Board(3,3)\n",
    "    return state\n",
    "\n",
    "def show_state(state):\n",
    "    \"\"\"prints or shows the current state\"\"\"\n",
    "    state.show_locations()\n",
    "    print(state)\n",
    "\n",
    "def update_state(state,player,move):\n",
    "    \"\"\"returns  - the new state after the move for the player\"\"\"\n",
    "\n",
    "    \n",
    "    new_state=state\n",
    "    new_state[move]=player\n",
    "\n",
    "    return new_state\n",
    "\n",
    "def valid_moves(state,player):\n",
    "    \"\"\"returns  - a list of the valid moves for the state and player\"\"\"\n",
    "\n",
    "    moves=[]\n",
    "\n",
    "\n",
    "    for location in range(9):\n",
    "        if state[location]==0:\n",
    "            moves.append(location)\n",
    "\n",
    "\n",
    "    return moves\n",
    "\n",
    "def win_status(state,player):\n",
    "    \"\"\"    returns  - 'win'  if the state is a winning state for the player, \n",
    "               'lose' if the state is a losing state for the player,\n",
    "               'stalemate' for a stalemate\n",
    "               None otherwise\n",
    "    \"\"\"\n",
    "\n",
    "    # 0  1  2 \n",
    "    # 3  4  5 \n",
    "    # 6  7  8 \n",
    "\n",
    "    if state[0]==state[1]==state[2]==player:\n",
    "        return 'win'\n",
    "    if state[3]==state[4]==state[5]==player:\n",
    "        return 'win'\n",
    "    if state[6]==state[7]==state[8]==player:\n",
    "        return 'win'\n",
    "    if state[0]==state[3]==state[6]==player:\n",
    "        return 'win'\n",
    "    if state[1]==state[4]==state[7]==player:\n",
    "        return 'win'\n",
    "    if state[2]==state[5]==state[8]==player:\n",
    "        return 'win'\n",
    "    if state[0]==state[4]==state[8]==player:\n",
    "        return 'win'\n",
    "    if state[6]==state[4]==state[2]==player:\n",
    "        return 'win'\n",
    "\n",
    "    \n",
    "    if not valid_moves(state,player):\n",
    "        return 'stalemate'\n",
    "\n"
   ]
  },
  {
   "cell_type": "markdown",
   "id": "ac7114f5-a741-445e-a069-79f82bab0324",
   "metadata": {},
   "source": [
    "## Agents"
   ]
  },
  {
   "cell_type": "code",
   "execution_count": 3,
   "id": "c2c0fa9e-e1c1-437b-91a1-a7dc4deb9a1a",
   "metadata": {},
   "outputs": [],
   "source": [
    "def random_move(state,player):    \n",
    "    moves=valid_moves(state,player)\n",
    "    return random.choice(moves)\n",
    "\n",
    "random_agent=Agent(random_move)\n",
    "\n",
    "def human_move(state,player):\n",
    "    print(\"Player \", player)\n",
    "    valid_move=False\n",
    "    while not valid_move:\n",
    "        move=int(input('What is your move? '))\n",
    "\n",
    "        if move in valid_moves(state,player):\n",
    "            valid_move=True\n",
    "        else:\n",
    "            print(\"Illegal move.\")\n",
    "\n",
    "    return move\n",
    "human_agent=Agent(human_move)\n"
   ]
  },
  {
   "cell_type": "code",
   "execution_count": 4,
   "id": "4ed0766d-8975-4c2f-80a1-67d25a971a19",
   "metadata": {},
   "outputs": [],
   "source": [
    "def skittles_move(state,player,info):\n",
    "    S=info.S\n",
    "    last_state=info.last_state\n",
    "    last_action=info.last_action\n",
    "\n",
    "    # make/adjust the table\n",
    "\n",
    "    if state not in S:\n",
    "        # add a row to the table for each move\n",
    "        S[state]=Table()\n",
    "        moves=valid_moves(state,player)\n",
    "        for action in moves:\n",
    "            S[state][action]=3  # number of skittles/beads for each move\n",
    "    \n",
    "    move=weighted_choice(S[state])\n",
    "\n",
    "    if move is None:  # there are no skittles in this row\n",
    "        if last_state:\n",
    "            S[last_state][last_action]=S[last_state][last_action]-1\n",
    "            if S[last_state][last_action]<0:\n",
    "                S[last_state][last_action]=0\n",
    "\n",
    "        move=random_move(state,player)\n",
    "\n",
    "    \n",
    "    return move\n"
   ]
  },
  {
   "cell_type": "code",
   "execution_count": 5,
   "id": "12195bc7-7226-4b45-82ba-2b15e1b04834",
   "metadata": {},
   "outputs": [],
   "source": [
    "def skittles_after(status,player,info):\n",
    "    S=info.S\n",
    "    last_state=info.last_state\n",
    "    last_action=info.last_action\n",
    "\n",
    "    if status=='lose':\n",
    "        if last_state:\n",
    "            S[last_state][last_action]=S[last_state][last_action]-1\n",
    "            if S[last_state][last_action]<0:\n",
    "                S[last_state][last_action]=0\n",
    "                \n",
    "    # does this double-count the learning if you lose on your own turn        \n",
    "    "
   ]
  },
  {
   "cell_type": "code",
   "execution_count": 6,
   "id": "f7ed764c-ac41-4ad6-918d-a45055109a37",
   "metadata": {},
   "outputs": [],
   "source": [
    "skittles_agent=Agent(skittles_move)\n",
    "skittles_agent.S=Table()\n",
    "skittles_agent.post=skittles_after"
   ]
  },
  {
   "cell_type": "code",
   "execution_count": 17,
   "id": "0d5e6f20-7560-438c-abb1-95c210a236dc",
   "metadata": {},
   "outputs": [],
   "source": [
    "def minimax_move(state,player):\n",
    "    values,moves=minimax_values(state,player,display=False)\n",
    "    return top_choice(moves,values)\n",
    "\n",
    "\n",
    "minimax_agent=Agent(minimax_move)"
   ]
  },
  {
   "cell_type": "code",
   "execution_count": 18,
   "id": "859720c5-8a1e-43a4-8d7c-792cf54c5b44",
   "metadata": {},
   "outputs": [
    {
     "name": "stdout",
     "output_type": "stream",
     "text": [
      "====\n",
      "Game  1\n",
      " 0  1  2 \n",
      " 3  4  5 \n",
      " 6  7  8 \n",
      "\n",
      " 0  0  0 \n",
      " 0  0  0 \n",
      " 0  0  0 \n",
      "\n",
      "Player 1 moves 8\n",
      " 0  1  2 \n",
      " 3  4  5 \n",
      " 6  7  8 \n",
      "\n",
      " 0  0  0 \n",
      " 0  0  0 \n",
      " 0  0  1 \n",
      "\n",
      "Player 2 moves 1\n",
      " 0  1  2 \n",
      " 3  4  5 \n",
      " 6  7  8 \n",
      "\n",
      " 0  2  0 \n",
      " 0  0  0 \n",
      " 0  0  1 \n",
      "\n",
      "Player 1 moves 2\n",
      " 0  1  2 \n",
      " 3  4  5 \n",
      " 6  7  8 \n",
      "\n",
      " 0  2  1 \n",
      " 0  0  0 \n",
      " 0  0  1 \n",
      "\n",
      "Player 2 moves 0\n",
      " 0  1  2 \n",
      " 3  4  5 \n",
      " 6  7  8 \n",
      "\n",
      " 2  2  1 \n",
      " 0  0  0 \n",
      " 0  0  1 \n",
      "\n",
      "Player 1 moves 5\n",
      " 0  1  2 \n",
      " 3  4  5 \n",
      " 6  7  8 \n",
      "\n",
      " 2  2  1 \n",
      " 0  0  1 \n",
      " 0  0  1 \n",
      "\n",
      "Player  1 won.\n",
      "Total number of games:  1\n",
      "Winning 100.00 percent\n",
      "Losing 0.00 percent\n",
      "Tie 0.00 percent\n"
     ]
    }
   ],
   "source": [
    "g=Game(number_of_games=1)\n",
    "g.run(minimax_agent,skittles_agent)\n",
    "g.report()   "
   ]
  },
  {
   "cell_type": "code",
   "execution_count": 14,
   "id": "6b68d2d7-0533-47bf-8973-70b17525c08f",
   "metadata": {},
   "outputs": [
    {
     "data": {
      "text/plain": [
       "{(0, 1, 0, 0, 0, 0, 0, 0, 0): {0: 3, 2: 3, 3: 3, 4: 3, 5: 3, 6: 3, 7: 3, 8: 3},\n",
       " (0, 1, 1, 0, 0, 2, 0, 0, 0): {0: 3, 3: 3, 4: 3, 6: 2, 7: 3, 8: 3},\n",
       " (0, 0, 1, 0, 0, 0, 0, 0, 0): {0: 3, 1: 3, 3: 3, 4: 3, 5: 3, 6: 3, 7: 3, 8: 3},\n",
       " (0, 2, 1, 0, 1, 0, 0, 0, 0): {0: 3, 3: 3, 5: 3, 6: 3, 7: 3, 8: 3},\n",
       " (1, 2, 1, 2, 1, 0, 0, 0, 0): {5: 3, 6: 3, 7: 3, 8: 3},\n",
       " (1, 2, 1, 2, 1, 1, 0, 2, 0): {6: 3, 8: 2}}"
      ]
     },
     "execution_count": 14,
     "metadata": {},
     "output_type": "execute_result"
    }
   ],
   "source": [
    "skittles_agent.S"
   ]
  },
  {
   "cell_type": "code",
   "execution_count": 15,
   "id": "9e850d32-bfbf-4c5d-899f-09f10f9c8774",
   "metadata": {},
   "outputs": [],
   "source": [
    "SaveTable(skittles_agent.S,\"TTT Skittles.json\")"
   ]
  },
  {
   "cell_type": "markdown",
   "id": "0ed55256-5c34-4586-8534-4115dd8ec6f9",
   "metadata": {},
   "source": [
    "## Run for more times"
   ]
  },
  {
   "cell_type": "code",
   "execution_count": 20,
   "id": "42761d19-5a78-4601-83f9-b8a50b69211b",
   "metadata": {},
   "outputs": [
    {
     "name": "stdout",
     "output_type": "stream",
     "text": [
      "Total number of games:  100\n",
      "Winning 93.00 percent\n",
      "Losing 0.00 percent\n",
      "Tie 7.00 percent\n"
     ]
    }
   ],
   "source": [
    "g=Game(number_of_games=100)\n",
    "g.display=False\n",
    "g.run(minimax_agent,skittles_agent)\n",
    "g.report()   "
   ]
  },
  {
   "cell_type": "code",
   "execution_count": 21,
   "id": "4852d670-455f-4827-9d33-eef4f862bb67",
   "metadata": {},
   "outputs": [
    {
     "name": "stdout",
     "output_type": "stream",
     "text": [
      "Total number of games:  1000\n",
      "Winning 97.90 percent\n",
      "Losing 0.00 percent\n",
      "Tie 2.10 percent\n"
     ]
    }
   ],
   "source": [
    "g=Game(number_of_games=1000)\n",
    "g.display=False\n",
    "g.run(minimax_agent,skittles_agent)\n",
    "g.report()   "
   ]
  },
  {
   "cell_type": "code",
   "execution_count": 22,
   "id": "524cf708-a2aa-48b6-bc97-503b6870eef8",
   "metadata": {},
   "outputs": [
    {
     "name": "stdout",
     "output_type": "stream",
     "text": [
      "Total number of games:  10000\n",
      "Winning 42.37 percent\n",
      "Losing 0.00 percent\n",
      "Tie 57.63 percent\n"
     ]
    }
   ],
   "source": [
    "g=Game(number_of_games=10000)\n",
    "g.display=False\n",
    "g.run(minimax_agent,skittles_agent)\n",
    "g.report()   "
   ]
  },
  {
   "cell_type": "code",
   "execution_count": 23,
   "id": "f75a65c6-c0c5-4e8d-ad47-5d74d599e903",
   "metadata": {},
   "outputs": [],
   "source": [
    "SaveTable(skittles_agent.S,\"TTT Skittles 10000.json\")"
   ]
  },
  {
   "cell_type": "code",
   "execution_count": null,
   "id": "26901556-4425-4077-ab62-03c1b6807281",
   "metadata": {},
   "outputs": [],
   "source": []
  }
 ],
 "metadata": {
  "kernelspec": {
   "display_name": "Python 3 (ipykernel)",
   "language": "python",
   "name": "python3"
  },
  "language_info": {
   "codemirror_mode": {
    "name": "ipython",
    "version": 3
   },
   "file_extension": ".py",
   "mimetype": "text/x-python",
   "name": "python",
   "nbconvert_exporter": "python",
   "pygments_lexer": "ipython3",
   "version": "3.11.4"
  }
 },
 "nbformat": 4,
 "nbformat_minor": 5
}
