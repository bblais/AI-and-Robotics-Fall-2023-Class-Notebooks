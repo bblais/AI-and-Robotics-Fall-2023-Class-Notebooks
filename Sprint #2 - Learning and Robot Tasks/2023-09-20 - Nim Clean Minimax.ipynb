{
 "cells": [
  {
   "cell_type": "code",
   "execution_count": 1,
   "id": "5e9ad7e1-6b67-470e-a267-1cf507e5ae0a",
   "metadata": {},
   "outputs": [
    {
     "name": "stdout",
     "output_type": "stream",
     "text": [
      "Version:  0.2.42\n"
     ]
    }
   ],
   "source": [
    "from Game import *\n",
    "from Game.minimax import *"
   ]
  },
  {
   "cell_type": "markdown",
   "id": "37a58b7b-b93f-4086-a0c3-6fc12c45f1dd",
   "metadata": {},
   "source": [
    "## Nim"
   ]
  },
  {
   "cell_type": "code",
   "execution_count": 2,
   "id": "ed7923e5-3f6a-4fc2-bbb6-dff254f0cf99",
   "metadata": {},
   "outputs": [],
   "source": [
    "def initial_state(): \n",
    "    \"\"\" returns  - The initial state of the game\"\"\"\n",
    "    return 21\n",
    "\n",
    "def valid_moves(state,player):\n",
    "    \"\"\"returns  - a list of the valid moves for the state and player\"\"\"\n",
    "\n",
    "    if state==2:\n",
    "        return [1,2]\n",
    "    elif state==1:\n",
    "        return [1]\n",
    "    else:\n",
    "        return [1,2,3]\n",
    "\n",
    "def show_state(state):\n",
    "    \"\"\"prints or shows the current state\"\"\"\n",
    "    print(\"There are\",state,\"sticks.\")\n",
    "\n",
    "def update_state(state,player,move):\n",
    "    \"\"\"returns  - the new state after the move for the player\"\"\"\n",
    "\n",
    "    new_state=state-move\n",
    "\n",
    "    return new_state\n",
    "\n",
    "\n",
    "def win_status(state,player):\n",
    "    \"\"\"    returns  - 'win'  if the state is a winning state for the player, \n",
    "               'lose' if the state is a losing state for the player,\n",
    "               'stalemate' for a stalemate\n",
    "               None otherwise\n",
    "    \"\"\"\n",
    "\n",
    "    if state==0:\n",
    "        return 'lose'\n",
    "\n",
    "    if state==1:\n",
    "        return 'win'\n",
    "\n",
    "\n",
    "    return None\n",
    "    \n"
   ]
  },
  {
   "cell_type": "markdown",
   "id": "9be501f9-9d82-47a1-be10-b330571f3ec7",
   "metadata": {},
   "source": [
    "## Agents"
   ]
  },
  {
   "cell_type": "code",
   "execution_count": 3,
   "id": "27a364b6-2c01-433a-95fb-79e2597e9517",
   "metadata": {},
   "outputs": [],
   "source": [
    "def random_move(state,player):    \n",
    "    moves=valid_moves(state,player)\n",
    "    return random.choice(moves)\n",
    "\n",
    "random_agent=Agent(random_move)\n",
    "\n",
    "def human_move(state,player):\n",
    "    print(\"Player \", player)\n",
    "    valid_move=False\n",
    "    while not valid_move:\n",
    "        move=int(input('What is your move? '))\n",
    "\n",
    "        if move in valid_moves(state,player):\n",
    "            valid_move=True\n",
    "        else:\n",
    "            print(\"Illegal move.\")\n",
    "\n",
    "    return move\n",
    "\n",
    "human_agent=Agent(human_move)"
   ]
  },
  {
   "cell_type": "code",
   "execution_count": 4,
   "id": "0202da6f-740e-4980-ab72-5684d76e0c31",
   "metadata": {},
   "outputs": [
    {
     "name": "stdout",
     "output_type": "stream",
     "text": [
      "  Choice Time: 0.0031130313873291016 seconds \n"
     ]
    },
    {
     "data": {
      "text/plain": [
       "([-1, -1, -1], [3, 2, 1])"
      ]
     },
     "execution_count": 4,
     "metadata": {},
     "output_type": "execute_result"
    }
   ],
   "source": [
    "state=initial_state()\n",
    "values,moves=minimax_values(state,1)\n",
    "values,moves"
   ]
  },
  {
   "cell_type": "code",
   "execution_count": 5,
   "id": "e7204637-da2b-4929-b788-342d6e05294a",
   "metadata": {},
   "outputs": [
    {
     "name": "stdout",
     "output_type": "stream",
     "text": [
      "  Choice Time: 0.0005660057067871094 seconds \n"
     ]
    },
    {
     "data": {
      "text/plain": [
       "([1, -1, -1], [3, 2, 1])"
      ]
     },
     "execution_count": 5,
     "metadata": {},
     "output_type": "execute_result"
    }
   ],
   "source": [
    "state=20\n",
    "values,moves=minimax_values(state,1)\n",
    "values,moves"
   ]
  },
  {
   "cell_type": "code",
   "execution_count": 6,
   "id": "2463820f-5620-422f-86ea-e577570b400b",
   "metadata": {},
   "outputs": [],
   "source": [
    "def minimax_move(state,player):\n",
    "\n",
    "    values,moves=minimax_values(state,player)\n",
    "    return top_choice(moves,values)\n",
    "\n",
    "\n",
    "minimax_agent=Agent(minimax_move)"
   ]
  },
  {
   "cell_type": "code",
   "execution_count": 7,
   "id": "76034b53-9a65-4ca9-9500-99804b847fde",
   "metadata": {},
   "outputs": [
    {
     "name": "stdout",
     "output_type": "stream",
     "text": [
      "====\n",
      "Game  1\n",
      "There are 21 sticks.\n",
      "  Choice Time: 2.8848648071289062e-05 seconds \n",
      "Player 1 moves 3\n",
      "There are 18 sticks.\n",
      "Player 2 moves 1\n",
      "There are 17 sticks.\n",
      "  Choice Time: 0.0016200542449951172 seconds \n",
      "Player 1 moves 2\n",
      "There are 15 sticks.\n",
      "Player 2 moves 2\n",
      "There are 13 sticks.\n",
      "  Choice Time: 0.0009019374847412109 seconds \n",
      "Player 1 moves 1\n",
      "There are 12 sticks.\n",
      "Player 2 moves 2\n",
      "There are 10 sticks.\n",
      "  Choice Time: 0.0006079673767089844 seconds \n",
      "Player 1 moves 1\n",
      "There are 9 sticks.\n",
      "Player 2 moves 3\n",
      "There are 6 sticks.\n",
      "  Choice Time: 0.00012087821960449219 seconds \n",
      "Player 1 moves 1\n",
      "There are 5 sticks.\n",
      "Player 2 moves 1\n",
      "There are 4 sticks.\n",
      "  Choice Time: 7.700920104980469e-05 seconds \n",
      "Player 1 moves 3\n",
      "There are 1 sticks.\n",
      "Player  1 won.\n",
      "Total number of games:  1\n",
      "Winning 100.00 percent\n",
      "Losing 0.00 percent\n",
      "Tie 0.00 percent\n"
     ]
    }
   ],
   "source": [
    "g=Game(number_of_games=1)\n",
    "g.run(minimax_agent,random_agent)\n",
    "g.report()  "
   ]
  },
  {
   "cell_type": "code",
   "execution_count": null,
   "id": "80373522-c344-4d00-93b2-737a1ee2f5c3",
   "metadata": {},
   "outputs": [],
   "source": []
  }
 ],
 "metadata": {
  "kernelspec": {
   "display_name": "Python 3 (ipykernel)",
   "language": "python",
   "name": "python3"
  },
  "language_info": {
   "codemirror_mode": {
    "name": "ipython",
    "version": 3
   },
   "file_extension": ".py",
   "mimetype": "text/x-python",
   "name": "python",
   "nbconvert_exporter": "python",
   "pygments_lexer": "ipython3",
   "version": "3.11.4"
  }
 },
 "nbformat": 4,
 "nbformat_minor": 5
}
