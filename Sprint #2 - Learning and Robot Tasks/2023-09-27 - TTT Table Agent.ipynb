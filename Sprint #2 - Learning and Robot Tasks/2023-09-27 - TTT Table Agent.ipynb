{
 "cells": [
  {
   "cell_type": "code",
   "execution_count": 3,
   "id": "63c4c0d5-5ddf-4985-a1dd-c063338e091c",
   "metadata": {},
   "outputs": [
    {
     "name": "stdout",
     "output_type": "stream",
     "text": [
      "Version:  0.2.42\n"
     ]
    }
   ],
   "source": [
    "from Game import *\n",
    "from Game.minimax import *"
   ]
  },
  {
   "cell_type": "markdown",
   "id": "2bb415b0-d300-4fb5-831a-b5f4709a8777",
   "metadata": {},
   "source": [
    "## TTT"
   ]
  },
  {
   "cell_type": "code",
   "execution_count": 4,
   "id": "df762937-286f-428a-bf96-65030d88641a",
   "metadata": {},
   "outputs": [],
   "source": [
    "def initial_state(): \n",
    "    \"\"\" returns  - The initial state of the game\"\"\"\n",
    "    state=Board(3,3)\n",
    "    return state\n",
    "\n",
    "def show_state(state):\n",
    "    \"\"\"prints or shows the current state\"\"\"\n",
    "    state.show_locations()\n",
    "    print(state)\n",
    "\n",
    "def update_state(state,player,move):\n",
    "    \"\"\"returns  - the new state after the move for the player\"\"\"\n",
    "\n",
    "    \n",
    "    new_state=state\n",
    "    new_state[move]=player\n",
    "\n",
    "    return new_state\n",
    "\n",
    "def valid_moves(state,player):\n",
    "    \"\"\"returns  - a list of the valid moves for the state and player\"\"\"\n",
    "\n",
    "    moves=[]\n",
    "\n",
    "\n",
    "    for location in range(9):\n",
    "        if state[location]==0:\n",
    "            moves.append(location)\n",
    "\n",
    "\n",
    "    return moves\n",
    "\n",
    "def win_status(state,player):\n",
    "    \"\"\"    returns  - 'win'  if the state is a winning state for the player, \n",
    "               'lose' if the state is a losing state for the player,\n",
    "               'stalemate' for a stalemate\n",
    "               None otherwise\n",
    "    \"\"\"\n",
    "\n",
    "    # 0  1  2 \n",
    "    # 3  4  5 \n",
    "    # 6  7  8 \n",
    "\n",
    "    if state[0]==state[1]==state[2]==player:\n",
    "        return 'win'\n",
    "    if state[3]==state[4]==state[5]==player:\n",
    "        return 'win'\n",
    "    if state[6]==state[7]==state[8]==player:\n",
    "        return 'win'\n",
    "    if state[0]==state[3]==state[6]==player:\n",
    "        return 'win'\n",
    "    if state[1]==state[4]==state[7]==player:\n",
    "        return 'win'\n",
    "    if state[2]==state[5]==state[8]==player:\n",
    "        return 'win'\n",
    "    if state[0]==state[4]==state[8]==player:\n",
    "        return 'win'\n",
    "    if state[6]==state[4]==state[2]==player:\n",
    "        return 'win'\n",
    "\n",
    "    \n",
    "    if not valid_moves(state,player):\n",
    "        return 'stalemate'\n",
    "\n"
   ]
  },
  {
   "cell_type": "markdown",
   "id": "ac7114f5-a741-445e-a069-79f82bab0324",
   "metadata": {},
   "source": [
    "## Agents"
   ]
  },
  {
   "cell_type": "code",
   "execution_count": 5,
   "id": "c2c0fa9e-e1c1-437b-91a1-a7dc4deb9a1a",
   "metadata": {},
   "outputs": [],
   "source": [
    "def random_move(state,player):    \n",
    "    moves=valid_moves(state,player)\n",
    "    return random.choice(moves)\n",
    "\n",
    "random_agent=Agent(random_move)\n",
    "\n",
    "def human_move(state,player):\n",
    "    print(\"Player \", player)\n",
    "    valid_move=False\n",
    "    while not valid_move:\n",
    "        move=int(input('What is your move? '))\n",
    "\n",
    "        if move in valid_moves(state,player):\n",
    "            valid_move=True\n",
    "        else:\n",
    "            print(\"Illegal move.\")\n",
    "\n",
    "    return move\n",
    "human_agent=Agent(human_move)\n"
   ]
  },
  {
   "cell_type": "code",
   "execution_count": 8,
   "id": "4ed0766d-8975-4c2f-80a1-67d25a971a19",
   "metadata": {},
   "outputs": [],
   "source": [
    "def table_move(state,player,info):\n",
    "    T=info.T\n",
    "\n",
    "    # make/adjust the table\n",
    "\n",
    "    if state not in T:\n",
    "        # add a row to the table for each move\n",
    "        T[state]=Table()\n",
    "        values,moves=minimax_values(state,player)\n",
    "\n",
    "        for value,action in zip(values,moves):\n",
    "            T[state][action]=value\n",
    "    \n",
    "    move=top_choice(T[state])\n",
    "    return move\n"
   ]
  },
  {
   "cell_type": "code",
   "execution_count": 9,
   "id": "f7ed764c-ac41-4ad6-918d-a45055109a37",
   "metadata": {},
   "outputs": [],
   "source": [
    "table_agent=Agent(table_move)\n",
    "table_agent.T=Table()"
   ]
  },
  {
   "cell_type": "code",
   "execution_count": 10,
   "id": "468f54cd-619f-417d-b201-f45673f2b437",
   "metadata": {},
   "outputs": [
    {
     "name": "stdout",
     "output_type": "stream",
     "text": [
      "the value is: 1\n",
      "the action is: bob\n",
      "the value is: 20\n",
      "the action is: sally\n",
      "the value is: -3\n",
      "the action is: frank\n",
      "the value is: 4\n",
      "the action is: jill\n"
     ]
    }
   ],
   "source": [
    "values=[1,20,-3,4]\n",
    "moves=['bob','sally','frank','jill']\n",
    "\n",
    "for value,action in zip(values,moves):\n",
    "    print(\"the value is:\",value)\n",
    "    print(\"the action is:\",action)    "
   ]
  },
  {
   "cell_type": "code",
   "execution_count": 11,
   "id": "0d5e6f20-7560-438c-abb1-95c210a236dc",
   "metadata": {},
   "outputs": [],
   "source": [
    "def minimax_move(state,player):\n",
    "    values,moves=minimax_values(state,player)\n",
    "    return top_choice(moves,values)\n",
    "\n",
    "\n",
    "minimax_agent=Agent(minimax_move)"
   ]
  },
  {
   "cell_type": "code",
   "execution_count": 12,
   "id": "859720c5-8a1e-43a4-8d7c-792cf54c5b44",
   "metadata": {},
   "outputs": [
    {
     "name": "stdout",
     "output_type": "stream",
     "text": [
      "====\n",
      "Game  1\n",
      " 0  1  2 \n",
      " 3  4  5 \n",
      " 6  7  8 \n",
      "\n",
      " 0  0  0 \n",
      " 0  0  0 \n",
      " 0  0  0 \n",
      "\n",
      "  Choice Time: 0.5827658176422119 seconds \n",
      "Player 1 moves 3\n",
      " 0  1  2 \n",
      " 3  4  5 \n",
      " 6  7  8 \n",
      "\n",
      " 0  0  0 \n",
      " 1  0  0 \n",
      " 0  0  0 \n",
      "\n",
      "  Choice Time: 0.21531105041503906 seconds \n",
      "Player 2 moves 0\n",
      " 0  1  2 \n",
      " 3  4  5 \n",
      " 6  7  8 \n",
      "\n",
      " 2  0  0 \n",
      " 1  0  0 \n",
      " 0  0  0 \n",
      "\n",
      "  Choice Time: 0.05492711067199707 seconds \n",
      "Player 1 moves 1\n",
      " 0  1  2 \n",
      " 3  4  5 \n",
      " 6  7  8 \n",
      "\n",
      " 2  1  0 \n",
      " 1  0  0 \n",
      " 0  0  0 \n",
      "\n",
      "  Choice Time: 0.02454400062561035 seconds \n",
      "Player 2 moves 4\n",
      " 0  1  2 \n",
      " 3  4  5 \n",
      " 6  7  8 \n",
      "\n",
      " 2  1  0 \n",
      " 1  2  0 \n",
      " 0  0  0 \n",
      "\n",
      "  Choice Time: 0.006230831146240234 seconds \n",
      "Player 1 moves 8\n",
      " 0  1  2 \n",
      " 3  4  5 \n",
      " 6  7  8 \n",
      "\n",
      " 2  1  0 \n",
      " 1  2  0 \n",
      " 0  0  1 \n",
      "\n",
      "  Choice Time: 0.002031087875366211 seconds \n",
      "Player 2 moves 2\n",
      " 0  1  2 \n",
      " 3  4  5 \n",
      " 6  7  8 \n",
      "\n",
      " 2  1  2 \n",
      " 1  2  0 \n",
      " 0  0  1 \n",
      "\n",
      "  Choice Time: 0.0005109310150146484 seconds \n",
      "Player 1 moves 6\n",
      " 0  1  2 \n",
      " 3  4  5 \n",
      " 6  7  8 \n",
      "\n",
      " 2  1  2 \n",
      " 1  2  0 \n",
      " 1  0  1 \n",
      "\n",
      "  Choice Time: 0.00025010108947753906 seconds \n",
      "Player 2 moves 7\n",
      " 0  1  2 \n",
      " 3  4  5 \n",
      " 6  7  8 \n",
      "\n",
      " 2  1  2 \n",
      " 1  2  0 \n",
      " 1  2  1 \n",
      "\n",
      "  Choice Time: 7.224082946777344e-05 seconds \n",
      "Player 1 moves 5\n",
      " 0  1  2 \n",
      " 3  4  5 \n",
      " 6  7  8 \n",
      "\n",
      " 2  1  2 \n",
      " 1  2  1 \n",
      " 1  2  1 \n",
      "\n",
      "Neither player won:  stalemate\n",
      "Total number of games:  1\n",
      "Winning 0.00 percent\n",
      "Losing 0.00 percent\n",
      "Tie 100.00 percent\n"
     ]
    }
   ],
   "source": [
    "g=Game(number_of_games=1)\n",
    "g.run(minimax_agent,table_agent)\n",
    "g.report()   "
   ]
  },
  {
   "cell_type": "code",
   "execution_count": 13,
   "id": "6b68d2d7-0533-47bf-8973-70b17525c08f",
   "metadata": {},
   "outputs": [
    {
     "data": {
      "text/plain": [
       "{(0, 0, 0, 1, 0, 0, 0, 0, 0): {6: 0,\n",
       "  5: 0,\n",
       "  4: 0,\n",
       "  0: 0,\n",
       "  8: -1,\n",
       "  7: -1,\n",
       "  2: -1,\n",
       "  1: -1},\n",
       " (2, 1, 0, 1, 0, 0, 0, 0, 0): {7: 0, 5: 0, 4: 0, 8: -1, 6: -1, 2: -1},\n",
       " (2, 1, 0, 1, 2, 0, 0, 0, 1): {7: 0, 6: 0, 5: 0, 2: 0},\n",
       " (2, 1, 2, 1, 2, 0, 1, 0, 1): {7: 0, 5: -1}}"
      ]
     },
     "execution_count": 13,
     "metadata": {},
     "output_type": "execute_result"
    }
   ],
   "source": [
    "table_agent.T"
   ]
  },
  {
   "cell_type": "code",
   "execution_count": 15,
   "id": "9e850d32-bfbf-4c5d-899f-09f10f9c8774",
   "metadata": {},
   "outputs": [],
   "source": [
    "SaveTable(table_agent.T,\"TTT Table.json\")"
   ]
  },
  {
   "cell_type": "code",
   "execution_count": null,
   "id": "375335f8-b312-4304-85dc-08a7bdee92f9",
   "metadata": {},
   "outputs": [],
   "source": []
  }
 ],
 "metadata": {
  "kernelspec": {
   "display_name": "Python 3 (ipykernel)",
   "language": "python",
   "name": "python3"
  },
  "language_info": {
   "codemirror_mode": {
    "name": "ipython",
    "version": 3
   },
   "file_extension": ".py",
   "mimetype": "text/x-python",
   "name": "python",
   "nbconvert_exporter": "python",
   "pygments_lexer": "ipython3",
   "version": "3.11.4"
  }
 },
 "nbformat": 4,
 "nbformat_minor": 5
}
