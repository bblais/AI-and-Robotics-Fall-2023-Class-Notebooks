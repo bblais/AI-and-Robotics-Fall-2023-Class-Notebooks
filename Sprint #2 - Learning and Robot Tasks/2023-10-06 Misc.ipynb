{
 "cells": [
  {
   "cell_type": "code",
   "execution_count": 22,
   "id": "c819512e-d677-434d-8510-0f1c5d323a24",
   "metadata": {},
   "outputs": [],
   "source": [
    "Q=0.1\n",
    "α=0.3\n",
    "reward=-1"
   ]
  },
  {
   "cell_type": "code",
   "execution_count": 23,
   "id": "9f164dd8-7474-462b-8fac-f308f272b96a",
   "metadata": {},
   "outputs": [
    {
     "data": {
      "text/plain": [
       "-0.23"
      ]
     },
     "execution_count": 23,
     "metadata": {},
     "output_type": "execute_result"
    }
   ],
   "source": [
    "Q=Q+α*(reward-Q)\n",
    "Q"
   ]
  },
  {
   "cell_type": "code",
   "execution_count": 32,
   "id": "c4252412-db38-40c7-957a-37fd599888fc",
   "metadata": {},
   "outputs": [
    {
     "name": "stdout",
     "output_type": "stream",
     "text": [
      "Sally\n"
     ]
    }
   ],
   "source": [
    "a=''\n",
    "if a:\n",
    "    print(\"Bob\")\n",
    "else:\n",
    "    print(\"Sally\")"
   ]
  },
  {
   "cell_type": "code",
   "execution_count": null,
   "id": "13754b02-7048-4564-b5d5-fcfeb171e161",
   "metadata": {},
   "outputs": [],
   "source": []
  }
 ],
 "metadata": {
  "kernelspec": {
   "display_name": "Python 3 (ipykernel)",
   "language": "python",
   "name": "python3"
  },
  "language_info": {
   "codemirror_mode": {
    "name": "ipython",
    "version": 3
   },
   "file_extension": ".py",
   "mimetype": "text/x-python",
   "name": "python",
   "nbconvert_exporter": "python",
   "pygments_lexer": "ipython3",
   "version": "3.11.4"
  }
 },
 "nbformat": 4,
 "nbformat_minor": 5
}
