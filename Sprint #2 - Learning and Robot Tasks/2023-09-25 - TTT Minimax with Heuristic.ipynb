{
 "cells": [
  {
   "cell_type": "code",
   "execution_count": 1,
   "id": "63c4c0d5-5ddf-4985-a1dd-c063338e091c",
   "metadata": {},
   "outputs": [
    {
     "name": "stdout",
     "output_type": "stream",
     "text": [
      "Version:  0.2.42\n"
     ]
    }
   ],
   "source": [
    "from Game import *\n",
    "from Game.minimax import *"
   ]
  },
  {
   "cell_type": "markdown",
   "id": "2bb415b0-d300-4fb5-831a-b5f4709a8777",
   "metadata": {},
   "source": [
    "## TTT"
   ]
  },
  {
   "cell_type": "code",
   "execution_count": 2,
   "id": "df762937-286f-428a-bf96-65030d88641a",
   "metadata": {},
   "outputs": [],
   "source": [
    "def initial_state(): \n",
    "    \"\"\" returns  - The initial state of the game\"\"\"\n",
    "    state=Board(3,3)\n",
    "    return state\n",
    "\n",
    "def show_state(state):\n",
    "    \"\"\"prints or shows the current state\"\"\"\n",
    "    state.show_locations()\n",
    "    print(state)\n",
    "\n",
    "def update_state(state,player,move):\n",
    "    \"\"\"returns  - the new state after the move for the player\"\"\"\n",
    "\n",
    "    \n",
    "    new_state=state\n",
    "    new_state[move]=player\n",
    "\n",
    "    return new_state\n",
    "\n",
    "def valid_moves(state,player):\n",
    "    \"\"\"returns  - a list of the valid moves for the state and player\"\"\"\n",
    "\n",
    "    moves=[]\n",
    "\n",
    "\n",
    "    for location in range(9):\n",
    "        if state[location]==0:\n",
    "            moves.append(location)\n",
    "\n",
    "\n",
    "    return moves\n",
    "\n",
    "def win_status(state,player):\n",
    "    \"\"\"    returns  - 'win'  if the state is a winning state for the player, \n",
    "               'lose' if the state is a losing state for the player,\n",
    "               'stalemate' for a stalemate\n",
    "               None otherwise\n",
    "    \"\"\"\n",
    "\n",
    "    # 0  1  2 \n",
    "    # 3  4  5 \n",
    "    # 6  7  8 \n",
    "\n",
    "    if state[0]==state[1]==state[2]==player:\n",
    "        return 'win'\n",
    "    if state[3]==state[4]==state[5]==player:\n",
    "        return 'win'\n",
    "    if state[6]==state[7]==state[8]==player:\n",
    "        return 'win'\n",
    "    if state[0]==state[3]==state[6]==player:\n",
    "        return 'win'\n",
    "    if state[1]==state[4]==state[7]==player:\n",
    "        return 'win'\n",
    "    if state[2]==state[5]==state[8]==player:\n",
    "        return 'win'\n",
    "    if state[0]==state[4]==state[8]==player:\n",
    "        return 'win'\n",
    "    if state[6]==state[4]==state[2]==player:\n",
    "        return 'win'\n",
    "\n",
    "    \n",
    "    if not valid_moves(state,player):\n",
    "        return 'stalemate'\n",
    "\n"
   ]
  },
  {
   "cell_type": "markdown",
   "id": "ac7114f5-a741-445e-a069-79f82bab0324",
   "metadata": {},
   "source": [
    "## Agents"
   ]
  },
  {
   "cell_type": "code",
   "execution_count": 3,
   "id": "c2c0fa9e-e1c1-437b-91a1-a7dc4deb9a1a",
   "metadata": {},
   "outputs": [],
   "source": [
    "def random_move(state,player):    \n",
    "    moves=valid_moves(state,player)\n",
    "    return random.choice(moves)\n",
    "\n",
    "random_agent=Agent(random_move)\n",
    "\n",
    "def human_move(state,player):\n",
    "    print(\"Player \", player)\n",
    "    valid_move=False\n",
    "    while not valid_move:\n",
    "        move=int(input('What is your move? '))\n",
    "\n",
    "        if move in valid_moves(state,player):\n",
    "            valid_move=True\n",
    "        else:\n",
    "            print(\"Illegal move.\")\n",
    "\n",
    "    return move\n",
    "human_agent=Agent(human_move)\n"
   ]
  },
  {
   "cell_type": "code",
   "execution_count": 4,
   "id": "a369f35f-343a-4cce-bf37-b335839dea42",
   "metadata": {},
   "outputs": [
    {
     "name": "stdout",
     "output_type": "stream",
     "text": [
      " 0  1  2 \n",
      " 3  4  5 \n",
      " 6  7  8 \n",
      "\n",
      " 0  0  0 \n",
      " 0  0  0 \n",
      " 0  0  0 \n",
      "\n",
      "  Choice Time: 0.8051488399505615 seconds \n"
     ]
    },
    {
     "data": {
      "text/plain": [
       "([0, 0, 0, 0, 0, 0, 0, 0, 0], [8, 7, 6, 5, 4, 3, 2, 1, 0])"
      ]
     },
     "execution_count": 4,
     "metadata": {},
     "output_type": "execute_result"
    }
   ],
   "source": [
    "state=initial_state()\n",
    "show_state(state)\n",
    "values,moves=minimax_values(state,1)\n",
    "values,moves"
   ]
  },
  {
   "cell_type": "code",
   "execution_count": 5,
   "id": "323b0344-4485-4430-897f-a768e2e85c90",
   "metadata": {},
   "outputs": [
    {
     "name": "stdout",
     "output_type": "stream",
     "text": [
      " 0  1  2 \n",
      " 3  4  5 \n",
      " 6  7  8 \n",
      "\n",
      " 1  2  0 \n",
      " 0  0  0 \n",
      " 0  0  0 \n",
      "\n",
      "  Choice Time: 0.1295459270477295 seconds \n"
     ]
    },
    {
     "data": {
      "text/plain": [
       "([1, 1, 1, 0, 0, 0, 0], [6, 4, 3, 8, 7, 5, 2])"
      ]
     },
     "execution_count": 5,
     "metadata": {},
     "output_type": "execute_result"
    }
   ],
   "source": [
    "state=initial_state()\n",
    "state[0]=1\n",
    "state[1]=2\n",
    "show_state(state)\n",
    "values,moves=minimax_values(state,1)\n",
    "values,moves"
   ]
  },
  {
   "cell_type": "code",
   "execution_count": 8,
   "id": "0d5e6f20-7560-438c-abb1-95c210a236dc",
   "metadata": {},
   "outputs": [],
   "source": [
    "def minimax_move(state,player):\n",
    "\n",
    "    values,moves=minimax_values(state,player,max_depth=5)\n",
    "    return top_choice(moves,values)\n",
    "\n",
    "\n",
    "minimax_agent=Agent(minimax_move)"
   ]
  },
  {
   "cell_type": "code",
   "execution_count": null,
   "id": "e40895b4-9a9e-4fa3-b4d8-cc0f8ab041f1",
   "metadata": {},
   "outputs": [],
   "source": [
    "def heuristic(state,player):\n",
    "    value=0  # fix this...\n",
    "    return value  # between -1 and 1 represents the value of the state    "
   ]
  },
  {
   "cell_type": "code",
   "execution_count": 10,
   "id": "859720c5-8a1e-43a4-8d7c-792cf54c5b44",
   "metadata": {},
   "outputs": [
    {
     "name": "stdout",
     "output_type": "stream",
     "text": [
      "====\n",
      "Game  1\n",
      " 0  1  2 \n",
      " 3  4  5 \n",
      " 6  7  8 \n",
      "\n",
      " 0  0  0 \n",
      " 0  0  0 \n",
      " 0  0  0 \n",
      "\n",
      "  Choice Time: 0.0005559921264648438 seconds \n",
      "Player 1 moves 8\n",
      " 0  1  2 \n",
      " 3  4  5 \n",
      " 6  7  8 \n",
      "\n",
      " 0  0  0 \n",
      " 0  0  0 \n",
      " 0  0  1 \n",
      "\n",
      "Player 2 moves 3\n",
      " 0  1  2 \n",
      " 3  4  5 \n",
      " 6  7  8 \n",
      "\n",
      " 0  0  0 \n",
      " 2  0  0 \n",
      " 0  0  1 \n",
      "\n",
      "  Choice Time: 0.0805821418762207 seconds \n",
      "Player 1 moves 2\n",
      " 0  1  2 \n",
      " 3  4  5 \n",
      " 6  7  8 \n",
      "\n",
      " 0  0  1 \n",
      " 2  0  0 \n",
      " 0  0  1 \n",
      "\n",
      "Player 2 moves 4\n",
      " 0  1  2 \n",
      " 3  4  5 \n",
      " 6  7  8 \n",
      "\n",
      " 0  0  1 \n",
      " 2  2  0 \n",
      " 0  0  1 \n",
      "\n",
      "  Choice Time: 0.003984212875366211 seconds \n",
      "Player 1 moves 5\n",
      " 0  1  2 \n",
      " 3  4  5 \n",
      " 6  7  8 \n",
      "\n",
      " 0  0  1 \n",
      " 2  2  1 \n",
      " 0  0  1 \n",
      "\n",
      "Player  1 won.\n",
      "Total number of games:  1\n",
      "Winning 100.00 percent\n",
      "Losing 0.00 percent\n",
      "Tie 0.00 percent\n"
     ]
    }
   ],
   "source": [
    "g=Game(number_of_games=1)\n",
    "g.run(minimax_agent,random_agent)\n",
    "g.report()   "
   ]
  },
  {
   "cell_type": "code",
   "execution_count": null,
   "id": "55135616-6495-40fc-81a3-c8e9f92f55db",
   "metadata": {},
   "outputs": [],
   "source": []
  }
 ],
 "metadata": {
  "kernelspec": {
   "display_name": "Python 3 (ipykernel)",
   "language": "python",
   "name": "python3"
  },
  "language_info": {
   "codemirror_mode": {
    "name": "ipython",
    "version": 3
   },
   "file_extension": ".py",
   "mimetype": "text/x-python",
   "name": "python",
   "nbconvert_exporter": "python",
   "pygments_lexer": "ipython3",
   "version": "3.11.4"
  }
 },
 "nbformat": 4,
 "nbformat_minor": 5
}
