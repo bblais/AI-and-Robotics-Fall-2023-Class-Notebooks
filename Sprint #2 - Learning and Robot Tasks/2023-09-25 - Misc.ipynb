{
 "cells": [
  {
   "cell_type": "code",
   "execution_count": 1,
   "id": "54544fd4-f0cd-4ba3-94a1-95f80bab05e2",
   "metadata": {},
   "outputs": [
    {
     "name": "stdout",
     "output_type": "stream",
     "text": [
      "Version:  0.2.42\n"
     ]
    }
   ],
   "source": [
    "from Game import *\n",
    "from Game.minimax import *"
   ]
  },
  {
   "cell_type": "code",
   "execution_count": 2,
   "id": "fa94a722-93a7-4d0b-9a79-5801980a7b39",
   "metadata": {},
   "outputs": [],
   "source": [
    "def initial_state():\n",
    "    state=Board(4,4)\n",
    "\n",
    "    #state[0]=state[2]=state[13]=state[15]=1\n",
    "\n",
    "    for i in [0,2,13,15]:\n",
    "        state[i]=1\n",
    "        \n",
    "    for i in [1,3,12,14]:\n",
    "        state[i]=2\n",
    "\n",
    "    return state\n"
   ]
  },
  {
   "cell_type": "code",
   "execution_count": 3,
   "id": "20784f4e-f484-43d2-bb0d-aa9adad8ed41",
   "metadata": {},
   "outputs": [],
   "source": [
    "state=initial_state()"
   ]
  },
  {
   "cell_type": "code",
   "execution_count": 4,
   "id": "5f22302b-c12c-4cce-8955-5f478f5e3581",
   "metadata": {},
   "outputs": [
    {
     "data": {
      "text/plain": [
       " 1  2  1  2 \n",
       " 0  0  0  0 \n",
       " 0  0  0  0 \n",
       " 2  1  2  1 "
      ]
     },
     "execution_count": 4,
     "metadata": {},
     "output_type": "execute_result"
    }
   ],
   "source": [
    "state"
   ]
  },
  {
   "cell_type": "code",
   "execution_count": 5,
   "id": "76c81d0e-df14-49f6-aa68-5a54e63b8bdd",
   "metadata": {},
   "outputs": [
    {
     "data": {
      "text/plain": [
       "1"
      ]
     },
     "execution_count": 5,
     "metadata": {},
     "output_type": "execute_result"
    }
   ],
   "source": [
    "state[2]"
   ]
  },
  {
   "cell_type": "code",
   "execution_count": 6,
   "id": "1cb64c71-8da9-44b6-9b25-23c5842c200f",
   "metadata": {},
   "outputs": [
    {
     "data": {
      "text/plain": [
       "0"
      ]
     },
     "execution_count": 6,
     "metadata": {},
     "output_type": "execute_result"
    }
   ],
   "source": [
    "state[5]"
   ]
  },
  {
   "cell_type": "code",
   "execution_count": 7,
   "id": "ca01fa37-80ca-4d64-b5d8-91b2a0a92214",
   "metadata": {},
   "outputs": [
    {
     "data": {
      "text/plain": [
       "4"
      ]
     },
     "execution_count": 7,
     "metadata": {},
     "output_type": "execute_result"
    }
   ],
   "source": [
    "count=0\n",
    "for i in range(16):\n",
    "    if state[i]==1:\n",
    "        count=count+1\n",
    "\n",
    "count"
   ]
  },
  {
   "cell_type": "code",
   "execution_count": 8,
   "id": "ba355d9b-9e31-453f-932a-722e78185cf8",
   "metadata": {},
   "outputs": [],
   "source": [
    "def number_of_pieces(state,player):\n",
    "    count=0\n",
    "    for i in range(16):\n",
    "        if state[i]==player:\n",
    "            count=count+1\n",
    "\n",
    "    return count"
   ]
  },
  {
   "cell_type": "code",
   "execution_count": 9,
   "id": "7b20c677-d2b6-4e6d-98f2-e237eeb6638d",
   "metadata": {},
   "outputs": [
    {
     "data": {
      "text/plain": [
       "4"
      ]
     },
     "execution_count": 9,
     "metadata": {},
     "output_type": "execute_result"
    }
   ],
   "source": [
    "number_of_pieces(state,1)"
   ]
  },
  {
   "cell_type": "code",
   "execution_count": 10,
   "id": "aea141cf-6837-497d-b940-56c1267e7204",
   "metadata": {},
   "outputs": [
    {
     "data": {
      "text/plain": [
       " 1  2  1  2 \n",
       " 0  0  0  0 \n",
       " 0  0  0  0 \n",
       " 2  1  2  1 "
      ]
     },
     "execution_count": 10,
     "metadata": {},
     "output_type": "execute_result"
    }
   ],
   "source": [
    "state"
   ]
  },
  {
   "cell_type": "code",
   "execution_count": 11,
   "id": "fb44d09a-a14c-4b11-a041-975621a6e1b8",
   "metadata": {},
   "outputs": [
    {
     "data": {
      "text/plain": [
       " 1  2  1  2 \n",
       " 0  2  0  0 \n",
       " 0  0  0  0 \n",
       " 2  1  2  1 "
      ]
     },
     "execution_count": 11,
     "metadata": {},
     "output_type": "execute_result"
    }
   ],
   "source": [
    "state[5]=2\n",
    "state"
   ]
  },
  {
   "cell_type": "code",
   "execution_count": 12,
   "id": "691309c1-a27c-46b3-9e74-87d68f8c0e64",
   "metadata": {},
   "outputs": [
    {
     "data": {
      "text/plain": [
       "5"
      ]
     },
     "execution_count": 12,
     "metadata": {},
     "output_type": "execute_result"
    }
   ],
   "source": [
    "number_of_pieces(state,2)"
   ]
  },
  {
   "cell_type": "code",
   "execution_count": 13,
   "id": "58fc2f0a-42c6-4909-b5c6-3fa10c27a71c",
   "metadata": {},
   "outputs": [],
   "source": [
    "player=2"
   ]
  },
  {
   "cell_type": "code",
   "execution_count": null,
   "id": "d10856c8-b03b-4172-a4e9-d2166b5954d3",
   "metadata": {},
   "outputs": [],
   "source": [
    "if player==2:\n",
    "    value=(number_of_pieces(state,2)-number_of_pieces(state,1))/(number_of_pieces(state,2)+number_of_pieces(state,1))"
   ]
  },
  {
   "cell_type": "code",
   "execution_count": 16,
   "id": "adaf6adf-6fb9-493b-b8b6-22d752eadac5",
   "metadata": {},
   "outputs": [
    {
     "data": {
      "text/plain": [
       " 1  2  1  2 \n",
       " 0  2  0  0 \n",
       " 0  0  0  0 \n",
       " 2  1  2  1 "
      ]
     },
     "execution_count": 16,
     "metadata": {},
     "output_type": "execute_result"
    }
   ],
   "source": [
    "state"
   ]
  },
  {
   "cell_type": "code",
   "execution_count": 14,
   "id": "64af6119-7478-44be-bcd4-2bd9ea48f2c8",
   "metadata": {},
   "outputs": [],
   "source": [
    "player=2\n",
    "\n",
    "if player==1:\n",
    "    other_player=2\n",
    "else:\n",
    "    other_player=1\n",
    "\n",
    "value=(number_of_pieces(state,player)-number_of_pieces(state,other_player))/(number_of_pieces(state,player)+number_of_pieces(state,other_player))"
   ]
  },
  {
   "cell_type": "code",
   "execution_count": 15,
   "id": "39a72137-34bd-4dc2-b63f-a90bcce15da1",
   "metadata": {},
   "outputs": [
    {
     "data": {
      "text/plain": [
       "0.1111111111111111"
      ]
     },
     "execution_count": 15,
     "metadata": {},
     "output_type": "execute_result"
    }
   ],
   "source": [
    "value"
   ]
  },
  {
   "cell_type": "code",
   "execution_count": null,
   "id": "a9cb67a4-f87d-4ac7-ad4d-289d93efaa9b",
   "metadata": {},
   "outputs": [],
   "source": []
  }
 ],
 "metadata": {
  "kernelspec": {
   "display_name": "Python 3 (ipykernel)",
   "language": "python",
   "name": "python3"
  },
  "language_info": {
   "codemirror_mode": {
    "name": "ipython",
    "version": 3
   },
   "file_extension": ".py",
   "mimetype": "text/x-python",
   "name": "python",
   "nbconvert_exporter": "python",
   "pygments_lexer": "ipython3",
   "version": "3.11.4"
  }
 },
 "nbformat": 4,
 "nbformat_minor": 5
}
