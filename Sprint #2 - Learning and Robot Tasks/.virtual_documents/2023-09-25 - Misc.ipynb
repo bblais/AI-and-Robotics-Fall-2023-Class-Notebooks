from Game import *
from Game.minimax import *


def initial_state():
    state=Board(4,4)

    #state[0]=state[2]=state[13]=state[15]=1

    for i in [0,2,13,15]:
        state[i]=1
        
    for i in [1,3,12,14]:
        state[i]=2

    return state



state=initial_state()


state


state[2]


state[5]


count=0
for i in range(16):
    if state[i]==1:
        count=count+1

count


def number_of_pieces(state,player):
    count=0
    for i in range(16):
        if state[i]==player:
            count=count+1

    return count


number_of_pieces(state,1)


state


state[5]=2
state


number_of_pieces(state,2)


player=2


if player==2:
    value=(number_of_pieces(state,2)-number_of_pieces(state,1))/(number_of_pieces(state,2)+number_of_pieces(state,1))


state


player=2

if player==1:
    other_player=2
else:
    other_player=1

value=(number_of_pieces(state,player)-number_of_pieces(state,other_player))/(number_of_pieces(state,player)+number_of_pieces(state,other_player))


value



