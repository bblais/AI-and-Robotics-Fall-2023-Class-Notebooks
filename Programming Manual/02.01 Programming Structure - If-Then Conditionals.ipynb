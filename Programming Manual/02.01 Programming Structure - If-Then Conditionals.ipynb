{
 "cells": [
  {
   "cell_type": "code",
   "execution_count": 1,
   "id": "ee5074a2-2706-4fc0-986d-cfaad88aff4b",
   "metadata": {},
   "outputs": [
    {
     "name": "stdout",
     "output_type": "stream",
     "text": [
      "Populating the interactive namespace from numpy and matplotlib\n"
     ]
    }
   ],
   "source": [
    "# make all of the diagrams appear in the notebook, not in an external window\n",
    "%pylab inline  \n",
    "from mplturtle import *"
   ]
  },
  {
   "cell_type": "markdown",
   "id": "e5553691-dada-49d7-9266-bd1c76623d8b",
   "metadata": {},
   "source": [
    "## Branching: If-statements\n",
    "\n",
    "Programs execute one line at a time, in consecutive order. This\n",
    "sequential program flow can be modified using two types of programing\n",
    "structures: branches and loops. We consider branches in this section,\n",
    "and loops in the next section.\n",
    "\n",
    "The form of a simple branch is the following:\n",
    "\n",
    "    if CONDITION:\n",
    "        STATEMENTS\n",
    "\n",
    "where I am using `ALL CAPITAL LETTERS` to denote something which stands\n",
    "for code that you would need to write, but is not code itself. The colon\n",
    "(:) is necessary at the end of the `if` line, or a syntax error will\n",
    "result. A branch, or if-statement, is interpreted in the following way:\n",
    "only execute the `STATEMENTS` if the `CONDITION` is true. For example,\n",
    "here is a program which swaps the two values of `x` and `y` only if `x`\n",
    "is originally larger than `y`. The result is that the final value of `x`\n",
    "will always be smaller, or equal to, the final value of `y`."
   ]
  },
  {
   "cell_type": "code",
   "execution_count": 3,
   "id": "f4c19905-0b6e-46ab-ac68-3685c94b5db5",
   "metadata": {},
   "outputs": [
    {
     "name": "stdin",
     "output_type": "stream",
     "text": [
      "What is the initial value of x?  5\n",
      "What is the initial value of y?  4\n"
     ]
    },
    {
     "name": "stdout",
     "output_type": "stream",
     "text": [
      "x has the value  5\n",
      "y has the value  4\n",
      "--------------------------\n",
      "***Swapping***\n",
      "x has the value  4\n",
      "y has the value  5\n"
     ]
    }
   ],
   "source": [
    "# An example which swaps two variable values, \n",
    "# only if the first is larger\n",
    "\n",
    "# get the initial values\n",
    "x=input('What is the initial value of x? ')\n",
    "y=input('What is the initial value of y? ')\n",
    "\n",
    "# display the initial values\n",
    "print('x has the value ',x)\n",
    "print('y has the value ',y)\n",
    "print('--------------------------')\n",
    "\n",
    "if x>y:\n",
    "    print('***Swapping***')\n",
    "    x,y = y,x\n",
    "\n",
    "# display the final values\n",
    "print('x has the value ',x)\n",
    "print('y has the value ',y)"
   ]
  },
  {
   "cell_type": "markdown",
   "id": "e8effcd7-1ead-4d13-9f75-4b1c7207d1b7",
   "metadata": {},
   "source": [
    "Say we input the values of 5 for `x` and 10 for `y`.\n",
    "\n",
    "    What is the initial value of x? 5\n",
    "    What is the initial value of y? 10\n",
    "    x has the value  5 \n",
    "    y has the value  10 \n",
    "    --------------------------\n",
    "    x has the value  5 \n",
    "    y has the value  10 \n",
    "\n",
    "As the program progresses, it gets to the line `if x>y:` which is\n",
    "calculated to be `if 5>10:` or `if False:` since `5` is not greater than\n",
    "`10`. Because the condition is false, the statements after the `if`\n",
    "which are indented by 4 spaces will not be executed, and the program\n",
    "continues with the next line of code after the indented lines. If,\n",
    "however, we input the values of 15 for `x` and 10 for `y`.\n",
    "\n",
    "    What is the initial value of x? 15\n",
    "    What is the initial value of y? 10\n",
    "    x has the value  15 \n",
    "    y has the value  10 \n",
    "    --------------------------\n",
    "    ***Swapping***\n",
    "    x has the value  10 \n",
    "    y has the value  15 \n",
    "\n",
    "The values get swapped!\n"
   ]
  },
  {
   "cell_type": "markdown",
   "id": "c49a57b3-b70f-4aeb-8194-268abf251be9",
   "metadata": {},
   "source": [
    "### Comment on Boolean variables\n",
    "\n",
    "A boolean variable is one that has a value of true or false, instead of\n",
    "a number. In Python those values are `True` and `False` (note the\n",
    "capital first letter). Thus, each of the following if-statements will\n",
    "print a message to the screen\n",
    "\n",
    "```python\n",
    "    if True:\n",
    "        print 'this line gets executed'\n",
    "        \n",
    "    if 3>2:\n",
    "        print 'this line gets executed'\n",
    "\n",
    "    printit= (3>2)  # set the variable printit to True\n",
    "\n",
    "    if printit:\n",
    "        print 'this line gets executed'\n",
    "```\n",
    "\n",
    "whereas the following if-statements will print nothing\n",
    "\n",
    "```python\n",
    "    if False:\n",
    "        print 'this line does not get executed'\n",
    "        \n",
    "    if 50<10:\n",
    "        print 'this line does not get executed'\n",
    "\n",
    "    printit= (34>57)  # set the variable printit to False\n",
    "\n",
    "    if printit:\n",
    "        print 'this line does not get executed'\n",
    "```\n",
    "\n",
    "The `CONDITION` in an if-statement *must* reduce to a true or false\n",
    "value for it to have any meaning.\n"
   ]
  },
  {
   "cell_type": "markdown",
   "id": "93b16f62-9332-4574-9c6b-5d2dbbbe87af",
   "metadata": {},
   "source": [
    "### Boolean Operators\n",
    "\n",
    "The following are the allowed boolean operators.\n",
    "\n",
    "| operator | meaning |\n",
    "| --- | ---\n",
    "| ==  | equal to                 |\n",
    "| >   | greater-than             |\n",
    "| <   | less-than                |\n",
    "| >=  | greater-than or equal to |\n",
    "| <=  | less-than or equal to    |\n",
    "| not | not (negation)           |\n",
    "| !=  | not equal to             |\n",
    "| and | and                      |\n",
    "| or  | or                       |\n",
    "\n",
    "A **very** common mistake for beginning programmers is to use the\n",
    "assignment `=` instead of the equality `==` in a `CONDITION` of an\n",
    "if-statement. Whenever you are testing if two values are equal in\n",
    "if-statement (or a while-loop, which we discuss later), you **must** use\n",
    "`==`. For example, the following code fragment will print out a message\n",
    "\n",
    "```python\n",
    "    a=5\n",
    "    b=5\n",
    "    if a==b:\n",
    "        print 'a is equal to b'\n",
    "```\n",
    "\n",
    "but the following code fragment will not\n",
    "\n",
    "```python\n",
    "    a=5\n",
    "    b=6 # <--- b is not equal to a\n",
    "    if a==b:\n",
    "        print 'a is equal to b'\n",
    "```\n",
    "\n",
    "If one wanted to test to see if `x` is bigger than both `y` and ` z`,\n",
    "one would write\n",
    "\n",
    "```python\n",
    "    if x>y and x<z:\n",
    "        print x is bigger than both y and z\n",
    "```\n",
    "\n",
    "Translating back to English we have \"`x` is greater than `y` and ` x` is\n",
    "also greater than `z`\". What would have happened if we had written\n",
    "instead, `x > y and z`? If you test it yourself you will find that it\n",
    "prints the message whenever `z` is not equal to zero, and `x` is greater\n",
    "than `y`! Why is that? As stated in the beginning, computers are very\n",
    "literal, and follow a strict syntax. Python is interpreting\n",
    "`x > y and z` as ` (x>y) and (z)` where `z` is seen as a *boolean*\n",
    "(true/false) variable even though we didn't mean it to. In this sense,\n",
    "anything non-zero is true, so Python is interpreting `x > y and z` as\n",
    "true whenever `z` is not equal to zero, and `x` is greater than `y`.\n",
    "\n",
    "Although it is not *always* necessary, it is a very good habit to put\n",
    "parentheses around any operation of two variables, like `(x>y)` or\n",
    "`( (x>y) and (x>z) )`. It may be a bit more typing, but it can save you\n",
    "hours in debugging logic that is hard to see otherwise.\n"
   ]
  },
  {
   "cell_type": "markdown",
   "id": "5b37433a-f0bf-4f6f-9cd2-4fed49547399",
   "metadata": {},
   "source": [
    "### if, elif, and else\n",
    "\n",
    "The if-statement has a more general structure which is very useful. It\n",
    "looks like\n",
    "\n",
    "```python\n",
    "    if CONDITION1:\n",
    "        STATEMENTS  # these statements run if CONDITION1 is true\n",
    "    elif CONDITION2:\n",
    "        STATEMENTS  # these statements run if CONDITION1 is false, and \n",
    "                    #                         CONDITION2 is true\n",
    "    elif CONDITION3:\n",
    "        STATEMENTS  # these statements run if CONDITION1 is false, and \n",
    "                    #                         CONDITION2 is false, and\n",
    "                    #                         CONDITION3 is true\n",
    "    else:\n",
    "        STATEMENTS  % these statements run if all of the CONDITIONS are false\n",
    "```\n",
    "\n",
    "You can have as many or as few (even zero) `elif` clauses, and either\n",
    "include or not the final `else` clause. This structure lets you set up\n",
    "different actions for many different incoming possibilities. The colon\n",
    "(:) needs to be at the end of each line which starts a block of code,\n",
    "like ` if`, `elif`, and `else`.\n",
    "\n",
    "For example, the following program asks the user if she likes bananas,\n",
    "and responds differently given the user's response. Although we haven't\n",
    "used strings so far, the example is fairly self-explanatory.\n"
   ]
  },
  {
   "cell_type": "code",
   "execution_count": 5,
   "id": "47db0415-306b-4317-9c71-b2c773c7cfd6",
   "metadata": {},
   "outputs": [
    {
     "name": "stdin",
     "output_type": "stream",
     "text": [
      "Do you like Bananas?  yes\n"
     ]
    },
    {
     "name": "stdout",
     "output_type": "stream",
     "text": [
      "I like Bananas too!\n"
     ]
    }
   ],
   "source": [
    "\n",
    "response=input('Do you like Bananas? ');\n",
    "\n",
    "if response=='yes':\n",
    "    print ('I like Bananas too!')\n",
    "elif response=='no':\n",
    "    print ('I dislike Bananas too!')\n",
    "else:\n",
    "    print ('I did not understand what you wrote.')\n",
    "\n"
   ]
  },
  {
   "cell_type": "markdown",
   "id": "7ce1b22c-b28d-4a91-8f83-031d9f01e6a9",
   "metadata": {},
   "source": [
    "> **Exercise** Make a turtle program to ask the user what shape to draw, and draw it. You should have at least 3 different shape choices."
   ]
  }
 ],
 "metadata": {
  "kernelspec": {
   "display_name": "Python 3",
   "language": "python",
   "name": "python3"
  },
  "language_info": {
   "codemirror_mode": {
    "name": "ipython",
    "version": 3
   },
   "file_extension": ".py",
   "mimetype": "text/x-python",
   "name": "python",
   "nbconvert_exporter": "python",
   "pygments_lexer": "ipython3",
   "version": "3.8.10"
  }
 },
 "nbformat": 4,
 "nbformat_minor": 5
}
