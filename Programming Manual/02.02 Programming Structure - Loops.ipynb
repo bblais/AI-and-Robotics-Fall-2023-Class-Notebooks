{
 "cells": [
  {
   "cell_type": "code",
   "execution_count": 1,
   "id": "15547089-9abb-4b74-a9e0-3fee2661c357",
   "metadata": {},
   "outputs": [
    {
     "name": "stdout",
     "output_type": "stream",
     "text": [
      "Populating the interactive namespace from numpy and matplotlib\n"
     ]
    }
   ],
   "source": [
    "# make all of the diagrams appear in the notebook, not in an external window\n",
    "%pylab inline  \n",
    "from mplturtle import *"
   ]
  },
  {
   "cell_type": "markdown",
   "id": "d29259ba-91ec-448d-82d1-86ad90f33242",
   "metadata": {},
   "source": [
    "## Loops \n",
    "\n",
    "A loop is used to repeat a set of statements many times, usually until\n",
    "some condition is met. One loop structure we will introduce now is the\n",
    "while-loop. It has the form\n",
    "\n",
    "```python\n",
    "    while CONDITION:\n",
    "        STATEMENTS\n",
    "```\n",
    "\n",
    "This structure works like a repeating if-statement: if `CONDITION` is\n",
    "true, then the `STATEMENTS` are executed. In a while-loop, however, the\n",
    "program flow returns back to the `while (CONDITION)` line and the\n",
    "` CONDITION` is tested again. If it is still true, then the `STATEMENTS`\n",
    "will be executed *again*. This will repeat until such time as\n",
    "` CONDITION` is tested and comes up false. Then program flow jumps to\n",
    "the line following the entire `while` clause. The following is an\n",
    "example that prints out the numbers 1, 2, 3, 4 and 5.\n",
    "\n"
   ]
  },
  {
   "cell_type": "code",
   "execution_count": 7,
   "id": "b95256d7-8781-4907-ba4b-a0fd2c8559eb",
   "metadata": {},
   "outputs": [
    {
     "name": "stdout",
     "output_type": "stream",
     "text": [
      "1\n",
      "2\n",
      "3\n",
      "4\n",
      "5\n",
      "Done!\n"
     ]
    }
   ],
   "source": [
    "x=1\n",
    "while x<=5:\n",
    "    print(x)\n",
    "    x=x+1\n",
    "\n",
    "print('Done!')\n"
   ]
  },
  {
   "cell_type": "markdown",
   "id": "f4f9d26f-b4d9-454e-923f-67a18484a0bd",
   "metadata": {},
   "source": [
    "The program flow in this example is as follows. The first line to be\n",
    "executed is `x=1` which sets the value of `x` to 1. Then the program\n",
    "tests to see if `x` is less than or equal to five, which is true, so the\n",
    "lines within the while-loop are executed. The first line displays `x`,\n",
    "which prints a \"1\" on the screen, and the next line adds one to `x`,\n",
    "yielding the answer 2, and assigns this new value to `x`. The program\n",
    "then jumps back to the `while` statement and tests `x` again to see if\n",
    "it is less than or equal to five, which is again true. Again, the value\n",
    "of `x` is printed to the screen, this time it is \"2\", and again `x` is\n",
    "incremented by 1, yielding 3. The `while` tests `x` again at 3, 4, and\n",
    "5, passing each time and displaying the result. When `x` passes with a\n",
    "value of 5, the two lines are executed, displaying \"5\" and incrementing\n",
    "`x` to 6. The `while` tests `x` to see if it is less than or equal to 5,\n",
    "which is *false* now, and skips to the indented lines in the `while`\n",
    "block. The next line to be executed displays \"Done!\" and the program\n",
    "ends. Notice that the last value of `x` is 6, but the last value to be\n",
    "displayed is 5.\n",
    "\n",
    "We can extend the `interest` program written in\n",
    "the Section on Variables to use a while-loop, and calculate the\n",
    "accumulated interest over the course of many years.\n",
    "\n"
   ]
  },
  {
   "cell_type": "code",
   "execution_count": 9,
   "id": "0c46cebe-8569-45fa-b936-49a054c284cc",
   "metadata": {},
   "outputs": [
    {
     "name": "stdin",
     "output_type": "stream",
     "text": [
      "What is the initial principal?  100\n",
      "What is the annual interest rate?  .3\n",
      "How many years do you want to calculate interest?  6\n"
     ]
    },
    {
     "name": "stdout",
     "output_type": "stream",
     "text": [
      "The original principal is $ 100.0\n",
      "The interest rate is  0.3\n",
      "After year  1 : \n",
      "  The interest is $ 30.0\n",
      "  And the new principal is $ 130.0\n",
      "After year  2 : \n",
      "  The interest is $ 39.0\n",
      "  And the new principal is $ 169.0\n",
      "After year  3 : \n",
      "  The interest is $ 50.699999999999996\n",
      "  And the new principal is $ 219.7\n",
      "After year  4 : \n",
      "  The interest is $ 65.91\n",
      "  And the new principal is $ 285.61\n",
      "After year  5 : \n",
      "  The interest is $ 85.683\n",
      "  And the new principal is $ 371.293\n",
      "After year  6 : \n",
      "  The interest is $ 111.3879\n",
      "  And the new principal is $ 482.6809\n"
     ]
    }
   ],
   "source": [
    "# get the initial values\n",
    "principal=input('What is the initial principal? ')\n",
    "principal=float(principal)\n",
    "\n",
    "rate=input('What is the annual interest rate? ')\n",
    "rate=float(rate)\n",
    "\n",
    "number_of_years=input('How many years do you want to calculate interest? ')\n",
    "number_of_years=int(number_of_years)\n",
    "\n",
    "print('The original principal is $',principal)\n",
    "print('The interest rate is ',rate)\n",
    "\n",
    "current_year=1\n",
    "while current_year<=number_of_years:\n",
    "  \n",
    "    interest=principal*rate; # calculate the interest\n",
    "    principal=principal+interest;\n",
    "    \n",
    "    print('After year ',current_year,': ')\n",
    "    print('  The interest is $',interest)\n",
    "    print('  And the new principal is $',principal)\n",
    "    \n",
    "    current_year=current_year+1;\n"
   ]
  },
  {
   "cell_type": "code",
   "execution_count": null,
   "id": "cec97d1b-53df-4264-aed7-a5d7ddf5c125",
   "metadata": {},
   "outputs": [],
   "source": []
  },
  {
   "cell_type": "markdown",
   "id": "b76e802f-b508-4ddc-8e42-1c66e6103327",
   "metadata": {},
   "source": [
    "One technique for using a while loop is to repeat a question if the user\n",
    "gave a bad answer. For example, the following code fragment keeps the\n",
    "user from entering a negative principal value, but allows the user to\n",
    "retype a valid answer.\n"
   ]
  },
  {
   "cell_type": "code",
   "execution_count": 12,
   "id": "4f90f05c-ff8b-4d0a-957f-400b6c7a6402",
   "metadata": {},
   "outputs": [
    {
     "name": "stdin",
     "output_type": "stream",
     "text": [
      "What is the initial principal?  -56\n"
     ]
    },
    {
     "name": "stdout",
     "output_type": "stream",
     "text": [
      "The principal value cannot be negative.  Please reenter it.\n"
     ]
    },
    {
     "name": "stdin",
     "output_type": "stream",
     "text": [
      "What is the initial principal?  -78\n"
     ]
    },
    {
     "name": "stdout",
     "output_type": "stream",
     "text": [
      "The principal value cannot be negative.  Please reenter it.\n"
     ]
    },
    {
     "name": "stdin",
     "output_type": "stream",
     "text": [
      "What is the initial principal?  45\n"
     ]
    }
   ],
   "source": [
    "principal=-1\n",
    "\n",
    "while principal<0:\n",
    "    principal=input('What is the initial principal? ')\n",
    "    principal=float(principal)\n",
    "\n",
    "    if principal<0:\n",
    "        print('The principal value cannot be negative.  Please reenter it.')\n",
    "\n"
   ]
  },
  {
   "cell_type": "markdown",
   "id": "a89f11ec-a22f-4887-82db-299d8e46d1ff",
   "metadata": {},
   "source": [
    "It is necessary for the initial value of `principal` to be less than\n",
    "zero, so that the statements within the while-loop will execute the\n",
    "first time. If we forgot the `principal=-1` line, we'd receive an error\n",
    "like:\n",
    "\n",
    "```python\n",
    "    NameError: name 'principal' is not defined\n",
    "```\n",
    "\n",
    "If we had set `principal` to a positive value, then the while-loop would\n",
    "have tested *false*, and skipped all of the statements in the\n",
    "while-loop. The `principal=-1` line gets us into the while loop. After\n",
    "that, the user input will keep us there until the user enters a valid,\n",
    "positive (or zero) principal.\n"
   ]
  },
  {
   "cell_type": "markdown",
   "id": "4d1c32d6-1bc2-4abf-af53-84fb6a499424",
   "metadata": {},
   "source": [
    "### The `for`-loop\n",
    "\n",
    "Ninety percent of loops one writes, repeat a specified number of times,\n",
    "like the first example above, which repeats 5 times. Because of this,\n",
    "there is a more convenient form of a loop for this purpose, called a\n",
    "`for`-loop. The following two pieces of code do the same thing:\n",
    "\n"
   ]
  },
  {
   "cell_type": "code",
   "execution_count": 14,
   "id": "7f3b3f4f-2c57-4023-9b08-2d2a54721648",
   "metadata": {},
   "outputs": [
    {
     "name": "stdout",
     "output_type": "stream",
     "text": [
      "0\n",
      "1\n",
      "2\n",
      "3\n",
      "4\n",
      "5\n",
      "6\n",
      "7\n",
      "8\n",
      "9\n",
      "Done!\n",
      "0\n",
      "1\n",
      "2\n",
      "3\n",
      "4\n",
      "5\n",
      "6\n",
      "7\n",
      "8\n",
      "9\n",
      "Done!\n"
     ]
    }
   ],
   "source": [
    "# while-loop\n",
    "x=0\n",
    "while x<10:\n",
    "    print(x)\n",
    "    x=x+1\n",
    "\n",
    "print('Done!')\n",
    "\n",
    "# do the same thing with a for-loop\n",
    "\n",
    "for x in range(10):\n",
    "    print(x)\n",
    "    \n",
    "print('Done!')\n"
   ]
  },
  {
   "cell_type": "markdown",
   "id": "b39d1068-be28-4747-ab68-55ec16d34fdc",
   "metadata": {},
   "source": [
    "\n",
    "The `for`-loop moves through each value of `range(10)`, which goes from\n",
    "0 to 9 (not 1 to 10), which repeats the statements in the `for`-loop 10\n",
    "times. Both the setting of the initial value, and the incrementing, is\n",
    "done automatically.\n",
    "\n",
    "The following example is the same as the\n",
    "Square program earlier, but uses a `for`-loop to reduce some\n",
    "of the redundancy.\n",
    "\n",
    "\n"
   ]
  },
  {
   "cell_type": "code",
   "execution_count": 19,
   "id": "01a50845-e31d-4403-8539-2dda9fecfa85",
   "metadata": {},
   "outputs": [
    {
     "data": {
      "image/png": "[encoded data removed]",
      "text/plain": [
       "<Figure size 720x720 with 1 Axes>"
      ]
     },
     "metadata": {
      "needs_background": "light"
     },
     "output_type": "display_data"
    }
   ],
   "source": [
    "# remember to import the turtle functions and the pylab inline from before if you're running just this cell\n",
    "reset()\n",
    "\n",
    "size=70\n",
    "for side in range(4):\n",
    "    forward(size)\n",
    "    right(90)"
   ]
  },
  {
   "cell_type": "markdown",
   "id": "526fe352-6792-40ac-a4f6-a59105c0c080",
   "metadata": {},
   "source": [
    "\n",
    "Another example with a square, with some extra variables. What do these\n",
    "variables do?\n"
   ]
  },
  {
   "cell_type": "code",
   "execution_count": 25,
   "id": "0d77d4a0-1d0b-4b0f-b028-0e164e9588b4",
   "metadata": {},
   "outputs": [
    {
     "data": {
      "image/png": "[encoded data removed]",
      "text/plain": [
       "<Figure size 720x720 with 1 Axes>"
      ]
     },
     "metadata": {
      "needs_background": "light"
     },
     "output_type": "display_data"
    }
   ],
   "source": [
    "reset()\n",
    "\n",
    "number_of_sides=4\n",
    "angle=360/number_of_sides\n",
    "size=70\n",
    "\n",
    "for side in range(number_of_sides):\n",
    "    forward(size)\n",
    "    right(angle)"
   ]
  }
 ],
 "metadata": {
  "kernelspec": {
   "display_name": "Python 3",
   "language": "python",
   "name": "python3"
  },
  "language_info": {
   "codemirror_mode": {
    "name": "ipython",
    "version": 3
   },
   "file_extension": ".py",
   "mimetype": "text/x-python",
   "name": "python",
   "nbconvert_exporter": "python",
   "pygments_lexer": "ipython3",
   "version": "3.8.10"
  }
 },
 "nbformat": 4,
 "nbformat_minor": 5
}
