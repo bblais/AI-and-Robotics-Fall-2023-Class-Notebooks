{
 "cells": [
  {
   "cell_type": "markdown",
   "id": "06e05c23-d084-4ebc-9794-5b96d4d535f4",
   "metadata": {},
   "source": [
    "# More Features of Python\n",
    "\n",
    "## Strings\n",
    "\n",
    "Strings refer to strings of characters, like"
   ]
  },
  {
   "cell_type": "code",
   "execution_count": 1,
   "id": "efda2e63-bbc9-4ce8-94e8-9a7cb94dbf5d",
   "metadata": {},
   "outputs": [
    {
     "name": "stdout",
     "output_type": "stream",
     "text": [
      "hello thereboth types of quotes work\n"
     ]
    }
   ],
   "source": [
    "a='hello there'\n",
    "\n",
    "b=\"both types of quotes work\"\n",
    "\n",
    "c=a+b\n",
    "\n",
    "print(c)"
   ]
  },
  {
   "cell_type": "markdown",
   "id": "b33d45aa-466e-47c7-b40f-e7269e71eb33",
   "metadata": {},
   "source": [
    "## File Input/Output\n",
    "\n",
    "## Tid-bits\n",
    "\n",
    "In this section I am placing a number of useful techniques which don't\n",
    "fall easily into any other categories.\n",
    "\n",
    "### Swapping Two Values\n",
    "\n",
    "If I want to swap the values of two variables, it is easiest done by the\n",
    "one-liner"
   ]
  },
  {
   "cell_type": "code",
   "execution_count": 2,
   "id": "142e75d8-23c3-4375-8ec3-f86e8dbfefaf",
   "metadata": {},
   "outputs": [
    {
     "name": "stdout",
     "output_type": "stream",
     "text": [
      "a= 4\n",
      "b= 5\n",
      "a= 5\n",
      "b= 4\n"
     ]
    }
   ],
   "source": [
    "a=4 \n",
    "b=5\n",
    "print(\"a=\",a)\n",
    "print(\"b=\",b)\n",
    "\n",
    "a,b=b,a\n",
    "\n",
    "print(\"a=\",a)\n",
    "print(\"b=\",b)"
   ]
  },
  {
   "cell_type": "markdown",
   "id": "fe08d3c1-5f2d-4664-b4a8-f0b6f9e78145",
   "metadata": {},
   "source": [
    "### Looping through List Elements\n",
    "\n",
    "One is often in the position of having to go through all of the elements\n",
    "of a list, to find the maximum or minimum, or perhaps a certain value.\n",
    "The straightforward way of doing it is a for-loop."
   ]
  },
  {
   "cell_type": "code",
   "execution_count": 3,
   "id": "f29d112f-5a60-4097-83d3-161db0197b2c",
   "metadata": {},
   "outputs": [],
   "source": [
    "def find3(l):\n",
    "    # find all of the elements that are equal to 3\n",
    "    idx=[];  # start the index list equal to empty\n",
    "    for i in range(len(l)):\n",
    "        \n",
    "        if l[i]==3:\n",
    "            idx.append(i) # tack on the value i to the index vector\n",
    "\n",
    "    return idx"
   ]
  },
  {
   "cell_type": "markdown",
   "id": "a9c82c1b-bc75-47a0-9dd3-52d9fe3b9f4e",
   "metadata": {},
   "source": [
    "used like"
   ]
  },
  {
   "cell_type": "code",
   "execution_count": 4,
   "id": "0565c6b0-df9f-480d-a784-74999ba5689d",
   "metadata": {},
   "outputs": [
    {
     "data": {
      "text/plain": [
       "[1, 6]"
      ]
     },
     "execution_count": 4,
     "metadata": {},
     "output_type": "execute_result"
    }
   ],
   "source": [
    "l=[1,3,6,2,5,7,3,5]\n",
    "find3(l)"
   ]
  },
  {
   "cell_type": "markdown",
   "id": "3d995330-1c23-47fd-825e-b0c8b69c0b6e",
   "metadata": {},
   "source": [
    "Remember that indices start with 0!\n",
    "\n",
    "### Sorting\n",
    "\n",
    "There are a number of ways of sorting a list of numbers. Some algorithms\n",
    "are very quick, but are more abstract to implement. A common algorithm\n",
    "which is not particularly fast, but is very easy to remember, is called\n",
    "the *bubble sort*. To sort in decreasing order, the bubble sort looks\n",
    "like:\n",
    "\n",
    "The code would look like"
   ]
  },
  {
   "cell_type": "code",
   "execution_count": 5,
   "id": "a52bf924-b314-4699-9a7a-6c92e9295343",
   "metadata": {},
   "outputs": [],
   "source": [
    "def sortit(x):\n",
    "    # bubble sort\n",
    "    y=x[:]  # make a copy of the list\n",
    "    N=len(y)\n",
    "    \n",
    "    swapped=True\n",
    "    while swapped:\n",
    "        swapped=False\n",
    "\n",
    "        for i in range(N-1):\n",
    "            if y[i]>y[i+1]:\n",
    "                y[i],y[i+1]=y[i+1],y[i]  # swap\n",
    "                swapped=True\n",
    "\n",
    "    return y"
   ]
  },
  {
   "cell_type": "markdown",
   "id": "24deb6e6-fb23-414b-8fb1-21aeec907f55",
   "metadata": {},
   "source": [
    "and run like"
   ]
  },
  {
   "cell_type": "code",
   "execution_count": 6,
   "id": "3884522b-8720-42c6-82eb-1ce159d65fbe",
   "metadata": {},
   "outputs": [
    {
     "data": {
      "text/plain": [
       "[1, 2, 3, 3, 5, 5, 6, 7]"
      ]
     },
     "execution_count": 6,
     "metadata": {},
     "output_type": "execute_result"
    }
   ],
   "source": [
    "l=[1,3,6,2,5,7,3,5]\n",
    "m=sortit(l)\n",
    "m"
   ]
  },
  {
   "cell_type": "markdown",
   "id": "fe7a2767-8a08-43df-b317-01c42170311b",
   "metadata": {},
   "source": [
    "Of course, there is already a function called `sort` which does just\n",
    "that."
   ]
  },
  {
   "cell_type": "code",
   "execution_count": 7,
   "id": "c1b8dea8-c40d-40f8-9297-4635b28b39d8",
   "metadata": {},
   "outputs": [
    {
     "data": {
      "text/plain": [
       "[1, 2, 3, 3, 5, 5, 6, 7]"
      ]
     },
     "execution_count": 7,
     "metadata": {},
     "output_type": "execute_result"
    }
   ],
   "source": [
    "m=l[:]  # copy the list\n",
    "m.sort()\n",
    "m"
   ]
  },
  {
   "cell_type": "code",
   "execution_count": null,
   "id": "e1193dc8-b8a1-452b-a7ac-d404b9bc3b41",
   "metadata": {},
   "outputs": [],
   "source": []
  }
 ],
 "metadata": {
  "kernelspec": {
   "display_name": "Python 3",
   "language": "python",
   "name": "python3"
  },
  "language_info": {
   "codemirror_mode": {
    "name": "ipython",
    "version": 3
   },
   "file_extension": ".py",
   "mimetype": "text/x-python",
   "name": "python",
   "nbconvert_exporter": "python",
   "pygments_lexer": "ipython3",
   "version": "3.8.10"
  }
 },
 "nbformat": 4,
 "nbformat_minor": 5
}
