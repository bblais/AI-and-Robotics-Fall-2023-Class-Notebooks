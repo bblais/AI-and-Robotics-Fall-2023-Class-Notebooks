{
 "cells": [
  {
   "cell_type": "markdown",
   "id": "f42b79f2-522a-4baf-9329-6b872767498f",
   "metadata": {},
   "source": [
    "# Acknowledgments\n",
    "\n",
    "I want to thank the Bryant College AI and Robotics class of Fall 2003\n",
    "for having the patience with me teaching the course *without* this\n",
    "guide. Their good work has motivated me to write it. The Bryant\n",
    "University AI and Robotics class of Fall 2004 allowed me to clean up\n",
    "many of the exercises, and make the text more clear. The AI and Robotics\n",
    "class of 2011 motivated me to do many improvements to this document.\n",
    "\n",
    "Also, now I want to thank the AI and Robotics class of Fall 2021 and Ryan Smith for motivating me to translate this to a slightly more modern platform.\n"
   ]
  },
  {
   "cell_type": "markdown",
   "id": "5387c9b8-9703-4630-b00b-09182e1ca01d",
   "metadata": {},
   "source": [
    "# Preface: Why Python? \n",
    "\n",
    "There are several reasons for me choosing Python as the\n",
    "language/environment for introducing programming, some of them\n",
    "practical, some pedagogical, and some personal.\n",
    "\n",
    "\n",
    "- Python is free, as in \"free oil changes\". I believe this is an\n",
    "important consideration for teaching any language. If it is accessible,\n",
    "then students are more likely to use it beyond the particular class that\n",
    "is being taught. \n",
    "- Python is free, as in \"free speech\". This allows me to\n",
    "distribute freely anything I develop with Python, and any changes to\n",
    "Python that I make for my own purposes. \n",
    "- Python is available both for\n",
    "Windows, Linux, and the Mac. Since I work in both a Mac and a Linux\n",
    "environment, but am surrounded by students who only know MS Windows,\n",
    "this is a personal reason for me using it. \n",
    "- Python is simple. It's\n",
    "syntax is extremely clean. There are no variable declarations or\n",
    "pointers. There are no segmentation faults or other memory errors.\n",
    "\n",
    "- Python is interpreted. This makes it easy to develop programs, and more\n",
    "importantly to *debug* programs. \n",
    "- Python is flexible. You can do dynamic\n",
    "heterogeneous arrays, structures, lists, objects and classes with a\n",
    "simple syntax. You can do both procedural and object-oriented\n",
    "programming (or a mixture) if you want.\n",
    "\n",
    "This guide grew out of my experience teaching an Artificial Intelligence\n",
    "and Robotics course at Bryant University (formerly Bryant College). The course includes students from\n",
    "many majors, not many of which are computer oriented. As such, Python\n",
    "was a choice (over the traditional Lisp for AI) that would have a chance\n",
    "to be used by students in other contexts outside of the class.\n",
    "\n",
    "As far as other possible languages for the course, C or Java are obvious\n",
    "choices, especially given how much support material there is out there\n",
    "(I wouldn't have had to write this guide at all), but I believe that\n",
    "certain language structures, like variable declarations and pointers (in\n",
    "C), get in the way of the concepts I want to teach. Visual Basic is a\n",
    "possibility, but I don't know that language as well as others, I don't\n",
    "believe it exists currently for Linux, and I don't believe it has the\n",
    "simplicity and power of Python. Lisp is the most common choice for an AI\n",
    "class, but as noted above the course I teach is not a traditional\n",
    "Computer Science AI course. Pascal is not portable enough, and Prolog is\n",
    "just too weird. :)\n",
    "\n",
    "Since running my classes with Python for many years now, I feel I have\n",
    "accomplished things in this language that would be very difficult, or\n",
    "impossible, to do with a different language. Such things include using\n",
    "Python to program Lego Mindstorms robots, writing numerical simulators\n",
    "with near-mathematical notation, and flexibly dealing with many\n",
    "different types of data. I have yet to have a project where Python\n",
    "wasn't the easiest language to develop that project."
   ]
  },
  {
   "cell_type": "markdown",
   "id": "a84dfb12-edbc-45ec-9b64-87fae580e499",
   "metadata": {},
   "source": [
    "# Introduction\n",
    "\n",
    "This guide is written to provide an introduction to programming, for\n",
    "those who may have no programming experience. It uses a\n",
    "language/environment called Python (available for free online at\n",
    "`www.python.org`), although for Windows I prefer the Enthought\n",
    "(`www.enthought.com`) version. At the time of writing this guide, the\n",
    "current version of Python is 2.7 (with the Enthought version). The guide\n",
    "includes example code and exercises for the reader (with solutions for\n",
    "the instructor). Programming is a skill which can only be learned by\n",
    "doing, so the examples covered later in the guide depend on code written\n",
    "as exercises earlier on. It is therefore important to do all of the\n",
    "exercises along the way.\n",
    "\n",
    "## What is Programming?\n",
    "\n",
    "A *program* is a sequence of instructions telling the computer what to\n",
    "do to accomplish some task. Programming amounts to determining the\n",
    "proper sequence of instructions to accomplish the task, writing these\n",
    "instructions in some language (also called computer *code*), and testing\n",
    "the results of running the program to make sure that the program is in\n",
    "fact accomplishing the task correctly. When people write these programs\n",
    "for computers to read and execute, difficulties arise because computers\n",
    "read languages very differently than people read languages. There are\n",
    "two main qualities of computers which are important here: \n",
    "\n",
    "- Computers are *syntactically picky*.\n",
    "\n",
    "Syntax refers to the rules about about is allowed in a language. For\n",
    "example, the following is *not* syntactically correct English:\n",
    "\n",
    "> Th.e qui’ck br.own f/ox ju[mps ov]er t=he 1azy blog.\n",
    "\n",
    "There are rules in English for the placement of punctuation marks which\n",
    "are seriously violated in this \"sentence\" (to call it a sentence is to\n",
    "infer that it is syntactically correct). Unless you are really\n",
    "observant, you may not have even noticed the difference between \"lazy\"\n",
    "and \"1azy\", the latter having the digit \"1\" (one) in front. As humans we\n",
    "can overlook these small syntactical problems and still infer the\n",
    "meaning of the sentence (or *most* of the meaning, if we refuse to\n",
    "assume we meant \"dog\" instead of \"blog\"). The computer cannot do this.\n",
    "Any small syntactical error will cause the program to fail.\n",
    "\n",
    "\n",
    "- Computers are *completely literal*.\n",
    "\n",
    "Computer languages have *unambiguous* rules: each statement has one, and\n",
    "only one, meaning. One example of this we will encounter later is in\n",
    "translating an English sentence like \"$x$ is less than $y$ and $z$\" into\n",
    "code. What we *mean* is \"$x$ is less than $y$ and $x$ is also less than\n",
    "$z$\". Depending on how we translate the code, the computer could\n",
    "interpret the sentence as \"($x$ is less than $y$) and $z$\" which, in\n",
    "more proper English, would be \"$z$ is a true statement and, in addition,\n",
    "$x$ is less than $y$\". Quite a different meaning than what we intended!\n",
    "\n",
    "Solving the syntax problems are the easiest, because the computer will\n",
    "generally tell you where they are (even if the error messages it gives\n",
    "are a bit obtuse). Solving the problems in *meaning* or what I refer to\n",
    "as the *logic* of the program, is much harder. It is very common for a\n",
    "programmer to stare at the computer swearing that it is not doing \"what\n",
    "I told it to do\", when in fact the computer does *exactly* what you tell\n",
    "it to do. It may not be doing what you *meant* it to do. Tracking down\n",
    "these problems, a process known as *debugging*, takes time and practice.\n",
    "\n",
    "Learning to program is like learning to play a musical instrument. You\n",
    "can read all you want, you can watch others do it, but until you program\n",
    "the computer yourself you will never really learn how to do it.\n"
   ]
  },
  {
   "attachments": {
    "d9aa1443-2334-4ae4-8742-856c8a437752.png": {
     "image/png": "[encoded data removed]"
    }
   },
   "cell_type": "markdown",
   "id": "455f016d-888f-4720-bb08-feda67172224",
   "metadata": {},
   "source": [
    "## What is Python?\n",
    "\n",
    "Python is, as stated in the official introduction,\n",
    "\n",
    "> ... an easy to learn, powerful programming language. It has efficient\n",
    "> high-level data structures and a simple but effective approach to\n",
    "> object-oriented programming. Python's elegant syntax and dynamic\n",
    "> typing, together with its interpreted nature, make it an ideal\n",
    "> language for scripting and rapid application development in many areas\n",
    "> on most platforms.\n",
    "\n",
    "When you run Jupyter you will will be greeted with your webbrowser, with a form-field called a *Cell*,\n",
    "\n",
    "![image.png](attachment:d9aa1443-2334-4ae4-8742-856c8a437752.png)\n",
    "\n",
    "Everything in this tutorial which is written in `this font` is the text\n",
    "displayed in the cell or in a Python program. When I give\n",
    "commands to type on the command line, like the command for help, I will\n",
    "display it like this\n",
    "\n",
    "```python\n",
    "    In [3]:help()\n",
    "```\n",
    "\n",
    "> Useful keyboard shortcut: **Shift-enter:  execute (i.e. run) the current cell**\n",
    "\n"
   ]
  },
  {
   "cell_type": "markdown",
   "id": "de01c43c-5546-47bc-aaed-df1f6fe0c862",
   "metadata": {},
   "source": [
    "\n",
    "Notice that the only part that you would type is the `help()` part, not\n",
    "the `In [3]:` part which is just the prompt given by Python to say that\n",
    "it is awaiting a command.\n",
    "\n",
    "At minimum, the Python interpreter is a fancy calculator. For example,\n",
    "\n"
   ]
  },
  {
   "cell_type": "code",
   "execution_count": 1,
   "id": "f3b643ea-ae1f-4494-8adb-2d046b88cfa4",
   "metadata": {},
   "outputs": [
    {
     "data": {
      "text/plain": [
       "165710"
      ]
     },
     "execution_count": 1,
     "metadata": {},
     "output_type": "execute_result"
    }
   ],
   "source": [
    "365*454"
   ]
  },
  {
   "cell_type": "code",
   "execution_count": 2,
   "id": "19cbfde1-57e2-4f93-bb6c-45e3d6032362",
   "metadata": {},
   "outputs": [
    {
     "data": {
      "text/plain": [
       "0.13271604938271606"
      ]
     },
     "execution_count": 2,
     "metadata": {},
     "output_type": "execute_result"
    }
   ],
   "source": [
    "43.0/324.0"
   ]
  },
  {
   "cell_type": "code",
   "execution_count": 3,
   "id": "27596690-0672-4939-b72b-6472b3654456",
   "metadata": {},
   "outputs": [
    {
     "data": {
      "text/plain": [
       "1024"
      ]
     },
     "execution_count": 3,
     "metadata": {},
     "output_type": "execute_result"
    }
   ],
   "source": [
    "2**10"
   ]
  },
  {
   "cell_type": "code",
   "execution_count": 4,
   "id": "cc29de79-9a94-44cc-8126-d63603e6d968",
   "metadata": {},
   "outputs": [],
   "source": [
    "import math  # import the math functions"
   ]
  },
  {
   "cell_type": "code",
   "execution_count": 5,
   "id": "efe24acf-77e1-46e6-ab84-9238261048dc",
   "metadata": {},
   "outputs": [
    {
     "data": {
      "text/plain": [
       "-0.9589242746631385"
      ]
     },
     "execution_count": 5,
     "metadata": {},
     "output_type": "execute_result"
    }
   ],
   "source": [
    "math.sin(5)"
   ]
  },
  {
   "cell_type": "code",
   "execution_count": 6,
   "id": "e66e223e-c8d3-4058-9b9d-6d002bd99d9a",
   "metadata": {},
   "outputs": [
    {
     "data": {
      "text/plain": [
       "-0.9999999999964793"
      ]
     },
     "execution_count": 6,
     "metadata": {},
     "output_type": "execute_result"
    }
   ],
   "source": [
    "math.cos(3.14159)"
   ]
  },
  {
   "cell_type": "code",
   "execution_count": 7,
   "id": "8daaeff5-efa4-4322-b450-dde4595d9951",
   "metadata": {},
   "outputs": [
    {
     "data": {
      "text/plain": [
       "10"
      ]
     },
     "execution_count": 7,
     "metadata": {},
     "output_type": "execute_result"
    }
   ],
   "source": [
    "2+2+2+2+2"
   ]
  },
  {
   "cell_type": "code",
   "execution_count": 8,
   "id": "8cc6757f-fa25-475e-a77a-5c80e3a830ec",
   "metadata": {},
   "outputs": [
    {
     "data": {
      "text/plain": [
       "55"
      ]
     },
     "execution_count": 8,
     "metadata": {},
     "output_type": "execute_result"
    }
   ],
   "source": [
    "(3+2)*(6+5)"
   ]
  },
  {
   "cell_type": "markdown",
   "id": "3318e530-4524-4d70-9b1e-f2d5fc669dc1",
   "metadata": {},
   "source": [
    "\n",
    "All of the arithmetic operators (+, -, \\*, /, \\*\\*) are supported. To\n",
    "use the standard math functions, like the trigonometric functions (sin,\n",
    "cos, tan), one needs to import the math module, with\n",
    "\n",
    "```python\n",
    "    In [7]:import math \n",
    "```\n",
    "\n",
    "After that, one can use them, preceding them with `math.`, like\n",
    "` math.sin`, `math.cos`, etc...  Or one can be lazy and load all of the math functions all at once,"
   ]
  },
  {
   "cell_type": "markdown",
   "id": "aa00d1e6-89b0-4e69-9df5-6dafc7a022cc",
   "metadata": {},
   "source": [
    "```python\n",
    "from math import *  # load all the math functions\n",
    "```"
   ]
  },
  {
   "cell_type": "markdown",
   "id": "bc595c78-d37d-43d7-820f-2d3243cb6c1f",
   "metadata": {},
   "source": [
    "## Your First Program: Hello World\n",
    "\n",
    "It is programming tradition to have your first program, in whatever\n",
    "language, simply print out a message saying \"Hello, World!\". Although it\n",
    "is perhaps the most basic program to write, in order to get it to run\n",
    "you will already have to be able to do several steps: \n",
    "\n",
    "1. Edit the program\n",
    "2. Save it in the proper place \n",
    "3. Run the program\n",
    "\n",
    "if you're reading this in a Jupyter notebook, you are already done with two thirds of these steps.  All we need is the **Shift-Enter** to run it."
   ]
  },
  {
   "cell_type": "code",
   "execution_count": 9,
   "id": "9cf1783c-3bdf-4193-8497-a7ef0b8a3450",
   "metadata": {},
   "outputs": [
    {
     "name": "stdout",
     "output_type": "stream",
     "text": [
      "hello world\n"
     ]
    }
   ],
   "source": [
    "print(\"hello world\")"
   ]
  },
  {
   "cell_type": "markdown",
   "id": "e9c3e32a-aa27-47eb-8f19-82bf3fcaee2f",
   "metadata": {},
   "source": [
    "\n",
    "### Error!\n",
    "\n",
    "You may find the following error happens:"
   ]
  },
  {
   "attachments": {
    "dd773ee7-a46c-4498-a494-5b7f64b902b0.png": {
     "image/png": "[encoded data removed]"
    }
   },
   "cell_type": "markdown",
   "id": "db3bc2d4-99c2-46ed-bb9a-16b4f1cdfa2e",
   "metadata": {},
   "source": [
    "```python\n",
    "[11]: prnt(\"hello world\")\n",
    "```\n",
    "\n",
    "![image.png](attachment:dd773ee7-a46c-4498-a494-5b7f64b902b0.png)\n",
    "\n",
    "\n",
    "this is because of a typo -- check your spelling!"
   ]
  },
  {
   "cell_type": "markdown",
   "id": "71a4e39d-d06b-46eb-b586-e6c4a1242e8a",
   "metadata": {},
   "source": [
    "### A Slightly More Complex Program"
   ]
  },
  {
   "cell_type": "code",
   "execution_count": 10,
   "id": "00d2cf2f-35a8-4c01-be5d-228d21366cba",
   "metadata": {},
   "outputs": [
    {
     "name": "stdout",
     "output_type": "stream",
     "text": [
      "Hello, World!\n",
      "The result of 2+2 is 4\n"
     ]
    }
   ],
   "source": [
    "print(\"Hello, World!\")\n",
    "print(\"The result of 2+2 is\",2+2)\n"
   ]
  },
  {
   "cell_type": "markdown",
   "id": "ddf50fb2-2000-4c49-9037-8b1f03ce69e9",
   "metadata": {},
   "source": [
    "### One More Example Program"
   ]
  },
  {
   "cell_type": "code",
   "execution_count": 11,
   "id": "f1bdefa3-249c-462d-81df-2c660b6852f6",
   "metadata": {},
   "outputs": [
    {
     "name": "stdout",
     "output_type": "stream",
     "text": [
      "Hello, World!\n",
      "The result of 2 + 1 = 3\n"
     ]
    }
   ],
   "source": [
    "import random\n",
    "\n",
    "print(\"Hello, World!\")\n",
    "a=random.randint(1,10) # random number from 1-10\n",
    "b=random.randint(1,10)  # random number from 1-10\n",
    "\n",
    "c=a+b\n",
    "\n",
    "print(\"The result of\",a,\"+\",b,\"=\",c)"
   ]
  },
  {
   "cell_type": "markdown",
   "id": "9a5c3714-aca6-4c25-a741-a1cb038e1b5e",
   "metadata": {},
   "source": [
    "Try running it several times! What does it do?"
   ]
  },
  {
   "cell_type": "code",
   "execution_count": null,
   "id": "e8482264-cb01-490f-9143-260460070125",
   "metadata": {},
   "outputs": [],
   "source": []
  },
  {
   "cell_type": "code",
   "execution_count": null,
   "id": "97bcee26-3d5b-4132-9ab8-4305582000f4",
   "metadata": {},
   "outputs": [],
   "source": []
  }
 ],
 "metadata": {
  "kernelspec": {
   "display_name": "Python 3",
   "language": "python",
   "name": "python3"
  },
  "language_info": {
   "codemirror_mode": {
    "name": "ipython",
    "version": 3
   },
   "file_extension": ".py",
   "mimetype": "text/x-python",
   "name": "python",
   "nbconvert_exporter": "python",
   "pygments_lexer": "ipython3",
   "version": "3.8.10"
  }
 },
 "nbformat": 4,
 "nbformat_minor": 5
}
