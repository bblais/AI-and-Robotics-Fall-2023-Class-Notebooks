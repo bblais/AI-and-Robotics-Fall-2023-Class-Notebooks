{
 "cells": [
  {
   "cell_type": "markdown",
   "id": "99977c5e-ced6-483d-ad53-cd7c9d2d248c",
   "metadata": {},
   "source": [
    "## Extended Example: Tank Wars with N Players\n",
    "\n",
    "If we wanted to extend our previous tank wars example from 2 players to\n",
    "any amount of players, we would have to make some organizational changes\n",
    "to reflect multiple players. In this version, the wind speed will be set\n",
    "randomly each turn, not just at the beginning of the game."
   ]
  },
  {
   "cell_type": "markdown",
   "id": "5e5bf1d3-c725-443b-8866-3eb41eed395d",
   "metadata": {},
   "source": [
    "- Get Number of Players \n",
    "- Get The Tank Positions \n",
    "- While No One Has Won\n",
    "    - Set Wind Speed \n",
    "    - Display The Tank Positions and Wind Speed \n",
    "    - For Each Surviving Player... \n",
    "        - Get Their Angle and Speed \n",
    "        - Get Where Each Shot Landed \n",
    "    - Display Where Each Shot Landed \n",
    "    - Determine Who Has Been Destroyed, If Anyone \n",
    "    - Determine Who Has Won, If Anyone \n",
    "- Display Who Won\n",
    "\n",
    "Almost all of the structure will be the same as the 2 player game. To\n",
    "get the number of players, we can use the same structure as we used\n",
    "before for getting values typed in by the user\n"
   ]
  },
  {
   "cell_type": "code",
   "execution_count": 6,
   "id": "b543978a-6bce-416b-819e-a77979b6fbfc",
   "metadata": {},
   "outputs": [],
   "source": [
    "def get_number_of_players():\n",
    "    N=int(input('How many players? '))\n",
    "\n",
    "    if N<=1:\n",
    "        raise ValueError('Illegal number of players')\n",
    "\n",
    "    return N"
   ]
  },
  {
   "cell_type": "markdown",
   "id": "4879e741-fc0b-4fd8-802e-655a10239506",
   "metadata": {},
   "source": [
    "To get the tank positions, we choose random numbers from 0 to 1000. We\n",
    "need `N` of them, so we want to make a list of length `N` (using the\n",
    "` *` operator), and then filling in the values using `random()`\n",
    "to make a random values containing values from 0 to 1. We can then\n",
    "multiply by 1000 to get the positions."
   ]
  },
  {
   "cell_type": "code",
   "execution_count": 7,
   "id": "9b7a8cd2-54db-4175-853a-81ba10b3b25f",
   "metadata": {},
   "outputs": [],
   "source": [
    "def get_tank_positions(N):\n",
    "    from random import random\n",
    "    \n",
    "    pos=[0]*N   # make a list of length N, with zeros\n",
    "\n",
    "    # fill in all the values with random numbers\n",
    "    for i in range(N):\n",
    "        pos[i]=random()*1000.0\n",
    "\n",
    "    return pos"
   ]
  },
  {
   "cell_type": "code",
   "execution_count": 8,
   "id": "6038b440-f336-4069-975e-141cde356791",
   "metadata": {},
   "outputs": [
    {
     "data": {
      "text/plain": [
       "[240.52428858079767,\n",
       " 630.8041880180731,\n",
       " 2.4348094222302885,\n",
       " 765.4091453651428,\n",
       " 190.33972370290886]"
      ]
     },
     "execution_count": 8,
     "metadata": {},
     "output_type": "execute_result"
    }
   ],
   "source": [
    "get_tank_positions(5)"
   ]
  },
  {
   "cell_type": "markdown",
   "id": "2e7c9b62-4874-4327-9405-982a0bd83021",
   "metadata": {},
   "source": [
    "Next we must write out how we do For Each Surviving Player. Somehow we\n",
    "need to keep track of which players are dead, and only ask for input\n",
    "from non-dead players. To do this, let's make another list, called\n",
    "`isdead`, which is `False` for all alive players and `True` for all dead\n",
    "players. Then"
   ]
  },
  {
   "cell_type": "markdown",
   "id": "b3e82c26-95d3-4cd6-a828-2cfbd307827e",
   "metadata": {},
   "source": [
    "- While No One Has Won \n",
    "    - Set Wind Speed \n",
    "    - Display The Tank Positions and Wind Speed \n",
    "    - For Each Surviving Player... \n",
    "        - Get Their Angle and Speed\n",
    "        - Get Where Each Shot Landed \n",
    "    - Display Where Each Shot Landed \n",
    "    - Determine Who Has Been Destroyed, If Anyone \n",
    "    - Determine Who Has Won, If Anyone\n",
    "- Display Who Won \n",
    "\n",
    "Changes to \n",
    "\n",
    "- Initialize `isdead` List to all Zeros\n",
    "- While No One Has Won \n",
    "    - Set Wind Speed \n",
    "    - Display The Tank Positions and Wind Speed \n",
    "    - For Each Player... \n",
    "        - If the Player is Not Dead... \n",
    "            - Get Their Angle and Speed \n",
    "        - Get Where Each Shot Landed \n",
    "    - Display Where Each Shot Landed \n",
    "    - Determine Who Has Been Destroyed, If Anyone \n",
    "    - For all of those destroyed, set `isdead` to `True` \n",
    "    - Determine Who Has Won, If Anyone \n",
    "- Display Who Won"
   ]
  },
  {
   "cell_type": "markdown",
   "id": "f38c5a31-b140-4e40-b441-d1d87e2a7d0f",
   "metadata": {},
   "source": [
    "The statement Get Where Each Shot Landed in this case will be translated\n",
    "to Make a List of Positions of Where Each Player's Shot Landed. This is\n",
    "the sum of the previously written function `get_shot_distance` and the\n",
    "current tank position. The inner-most loop now becomes"
   ]
  },
  {
   "cell_type": "markdown",
   "id": "5e02e45c-7f86-4436-ac7c-ad77f7e45c34",
   "metadata": {},
   "source": [
    "```python\n",
    "for player in range(N):\n",
    "            \n",
    "    # get all of the angles and speeds\n",
    "\n",
    "    if not isdead[player]:\n",
    "        [angle,speed]=get_angle_and_speed(player)\n",
    "\n",
    "        distance=get_shot_distance(angle,speed,wind_speed)\n",
    "\n",
    "        # make a list with all of the places the shots landed\n",
    "        shot_pos[player]=tank_pos[player]+distance\n",
    "``` "
   ]
  },
  {
   "cell_type": "markdown",
   "id": "290f4f47-6a34-4541-b5c2-71850c73a4f7",
   "metadata": {},
   "source": [
    "We have to update the `get_angle_and_speed` function to accept angles\n",
    "from 0 to 180, instead of from 0 to 90, so the tanks can fire both to\n",
    "the right and to the left. In that function\n",
    "\n",
    "```python\n",
    "if (angle<0) or (angle>90): # illegal angles\n",
    "```\n",
    "\n",
    "becomes\n",
    "\n",
    "```python\n",
    "if (angle<0) or (angle>180): # illegal angles\n",
    "```\n",
    "\n"
   ]
  },
  {
   "cell_type": "markdown",
   "id": "bfe06c47-1fc8-4d60-92db-0b92f9e85eaa",
   "metadata": {},
   "source": [
    "To Determine Who Has Been Destroyed, If Anyone, we must go through all\n",
    "players (the same type of loop), and check to see if any of the shots\n",
    "were within range. We should make a function, called `isdestroyed`, to\n",
    "return `True` if the tank is destroyed. What information does this\n",
    "function need? It certainly needs to know which tank we are testing to\n",
    "see if it is destroyed, the positions of the tanks, the positions of the\n",
    "shots, and which tanks are dead. Thus, it's syntax should be something\n",
    "like ` isdestroyed(player,tank_pos,shot_pos,isdead)`. A dead tank should\n",
    "return `False`."
   ]
  },
  {
   "cell_type": "code",
   "execution_count": 10,
   "id": "2ff0b208-2f36-401e-8762-c8aea223eefb",
   "metadata": {},
   "outputs": [],
   "source": [
    "def isdestroyed(current_player,tank_pos,shot_pos,isdead):\n",
    "\n",
    "    if isdead[current_player]:\n",
    "        return False # a dead one cannot be destroyed\n",
    "\n",
    "    N=len(tank_pos)\n",
    "\n",
    "    for player in range(N):  # players numbered from 0 to N-1\n",
    "        if not isdead[player]:  # did the player's shot hit the current player?\n",
    "            if abs(shot_pos[player]-tank_pos[current_player])<10: # a hit\n",
    "                return True\n",
    "\n",
    "\n",
    "    # if you've gotten this far past the loop, then you're not destroyed\n",
    "\n",
    "    return False\n"
   ]
  },
  {
   "cell_type": "markdown",
   "id": "8b0b4df9-19ff-4351-9c84-f50d95fb610d",
   "metadata": {},
   "source": [
    "Notice how we obtained the value for `N` in the function. Since we can't\n",
    "use `N` without assigning it a value, we could have passed the value of\n",
    "`N` as a parameter. Instead (just to make one less parameter) we\n",
    "determined `N` from the properties of the other parameters, namely the\n",
    "length of the tank position list. This saves us one more parameter to\n",
    "pass, and makes the code a bit cleaner.\n",
    "\n",
    "To print out the tank positions, what we need to do is to go through all\n",
    "of the players, print one message for the ones which are dead\n",
    "(` isdead(player)`), and another for those that are still surviving.\n"
   ]
  },
  {
   "cell_type": "code",
   "execution_count": 11,
   "id": "9af195e4-77b9-4347-8af5-19ab2d7215c6",
   "metadata": {},
   "outputs": [],
   "source": [
    "def print_tank_positions(pos,isdead):\n",
    "    N=len(pos)\n",
    "\n",
    "    for player in range(N):\n",
    "        if isdead[player]:\n",
    "            print('Player ',player,' is dead.')\n",
    "        else:\n",
    "            print('Player ',player,' is at position ',pos[player],'.')\n",
    "\n"
   ]
  },
  {
   "cell_type": "markdown",
   "id": "b92fc4e5-734d-4972-ac0e-4c507a14e69e",
   "metadata": {},
   "source": [
    "A very similar function for printing the shot positions, except we don't\n",
    "have to write anything for those dead tanks, only the ones that are not\n",
    "dead."
   ]
  },
  {
   "cell_type": "code",
   "execution_count": 12,
   "id": "68bd1b33-6fdf-41da-a4e3-3926f4e162d3",
   "metadata": {},
   "outputs": [],
   "source": [
    "def print_shot_positions(pos,isdead):\n",
    "\n",
    "    N=len(pos)\n",
    "\n",
    "    for player in range(N):\n",
    "        if not isdead[player]:\n",
    "            print('Shot for player ',player,' landed at position ',pos[player],'.')"
   ]
  },
  {
   "cell_type": "markdown",
   "id": "0c7c3c37-dfc3-42ba-82d9-953d1f55c564",
   "metadata": {},
   "source": [
    "How do we determine if there is a winner? Logically, it means that there\n",
    "is only one survivor. How do we determine this from the variables we\n",
    "have? If we could count the number of `True` values in the `isdead`\n",
    "list, that would be the number of tanks killed. `N` minus this number is\n",
    "the number of survivors. We may want to also keep track of *which* tank\n",
    "is alive, if any.\n"
   ]
  },
  {
   "cell_type": "markdown",
   "id": "d597bb84-d98a-4c7d-97e6-54982ffdce28",
   "metadata": {},
   "source": [
    "```python\n",
    "# find out who has been destroyed\n",
    "dead_count=0\n",
    "last_alive=-1  # keep track of a live one\n",
    "for player in range(N):\n",
    "    if isdestroyed(player,tank_pos,shot_pos,isdead):\n",
    "        print 'Player ',player,' has been destroyed.'\n",
    "        isdead[player]=True\n",
    "\n",
    "    if isdead[player]:\n",
    "        dead_count=dead_count+1\n",
    "    else:\n",
    "        last_alive=player\n",
    "\n",
    "number_alive=N-dead_count\n",
    "\n",
    "if number_alive<2:\n",
    "    no_one_has_won=False  # break out of loop\n",
    "```"
   ]
  },
  {
   "cell_type": "markdown",
   "id": "cfa01848-1ceb-4592-bef8-d86760293277",
   "metadata": {},
   "source": [
    "Finally, we have all of the pieces together, and the complete program is"
   ]
  },
  {
   "cell_type": "code",
   "execution_count": 13,
   "id": "173ff52a-0718-4c29-ae6f-4ea654b0bf95",
   "metadata": {},
   "outputs": [],
   "source": [
    "import math\n",
    "import random\n",
    "\n",
    "def get_number_of_players():\n",
    "    N=int(input('How many players? '))\n",
    "  \n",
    "    if N<=1:\n",
    "        raise ValueError('Illegal number of players')\n",
    "\n",
    "    return N\n",
    "\n",
    "def get_tank_positions(N):\n",
    "\n",
    "    pos=[0]*N   # make a list of length N, with zeros\n",
    "    \n",
    "    # fill in all the values with random numbers\n",
    "    for i in range(N):\n",
    "        pos[i]=random.random()*1000.0\n",
    "\n",
    "    return pos\n",
    "\n",
    "def isdestroyed(current_player,tank_pos,shot_pos,isdead):\n",
    "  \n",
    "    if isdead[current_player]:\n",
    "        return False # a dead one cannot be destroyed\n",
    "  \n",
    "    N=len(tank_pos)\n",
    "    \n",
    "    for player in range(N):  # players numbered from 0 to N-1\n",
    "        if not isdead[player]:  # did the player's shot hit the current player?\n",
    "            if abs(shot_pos[player]-tank_pos[current_player])<10: # a hit\n",
    "                return True\n",
    "\n",
    "            \n",
    "    # if you've gotten this far past the loop, then you're not destroyed\n",
    "    \n",
    "    return False\n",
    "\n",
    "def print_shot_positions(pos,isdead):\n",
    "    \n",
    "    N=len(pos)\n",
    "    \n",
    "    for player in range(N):\n",
    "        if not isdead[player]:\n",
    "            print('Shot for player ',player,' landed at position ',pos[player],'.')\n",
    "    \n",
    "def print_tank_positions(pos,isdead):\n",
    "    N=len(pos)\n",
    "    \n",
    "    for player in range(N):\n",
    "        if isdead[player]:\n",
    "            print('Player ',player,' is dead.')\n",
    "        else:\n",
    "            print('Player ',player,' is at position ',pos[player],'.')\n",
    "            \n",
    "def get_angle_and_speed(player_number):\n",
    "\n",
    "    print('Player ',player_number)\n",
    "    angle=float(input('  Enter your Angle of Elevation: '))\n",
    "    \n",
    "    if (angle<0) or (angle>90): # illegal angles\n",
    "        raise ValueError(\"Illegal Angle Given\")\n",
    "\n",
    "    speed=float(input('  Enter your Angle of Speed: '))\n",
    "    \n",
    "    if speed<0:\n",
    "        raise ValueError(\"Illegal Speed Given\")\n",
    "        \n",
    "    \n",
    "    return angle,speed\n",
    "\n",
    "\n",
    "def radians(d):\n",
    "    r=d*3.1415926535897932/180\n",
    "    return r\n",
    "\n",
    "def get_shot_distance(angle,shot_speed,wind_speed):\n",
    "\n",
    "    angle=radians(angle)\n",
    "    distance=(shot_speed**2*math.sin(2.0*angle)+\n",
    "              2.0*wind_speed*shot_speed*math.sin(angle))/10.0;\n",
    "\n",
    "\n",
    "    return distance\n"
   ]
  },
  {
   "cell_type": "code",
   "execution_count": 14,
   "id": "c10251be-227a-49d3-9879-b81abf30653f",
   "metadata": {},
   "outputs": [
    {
     "name": "stdin",
     "output_type": "stream",
     "text": [
      "How many players?  4\n"
     ]
    },
    {
     "name": "stdout",
     "output_type": "stream",
     "text": [
      "The wind speed is  6.122720147656025\n",
      "Player  0  is at position  270.6115729329859 .\n",
      "Player  1  is at position  567.5833139916356 .\n",
      "Player  2  is at position  789.4168628349934 .\n",
      "Player  3  is at position  922.3453822126986 .\n",
      "Player  0\n"
     ]
    },
    {
     "name": "stdin",
     "output_type": "stream",
     "text": [
      "  Enter your Angle of Elevation:  35\n",
      "  Enter your Angle of Speed:  25\n"
     ]
    },
    {
     "name": "stdout",
     "output_type": "stream",
     "text": [
      "Player  1\n"
     ]
    },
    {
     "name": "stdin",
     "output_type": "stream",
     "text": [
      "  Enter your Angle of Elevation:  50\n",
      "  Enter your Angle of Speed:  100\n"
     ]
    },
    {
     "name": "stdout",
     "output_type": "stream",
     "text": [
      "Player  2\n"
     ]
    },
    {
     "name": "stdin",
     "output_type": "stream",
     "text": [
      "  Enter your Angle of Elevation:  45\n",
      "  Enter your Angle of Speed:  35\n"
     ]
    },
    {
     "name": "stdout",
     "output_type": "stream",
     "text": [
      "Player  3\n"
     ]
    },
    {
     "name": "stdin",
     "output_type": "stream",
     "text": [
      "  Enter your Angle of Elevation:  67\n",
      "  Enter your Angle of Speed:  100\n"
     ]
    },
    {
     "name": "stdout",
     "output_type": "stream",
     "text": [
      "Shot for player  0  landed at position  346.90160174744165 .\n",
      "Shot for player  1  landed at position  1646.1965819215338 .\n",
      "Shot for player  2  landed at position  942.2227813849988 .\n",
      "Shot for player  3  landed at position  1754.4050547963184 .\n",
      "The wind speed is  3.9105044511135567\n",
      "Player  0  is at position  270.6115729329859 .\n",
      "Player  1  is at position  567.5833139916356 .\n",
      "Player  2  is at position  789.4168628349934 .\n",
      "Player  3  is at position  922.3453822126986 .\n",
      "Player  0\n"
     ]
    },
    {
     "name": "stdin",
     "output_type": "stream",
     "text": [
      "  Enter your Angle of Elevation:  \n"
     ]
    },
    {
     "ename": "ValueError",
     "evalue": "could not convert string to float: ''",
     "output_type": "error",
     "traceback": [
      "\u001b[0;31m---------------------------------------------------------------------------\u001b[0m",
      "\u001b[0;31mValueError\u001b[0m                                Traceback (most recent call last)",
      "\u001b[0;32m<ipython-input-14-5672a75e3413>\u001b[0m in \u001b[0;36m<module>\u001b[0;34m\u001b[0m\n\u001b[1;32m     21\u001b[0m \u001b[0;34m\u001b[0m\u001b[0m\n\u001b[1;32m     22\u001b[0m         \u001b[0;32mif\u001b[0m \u001b[0;32mnot\u001b[0m \u001b[0misdead\u001b[0m\u001b[0;34m[\u001b[0m\u001b[0mplayer\u001b[0m\u001b[0;34m]\u001b[0m\u001b[0;34m:\u001b[0m\u001b[0;34m\u001b[0m\u001b[0;34m\u001b[0m\u001b[0m\n\u001b[0;32m---> 23\u001b[0;31m             \u001b[0;34m[\u001b[0m\u001b[0mangle\u001b[0m\u001b[0;34m,\u001b[0m\u001b[0mspeed\u001b[0m\u001b[0;34m]\u001b[0m\u001b[0;34m=\u001b[0m\u001b[0mget_angle_and_speed\u001b[0m\u001b[0;34m(\u001b[0m\u001b[0mplayer\u001b[0m\u001b[0;34m)\u001b[0m\u001b[0;34m\u001b[0m\u001b[0;34m\u001b[0m\u001b[0m\n\u001b[0m\u001b[1;32m     24\u001b[0m \u001b[0;34m\u001b[0m\u001b[0m\n\u001b[1;32m     25\u001b[0m             \u001b[0mdistance\u001b[0m\u001b[0;34m=\u001b[0m\u001b[0mget_shot_distance\u001b[0m\u001b[0;34m(\u001b[0m\u001b[0mangle\u001b[0m\u001b[0;34m,\u001b[0m\u001b[0mspeed\u001b[0m\u001b[0;34m,\u001b[0m\u001b[0mwind_speed\u001b[0m\u001b[0;34m)\u001b[0m\u001b[0;34m\u001b[0m\u001b[0;34m\u001b[0m\u001b[0m\n",
      "\u001b[0;32m<ipython-input-13-e4a9bfd141c4>\u001b[0m in \u001b[0;36mget_angle_and_speed\u001b[0;34m(player_number)\u001b[0m\n\u001b[1;32m     57\u001b[0m \u001b[0;34m\u001b[0m\u001b[0m\n\u001b[1;32m     58\u001b[0m     \u001b[0mprint\u001b[0m\u001b[0;34m(\u001b[0m\u001b[0;34m'Player '\u001b[0m\u001b[0;34m,\u001b[0m\u001b[0mplayer_number\u001b[0m\u001b[0;34m)\u001b[0m\u001b[0;34m\u001b[0m\u001b[0;34m\u001b[0m\u001b[0m\n\u001b[0;32m---> 59\u001b[0;31m     \u001b[0mangle\u001b[0m\u001b[0;34m=\u001b[0m\u001b[0mfloat\u001b[0m\u001b[0;34m(\u001b[0m\u001b[0minput\u001b[0m\u001b[0;34m(\u001b[0m\u001b[0;34m'  Enter your Angle of Elevation: '\u001b[0m\u001b[0;34m)\u001b[0m\u001b[0;34m)\u001b[0m\u001b[0;34m\u001b[0m\u001b[0;34m\u001b[0m\u001b[0m\n\u001b[0m\u001b[1;32m     60\u001b[0m \u001b[0;34m\u001b[0m\u001b[0m\n\u001b[1;32m     61\u001b[0m     \u001b[0;32mif\u001b[0m \u001b[0;34m(\u001b[0m\u001b[0mangle\u001b[0m\u001b[0;34m<\u001b[0m\u001b[0;36m0\u001b[0m\u001b[0;34m)\u001b[0m \u001b[0;32mor\u001b[0m \u001b[0;34m(\u001b[0m\u001b[0mangle\u001b[0m\u001b[0;34m>\u001b[0m\u001b[0;36m90\u001b[0m\u001b[0;34m)\u001b[0m\u001b[0;34m:\u001b[0m \u001b[0;31m# illegal angles\u001b[0m\u001b[0;34m\u001b[0m\u001b[0;34m\u001b[0m\u001b[0m\n",
      "\u001b[0;31mValueError\u001b[0m: could not convert string to float: ''"
     ]
    }
   ],
   "source": [
    "N=get_number_of_players()\n",
    "  \n",
    "tank_pos=get_tank_positions(N)\n",
    "  \n",
    "# no one starts out dead (0 is the same as false)\n",
    "isdead=[False]*N\n",
    "  \n",
    "# shot positions start off as zero\n",
    "shot_pos=[0]*N\n",
    "  \n",
    "no_one_has_won=True\n",
    "while no_one_has_won:\n",
    "    \n",
    "    wind_speed=(random.random()*20)-10;  #random speed from -10 to 10\n",
    "    print('The wind speed is ',wind_speed)\n",
    "    print_tank_positions(tank_pos,isdead)\n",
    "    \n",
    "    for player in range(N):\n",
    "        \n",
    "        # get all of the angles and speeds\n",
    "      \n",
    "        if not isdead[player]:\n",
    "            [angle,speed]=get_angle_and_speed(player)\n",
    "        \n",
    "            distance=get_shot_distance(angle,speed,wind_speed)\n",
    "        \n",
    "            # make a vector with all of the places the shots landed\n",
    "            shot_pos[player]=tank_pos[player]+distance\n",
    "    \n",
    "    print_shot_positions(shot_pos,isdead)\n",
    "    \n",
    "    # find out who has been destroyed\n",
    "    dead_count=0\n",
    "    last_alive=-1\n",
    "    for player in range(N):\n",
    "        if isdestroyed(player,tank_pos,shot_pos,isdead):\n",
    "            print('Player ',player,' has been destroyed.')\n",
    "            isdead[player]=True\n",
    "      \n",
    "        if isdead[player]:\n",
    "            dead_count=dead_count+1\n",
    "        else:\n",
    "            last_alive=player\n",
    "            \n",
    "    number_alive=N-dead_count\n",
    "    \n",
    "    if number_alive<2:\n",
    "        no_one_has_won=False  # break out of loop\n",
    "\n",
    "        \n",
    "        \n",
    "if number_alive==0:\n",
    "    print('Everyone is dead. Stalemate.')\n",
    "else:\n",
    "    print('Player ',last_alive,' has won!')\n",
    "  "
   ]
  },
  {
   "cell_type": "code",
   "execution_count": null,
   "id": "cf160277-f4eb-4bdc-947a-f9090ed77d98",
   "metadata": {},
   "outputs": [],
   "source": []
  }
 ],
 "metadata": {
  "kernelspec": {
   "display_name": "Python 3",
   "language": "python",
   "name": "python3"
  },
  "language_info": {
   "codemirror_mode": {
    "name": "ipython",
    "version": 3
   },
   "file_extension": ".py",
   "mimetype": "text/x-python",
   "name": "python",
   "nbconvert_exporter": "python",
   "pygments_lexer": "ipython3",
   "version": "3.8.10"
  }
 },
 "nbformat": 4,
 "nbformat_minor": 5
}
