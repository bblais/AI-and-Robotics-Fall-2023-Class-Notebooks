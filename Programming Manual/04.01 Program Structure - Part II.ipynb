{
 "cells": [
  {
   "cell_type": "markdown",
   "id": "4556d7f7-0f73-4057-8647-b2e2621264f9",
   "metadata": {},
   "source": [
    "# Program Structure - Part II\n",
    "\n",
    "Up until this point, everything we have presented is true for\n",
    "practically any programming language. They all have a branching\n",
    "structure, and a looping structure. They all deal with boolean\n",
    "variables, and have some form of function or subroutine structure to\n",
    "break up problems into smaller pieces. Now we add lists and dictionaries\n",
    "to the mix, and really add a lot of power to our programs."
   ]
  },
  {
   "cell_type": "markdown",
   "id": "dded06c2-79ff-404f-8dcb-58b057548dc6",
   "metadata": {},
   "source": [
    "## Lists\n",
    "\n",
    "Python supports lists as a basic data structure. For example, you can do"
   ]
  },
  {
   "cell_type": "code",
   "execution_count": 8,
   "id": "63e0f46e-6821-4b37-949c-2b0824647b18",
   "metadata": {},
   "outputs": [
    {
     "name": "stdout",
     "output_type": "stream",
     "text": [
      "[-4, 4, 10, -2, 20]\n"
     ]
    }
   ],
   "source": [
    "a=[-4,4,10,-2,20]\n",
    "print(a)"
   ]
  },
  {
   "cell_type": "code",
   "execution_count": 2,
   "id": "ababa69e-c4af-4c96-a576-0557f4c17c42",
   "metadata": {},
   "outputs": [
    {
     "data": {
      "text/plain": [
       "-2"
      ]
     },
     "execution_count": 2,
     "metadata": {},
     "output_type": "execute_result"
    }
   ],
   "source": [
    "a[3]"
   ]
  },
  {
   "cell_type": "code",
   "execution_count": 3,
   "id": "d2dfcb21-f189-4fbb-9ca2-7b684e220a72",
   "metadata": {},
   "outputs": [
    {
     "data": {
      "text/plain": [
       "-4"
      ]
     },
     "execution_count": 3,
     "metadata": {},
     "output_type": "execute_result"
    }
   ],
   "source": [
    "a[0]"
   ]
  },
  {
   "cell_type": "code",
   "execution_count": 4,
   "id": "3c995722-236d-4d9e-a019-fd7c9d98fba9",
   "metadata": {},
   "outputs": [
    {
     "ename": "IndexError",
     "evalue": "list index out of range",
     "output_type": "error",
     "traceback": [
      "\u001b[0;31m---------------------------------------------------------------------------\u001b[0m",
      "\u001b[0;31mIndexError\u001b[0m                                Traceback (most recent call last)",
      "\u001b[0;32m<ipython-input-4-4a84d856522b>\u001b[0m in \u001b[0;36m<module>\u001b[0;34m\u001b[0m\n\u001b[0;32m----> 1\u001b[0;31m \u001b[0ma\u001b[0m\u001b[0;34m[\u001b[0m\u001b[0;36m5\u001b[0m\u001b[0;34m]\u001b[0m\u001b[0;34m\u001b[0m\u001b[0;34m\u001b[0m\u001b[0m\n\u001b[0m",
      "\u001b[0;31mIndexError\u001b[0m: list index out of range"
     ]
    }
   ],
   "source": [
    "a[5]"
   ]
  },
  {
   "cell_type": "markdown",
   "id": "0704591a-6c36-4495-b8b8-5cc7240a5420",
   "metadata": {},
   "source": [
    "Notice that you can access the elements of a list like `a[2]`, and that\n",
    "the elements are numbered starting with **0**, not 1. If you try to\n",
    "access beyond the length of a list, then an error results.\n",
    "\n",
    "When using the multiply operator, `*`, the list gets duplicated. For\n",
    "example,"
   ]
  },
  {
   "cell_type": "code",
   "execution_count": 9,
   "id": "6ffdab03-b649-4377-a267-5b7b271e584b",
   "metadata": {},
   "outputs": [
    {
     "name": "stdout",
     "output_type": "stream",
     "text": [
      "[1, 1, 1, 1, 1]\n"
     ]
    }
   ],
   "source": [
    "a=[1]*5\n",
    "print(a)"
   ]
  },
  {
   "cell_type": "markdown",
   "id": "c25f3dd3-c996-45f0-989e-02051d07318c",
   "metadata": {},
   "source": [
    "The length of a list is given by the function `len`. This lets you cycle\n",
    "through the values of a list easily."
   ]
  },
  {
   "cell_type": "code",
   "execution_count": 11,
   "id": "d435b3da-0f27-4f46-9afe-48efbdf3f954",
   "metadata": {},
   "outputs": [
    {
     "name": "stdout",
     "output_type": "stream",
     "text": [
      "The element number  1  is greater than zero\n",
      "The element number  2  is greater than zero\n",
      "The element number  4  is greater than zero\n"
     ]
    }
   ],
   "source": [
    "a=[-4,4,10,-2,20]\n",
    "for i in range(len(a)):\n",
    "    if a[i]>0:\n",
    "        print(\"The element number \",i,\" is greater than zero\")"
   ]
  },
  {
   "cell_type": "markdown",
   "id": "e0c3059c-f2fe-48d4-ad94-692021e900d0",
   "metadata": {},
   "source": [
    "The `for-loop` can more easily be used to loop through the values of the list, rather than looping through the index numbers,"
   ]
  },
  {
   "cell_type": "code",
   "execution_count": 12,
   "id": "03148faa-8c73-4f5b-8a80-4f752e8d7559",
   "metadata": {},
   "outputs": [
    {
     "name": "stdout",
     "output_type": "stream",
     "text": [
      "The value  4  is greater than zero\n",
      "The value  10  is greater than zero\n",
      "The value  20  is greater than zero\n"
     ]
    }
   ],
   "source": [
    "a=[-4,4,10,-2,20]\n",
    "for value in a:\n",
    "    if value>0:\n",
    "        print(\"The value \",value,\" is greater than zero\")"
   ]
  },
  {
   "cell_type": "markdown",
   "id": "009d9645-1d62-40da-ace1-3b85ac4f4c5e",
   "metadata": {},
   "source": [
    "### A Warning about Copying Lists\n"
   ]
  },
  {
   "cell_type": "markdown",
   "id": "4b7cc13e-6b23-4107-97a5-f9929de008a7",
   "metadata": {},
   "source": [
    "In the way that Python works, if you do:"
   ]
  },
  {
   "cell_type": "code",
   "execution_count": 13,
   "id": "5c44e5aa-731f-43f6-bf49-2ee5cb7e68c7",
   "metadata": {},
   "outputs": [],
   "source": [
    "a=[1,2,3,4,5]\n",
    "b=a"
   ]
  },
  {
   "cell_type": "markdown",
   "id": "ecadf8a0-996f-4e92-ab68-13b5dcb298b5",
   "metadata": {},
   "source": [
    "Then `b` is not a copy of `a`, but the **same list** as `a`. Modifying\n",
    "`b` also modifies `a`, for example"
   ]
  },
  {
   "cell_type": "code",
   "execution_count": 14,
   "id": "7b914a6c-535d-4d4f-bfd4-036094342059",
   "metadata": {},
   "outputs": [
    {
     "data": {
      "text/plain": [
       "[1, 2, 3, 4, 5]"
      ]
     },
     "execution_count": 14,
     "metadata": {},
     "output_type": "execute_result"
    }
   ],
   "source": [
    "a"
   ]
  },
  {
   "cell_type": "code",
   "execution_count": 15,
   "id": "ee5491ea-f180-406b-8b2a-7ada4ae2060a",
   "metadata": {},
   "outputs": [
    {
     "data": {
      "text/plain": [
       "[1, 2, 3, 4, 5]"
      ]
     },
     "execution_count": 15,
     "metadata": {},
     "output_type": "execute_result"
    }
   ],
   "source": [
    "b"
   ]
  },
  {
   "cell_type": "code",
   "execution_count": 16,
   "id": "1a4fca6c-836b-4176-ad3f-f9209008996c",
   "metadata": {},
   "outputs": [],
   "source": [
    "b[2]=100"
   ]
  },
  {
   "cell_type": "code",
   "execution_count": 17,
   "id": "96821b57-e8d7-480b-8bd5-eac725b60ee0",
   "metadata": {},
   "outputs": [
    {
     "data": {
      "text/plain": [
       "[1, 2, 100, 4, 5]"
      ]
     },
     "execution_count": 17,
     "metadata": {},
     "output_type": "execute_result"
    }
   ],
   "source": [
    "b"
   ]
  },
  {
   "cell_type": "code",
   "execution_count": 18,
   "id": "428fe1fc-f780-4422-93ad-2feef6ad51fc",
   "metadata": {},
   "outputs": [
    {
     "data": {
      "text/plain": [
       "[1, 2, 100, 4, 5]"
      ]
     },
     "execution_count": 18,
     "metadata": {},
     "output_type": "execute_result"
    }
   ],
   "source": [
    "a"
   ]
  },
  {
   "cell_type": "markdown",
   "id": "a33e0c23-e443-439f-a6e9-b4e6ebc6b470",
   "metadata": {},
   "source": [
    "To avoid this, do the following"
   ]
  },
  {
   "cell_type": "code",
   "execution_count": 20,
   "id": "532b2000-cdfb-44fc-a877-6764c5c2228c",
   "metadata": {},
   "outputs": [],
   "source": [
    "a=[1,2,3,4,5]"
   ]
  },
  {
   "cell_type": "code",
   "execution_count": 21,
   "id": "b162542b-0954-4599-88ab-c09a9b1395d6",
   "metadata": {},
   "outputs": [],
   "source": [
    "b=a[:]  # make a copy of a"
   ]
  },
  {
   "cell_type": "code",
   "execution_count": 22,
   "id": "c6888cb6-2d24-4f43-aa5d-6198a112f83a",
   "metadata": {},
   "outputs": [
    {
     "data": {
      "text/plain": [
       "[1, 2, 3, 4, 5]"
      ]
     },
     "execution_count": 22,
     "metadata": {},
     "output_type": "execute_result"
    }
   ],
   "source": [
    "a"
   ]
  },
  {
   "cell_type": "code",
   "execution_count": 23,
   "id": "b3a39c6b-2c4c-473a-873e-ca510cf75b7a",
   "metadata": {},
   "outputs": [
    {
     "data": {
      "text/plain": [
       "[1, 2, 3, 4, 5]"
      ]
     },
     "execution_count": 23,
     "metadata": {},
     "output_type": "execute_result"
    }
   ],
   "source": [
    "b"
   ]
  },
  {
   "cell_type": "code",
   "execution_count": 24,
   "id": "2dccecfe-94f6-4c1c-8816-1b90efa7fda2",
   "metadata": {},
   "outputs": [],
   "source": [
    "b[2]=100"
   ]
  },
  {
   "cell_type": "code",
   "execution_count": 25,
   "id": "51ff4fa5-438b-416d-a5e3-cbc321c4d024",
   "metadata": {},
   "outputs": [
    {
     "data": {
      "text/plain": [
       "[1, 2, 3, 4, 5]"
      ]
     },
     "execution_count": 25,
     "metadata": {},
     "output_type": "execute_result"
    }
   ],
   "source": [
    "a"
   ]
  },
  {
   "cell_type": "code",
   "execution_count": 26,
   "id": "7ec8a95e-a8cf-4b29-af6b-6efa49a7aafc",
   "metadata": {},
   "outputs": [
    {
     "data": {
      "text/plain": [
       "[1, 2, 100, 4, 5]"
      ]
     },
     "execution_count": 26,
     "metadata": {},
     "output_type": "execute_result"
    }
   ],
   "source": [
    "b"
   ]
  },
  {
   "cell_type": "code",
   "execution_count": null,
   "id": "b3f4dc26-813d-43f6-ad6a-5f6180bb9c13",
   "metadata": {},
   "outputs": [],
   "source": []
  }
 ],
 "metadata": {
  "kernelspec": {
   "display_name": "Python 3",
   "language": "python",
   "name": "python3"
  },
  "language_info": {
   "codemirror_mode": {
    "name": "ipython",
    "version": 3
   },
   "file_extension": ".py",
   "mimetype": "text/x-python",
   "name": "python",
   "nbconvert_exporter": "python",
   "pygments_lexer": "ipython3",
   "version": "3.8.10"
  }
 },
 "nbformat": 4,
 "nbformat_minor": 5
}
