{
 "cells": [
  {
   "cell_type": "code",
   "execution_count": 1,
   "id": "6bf7c319-b3e3-4d59-aa1b-032b0354a80e",
   "metadata": {},
   "outputs": [
    {
     "name": "stdout",
     "output_type": "stream",
     "text": [
      "Version:  0.2.42\n"
     ]
    }
   ],
   "source": [
    "from Game import *"
   ]
  },
  {
   "cell_type": "markdown",
   "id": "121f5c9e-13aa-4298-9088-0c5af8d7c49e",
   "metadata": {},
   "source": [
    "## Functions needed for the final demo of the semester\n",
    "\n",
    "- state=read_state()\n",
    "- move=get_move(state,player)\n",
    "- make_move(move)      \n",
    "\n",
    "\n",
    "\n",
    "\n",
    "\n",
    "\n",
    "\n",
    "\n",
    "\n",
    "\n"
   ]
  },
  {
   "cell_type": "code",
   "execution_count": 2,
   "id": "b26183af-bd5a-4b93-9977-4df3f28f6f76",
   "metadata": {},
   "outputs": [],
   "source": [
    "def Q_move(state,player,info):\n",
    "    Q=info.Q\n",
    "    last_state=info.last_state\n",
    "    last_action=info.last_action\n",
    "    learning=info.learning\n",
    "    \n",
    "    α=info.α  # learning rate\n",
    "    ϵ=info.ϵ  # how often to take a random move\n",
    "    γ=info.γ  # memory constant -- how quickly does the table update back in time (earlier in the game)\n",
    "    \n",
    "    # \\alpha <hit tab>    α\n",
    "    # \\epsilon <hit tab>  ϵ\n",
    "    # \\gamma <hit tab>    γ\n",
    "    \n",
    "    if state not in Q:\n",
    "        actions=valid_moves(state,player)\n",
    "        Q[state]=Table()\n",
    "        for action in actions:\n",
    "            Q[state][action]=0  # initial value of table\n",
    "    \n",
    "    if learning:\n",
    "        if random.random()<ϵ:  # take a random move occasionally to explore the environment\n",
    "            move=random_move(state,player)\n",
    "        else:\n",
    "            move=top_choice(Q[state])\n",
    "    else:\n",
    "        move=top_choice(Q[state])\n",
    "    \n",
    "    if not last_action is None:  # not the first move\n",
    "        reward=0\n",
    "        \n",
    "        # learn\n",
    "        if learning:\n",
    "            Q[last_state][last_action]+=α*(reward +\n",
    "                        γ*max([Q[state][a] for a in Q[state]]) - Q[last_state][last_action])\n",
    "    \n",
    "    return move"
   ]
  },
  {
   "cell_type": "code",
   "execution_count": null,
   "id": "7ac37e5d-c1dc-4c43-9abe-865fcea87952",
   "metadata": {},
   "outputs": [],
   "source": []
  },
  {
   "cell_type": "code",
   "execution_count": null,
   "id": "24a83152-ba30-419f-b0a0-ebb2e0823715",
   "metadata": {},
   "outputs": [],
   "source": []
  },
  {
   "cell_type": "code",
   "execution_count": 1,
   "id": "db1d7622-a670-4b82-ae5f-0c73a9ea06ce",
   "metadata": {},
   "outputs": [],
   "source": [
    "def get_move(state,player):\n",
    "    if player==1:\n",
    "        Q=LoadTable('TTT Q1 Table.json')\n",
    "    else:\n",
    "        Q=LoadTable('TTT Q2 Table.json')\n",
    "\n",
    "    if state not in Q:\n",
    "        print(\"State is not in the Q table.\",state)\n",
    "        move=random_move(state,player)\n",
    "    else:\n",
    "        move=top_choice(Q[state])\n",
    "        \n",
    "    return move"
   ]
  },
  {
   "cell_type": "code",
   "execution_count": null,
   "id": "24de69db-2394-465b-988a-6fff38ba6bc7",
   "metadata": {},
   "outputs": [],
   "source": []
  },
  {
   "cell_type": "code",
   "execution_count": null,
   "id": "acaf3b19-9958-4c8a-8a3c-5a52258a7da8",
   "metadata": {},
   "outputs": [],
   "source": []
  },
  {
   "cell_type": "code",
   "execution_count": null,
   "id": "527eed91-3c8c-4e89-8286-19827fefe2bc",
   "metadata": {},
   "outputs": [],
   "source": []
  },
  {
   "cell_type": "code",
   "execution_count": null,
   "id": "2e1af2e7-244f-4bef-beed-f7f516e41509",
   "metadata": {},
   "outputs": [],
   "source": []
  },
  {
   "cell_type": "code",
   "execution_count": 9,
   "id": "4abec6ca-c37c-433a-b62e-b28c8580d6cd",
   "metadata": {},
   "outputs": [
    {
     "data": {
      "text/plain": [
       "'0 0 0 \\n1 1 0\\n0 2 2\\n'"
      ]
     },
     "execution_count": 9,
     "metadata": {},
     "output_type": "execute_result"
    }
   ],
   "source": [
    "filename='board.txt'\n",
    "text=open(filename).read()\n",
    "text"
   ]
  },
  {
   "cell_type": "code",
   "execution_count": 12,
   "id": "ebd5074f-cb2f-4b0e-bb4c-ffdcb596e06f",
   "metadata": {},
   "outputs": [
    {
     "name": "stdout",
     "output_type": "stream",
     "text": [
      "3x3 board\n"
     ]
    },
    {
     "data": {
      "text/plain": [
       " 0  0  0 \n",
       " 1  1  0 \n",
       " 0  2  2 "
      ]
     },
     "execution_count": 12,
     "metadata": {},
     "output_type": "execute_result"
    }
   ],
   "source": [
    "filename='board.txt'\n",
    "text=open(filename).read()\n",
    "text=text.strip()\n",
    "lines=[line.strip() for line in text.split('\\n')]  # get rid of \\n\n",
    "\n",
    "row=lines[0].split()\n",
    "R,C=len(lines),len(row)\n",
    "print(f\"{R}x{C} board\")\n",
    "state=Board(R,C)\n",
    "state.board=[int(val) for val in text.split()]\n",
    "state"
   ]
  },
  {
   "cell_type": "code",
   "execution_count": 16,
   "id": "402845e8-4830-45dc-802b-c46af170ec5b",
   "metadata": {},
   "outputs": [],
   "source": [
    "def read_state_from_file(filename):\n",
    "    text=open(filename).read()\n",
    "    text=text.strip()\n",
    "    lines=[line.strip() for line in text.split('\\n')]  # get rid of \\n\n",
    "    \n",
    "    row=lines[0].split()\n",
    "    R,C=len(lines),len(row)\n",
    "    print(f\"{R}x{C} board\")\n",
    "    state=Board(R,C)\n",
    "    state.board=[int(val) for val in text.split()]  \n",
    "    print(state)\n",
    "    return state\n"
   ]
  },
  {
   "cell_type": "code",
   "execution_count": 20,
   "id": "231e4994-cc90-4809-a051-036cad18129a",
   "metadata": {},
   "outputs": [
    {
     "name": "stdout",
     "output_type": "stream",
     "text": [
      "3x3 board\n",
      " 0  0  0 \n",
      " 1  1  0 \n",
      " 0  2  2 \n",
      "\n"
     ]
    },
    {
     "data": {
      "text/plain": [
       " 0  0  0 \n",
       " 1  1  0 \n",
       " 0  2  2 "
      ]
     },
     "execution_count": 20,
     "metadata": {},
     "output_type": "execute_result"
    }
   ],
   "source": [
    "read_state_from_file('board.txt')"
   ]
  },
  {
   "cell_type": "code",
   "execution_count": 22,
   "id": "145615a7-256c-42d2-91a7-34be0570cccc",
   "metadata": {},
   "outputs": [
    {
     "name": "stdout",
     "output_type": "stream",
     "text": [
      "3x3 board\n",
      " 0  0  0 \n",
      " 1  1  0 \n",
      " 0  2  2 \n",
      "\n"
     ]
    }
   ],
   "source": [
    "state=read_state_from_file('board.txt')"
   ]
  },
  {
   "cell_type": "code",
   "execution_count": 23,
   "id": "c3cd94cf-f53f-48c1-806f-9ee8e4407763",
   "metadata": {},
   "outputs": [
    {
     "data": {
      "text/plain": [
       "6"
      ]
     },
     "execution_count": 23,
     "metadata": {},
     "output_type": "execute_result"
    }
   ],
   "source": [
    "get_move(state,1)"
   ]
  },
  {
   "cell_type": "code",
   "execution_count": null,
   "id": "3460cb1b-97cf-4752-81b2-7e26bae6b27e",
   "metadata": {},
   "outputs": [],
   "source": []
  }
 ],
 "metadata": {
  "kernelspec": {
   "display_name": "Python 3 (ipykernel)",
   "language": "python",
   "name": "python3"
  },
  "language_info": {
   "codemirror_mode": {
    "name": "ipython",
    "version": 3
   },
   "file_extension": ".py",
   "mimetype": "text/x-python",
   "name": "python",
   "nbconvert_exporter": "python",
   "pygments_lexer": "ipython3",
   "version": "3.11.4"
  }
 },
 "nbformat": 4,
 "nbformat_minor": 5
}
