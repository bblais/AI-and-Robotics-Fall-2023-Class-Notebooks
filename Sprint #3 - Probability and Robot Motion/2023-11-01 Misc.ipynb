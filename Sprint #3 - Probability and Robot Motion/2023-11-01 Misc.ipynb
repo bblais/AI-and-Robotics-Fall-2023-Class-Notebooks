{
 "cells": [
  {
   "cell_type": "code",
   "execution_count": 1,
   "id": "823739ab-53f1-4382-8558-2496079f4d67",
   "metadata": {},
   "outputs": [],
   "source": [
    "def get_color():\n",
    "    r,g,b,something=color_sensor.value\n",
    "    color=closest_color(r,g,b,\n",
    "                       floor=[60,70,60],\n",
    "                        red=[148,26,30],\n",
    "                        green=[55,175,40],\n",
    "                       )\n"
   ]
  },
  {
   "cell_type": "markdown",
   "id": "c8c23ca6-7a72-4ec0-ab3b-3d35a149d1b7",
   "metadata": {},
   "source": [
    "## scan a little to the left and right and decide where the green is"
   ]
  },
  {
   "cell_type": "code",
   "execution_count": null,
   "id": "57cf4875-7ba0-494d-8400-fb9750177ee2",
   "metadata": {},
   "outputs": [],
   "source": [
    "# left turn\n",
    "left.power=-20\n",
    "right.power=20\n",
    "Wait(0.3)\n",
    "\n",
    "color_left=get_color()\n",
    "\n",
    "\n",
    "# right turn\n",
    "left.power=20\n",
    "right.power=-20\n",
    "Wait(0.6)\n",
    "color_right=get_color()\n",
    "\n",
    "if color_right==\"green\":\n",
    "    pass\n",
    "if color_left==\"green\":\n",
    "    left.power=-20\n",
    "    right.power=20\n",
    "    Wait(0.6)\n",
    "    \n",
    "\n"
   ]
  },
  {
   "cell_type": "code",
   "execution_count": null,
   "id": "fb518493-6d30-4b20-9889-ed21d3e72c77",
   "metadata": {},
   "outputs": [],
   "source": [
    "def scan_for_color(target_color):\n",
    "    # left turn\n",
    "    left.power=-20\n",
    "    right.power=20\n",
    "    Wait(0.3)\n",
    "    \n",
    "    color_left=get_color()\n",
    "    \n",
    "    \n",
    "    # right turn\n",
    "    left.power=20\n",
    "    right.power=-20\n",
    "    Wait(0.6)\n",
    "    color_right=get_color()\n",
    "    \n",
    "    if color_right==target_color:\n",
    "        pass\n",
    "    if color_left==target_color:\n",
    "        left.power=-20\n",
    "        right.power=20\n",
    "        Wait(0.6)\n",
    "        \n",
    "    left.power=0\n",
    "    right.power=0\n",
    "    \n",
    "    "
   ]
  },
  {
   "cell_type": "code",
   "execution_count": null,
   "id": "a5b344f9-6d19-4020-b044-7618ce4f22e6",
   "metadata": {},
   "outputs": [],
   "source": [
    "def scan_for_color(target_color):\n",
    "    # left turn\n",
    "    left.power=-20\n",
    "    right.power=20\n",
    "    Wait(0.3)\n",
    "    \n",
    "    color=get_color()\n",
    "\n",
    "    if color==target_color:\n",
    "        left.power=0\n",
    "        right.power=0\n",
    "    else:\n",
    "        turn_right_until_color(target_color)\n",
    "        \n",
    "    \n",
    " "
   ]
  },
  {
   "cell_type": "markdown",
   "id": "6fa156e0-8e88-4e21-b9cd-dd917314c3de",
   "metadata": {},
   "source": [
    "## always turn left until green"
   ]
  },
  {
   "cell_type": "code",
   "execution_count": null,
   "id": "ef6fb412-b854-4815-a01f-47b59377c911",
   "metadata": {},
   "outputs": [],
   "source": [
    "left.power=-20\n",
    "right.power=20\n",
    "while True:\n",
    "    color=get_color()\n",
    "    if color==\"green\":\n",
    "        break\n",
    "left.power=0\n",
    "right.power=0\n"
   ]
  },
  {
   "cell_type": "code",
   "execution_count": null,
   "id": "4f141e84-f69d-437c-9490-c1d5cc469b7a",
   "metadata": {},
   "outputs": [],
   "source": [
    "def turn_left_until_color(target_color):\n",
    "    left.power=-20\n",
    "    right.power=20\n",
    "    while True:\n",
    "        color=get_color()\n",
    "        if color==target_color:\n",
    "            break\n",
    "    left.power=0\n",
    "    right.power=0\n",
    "        "
   ]
  },
  {
   "cell_type": "code",
   "execution_count": null,
   "id": "900ce70b-b1f4-4ee1-9a17-1fccca85380c",
   "metadata": {},
   "outputs": [],
   "source": [
    "turn_left_until_color(\"green\")"
   ]
  }
 ],
 "metadata": {
  "kernelspec": {
   "display_name": "Python 3 (ipykernel)",
   "language": "python",
   "name": "python3"
  },
  "language_info": {
   "codemirror_mode": {
    "name": "ipython",
    "version": 3
   },
   "file_extension": ".py",
   "mimetype": "text/x-python",
   "name": "python",
   "nbconvert_exporter": "python",
   "pygments_lexer": "ipython3",
   "version": "3.11.4"
  }
 },
 "nbformat": 4,
 "nbformat_minor": 5
}
