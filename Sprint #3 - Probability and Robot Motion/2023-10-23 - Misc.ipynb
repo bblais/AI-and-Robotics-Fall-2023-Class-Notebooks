{
 "cells": [
  {
   "cell_type": "code",
   "execution_count": 4,
   "id": "b917c42a-b221-4152-8a73-c0a589bfe47e",
   "metadata": {},
   "outputs": [],
   "source": [
    "def do_this():\n",
    "    print(\"Bob\")\n",
    "\n",
    "def do_that():\n",
    "    print(\"Sally\")"
   ]
  },
  {
   "cell_type": "code",
   "execution_count": 2,
   "id": "d478fb64-1d71-4d6b-8791-ab5c8de00daf",
   "metadata": {},
   "outputs": [
    {
     "name": "stdout",
     "output_type": "stream",
     "text": [
      "Bob\n"
     ]
    }
   ],
   "source": [
    "do_this()"
   ]
  },
  {
   "cell_type": "code",
   "execution_count": 3,
   "id": "ff42102d-8028-466f-86ee-c3305e131230",
   "metadata": {},
   "outputs": [
    {
     "name": "stdout",
     "output_type": "stream",
     "text": [
      "Sally\n"
     ]
    }
   ],
   "source": [
    "do_that()"
   ]
  },
  {
   "cell_type": "code",
   "execution_count": 5,
   "id": "f29b4616-388c-4abb-b25d-6f815536d046",
   "metadata": {},
   "outputs": [
    {
     "name": "stdout",
     "output_type": "stream",
     "text": [
      "Bob\n"
     ]
    }
   ],
   "source": [
    "print(\"Bob\")"
   ]
  },
  {
   "cell_type": "code",
   "execution_count": 6,
   "id": "7e12c335-ad40-46d1-9556-bf2c608217ee",
   "metadata": {},
   "outputs": [],
   "source": [
    "import random"
   ]
  },
  {
   "cell_type": "code",
   "execution_count": 7,
   "id": "bf2c09fa-f5a9-4d2e-935c-85c09ffd40e5",
   "metadata": {},
   "outputs": [
    {
     "data": {
      "text/plain": [
       "\u001b[0;31mSignature:\u001b[0m \u001b[0mrandom\u001b[0m\u001b[0;34m.\u001b[0m\u001b[0mrandrange\u001b[0m\u001b[0;34m(\u001b[0m\u001b[0mstart\u001b[0m\u001b[0;34m,\u001b[0m \u001b[0mstop\u001b[0m\u001b[0;34m=\u001b[0m\u001b[0;32mNone\u001b[0m\u001b[0;34m,\u001b[0m \u001b[0mstep\u001b[0m\u001b[0;34m=\u001b[0m\u001b[0;36m1\u001b[0m\u001b[0;34m)\u001b[0m\u001b[0;34m\u001b[0m\u001b[0;34m\u001b[0m\u001b[0m\n",
       "\u001b[0;31mDocstring:\u001b[0m\n",
       "Choose a random item from range(stop) or range(start, stop[, step]).\n",
       "\n",
       "Roughly equivalent to ``choice(range(start, stop, step))`` but\n",
       "supports arbitrarily large ranges and is optimized for common cases.\n",
       "\u001b[0;31mFile:\u001b[0m      ~/anaconda3/lib/python3.11/random.py\n",
       "\u001b[0;31mType:\u001b[0m      method"
      ]
     },
     "metadata": {},
     "output_type": "display_data"
    }
   ],
   "source": [
    "random.randrange?"
   ]
  },
  {
   "cell_type": "code",
   "execution_count": 10,
   "id": "910c113c-62db-4d31-9b37-fccfb473ed1e",
   "metadata": {},
   "outputs": [
    {
     "name": "stdout",
     "output_type": "stream",
     "text": [
      "[2, 0, 3, 2, 0, 2, 3, 1, 3, 2, 0, 1, 1, 2, 1, 2, 2, 0, 2, 1, 1, 2, 2, 0, 3, 2, 0, 3, 0, 3, 0, 2, 2, 3, 3, 0, 0, 3, 1, 1, 1, 3, 0, 2, 3, 0, 0, 3, 3, 3, 1, 3, 1, 2, 3, 2, 3, 1, 0, 0, 3, 1, 0, 2, 3, 2, 0, 1, 2, 2, 1, 1, 1, 1, 0, 3, 3, 2, 0, 0, 1, 1, 2, 3, 3, 0, 0, 0, 1, 3, 0, 0, 1, 3, 2, 3, 2, 1, 3, 3, 1, 2, 0, 0, 1, 0, 3, 2, 3, 2, 3, 0, 3, 0, 2, 2, 0, 0, 0, 3, 2, 0, 3, 0, 0, 1, 1, 0, 1, 3, 0, 3, 2, 2, 2, 0, 3, 0, 2, 2, 1, 3, 2, 0, 3, 2, 1, 1, 2, 2, 1, 1, 1, 0, 2, 3, 0, 1, 3, 0, 3, 2, 3, 1, 0, 3, 2, 0, 2, 0, 3, 1, 3, 0, 3, 1, 0, 0, 3, 1, 3, 1, 1, 2, 3, 2, 3, 0, 3, 0, 3, 1, 3, 3, 2, 1, 0, 2, 1, 0]\n"
     ]
    }
   ],
   "source": [
    "print([random.randrange(0,4) for _ in range(200)])"
   ]
  },
  {
   "cell_type": "code",
   "execution_count": 12,
   "id": "29de6ad6-a766-49e9-a8f1-af234d8bebcf",
   "metadata": {},
   "outputs": [
    {
     "name": "stdout",
     "output_type": "stream",
     "text": [
      "[0, 2, 3, 1, 1, 1, 1, 2, 1, 0, 3, 2, 1, 2, 0, 0, 3, 1, 1, 2, 2, 0, 3, 0, 3, 2, 0, 2, 1, 2, 2, 1, 3, 0, 3, 3, 0, 3, 2, 3, 2, 2, 2, 2, 0, 1, 2, 2, 1, 2, 0, 1, 2, 3, 1, 3, 1, 2, 3, 3, 3, 3, 3, 2, 1, 3, 2, 0, 3, 2, 1, 1, 3, 0, 0, 2, 2, 2, 3, 3, 1, 0, 3, 1, 0, 0, 0, 3, 3, 3, 3, 1, 2, 2, 1, 0, 1, 1, 2, 3, 1, 2, 0, 1, 0, 2, 1, 2, 1, 2, 2, 1, 2, 0, 0, 2, 1, 1, 3, 3, 3, 1, 1, 1, 0, 1, 0, 1, 2, 1, 0, 2, 1, 2, 2, 1, 0, 0, 0, 0, 2, 1, 2, 1, 3, 3, 1, 3, 3, 0, 0, 0, 2, 0, 1, 3, 1, 1, 1, 2, 3, 2, 1, 0, 0, 3, 3, 3, 2, 2, 2, 3, 3, 2, 1, 3, 0, 3, 1, 0, 3, 1, 3, 3, 1, 0, 0, 3, 1, 0, 0, 2, 0, 1, 2, 2, 1, 3, 2, 1]\n"
     ]
    }
   ],
   "source": [
    "print([random.randrange(0,4) for _ in range(200)])"
   ]
  },
  {
   "cell_type": "code",
   "execution_count": null,
   "id": "1a3b51a0-fb9f-4351-8251-44eaa76fbce9",
   "metadata": {},
   "outputs": [],
   "source": [
    "timer=Timer()\n",
    "found=False\n",
    "while timer.value<1:\n",
    "    if closest_color()==\"tape\":\n",
    "        found=True\n",
    "        break\n",
    "\n",
    "if found:  # found the tape\n",
    "    print(\"found the tape\")\n",
    "else:\n",
    "    print(\"do something else\")\n",
    "\n"
   ]
  },
  {
   "cell_type": "code",
   "execution_count": 13,
   "id": "67922d4e-7a9a-4d35-8d47-159cb3a10450",
   "metadata": {},
   "outputs": [],
   "source": [
    "def Wait_or_Color(waittime):\n",
    "    timer=Timer()\n",
    "    found=False\n",
    "    while timer.value<waittime:\n",
    "        if closest_color()==\"tape\":\n",
    "            found=True\n",
    "            break\n",
    "    \n",
    "    return found"
   ]
  },
  {
   "cell_type": "code",
   "execution_count": null,
   "id": "ed87af49-903c-4a1c-a2b0-e6d393ff8433",
   "metadata": {},
   "outputs": [],
   "source": [
    "found=Wait_or_Color(1)\n",
    "if found:  # found the tape\n",
    "    print(\"found the tape\")\n",
    "else:\n",
    "    print(\"do something else\")\n"
   ]
  }
 ],
 "metadata": {
  "kernelspec": {
   "display_name": "Python 3 (ipykernel)",
   "language": "python",
   "name": "python3"
  },
  "language_info": {
   "codemirror_mode": {
    "name": "ipython",
    "version": 3
   },
   "file_extension": ".py",
   "mimetype": "text/x-python",
   "name": "python",
   "nbconvert_exporter": "python",
   "pygments_lexer": "ipython3",
   "version": "3.11.4"
  }
 },
 "nbformat": 4,
 "nbformat_minor": 5
}
