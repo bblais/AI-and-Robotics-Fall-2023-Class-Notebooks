{
 "cells": [
  {
   "cell_type": "code",
   "execution_count": 1,
   "id": "19296f2a-aeff-4a15-8bc8-08aeaf3e540c",
   "metadata": {},
   "outputs": [
    {
     "name": "stdout",
     "output_type": "stream",
     "text": [
      "Version:  0.2.42\n"
     ]
    }
   ],
   "source": [
    "from Game import *"
   ]
  },
  {
   "cell_type": "markdown",
   "id": "b44114ff-31f9-4772-803e-6accb64d4135",
   "metadata": {},
   "source": [
    "## Simple Blackjack\n",
    "\n",
    "- shuffle one deck\n",
    "- each player is dealt 2 cards - one is face up one face down\n",
    "- 2 players, both equivalent\n",
    "- move \"hit\" and \"stand\"\n",
    "- if \"hit\"\n",
    "    - dealt another card face up - bust - hand score > 21(end of game)\n",
    "    - other player's turn\n",
    "- if \"stand\"\n",
    "    - end of your turn\n",
    " \n",
    "- end when both players stand\n",
    "- whoever has the highest hand score wins  (ties as well)\n",
    "- hand score calculated\n",
    "   - "
   ]
  },
  {
   "cell_type": "code",
   "execution_count": null,
   "id": "7400fc4c-1848-42d0-80be-c0d280b05787",
   "metadata": {},
   "outputs": [],
   "source": []
  }
 ],
 "metadata": {
  "kernelspec": {
   "display_name": "Python 3 (ipykernel)",
   "language": "python",
   "name": "python3"
  },
  "language_info": {
   "codemirror_mode": {
    "name": "ipython",
    "version": 3
   },
   "file_extension": ".py",
   "mimetype": "text/x-python",
   "name": "python",
   "nbconvert_exporter": "python",
   "pygments_lexer": "ipython3",
   "version": "3.11.4"
  }
 },
 "nbformat": 4,
 "nbformat_minor": 5
}
