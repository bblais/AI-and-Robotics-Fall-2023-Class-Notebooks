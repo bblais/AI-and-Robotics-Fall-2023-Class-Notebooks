{
 "cells": [
  {
   "cell_type": "code",
   "execution_count": 1,
   "id": "7eb852eb-f0ea-4571-b36e-22371be8fe5b",
   "metadata": {},
   "outputs": [
    {
     "name": "stdout",
     "output_type": "stream",
     "text": [
      "no module brickpi3\n",
      "Version:  0.0.17\n"
     ]
    }
   ],
   "source": [
    "from Robot373 import *"
   ]
  },
  {
   "cell_type": "code",
   "execution_count": 5,
   "id": "18a09680-6346-485b-9d62-e3cdc9670712",
   "metadata": {},
   "outputs": [],
   "source": [
    "left,right=Motors(\"ab\")\n",
    "color_sensor=Sensors(None,None,\"color\",None)"
   ]
  },
  {
   "cell_type": "code",
   "execution_count": 6,
   "id": "a7e8b6d9-5d28-41cf-b997-ca3fa755efb9",
   "metadata": {},
   "outputs": [],
   "source": [
    "def forward(power=30):\n",
    "    left.power=power\n",
    "    right.power=power"
   ]
  },
  {
   "cell_type": "code",
   "execution_count": 7,
   "id": "549e11ee-06b5-4965-bcb4-cdabaaf8bfbc",
   "metadata": {},
   "outputs": [
    {
     "ename": "TypeError",
     "evalue": "cannot unpack non-iterable NoneType object",
     "output_type": "error",
     "traceback": [
      "\u001b[0;31m---------------------------------------------------------------------------\u001b[0m",
      "\u001b[0;31mTypeError\u001b[0m                                 Traceback (most recent call last)",
      "Cell \u001b[0;32mIn[7], line 3\u001b[0m\n\u001b[1;32m      1\u001b[0m forward()\n\u001b[1;32m      2\u001b[0m \u001b[38;5;28;01mwhile\u001b[39;00m \u001b[38;5;28;01mTrue\u001b[39;00m:\n\u001b[0;32m----> 3\u001b[0m     r,g,b,something\u001b[38;5;241m=\u001b[39mcolor_sensor\u001b[38;5;241m.\u001b[39mvalue\n\u001b[1;32m      4\u001b[0m     \u001b[38;5;28mprint\u001b[39m(r,g,b,something)\n\u001b[1;32m      5\u001b[0m     color\u001b[38;5;241m=\u001b[39mclosest_color(r,g,b,\n\u001b[1;32m      6\u001b[0m                 maroon\u001b[38;5;241m=\u001b[39m[\u001b[38;5;241m128\u001b[39m,\u001b[38;5;241m0\u001b[39m,\u001b[38;5;241m0\u001b[39m],\n\u001b[1;32m      7\u001b[0m                 gray\u001b[38;5;241m=\u001b[39m[\u001b[38;5;241m128\u001b[39m,\u001b[38;5;241m128\u001b[39m,\u001b[38;5;241m128\u001b[39m],\n\u001b[1;32m      8\u001b[0m                 white\u001b[38;5;241m=\u001b[39m[\u001b[38;5;241m256\u001b[39m,\u001b[38;5;241m256\u001b[39m,\u001b[38;5;241m256\u001b[39m],\n\u001b[1;32m      9\u001b[0m                 black\u001b[38;5;241m=\u001b[39m[\u001b[38;5;241m0\u001b[39m,\u001b[38;5;241m0\u001b[39m,\u001b[38;5;241m0\u001b[39m],\n\u001b[1;32m     10\u001b[0m                 )\n",
      "\u001b[0;31mTypeError\u001b[0m: cannot unpack non-iterable NoneType object"
     ]
    }
   ],
   "source": [
    "forward()\n",
    "while True:\n",
    "    r,g,b,something=color_sensor.value\n",
    "    print(r,g,b,something)\n",
    "    color=closest_color(r,g,b,\n",
    "                maroon=[128,0,0],\n",
    "                gray=[128,128,128],\n",
    "                white=[256,256,256],\n",
    "                black=[0,0,0],\n",
    "                )\n",
    "    if color!='black':\n",
    "        break\n",
    "    Wait(0.05)\n"
   ]
  },
  {
   "cell_type": "code",
   "execution_count": 8,
   "id": "859552f5-14b4-40d7-aa54-b072a9faa59a",
   "metadata": {},
   "outputs": [],
   "source": [
    "def forward_until_not_color(color_name):\n",
    "    forward()\n",
    "    while True:\n",
    "        r,g,b,something=color_sensor.value\n",
    "        print(r,g,b,something)\n",
    "        color=closest_color(r,g,b,\n",
    "                    maroon=[128,0,0],\n",
    "                    gray=[128,128,128],\n",
    "                    white=[256,256,256],\n",
    "                    black=[0,0,0],\n",
    "                    )\n",
    "        if color!=color_name:\n",
    "            break\n",
    "        Wait(0.05)\n"
   ]
  },
  {
   "cell_type": "code",
   "execution_count": 9,
   "id": "20a86f82-2836-4080-9464-9c885cb366ca",
   "metadata": {},
   "outputs": [
    {
     "ename": "TypeError",
     "evalue": "cannot unpack non-iterable NoneType object",
     "output_type": "error",
     "traceback": [
      "\u001b[0;31m---------------------------------------------------------------------------\u001b[0m",
      "\u001b[0;31mTypeError\u001b[0m                                 Traceback (most recent call last)",
      "Cell \u001b[0;32mIn[9], line 1\u001b[0m\n\u001b[0;32m----> 1\u001b[0m forward_until_not_color(\u001b[38;5;124m\"\u001b[39m\u001b[38;5;124mblack\u001b[39m\u001b[38;5;124m\"\u001b[39m)\n",
      "Cell \u001b[0;32mIn[8], line 4\u001b[0m, in \u001b[0;36mforward_until_not_color\u001b[0;34m(color_name)\u001b[0m\n\u001b[1;32m      2\u001b[0m forward()\n\u001b[1;32m      3\u001b[0m \u001b[38;5;28;01mwhile\u001b[39;00m \u001b[38;5;28;01mTrue\u001b[39;00m:\n\u001b[0;32m----> 4\u001b[0m     r,g,b,something\u001b[38;5;241m=\u001b[39mcolor_sensor\u001b[38;5;241m.\u001b[39mvalue\n\u001b[1;32m      5\u001b[0m     \u001b[38;5;28mprint\u001b[39m(r,g,b,something)\n\u001b[1;32m      6\u001b[0m     color\u001b[38;5;241m=\u001b[39mclosest_color(r,g,b,\n\u001b[1;32m      7\u001b[0m                 maroon\u001b[38;5;241m=\u001b[39m[\u001b[38;5;241m128\u001b[39m,\u001b[38;5;241m0\u001b[39m,\u001b[38;5;241m0\u001b[39m],\n\u001b[1;32m      8\u001b[0m                 gray\u001b[38;5;241m=\u001b[39m[\u001b[38;5;241m128\u001b[39m,\u001b[38;5;241m128\u001b[39m,\u001b[38;5;241m128\u001b[39m],\n\u001b[1;32m      9\u001b[0m                 white\u001b[38;5;241m=\u001b[39m[\u001b[38;5;241m256\u001b[39m,\u001b[38;5;241m256\u001b[39m,\u001b[38;5;241m256\u001b[39m],\n\u001b[1;32m     10\u001b[0m                 black\u001b[38;5;241m=\u001b[39m[\u001b[38;5;241m0\u001b[39m,\u001b[38;5;241m0\u001b[39m,\u001b[38;5;241m0\u001b[39m],\n\u001b[1;32m     11\u001b[0m                 )\n",
      "\u001b[0;31mTypeError\u001b[0m: cannot unpack non-iterable NoneType object"
     ]
    }
   ],
   "source": [
    "forward_until_not_color(\"black\")"
   ]
  },
  {
   "cell_type": "code",
   "execution_count": null,
   "id": "6dbf737f-c3fb-45e6-9dd9-d426d7ba9616",
   "metadata": {},
   "outputs": [],
   "source": []
  }
 ],
 "metadata": {
  "kernelspec": {
   "display_name": "Python 3 (ipykernel)",
   "language": "python",
   "name": "python3"
  },
  "language_info": {
   "codemirror_mode": {
    "name": "ipython",
    "version": 3
   },
   "file_extension": ".py",
   "mimetype": "text/x-python",
   "name": "python",
   "nbconvert_exporter": "python",
   "pygments_lexer": "ipython3",
   "version": "3.11.4"
  }
 },
 "nbformat": 4,
 "nbformat_minor": 5
}
