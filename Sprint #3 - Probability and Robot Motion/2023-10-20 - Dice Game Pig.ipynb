{
 "cells": [
  {
   "cell_type": "code",
   "execution_count": 13,
   "id": "af606c98-fc38-4532-9165-ab2aa3db379c",
   "metadata": {},
   "outputs": [
    {
     "name": "stdout",
     "output_type": "stream",
     "text": [
      "Version:  0.2.42\n"
     ]
    }
   ],
   "source": [
    "from Game import *"
   ]
  },
  {
   "cell_type": "markdown",
   "id": "4b7bb09d-21dc-4352-8b5f-40317b59f7e7",
   "metadata": {},
   "source": [
    "## Rules of Pig"
   ]
  },
  {
   "cell_type": "markdown",
   "id": "5b9f9ab6-3f9b-4731-bf8e-8a8e9ef33ca0",
   "metadata": {},
   "source": [
    "- Player choose a move: hold or roll\n",
    "\n",
    "- if roll\n",
    "    - roll a single die (1-6)\n",
    "    - if value == 1:\n",
    "       - turn total = 0\n",
    "       - can't roll again \n",
    "    - else:\n",
    "       - value is added turn total \n",
    "       - can roll again = choose between hold and roll\n",
    "- if hold\n",
    "    - turn total is added to your total score\n",
    "    - next player\n",
    " \n",
    "- game ends when 1 player reaches max score (100)\n",
    "\n",
    "\n",
    "\n",
    "- What is a state? player 1 total score, player 2 total score,turn total, last dice roll\n",
    "- What is a move?"
   ]
  },
  {
   "cell_type": "code",
   "execution_count": 24,
   "id": "3880efc5-0af2-4a22-8e59-7cc12e79dd13",
   "metadata": {},
   "outputs": [],
   "source": [
    "def valid_moves(state,player):\n",
    "    player1_score,player2_score,turn_total,last_die=state\n",
    "\n",
    "    if turn_total==0:\n",
    "        return ['roll']\n",
    "    else:\n",
    "        return ['hold','roll']"
   ]
  },
  {
   "cell_type": "code",
   "execution_count": 25,
   "id": "6042ea14-8d14-4918-bb82-b7fa894f4825",
   "metadata": {},
   "outputs": [],
   "source": [
    "def initial_state():\n",
    "    state=[0,0,0,0]\n",
    "    return state"
   ]
  },
  {
   "cell_type": "code",
   "execution_count": 26,
   "id": "388c9dc5-1d15-48cd-a305-39e20a527ce5",
   "metadata": {},
   "outputs": [],
   "source": [
    "state=initial_state()\n",
    "player1_score,player2_score,turn_total,last_die=state"
   ]
  },
  {
   "cell_type": "code",
   "execution_count": 27,
   "id": "d8f6ea97-53bf-4c94-9585-fa2b8ed1d608",
   "metadata": {},
   "outputs": [],
   "source": [
    "def show_state(state):\n",
    "    player1_score,player2_score,turn_total,last_die=state\n",
    "    print(\"Player 1's score is \",player1_score)\n",
    "    print(\"Player 2's score is \",player2_score)\n",
    "    print(\"Last die roll was \",last_die)\n",
    "    print(\"Turn total is \",turn_total)\n",
    "\n"
   ]
  },
  {
   "cell_type": "code",
   "execution_count": 28,
   "id": "fb0e7d1c-e7db-4a65-abc8-71e709a94e9b",
   "metadata": {},
   "outputs": [
    {
     "name": "stdout",
     "output_type": "stream",
     "text": [
      "Player 1's score is  0\n",
      "Player 2's score is  0\n",
      "Last die roll was  0\n",
      "Turn total is  0\n"
     ]
    }
   ],
   "source": [
    "show_state(state)"
   ]
  },
  {
   "cell_type": "code",
   "execution_count": 29,
   "id": "4a89adc1-ccdd-46b6-a0ff-58ce4d115aef",
   "metadata": {},
   "outputs": [],
   "source": [
    "def update_state(state,player,move):\n",
    "    player1_score,player2_score,turn_total,last_die=state\n",
    "\n",
    "    \n",
    "    if move=='hold':\n",
    "        if player==1:\n",
    "            player1_score+=turn_total\n",
    "        else:\n",
    "            player2_score+=turn_total\n",
    "            \n",
    "        turn_total=0\n",
    "        last_die=0\n",
    "\n",
    "    elif move=='roll':\n",
    "\n",
    "        dice=random.randint(1,6)  # generates a \"random\" number between 1 and 6\n",
    "        last_die=dice\n",
    "        \n",
    "        if dice==1:\n",
    "            turn_total=0\n",
    "        else:\n",
    "            turn_total+=dice\n",
    "\n",
    "    \n",
    "    else:\n",
    "        raise ValueError(\"You can't get there from here.\")   \n",
    "\n",
    "\n",
    "    new_state=player1_score,player2_score,turn_total,last_die\n",
    "    return new_state"
   ]
  },
  {
   "cell_type": "code",
   "execution_count": 30,
   "id": "5ee365c7-14b1-4e1d-bf2e-1e9ffbe74104",
   "metadata": {},
   "outputs": [],
   "source": [
    "def win_status(state,player):\n",
    "    player1_score,player2_score,turn_total,last_die=state\n",
    "\n",
    "    max_score=21\n",
    "    if player==1:\n",
    "        if player1_score+turn_total>max_score:\n",
    "            return \"win\"\n",
    "\n",
    "    if player==2:\n",
    "        if player2_score+turn_total>max_score:\n",
    "            return \"win\""
   ]
  },
  {
   "cell_type": "code",
   "execution_count": 31,
   "id": "583994a4-8f0c-4905-909b-cfd8b2d3fea7",
   "metadata": {},
   "outputs": [],
   "source": [
    "def repeat_move(state,player,move):\n",
    "    player1_score,player2_score,turn_total,last_die=state\n",
    "\n",
    "    # return True if you get another turn, otherwise False\n",
    "\n",
    "    if turn_total>0:\n",
    "        return True\n",
    "    else:\n",
    "        return False"
   ]
  },
  {
   "cell_type": "markdown",
   "id": "57143898-4e53-4ca0-8638-e070e5679e00",
   "metadata": {},
   "source": [
    "## Agents"
   ]
  },
  {
   "cell_type": "code",
   "execution_count": 32,
   "id": "1c6d447c-3317-4430-82b1-1a6e43ca5afa",
   "metadata": {},
   "outputs": [],
   "source": [
    "def random_move(state,player):    \n",
    "    moves=valid_moves(state,player)\n",
    "    return random.choice(moves)\n",
    "\n",
    "random_agent=Agent(random_move)\n"
   ]
  },
  {
   "cell_type": "code",
   "execution_count": 34,
   "id": "9b83c310-52a7-4e17-b23f-21e38976b721",
   "metadata": {},
   "outputs": [],
   "source": [
    "def human_move(state,player):\n",
    "    print(\"Player \",player)\n",
    "\n",
    "    while True:\n",
    "        s=input('hold or roll?')\n",
    "    \n",
    "        first_character=s[0]\n",
    "        if first_character=='h':\n",
    "            return \"hold\"\n",
    "        if first_character=='r':\n",
    "            return \"roll\"\n",
    "\n",
    "human_agent=Agent(human_move)"
   ]
  },
  {
   "cell_type": "code",
   "execution_count": 39,
   "id": "48aa4bdc-0b6c-44e3-9e52-e5c233bfca85",
   "metadata": {},
   "outputs": [
    {
     "name": "stdout",
     "output_type": "stream",
     "text": [
      "Player  1\n"
     ]
    },
    {
     "name": "stdin",
     "output_type": "stream",
     "text": [
      "hold or roll? bob\n",
      "hold or roll? h\n"
     ]
    },
    {
     "data": {
      "text/plain": [
       "'hold'"
      ]
     },
     "execution_count": 39,
     "metadata": {},
     "output_type": "execute_result"
    }
   ],
   "source": [
    "human_move([0,0,0,0],1)"
   ]
  },
  {
   "cell_type": "code",
   "execution_count": 33,
   "id": "373ebed7-c68f-4718-9982-882e99f8af71",
   "metadata": {},
   "outputs": [
    {
     "name": "stdout",
     "output_type": "stream",
     "text": [
      "====\n",
      "Game  1\n",
      "Player 1's score is  0\n",
      "Player 2's score is  0\n",
      "Last die roll was  0\n",
      "Turn total is  0\n",
      "Player 1 moves roll\n",
      "Player 1's score is  0\n",
      "Player 2's score is  0\n",
      "Last die roll was  5\n",
      "Turn total is  5\n",
      "Player 1 moves hold\n",
      "Player 1's score is  5\n",
      "Player 2's score is  0\n",
      "Last die roll was  0\n",
      "Turn total is  0\n",
      "Player 2 moves roll\n",
      "Player 1's score is  5\n",
      "Player 2's score is  0\n",
      "Last die roll was  2\n",
      "Turn total is  2\n",
      "Player 2 moves hold\n",
      "Player 1's score is  5\n",
      "Player 2's score is  2\n",
      "Last die roll was  0\n",
      "Turn total is  0\n",
      "Player 1 moves roll\n",
      "Player 1's score is  5\n",
      "Player 2's score is  2\n",
      "Last die roll was  4\n",
      "Turn total is  4\n",
      "Player 1 moves hold\n",
      "Player 1's score is  9\n",
      "Player 2's score is  2\n",
      "Last die roll was  0\n",
      "Turn total is  0\n",
      "Player 2 moves roll\n",
      "Player 1's score is  9\n",
      "Player 2's score is  2\n",
      "Last die roll was  4\n",
      "Turn total is  4\n",
      "Player 2 moves roll\n",
      "Player 1's score is  9\n",
      "Player 2's score is  2\n",
      "Last die roll was  2\n",
      "Turn total is  6\n",
      "Player 2 moves hold\n",
      "Player 1's score is  9\n",
      "Player 2's score is  8\n",
      "Last die roll was  0\n",
      "Turn total is  0\n",
      "Player 1 moves roll\n",
      "Player 1's score is  9\n",
      "Player 2's score is  8\n",
      "Last die roll was  2\n",
      "Turn total is  2\n",
      "Player 1 moves roll\n",
      "Player 1's score is  9\n",
      "Player 2's score is  8\n",
      "Last die roll was  2\n",
      "Turn total is  4\n",
      "Player 1 moves hold\n",
      "Player 1's score is  13\n",
      "Player 2's score is  8\n",
      "Last die roll was  0\n",
      "Turn total is  0\n",
      "Player 2 moves roll\n",
      "Player 1's score is  13\n",
      "Player 2's score is  8\n",
      "Last die roll was  6\n",
      "Turn total is  6\n",
      "Player 2 moves roll\n",
      "Player 1's score is  13\n",
      "Player 2's score is  8\n",
      "Last die roll was  6\n",
      "Turn total is  12\n",
      "Player 2 moves hold\n",
      "Player 1's score is  13\n",
      "Player 2's score is  20\n",
      "Last die roll was  0\n",
      "Turn total is  0\n",
      "Player 1 moves roll\n",
      "Player 1's score is  13\n",
      "Player 2's score is  20\n",
      "Last die roll was  5\n",
      "Turn total is  5\n",
      "Player 1 moves hold\n",
      "Player 1's score is  18\n",
      "Player 2's score is  20\n",
      "Last die roll was  0\n",
      "Turn total is  0\n",
      "Player 2 moves roll\n",
      "Player 1's score is  18\n",
      "Player 2's score is  20\n",
      "Last die roll was  5\n",
      "Turn total is  5\n",
      "Player  2 won.\n"
     ]
    },
    {
     "data": {
      "text/plain": [
       "[2]"
      ]
     },
     "execution_count": 33,
     "metadata": {},
     "output_type": "execute_result"
    }
   ],
   "source": [
    "g=Game()\n",
    "\n",
    "g.run(random_agent,random_agent)"
   ]
  },
  {
   "cell_type": "code",
   "execution_count": null,
   "id": "e5d8a872-7ee5-43bf-ab9c-12cfcff194e7",
   "metadata": {},
   "outputs": [],
   "source": []
  }
 ],
 "metadata": {
  "kernelspec": {
   "display_name": "Python 3 (ipykernel)",
   "language": "python",
   "name": "python3"
  },
  "language_info": {
   "codemirror_mode": {
    "name": "ipython",
    "version": 3
   },
   "file_extension": ".py",
   "mimetype": "text/x-python",
   "name": "python",
   "nbconvert_exporter": "python",
   "pygments_lexer": "ipython3",
   "version": "3.11.4"
  }
 },
 "nbformat": 4,
 "nbformat_minor": 5
}
