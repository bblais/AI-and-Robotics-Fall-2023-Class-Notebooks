{
 "cells": [
  {
   "cell_type": "code",
   "execution_count": 1,
   "id": "df09cc9e-1253-41aa-b73f-250cbc7abace",
   "metadata": {},
   "outputs": [
    {
     "name": "stdout",
     "output_type": "stream",
     "text": [
      "Version:  0.2.46\n",
      "no module brickpi3...running in offline mode\n",
      "Version:  0.0.31\n",
      "Version  1.0.7\n",
      "Version:  0.0.48\n"
     ]
    }
   ],
   "source": [
    "from breakthrough import *\n",
    "from my_robot_functions import *\n",
    "from classy import *\n",
    "from pylab import imread,imsave"
   ]
  },
  {
   "cell_type": "markdown",
   "id": "870a68c1-e5ca-4e32-924b-171d658eeb81",
   "metadata": {},
   "source": [
    "## Agent"
   ]
  },
  {
   "cell_type": "code",
   "execution_count": 2,
   "id": "6988bbb2-1e9a-403e-88e4-cc61bb0e6856",
   "metadata": {},
   "outputs": [],
   "source": [
    "def get_move(state,player):\n",
    "    if player==1:\n",
    "        Q=LoadTable(\"Q1_breakthrough_table.json\")\n",
    "    else:\n",
    "        Q=LoadTable(\"Q2_breakthrough_table.json\")\n",
    "        \n",
    "    \n",
    "    if state not in Q:\n",
    "        return random_move(state,player)  # this is defined in my game functions import\n",
    "    else:\n",
    "        return top_choice(Q[state])"
   ]
  },
  {
   "cell_type": "markdown",
   "id": "b90ea20e-cbe3-4ffc-ad06-6c5dad1a7c49",
   "metadata": {},
   "source": [
    "## Make Move"
   ]
  },
  {
   "cell_type": "code",
   "execution_count": 3,
   "id": "ff7e62e7-e03b-4bae-a66e-3c65629c2521",
   "metadata": {},
   "outputs": [],
   "source": [
    "def make_move(move):\n",
    "    print(\"Making move \",move)\n",
    "    \n",
    "    board=Board(4,4)  # just to get the conversion functions for free\n",
    "    \n",
    "    start,end=move\n",
    "    rs,cs=board.rc_from_index(start)  # convert to row, column\n",
    "    re,ce=board.rc_from_index(end)\n",
    "    \n",
    "    distance_to_board=10\n",
    "    length_column=4\n",
    "    length_row=4\n",
    "\n",
    "    type_of_move=ce-cs  # 0 for a forward move, +1 for a right-hand diagonal, -1 for left-hand diagonal\n",
    "    distance_to_column=distance_to_board+length_column*cs\n",
    "    distance_to_row=(4-rs)*length_row\n",
    "\n",
    "    if type_of_move==0:  # forward\n",
    "\n",
    "        move_forward(distance_to_column)\n",
    "        turn_robot_left_90()\n",
    "        move_forward(distance_to_row)\n",
    "        arm_down()  # to push the piece\n",
    "        move_forward( 1*length_row )\n",
    "        arm_up()\n",
    "\n",
    "        # go back\n",
    "        move_backward(distance_to_row + 1*length_row)\n",
    "        turn_robot_right_90()\n",
    "        move_backward(distance_to_column)\n",
    "\n",
    "    elif type_of_move==1:  # right-hand diagonal\n",
    "\n",
    "        move_forward(distance_to_column)\n",
    "        turn_robot_left_90()\n",
    "        move_forward(distance_to_row)\n",
    "\n",
    "\n",
    "        arm_down()  # to push the piece\n",
    "        turn_robot_right_45()\n",
    "        move_forward( 1*length_row )\n",
    "\n",
    "        # go back\n",
    "        move_backward(1*length_row)\n",
    "        turn_robot_left_45()    \n",
    "        move_backward(distance_to_row )\n",
    "        turn_robot_right_90()\n",
    "        move_backward(distance_to_column)\n",
    "\n",
    "    elif type_of_move==-1:  # left-hand diagonal\n",
    "        move_forward(distance_to_column)\n",
    "        turn_robot_left_90()\n",
    "        move_forward(distance_to_row)\n",
    "\n",
    "\n",
    "        arm_down()  # to push the piece\n",
    "        turn_robot_left_45()\n",
    "        move_forward( 1*length_row )\n",
    "\n",
    "        # go back\n",
    "        move_backward(1*length_row)\n",
    "        turn_robot_right_45()    \n",
    "        move_backward(distance_to_row )\n",
    "        turn_robot_right_90()\n",
    "        move_backward(distance_to_column)\n",
    "\n",
    "    else:\n",
    "        raise ValueError(\"You can't get there from here.\")\n"
   ]
  },
  {
   "cell_type": "markdown",
   "id": "2c44ff0b-e5b2-4673-9d08-2f2e79029849",
   "metadata": {},
   "source": [
    "## Read State"
   ]
  },
  {
   "cell_type": "code",
   "execution_count": 4,
   "id": "b59c3a89-793b-4317-9fb2-033c83b67611",
   "metadata": {},
   "outputs": [],
   "source": [
    "def read_state_from_file(filename):\n",
    "    text=open(filename).read()\n",
    "    text=text.strip()\n",
    "    lines=[line.strip() for line in text.split('\\n')]  # get rid of \\n\n",
    "    \n",
    "    row=lines[0].split()\n",
    "    R,C=len(lines),len(row)\n",
    "    print(f\"{R}x{C} board\")\n",
    "    state=Board(R,C)\n",
    "    state.board=[int(val) for val in text.split()]  \n",
    "    print(state)\n",
    "    return state"
   ]
  },
  {
   "cell_type": "code",
   "execution_count": 5,
   "id": "2b2f534f-f463-4146-a66a-26bed4e5bf41",
   "metadata": {},
   "outputs": [],
   "source": [
    "def read_state():\n",
    "    from pylab import imread,imsave\n",
    "    from numpy import atleast_2d\n",
    "    import os\n",
    "\n",
    "    # train the classifier\n",
    "    images=image.load_images('images/training squares/',delete_alpha=True)  #<=========\n",
    "    images=remap_targets(images,new_target_names=['blank','player1','player2'])\n",
    "    \n",
    "    data=image.images_to_vectors(images,verbose=True)  # train on all of them\n",
    "\n",
    "    #classifier=kNearestNeighbor()\n",
    "    classifier=NaiveBayes()\n",
    "    classifier.fit(data.vectors,data.targets)\n",
    "\n",
    "\n",
    "    # get the picture\n",
    "    fname='current_board.jpg'              # for the robot\n",
    "    take_picture(fname)\n",
    "    im=imread(fname)\n",
    "\n",
    "    # slice the picture into squares of the right size\n",
    "    square_size=50 # choose a size that works for you\n",
    "    import json\n",
    "    with open('locations.json') as json_file:\n",
    "        locations = json.load(json_file)\n",
    "\n",
    "    count=0\n",
    "    # for debugging\n",
    "    if not os.path.exists('images/predicted'):\n",
    "        os.mkdir('images/predicted')\n",
    "    \n",
    "    values=[]\n",
    "    for r,c in locations:\n",
    "        sr=r-square_size//2\n",
    "        er=sr+square_size\n",
    "        sc=c-square_size//2\n",
    "        ec=sc+square_size   \n",
    "        subimage=im[sr:er,sc:ec,:]\n",
    "    \n",
    "        # convert the square image to a data vector for the classifier\n",
    "        vector=subimage.ravel()\n",
    "        prediction=classifier.predict(atleast_2d(vector))[0]\n",
    "    \n",
    "        values.append(prediction)\n",
    "\n",
    "        # for debugging\n",
    "        imsave('images/predicted/square %d predicted as %s.jpg' % (count,data.target_names[prediction]),subimage)\n",
    "    \n",
    "        count+=1\n",
    "\n",
    "    \n",
    "    # reconstruct the state from the predictions\n",
    "    state=Board(4,4)                                      #<========= change the size\n",
    "    state.board=values\n",
    "\n",
    "    print(\"Current state is:\")\n",
    "    print(state)\n",
    "\n",
    "    x=input(\"\"\"\n",
    "    Hit return if this is correct, otherwise type a character \n",
    "    and the state will be read from current_board.txt.\"\"\")\n",
    "\n",
    "    if x:\n",
    "        print(\"Reading from file...\")\n",
    "        state=read_state_from_file('board.txt')\n",
    "\n",
    "    print(\"Using\")\n",
    "    print(state)\n",
    "\n",
    "    \n",
    "    return state"
   ]
  },
  {
   "cell_type": "code",
   "execution_count": 6,
   "id": "9b2b817d-df3b-4a73-b3d5-9c8ca5f55c98",
   "metadata": {},
   "outputs": [],
   "source": [
    "#state=read_state()"
   ]
  },
  {
   "cell_type": "markdown",
   "id": "60e35bc8-f974-4131-b625-05f058830a0b",
   "metadata": {},
   "source": [
    "## Now the entire project"
   ]
  },
  {
   "cell_type": "code",
   "execution_count": 7,
   "id": "c252a397-3e10-4904-8928-9979c1fa74d6",
   "metadata": {},
   "outputs": [
    {
     "name": "stdout",
     "output_type": "stream",
     "text": [
      "[player1]: 58 files found\n",
      "[blank]: 46 files found\n",
      "[player2]: 56 files found\n",
      "160 vectors of length 7500\n",
      "Feature names: 'p0', 'p1', 'p2', 'p3', 'p4'  , ... ,  'p7495', 'p7496', 'p7497', 'p7498', 'p7499'  (7500 features)\n",
      "Target values given.\n",
      "Target names: 'blank', 'player1', 'player2'\n",
      "Mean:  [137.15625 144.91875 138.9875  ... 182.66875 186.55    177.63125]\n",
      "Median:  [153.  161.5 156.  ... 184.  188.  180. ]\n",
      "Stddev:  [49.87027507 52.84611763 53.1624853  ... 12.93334927 17.7122133\n",
      " 16.97741952]\n",
      "(REMOVE THIS FUNCTION FROM my_robot_functions IF YOU'RE ON THE ROBOT\n",
      "    --- Opening /dev/video0...\n",
      "Trying source module v4l2...\n",
      "/dev/video0 opened.\n",
      "No input was specified, using the first.\n",
      "Setting Brightness to 255 (100%).\n",
      "Adjusting resolution from 1600x900 to 1600x896.\n",
      "--- Capturing frame...\n",
      "Captured frame in 0.00 seconds.\n",
      "--- Processing captured image...\n",
      "Disabling banner.\n",
      "Writing JPEG image to 'current_board.jpg'.\n",
      "    \n",
      "Current state is:\n",
      " 1  1  2  1 \n",
      " 1  2  1  1 \n",
      " 0  2  0  2 \n",
      " 1  0  1  1 \n",
      "\n"
     ]
    },
    {
     "name": "stdin",
     "output_type": "stream",
     "text": [
      "\n",
      "    Hit return if this is correct, otherwise type a character \n",
      "    and the state will be read from current_board.txt. \n"
     ]
    },
    {
     "name": "stdout",
     "output_type": "stream",
     "text": [
      "Using\n",
      " 1  1  2  1 \n",
      " 1  2  1  1 \n",
      " 0  2  0  2 \n",
      " 1  0  1  1 \n",
      "\n",
      "Making move  [7, 2]\n",
      "forward  22\n",
      "left 90\n",
      "forward  12\n",
      "arm down\n",
      "left 45\n",
      "forward  4\n",
      "backward  4\n",
      "right 45\n",
      "backward  12\n",
      "right 90\n",
      "backward  22\n"
     ]
    }
   ],
   "source": [
    "state=read_state()     #  read the state from the world\n",
    "move=get_move(state,1)   # from an agent\n",
    "make_move(move)        # robot motion to move pieces, etc..."
   ]
  },
  {
   "cell_type": "code",
   "execution_count": null,
   "id": "77c96068-14aa-4f8f-bcd4-6a1ab5ba1f51",
   "metadata": {},
   "outputs": [],
   "source": []
  }
 ],
 "metadata": {
  "kernelspec": {
   "display_name": "Python 3 (ipykernel)",
   "language": "python",
   "name": "python3"
  },
  "language_info": {
   "codemirror_mode": {
    "name": "ipython",
    "version": 3
   },
   "file_extension": ".py",
   "mimetype": "text/x-python",
   "name": "python",
   "nbconvert_exporter": "python",
   "pygments_lexer": "ipython3",
   "version": "3.11.5"
  }
 },
 "nbformat": 4,
 "nbformat_minor": 5
}
