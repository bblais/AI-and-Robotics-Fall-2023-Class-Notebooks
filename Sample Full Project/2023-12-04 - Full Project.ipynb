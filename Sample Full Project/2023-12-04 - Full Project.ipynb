{
 "cells": [
  {
   "cell_type": "code",
   "execution_count": 1,
   "id": "df09cc9e-1253-41aa-b73f-250cbc7abace",
   "metadata": {},
   "outputs": [
    {
     "name": "stdout",
     "output_type": "stream",
     "text": [
      "Version:  0.2.46\n",
      "no module brickpi3...running in offline mode\n",
      "Version:  0.0.31\n",
      "Version  1.0.7\n",
      "Version:  0.0.48\n"
     ]
    }
   ],
   "source": [
    "from breakthrough import *\n",
    "from my_robot_functions import *\n",
    "from classy import *\n",
    "from pylab import imread,imsave"
   ]
  },
  {
   "cell_type": "markdown",
   "id": "870a68c1-e5ca-4e32-924b-171d658eeb81",
   "metadata": {},
   "source": [
    "## Agent"
   ]
  },
  {
   "cell_type": "code",
   "execution_count": 2,
   "id": "6988bbb2-1e9a-403e-88e4-cc61bb0e6856",
   "metadata": {},
   "outputs": [],
   "source": [
    "def get_move(state,player):\n",
    "    if player==1:\n",
    "        Q=LoadTable(\"Q1_breakthrough_table.json\")\n",
    "    else:\n",
    "        Q=LoadTable(\"Q2_breakthrough_table.json\")\n",
    "        \n",
    "    \n",
    "    if state not in Q:\n",
    "        return random_move(state,player)  # this is defined in my game functions import\n",
    "    else:\n",
    "        return top_choice(Q[state])"
   ]
  },
  {
   "cell_type": "markdown",
   "id": "b90ea20e-cbe3-4ffc-ad06-6c5dad1a7c49",
   "metadata": {},
   "source": [
    "## Make Move"
   ]
  },
  {
   "cell_type": "code",
   "execution_count": 3,
   "id": "ff7e62e7-e03b-4bae-a66e-3c65629c2521",
   "metadata": {},
   "outputs": [],
   "source": [
    "def make_move(move):\n",
    "    print(\"Making move \",move)\n",
    "    \n",
    "    board=Board(4,4)  # just to get the conversion functions for free\n",
    "    \n",
    "    start,end=move\n",
    "    rs,cs=board.rc_from_index(start)  # convert to row, column\n",
    "    re,ce=board.rc_from_index(end)\n",
    "    \n",
    "    distance_to_board=10\n",
    "    length_column=4\n",
    "    length_row=4\n",
    "\n",
    "    type_of_move=ce-cs  # 0 for a forward move, +1 for a right-hand diagonal, -1 for left-hand diagonal\n",
    "    distance_to_column=distance_to_board+length_column*cs\n",
    "    distance_to_row=(4-rs)*length_row\n",
    "\n",
    "    if type_of_move==0:  # forward\n",
    "\n",
    "        move_forward(distance_to_column)\n",
    "        turn_robot_left_90()\n",
    "        move_forward(distance_to_row)\n",
    "        arm_down()  # to push the piece\n",
    "        move_forward( 1*length_row )\n",
    "        arm_up()\n",
    "\n",
    "        # go back\n",
    "        move_backward(distance_to_row + 1*length_row)\n",
    "        turn_robot_right_90()\n",
    "        move_backward(distance_to_column)\n",
    "\n",
    "    elif type_of_move==1:  # right-hand diagonal\n",
    "\n",
    "        move_forward(distance_to_column)\n",
    "        turn_robot_left_90()\n",
    "        move_forward(distance_to_row)\n",
    "\n",
    "\n",
    "        arm_down()  # to push the piece\n",
    "        turn_robot_right_45()\n",
    "        move_forward( 1*length_row )\n",
    "\n",
    "        # go back\n",
    "        move_backward(1*length_row)\n",
    "        turn_robot_left_45()    \n",
    "        move_backward(distance_to_row )\n",
    "        turn_robot_right_90()\n",
    "        move_backward(distance_to_column)\n",
    "\n",
    "    elif type_of_move==-1:  # left-hand diagonal\n",
    "        move_forward(distance_to_column)\n",
    "        turn_robot_left_90()\n",
    "        move_forward(distance_to_row)\n",
    "\n",
    "\n",
    "        arm_down()  # to push the piece\n",
    "        turn_robot_left_45()\n",
    "        move_forward( 1*length_row )\n",
    "\n",
    "        # go back\n",
    "        move_backward(1*length_row)\n",
    "        turn_robot_right_45()    \n",
    "        move_backward(distance_to_row )\n",
    "        turn_robot_right_90()\n",
    "        move_backward(distance_to_column)\n",
    "\n",
    "    else:\n",
    "        raise ValueError(\"You can't get there from here.\")\n"
   ]
  },
  {
   "cell_type": "markdown",
   "id": "2c44ff0b-e5b2-4673-9d08-2f2e79029849",
   "metadata": {},
   "source": [
    "## Read State"
   ]
  },
  {
   "cell_type": "code",
   "execution_count": 4,
   "id": "b59c3a89-793b-4317-9fb2-033c83b67611",
   "metadata": {},
   "outputs": [],
   "source": [
    "def read_state_from_file(filename='current_board.txt'):\n",
    "    with open(filename) as fid:\n",
    "        text=fid.read()\n",
    "\n",
    "    text2=text.strip().split('\\n')\n",
    "    number_of_rows=len(text2)\n",
    "    number_of_cols=len(text2[0].split())\n",
    "    \n",
    "    b=Board(number_of_rows,number_of_cols)\n",
    "        \n",
    "    board=[int(v) for v in text.split()]\n",
    "    b.board=board\n",
    "    return b"
   ]
  },
  {
   "cell_type": "code",
   "execution_count": 5,
   "id": "cfdcd0a7-1b0e-4b89-a1a2-ca11155872cf",
   "metadata": {},
   "outputs": [],
   "source": [
    "def get_square(arr,index,shape,locations=None):\n",
    "    import json\n",
    "    \n",
    "    if locations is None:\n",
    "        with open('locations.json') as json_file:\n",
    "            locations = json.load(json_file)        \n",
    "    \n",
    "    try:\n",
    "        location=locations[index]\n",
    "    except IndexError:\n",
    "        print(\"locations.json file probably corrupt.\")\n",
    "        raise \n",
    "        \n",
    "    c,r=location\n",
    "    c1=int(c-shape[1]/2)\n",
    "    c2=int(c+shape[1]/2)\n",
    "    r1=int(r-shape[0]/2)\n",
    "    r2=int(r+shape[0]/2)\n",
    "\n",
    "    c2=c2+(shape[1]-(c2-c1))\n",
    "    r2=r2+(shape[0]-(r2-r1))\n",
    "\n",
    "    square=arr[r1:r2,c1:c2,:]\n",
    "    \n",
    "    return square"
   ]
  },
  {
   "cell_type": "code",
   "execution_count": 6,
   "id": "2b2f534f-f463-4146-a66a-26bed4e5bf41",
   "metadata": {},
   "outputs": [],
   "source": [
    "def read_state():\n",
    "    from pylab import imread,imsave\n",
    "    from classy import image\n",
    "    import os\n",
    "\n",
    "    # train the classifier\n",
    "    images=image.load_images('images/square images',delete_alpha=True)  #<=========\n",
    "    shape=images.data[0].shape[:2]\n",
    "    data_train=data=image.images_to_vectors(images,verbose=True)  # train on all of them\n",
    "\n",
    "    #classifier=kNearestNeighbor()\n",
    "    classifier=NaiveBayes()\n",
    "    classifier.fit(data_train.vectors,data_train.targets)\n",
    "\n",
    "\n",
    "    # get the picture\n",
    "    take_picture('current_board.jpg')\n",
    "    arr=imread('current_board.jpg')\n",
    "\n",
    "\n",
    "    # slice the picture into squares of the right size\n",
    "    shape=data_train.shape[:2]\n",
    "    squares=[get_square(arr,i,shape) for i in range(16)]    #<========= change the size\n",
    "    test_images=image.array_to_image_struct(squares)\n",
    "\n",
    "    # get predictions\n",
    "    test_data=image.images_to_vectors(test_images)\n",
    "    predictions=classifier.predict(test_data.vectors)\n",
    "    names=[data_train.target_names[p] for p in predictions]\n",
    "\n",
    "    if not os.path.exists('images/predicted'):\n",
    "        os.mkdir('images/predicted')\n",
    "    for i,(square,prediction) in enumerate(zip(squares,predictions)):\n",
    "        imsave('images/predicted/square %d predicted as %s.jpg' % (i,data_train.target_names[prediction]),square)\n",
    "\n",
    "    \n",
    "    # reconstruct the state from the predictions\n",
    "    state=Board(4,4)                                         #<========= change the size\n",
    "    for i in range(16):                                      #<========= change the size\n",
    "        color=data_train.target_names[predictions[i]]\n",
    "        if color==\"white\":                                   #<========= change the colors and values\n",
    "            state[i]=0                                       #<========= change the colors and values\n",
    "        elif color==\"red\":\n",
    "            state[i]=1\n",
    "        elif color==\"black\":\n",
    "            state[i]=2\n",
    "        else:\n",
    "            raise ValueError(\"You can't get there from here.\")\n",
    "\n",
    "    print(\"Current state is:\")\n",
    "    print(state)\n",
    "\n",
    "    x=input(\"\"\"\n",
    "    Hit return if this is correct, otherwise type a character \n",
    "    and the state will be read from current_board.txt.\"\"\")\n",
    "\n",
    "    if x:\n",
    "        print(\"Reading from file...\")\n",
    "        state=read_state_from_file()\n",
    "\n",
    "    print(\"Using\")\n",
    "    print(state)\n",
    "\n",
    "    \n",
    "    return state"
   ]
  },
  {
   "cell_type": "code",
   "execution_count": 7,
   "id": "9b2b817d-df3b-4a73-b3d5-9c8ca5f55c98",
   "metadata": {},
   "outputs": [],
   "source": [
    "#state=read_state()"
   ]
  },
  {
   "cell_type": "markdown",
   "id": "60e35bc8-f974-4131-b625-05f058830a0b",
   "metadata": {},
   "source": [
    "## Now the entire project"
   ]
  },
  {
   "cell_type": "code",
   "execution_count": 8,
   "id": "c252a397-3e10-4904-8928-9979c1fa74d6",
   "metadata": {},
   "outputs": [
    {
     "name": "stdout",
     "output_type": "stream",
     "text": [
      "[red]: 60 files found\n",
      "[white]: 49 files found\n",
      "[black]: 67 files found\n",
      "176 vectors of length 7500\n",
      "Feature names: 'p0', 'p1', 'p2', 'p3', 'p4'  , ... ,  'p7495', 'p7496', 'p7497', 'p7498', 'p7499'  (7500 features)\n",
      "Target values given.\n",
      "Target names: 'red', 'white', 'black'\n",
      "Mean:  [116.77840909 124.65909091 117.86931818 ... 183.26704545 186.98295455\n",
      " 178.26704545]\n",
      "Median:  [151.  165.  155.5 ... 184.  189.  180. ]\n",
      "Stddev:  [67.04477634 71.35886999 70.85997694 ...  5.98504237 12.83172313\n",
      " 12.64516815]\n",
      "--- Opening /dev/video0...\n",
      "Trying source module v4l2...\n",
      "/dev/video0 opened.\n",
      "No input was specified, using the first.\n",
      "Setting Brightness to 255 (100%).\n",
      "Adjusting resolution from 1600x900 to 1600x896.\n",
      "--- Capturing frame...\n",
      "Captured frame in 0.00 seconds.\n",
      "--- Processing captured image...\n",
      "Disabling banner.\n",
      "Writing JPEG image to 'current_board.jpg'.\n",
      "    \n",
      "16 vectors of length 7500\n",
      "Feature names: 'p0', 'p1', 'p2', 'p3', 'p4'  , ... ,  'p7495', 'p7496', 'p7497', 'p7498', 'p7499'  (7500 features)\n",
      "Target values given.\n",
      "Target names: 'None', 'None', 'None', 'None', 'None', 'None', 'None', 'None', 'None', 'None', 'None', 'None', 'None', 'None', 'None', 'None'\n",
      "Mean:  [120.1875 124.4375 116.8125 ... 185.     187.875  180.5   ]\n",
      "Median:  [157.5 158.5 152.5 ... 186.5 187.  180. ]\n",
      "Stddev:  [69.62867472 71.16439485 68.75792568 ...  4.18330013  2.73575858\n",
      "  3.95284708]\n",
      "Current state is:\n",
      " 2  2  1  2 \n",
      " 2  1  2  2 \n",
      " 0  1  0  1 \n",
      " 2  0  2  2 \n",
      "\n"
     ]
    },
    {
     "name": "stdin",
     "output_type": "stream",
     "text": [
      "\n",
      "    Hit return if this is correct, otherwise type a character \n",
      "    and the state will be read from current_board.txt. \n"
     ]
    },
    {
     "name": "stdout",
     "output_type": "stream",
     "text": [
      "Using\n",
      " 2  2  1  2 \n",
      " 2  1  2  2 \n",
      " 0  1  0  1 \n",
      " 2  0  2  2 \n",
      "\n",
      "Making move  [9, 6]\n",
      "forward  14\n",
      "left 90\n",
      "forward  8\n",
      "arm down\n",
      "right 45\n",
      "forward  4\n",
      "backward  4\n",
      "left 45\n",
      "backward  8\n",
      "right 90\n",
      "backward  14\n"
     ]
    }
   ],
   "source": [
    "state=read_state()     #  read the state from the world\n",
    "move=get_move(state,1)   # from an agent\n",
    "make_move(move)        # robot motion to move pieces, etc..."
   ]
  },
  {
   "cell_type": "code",
   "execution_count": null,
   "id": "77c96068-14aa-4f8f-bcd4-6a1ab5ba1f51",
   "metadata": {},
   "outputs": [],
   "source": []
  }
 ],
 "metadata": {
  "kernelspec": {
   "display_name": "Python 3 (ipykernel)",
   "language": "python",
   "name": "python3"
  },
  "language_info": {
   "codemirror_mode": {
    "name": "ipython",
    "version": 3
   },
   "file_extension": ".py",
   "mimetype": "text/x-python",
   "name": "python",
   "nbconvert_exporter": "python",
   "pygments_lexer": "ipython3",
   "version": "3.11.5"
  }
 },
 "nbformat": 4,
 "nbformat_minor": 5
}
