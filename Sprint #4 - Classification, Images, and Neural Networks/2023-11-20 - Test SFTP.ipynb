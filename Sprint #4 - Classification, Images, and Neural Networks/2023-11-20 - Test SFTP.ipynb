{
 "cells": [
  {
   "cell_type": "code",
   "execution_count": 1,
   "id": "dcaeee73-c41d-44eb-b6fd-2a6511cd8d1c",
   "metadata": {},
   "outputs": [],
   "source": [
    "import paramiko\n",
    "import sys"
   ]
  },
  {
   "cell_type": "code",
   "execution_count": 7,
   "id": "ed3d630a-5d39-4110-b26c-2ce071c30f1d",
   "metadata": {},
   "outputs": [
    {
     "name": "stdin",
     "output_type": "stream",
     "text": [
      " ········\n"
     ]
    }
   ],
   "source": [
    "from getpass import getpass\n",
    "passwd = getpass()"
   ]
  },
  {
   "cell_type": "code",
   "execution_count": 6,
   "id": "a6d3afa4-30c9-4b24-9824-63afc56f2efd",
   "metadata": {},
   "outputs": [
    {
     "name": "stdout",
     "output_type": "stream",
     "text": [
      "Downloads\n",
      ".Xauthority\n",
      "Templates\n",
      ".bash_logout\n",
      "Videos\n",
      ".profile\n",
      ".pypaths\n",
      ".bashrc\n",
      "python\n",
      "Documents\n"
     ]
    }
   ],
   "source": [
    "try:\n",
    "    # Note that the parameters below represent a low-level Python Socket, and \n",
    "    # they must be represented as such.\n",
    "    tp = paramiko.Transport(\"10.2.2.38\", 22)\n",
    "    \n",
    "    # Note that while you *can* connect without checking the hostkey, you really\n",
    "    # shouldn't. Without checking the hostkey, a malicious actor can steal\n",
    "    # your credentials by impersonating the server.\n",
    "    tp.connect (username = \"pi\", password=passwd)\n",
    "    try:\n",
    "        sftpClient = paramiko.SFTPClient.from_transport(tp)\n",
    "        fileCount = 0\n",
    "        # Proof of concept - List First 10 Files\n",
    "        for file in sftpClient.listdir():\n",
    "            print (str(file))\n",
    "            fileCount = 1 + fileCount\n",
    "            if 10 == fileCount:\n",
    "              break\n",
    "        sftpClient.close()\n",
    "    except Exception as err:\n",
    "        print (\"SFTP failed due to [\" + str(err) + \"]\")\n",
    "except paramiko.ssh_exception.AuthenticationException as err:\n",
    "    print (\"Can't connect due to authentication error [\" + str(err) + \"]\")\n",
    "except Exception as err:\n",
    "    print (\"Can't connect due to other error [\" + str(err) + \"]\")\n",
    "\n",
    "tp.close()"
   ]
  },
  {
   "cell_type": "code",
   "execution_count": null,
   "id": "a90fb2d0-87f6-438e-b85c-47df5a9c833f",
   "metadata": {},
   "outputs": [],
   "source": []
  },
  {
   "cell_type": "code",
   "execution_count": 9,
   "id": "e550cd2f-0aa8-42d3-bc56-512f124b7e43",
   "metadata": {},
   "outputs": [],
   "source": [
    "ssh = paramiko.SSHClient()\n",
    "ssh.set_missing_host_key_policy(paramiko.AutoAddPolicy())\n",
    "ssh.connect(\"10.2.2.38\", username='pi', password=passwd)\n",
    "ftp = ssh.open_sftp()\n",
    "file=ftp.file('python/bblais_test.txt', \"a\")\n",
    "file.write('This is a test.\\n')\n",
    "file.flush()\n",
    "ftp.close()\n",
    "ssh.close()"
   ]
  },
  {
   "cell_type": "code",
   "execution_count": 10,
   "id": "79d10cd2-aa3b-4810-8769-78099f1cf88a",
   "metadata": {},
   "outputs": [
    {
     "data": {
      "text/plain": [
       "\u001b[0;31mSignature:\u001b[0m \u001b[0mftp\u001b[0m\u001b[0;34m.\u001b[0m\u001b[0mput\u001b[0m\u001b[0;34m(\u001b[0m\u001b[0mlocalpath\u001b[0m\u001b[0;34m,\u001b[0m \u001b[0mremotepath\u001b[0m\u001b[0;34m,\u001b[0m \u001b[0mcallback\u001b[0m\u001b[0;34m=\u001b[0m\u001b[0;32mNone\u001b[0m\u001b[0;34m,\u001b[0m \u001b[0mconfirm\u001b[0m\u001b[0;34m=\u001b[0m\u001b[0;32mTrue\u001b[0m\u001b[0;34m)\u001b[0m\u001b[0;34m\u001b[0m\u001b[0;34m\u001b[0m\u001b[0m\n",
       "\u001b[0;31mDocstring:\u001b[0m\n",
       "Copy a local file (``localpath``) to the SFTP server as ``remotepath``.\n",
       "Any exception raised by operations will be passed through.  This\n",
       "method is primarily provided as a convenience.\n",
       "\n",
       "The SFTP operations use pipelining for speed.\n",
       "\n",
       ":param str localpath: the local file to copy\n",
       ":param str remotepath: the destination path on the SFTP server. Note\n",
       "    that the filename should be included. Only specifying a directory\n",
       "    may result in an error.\n",
       ":param callable callback:\n",
       "    optional callback function (form: ``func(int, int)``) that accepts\n",
       "    the bytes transferred so far and the total bytes to be transferred\n",
       ":param bool confirm:\n",
       "    whether to do a stat() on the file afterwards to confirm the file\n",
       "    size\n",
       "\n",
       ":return: an `.SFTPAttributes` object containing attributes about the\n",
       "    given file\n",
       "\n",
       ".. versionadded:: 1.4\n",
       ".. versionchanged:: 1.7.4\n",
       "    ``callback`` and rich attribute return value added.\n",
       ".. versionchanged:: 1.7.7\n",
       "    ``confirm`` param added.\n",
       "\u001b[0;31mFile:\u001b[0m      ~/anaconda3/lib/python3.11/site-packages/paramiko/sftp_client.py\n",
       "\u001b[0;31mType:\u001b[0m      method"
      ]
     },
     "metadata": {},
     "output_type": "display_data"
    }
   ],
   "source": [
    "ftp.put?"
   ]
  },
  {
   "cell_type": "code",
   "execution_count": 11,
   "id": "56d5d338-fbb1-490e-b297-2b44cb61fbf9",
   "metadata": {},
   "outputs": [
    {
     "name": "stdout",
     "output_type": "stream",
     "text": [
      "Version:  0.0.37\n"
     ]
    }
   ],
   "source": [
    "import classy"
   ]
  },
  {
   "cell_type": "code",
   "execution_count": null,
   "id": "765997a5-606c-42b0-9651-b03ce00af122",
   "metadata": {},
   "outputs": [],
   "source": []
  }
 ],
 "metadata": {
  "kernelspec": {
   "display_name": "Python 3 (ipykernel)",
   "language": "python",
   "name": "python3"
  },
  "language_info": {
   "codemirror_mode": {
    "name": "ipython",
    "version": 3
   },
   "file_extension": ".py",
   "mimetype": "text/x-python",
   "name": "python",
   "nbconvert_exporter": "python",
   "pygments_lexer": "ipython3",
   "version": "3.11.5"
  }
 },
 "nbformat": 4,
 "nbformat_minor": 5
}
