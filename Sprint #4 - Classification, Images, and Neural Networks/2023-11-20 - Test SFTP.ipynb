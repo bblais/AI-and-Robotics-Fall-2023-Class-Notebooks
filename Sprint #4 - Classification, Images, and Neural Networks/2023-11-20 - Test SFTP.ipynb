{
 "cells": [
  {
   "cell_type": "code",
   "execution_count": 1,
   "id": "dcaeee73-c41d-44eb-b6fd-2a6511cd8d1c",
   "metadata": {},
   "outputs": [],
   "source": [
    "import paramiko\n",
    "import sys"
   ]
  },
  {
   "cell_type": "code",
   "execution_count": 7,
   "id": "ed3d630a-5d39-4110-b26c-2ce071c30f1d",
   "metadata": {},
   "outputs": [
    {
     "name": "stdin",
     "output_type": "stream",
     "text": [
      " ········\n"
     ]
    }
   ],
   "source": [
    "from getpass import getpass\n",
    "passwd = getpass()"
   ]
  },
  {
   "cell_type": "code",
   "execution_count": 6,
   "id": "a6d3afa4-30c9-4b24-9824-63afc56f2efd",
   "metadata": {},
   "outputs": [
    {
     "name": "stdout",
     "output_type": "stream",
     "text": [
      "Downloads\n",
      ".Xauthority\n",
      "Templates\n",
      ".bash_logout\n",
      "Videos\n",
      ".profile\n",
      ".pypaths\n",
      ".bashrc\n",
      "python\n",
      "Documents\n"
     ]
    }
   ],
   "source": [
    "try:\n",
    "    # Note that the parameters below represent a low-level Python Socket, and \n",
    "    # they must be represented as such.\n",
    "    tp = paramiko.Transport(\"10.2.2.38\", 22)\n",
    "    \n",
    "    # Note that while you *can* connect without checking the hostkey, you really\n",
    "    # shouldn't. Without checking the hostkey, a malicious actor can steal\n",
    "    # your credentials by impersonating the server.\n",
    "    tp.connect (username = \"pi\", password=passwd)\n",
    "    try:\n",
    "        sftpClient = paramiko.SFTPClient.from_transport(tp)\n",
    "        fileCount = 0\n",
    "        # Proof of concept - List First 10 Files\n",
    "        for file in sftpClient.listdir():\n",
    "            print (str(file))\n",
    "            fileCount = 1 + fileCount\n",
    "            if 10 == fileCount:\n",
    "              break\n",
    "        sftpClient.close()\n",
    "    except Exception as err:\n",
    "        print (\"SFTP failed due to [\" + str(err) + \"]\")\n",
    "except paramiko.ssh_exception.AuthenticationException as err:\n",
    "    print (\"Can't connect due to authentication error [\" + str(err) + \"]\")\n",
    "except Exception as err:\n",
    "    print (\"Can't connect due to other error [\" + str(err) + \"]\")\n",
    "\n",
    "tp.close()"
   ]
  },
  {
   "cell_type": "code",
   "execution_count": null,
   "id": "a90fb2d0-87f6-438e-b85c-47df5a9c833f",
   "metadata": {},
   "outputs": [],
   "source": []
  },
  {
   "cell_type": "code",
   "execution_count": 9,
   "id": "e550cd2f-0aa8-42d3-bc56-512f124b7e43",
   "metadata": {},
   "outputs": [],
   "source": [
    "ssh = paramiko.SSHClient()\n",
    "ssh.set_missing_host_key_policy(paramiko.AutoAddPolicy())\n",
    "ssh.connect(\"10.2.2.38\", username='pi', password=passwd)\n",
    "ftp = ssh.open_sftp()\n",
    "file=ftp.file('python/bblais_test.txt', \"a\")\n",
    "file.write('This is a test.\\n')\n",
    "file.flush()\n",
    "ftp.close()\n",
    "ssh.close()"
   ]
  },
  {
   "cell_type": "code",
   "execution_count": null,
   "id": "79d10cd2-aa3b-4810-8769-78099f1cf88a",
   "metadata": {},
   "outputs": [],
   "source": []
  }
 ],
 "metadata": {
  "kernelspec": {
   "display_name": "Python 3 (ipykernel)",
   "language": "python",
   "name": "python3"
  },
  "language_info": {
   "codemirror_mode": {
    "name": "ipython",
    "version": 3
   },
   "file_extension": ".py",
   "mimetype": "text/x-python",
   "name": "python",
   "nbconvert_exporter": "python",
   "pygments_lexer": "ipython3",
   "version": "3.11.5"
  }
 },
 "nbformat": 4,
 "nbformat_minor": 5
}
