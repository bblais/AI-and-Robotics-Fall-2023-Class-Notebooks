{
 "cells": [
  {
   "cell_type": "code",
   "execution_count": 1,
   "id": "1798f180-1005-43a2-a6d1-79669e4f2430",
   "metadata": {},
   "outputs": [
    {
     "name": "stdout",
     "output_type": "stream",
     "text": [
      "Version:  0.2.46\n"
     ]
    }
   ],
   "source": [
    "from Game import *"
   ]
  },
  {
   "cell_type": "code",
   "execution_count": 2,
   "id": "7e466f50-e210-4700-bc0d-c46ffe550c1f",
   "metadata": {},
   "outputs": [],
   "source": [
    "state=Board(4,4)"
   ]
  },
  {
   "cell_type": "code",
   "execution_count": 3,
   "id": "c7057396-2cc2-454c-a788-f3da9a97369b",
   "metadata": {},
   "outputs": [
    {
     "data": {
      "text/plain": [
       " 0  0  0  0 \n",
       " 0  0  0  0 \n",
       " 0  0  0  0 \n",
       " 0  0  0  0 "
      ]
     },
     "execution_count": 3,
     "metadata": {},
     "output_type": "execute_result"
    }
   ],
   "source": [
    "state"
   ]
  },
  {
   "cell_type": "code",
   "execution_count": 4,
   "id": "4e143f50-5966-44b0-bea2-bd0b425d8c51",
   "metadata": {},
   "outputs": [
    {
     "name": "stdout",
     "output_type": "stream",
     "text": [
      " 0  1  2  3 \n",
      " 4  5  6  7 \n",
      " 8  9 10 11 \n",
      "12 13 14 15 \n",
      "\n"
     ]
    }
   ],
   "source": [
    "state.show_locations()"
   ]
  },
  {
   "cell_type": "code",
   "execution_count": 7,
   "id": "592ee0f9-066f-4aaa-82be-29dc9d8b15ac",
   "metadata": {},
   "outputs": [],
   "source": [
    "def all_possible_moves(player):\n",
    "    moves=[]\n",
    "\n",
    "    if player==1:\n",
    "        for i in range(4,16):\n",
    "            moves.append([i,i-4])\n",
    "            if not i in [4,8,12]:\n",
    "                moves.append([i,i-5])\n",
    "            if not i in [7,11,15]:\n",
    "                moves.append([i,i-3])\n",
    "    elif player==2:\n",
    "        for i in range(12):\n",
    "            moves.append([i,i+4])\n",
    "            if not i in [0,4,8]:\n",
    "                moves.append([i,i+5])\n",
    "            if not i in [3,7,11]:\n",
    "                moves.append([i,i+3])\n",
    "    else:\n",
    "        raise ValueError(\"You can't get there from here\")\n",
    "\n",
    "\n",
    "    return moves\n",
    "    "
   ]
  },
  {
   "cell_type": "code",
   "execution_count": null,
   "id": "494873a1-c6ea-449f-85a0-cb4112a34235",
   "metadata": {},
   "outputs": [],
   "source": []
  },
  {
   "cell_type": "code",
   "execution_count": 8,
   "id": "33c58296-51ba-419c-9a02-e05fc31171e7",
   "metadata": {},
   "outputs": [
    {
     "data": {
      "text/plain": [
       "[[4, 0],\n",
       " [4, 1],\n",
       " [5, 1],\n",
       " [5, 0],\n",
       " [5, 2],\n",
       " [6, 2],\n",
       " [6, 1],\n",
       " [6, 3],\n",
       " [7, 3],\n",
       " [7, 2],\n",
       " [8, 4],\n",
       " [8, 5],\n",
       " [9, 5],\n",
       " [9, 4],\n",
       " [9, 6],\n",
       " [10, 6],\n",
       " [10, 5],\n",
       " [10, 7],\n",
       " [11, 7],\n",
       " [11, 6],\n",
       " [12, 8],\n",
       " [12, 9],\n",
       " [13, 9],\n",
       " [13, 8],\n",
       " [13, 10],\n",
       " [14, 10],\n",
       " [14, 9],\n",
       " [14, 11],\n",
       " [15, 11],\n",
       " [15, 10]]"
      ]
     },
     "execution_count": 8,
     "metadata": {},
     "output_type": "execute_result"
    }
   ],
   "source": [
    "all_possible_moves()"
   ]
  }
 ],
 "metadata": {
  "kernelspec": {
   "display_name": "Python 3 (ipykernel)",
   "language": "python",
   "name": "python3"
  },
  "language_info": {
   "codemirror_mode": {
    "name": "ipython",
    "version": 3
   },
   "file_extension": ".py",
   "mimetype": "text/x-python",
   "name": "python",
   "nbconvert_exporter": "python",
   "pygments_lexer": "ipython3",
   "version": "3.11.5"
  }
 },
 "nbformat": 4,
 "nbformat_minor": 5
}
