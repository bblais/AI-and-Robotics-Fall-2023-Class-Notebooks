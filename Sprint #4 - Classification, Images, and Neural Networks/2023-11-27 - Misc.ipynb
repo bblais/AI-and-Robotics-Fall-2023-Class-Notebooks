{
 "cells": [
  {
   "cell_type": "code",
   "execution_count": 1,
   "id": "0c5daa0f-bd24-40ce-bc0a-f18e607a82d5",
   "metadata": {},
   "outputs": [
    {
     "name": "stdout",
     "output_type": "stream",
     "text": [
      "no module brickpi3...running in offline mode\n",
      "Version:  0.0.32\n"
     ]
    }
   ],
   "source": [
    "from Robot373 import *"
   ]
  },
  {
   "cell_type": "code",
   "execution_count": 2,
   "id": "c94ba4ca-a9e8-42a0-ab95-db39bb68ff7d",
   "metadata": {},
   "outputs": [],
   "source": [
    "r,g,b,something=[277,366,477,715]\n",
    "color=closest_color(r,g,b,\n",
    "            RedTape = [270,60,60],\n",
    "            GreenTape = [80,260,100],\n",
    "            BlueTape = [140,320,524],\n",
    "            OrangeTape = [323,115,50],\n",
    "            Board = [260,350,450],\n",
    "            )"
   ]
  },
  {
   "cell_type": "code",
   "execution_count": 3,
   "id": "39081543-e368-4518-aa4f-6639d26e0079",
   "metadata": {},
   "outputs": [
    {
     "data": {
      "text/plain": [
       "'Board'"
      ]
     },
     "execution_count": 3,
     "metadata": {},
     "output_type": "execute_result"
    }
   ],
   "source": [
    "color"
   ]
  },
  {
   "cell_type": "code",
   "execution_count": 6,
   "id": "0bd86dc1-ff64-4ded-b57a-e2680287f088",
   "metadata": {},
   "outputs": [],
   "source": [
    "def take_picture(filename='picture.jpg',brightness=100,view=False,S=10):\n",
    "\n",
    "    a=f\"fswebcam -s brightness={brightness}%% -r 1600x900 --no-banner -S {S} '{filename}'\"\n",
    "    print(a)"
   ]
  },
  {
   "cell_type": "code",
   "execution_count": 7,
   "id": "e27edd3f-4c5d-4d19-b1ce-61f72a0e935a",
   "metadata": {},
   "outputs": [
    {
     "name": "stdout",
     "output_type": "stream",
     "text": [
      "fswebcam -s brightness=100%% -r 1600x900 --no-banner -S 10 'picture.jpg'\n"
     ]
    }
   ],
   "source": [
    "take_picture()"
   ]
  },
  {
   "cell_type": "code",
   "execution_count": null,
   "id": "57ba2924-0171-401d-8523-9b6729c7ae19",
   "metadata": {},
   "outputs": [],
   "source": []
  }
 ],
 "metadata": {
  "kernelspec": {
   "display_name": "Python 3 (ipykernel)",
   "language": "python",
   "name": "python3"
  },
  "language_info": {
   "codemirror_mode": {
    "name": "ipython",
    "version": 3
   },
   "file_extension": ".py",
   "mimetype": "text/x-python",
   "name": "python",
   "nbconvert_exporter": "python",
   "pygments_lexer": "ipython3",
   "version": "3.11.5"
  }
 },
 "nbformat": 4,
 "nbformat_minor": 5
}
