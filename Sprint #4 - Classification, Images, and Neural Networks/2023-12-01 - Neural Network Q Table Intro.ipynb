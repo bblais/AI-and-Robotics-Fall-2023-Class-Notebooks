{
 "cells": [
  {
   "cell_type": "code",
   "execution_count": 1,
   "id": "109ed929-56e2-4ece-85af-1b4086639fb4",
   "metadata": {},
   "outputs": [
    {
     "name": "stdout",
     "output_type": "stream",
     "text": [
      "Version:  0.2.46\n"
     ]
    }
   ],
   "source": [
    "from Game import *"
   ]
  },
  {
   "cell_type": "code",
   "execution_count": 4,
   "id": "c6c7b7cf-9533-4714-a090-ab818f5c4428",
   "metadata": {},
   "outputs": [],
   "source": [
    "def initial_state():\n",
    "    return Board(3,3)\n",
    "\n",
    "def valid_moves(board,player):\n",
    "\n",
    "    empty=[]\n",
    "    for i in range(9):\n",
    "        if board[i]==0:\n",
    "            empty.append(i)\n",
    "\n",
    "    return empty\n",
    "\n",
    "def update_state(board,player,move):\n",
    "    board[move]=player\n",
    "    return board\n",
    "\n",
    "def check_three_in_a_row(row):\n",
    "\n",
    "    if row[0]==1 and row[1]==1 and row[2]==1:\n",
    "        return 1\n",
    "    elif row[0]==2 and row[1]==2 and row[2]==2:\n",
    "        return 2\n",
    "    else:\n",
    "        return 0\n",
    "\n",
    "def win_status(board,player):\n",
    "    # in ttt, after a move, that player can either win or stalemate\n",
    "    # they can't lose after their own move\n",
    "    \n",
    "    if check_three_in_a_row( [board[0],board[1],board[2] ])==player:\n",
    "        return 'win'\n",
    "\n",
    "    if check_three_in_a_row( [board[2],board[5],board[8] ])==player:\n",
    "        return 'win'\n",
    "\n",
    "    if check_three_in_a_row( [board[3],board[4],board[5] ])==player:\n",
    "        return 'win'\n",
    "\n",
    "    if check_three_in_a_row( [board[6],board[7],board[8] ])==player:\n",
    "        return 'win'\n",
    "\n",
    "    if check_three_in_a_row( [board[0],board[3],board[6] ])==player:\n",
    "        return 'win'\n",
    "\n",
    "    if check_three_in_a_row( [board[1],board[4],board[7] ])==player:\n",
    "        return 'win'\n",
    "\n",
    "    if check_three_in_a_row( [board[0],board[4],board[8] ])==player:\n",
    "        return 'win'\n",
    "\n",
    "    if check_three_in_a_row( [board[6],board[4],board[2] ])==player:\n",
    "        return 'win'\n",
    "\n",
    "\n",
    "    # stalemate\n",
    "    tie=True\n",
    "    for i in range(9):\n",
    "        if board[i]==0:\n",
    "            tie=False\n",
    "\n",
    "    if tie:\n",
    "        return 'stalemate'\n",
    "\n",
    "\n",
    "\n",
    "    return None\n"
   ]
  },
  {
   "cell_type": "code",
   "execution_count": 14,
   "id": "753e43c1-dfbd-46ff-9846-9d840c46c1cd",
   "metadata": {},
   "outputs": [
    {
     "data": {
      "text/plain": [
       " 1  0  0 \n",
       " 2  1  0 \n",
       " 0  0  2 "
      ]
     },
     "execution_count": 14,
     "metadata": {},
     "output_type": "execute_result"
    }
   ],
   "source": [
    "state=Board(3,3)\n",
    "player=1\n",
    "state[0]=1\n",
    "state[3]=2\n",
    "state[4]=1\n",
    "state[8]=2\n",
    "state"
   ]
  },
  {
   "cell_type": "code",
   "execution_count": 15,
   "id": "503e8436-4922-4657-99e0-870caf02ef62",
   "metadata": {},
   "outputs": [],
   "source": [
    "Q=Table()"
   ]
  },
  {
   "cell_type": "code",
   "execution_count": 16,
   "id": "346c117c-be93-4f2f-baef-61af5a0dc8f6",
   "metadata": {},
   "outputs": [
    {
     "data": {
      "text/plain": [
       "{(1, 0, 0, 2, 1, 0, 0, 0, 2): {1: 0, 2: 0, 5: 0, 6: 0, 7: 0}}"
      ]
     },
     "execution_count": 16,
     "metadata": {},
     "output_type": "execute_result"
    }
   ],
   "source": [
    "if state not in Q:\n",
    "    actions=valid_moves(state,player)\n",
    "    Q[state]=Table()\n",
    "    for action in actions:\n",
    "        Q[state][action]=0  # initial value of table\n",
    "\n",
    "Q"
   ]
  },
  {
   "cell_type": "code",
   "execution_count": 22,
   "id": "f3426a9a-5cd4-4c8a-920d-1868932f83a8",
   "metadata": {},
   "outputs": [
    {
     "data": {
      "text/plain": [
       "{1: 0, 2: 0, 5: 0, 6: 0, 7: 0}"
      ]
     },
     "execution_count": 22,
     "metadata": {},
     "output_type": "execute_result"
    }
   ],
   "source": [
    "Q[state]"
   ]
  },
  {
   "cell_type": "code",
   "execution_count": 23,
   "id": "df57d92a-11c6-4298-a03c-094e1828c081",
   "metadata": {},
   "outputs": [
    {
     "ename": "KeyError",
     "evalue": "(0, 0, 0, 0, 0, 0, 0, 0, 0)",
     "output_type": "error",
     "traceback": [
      "\u001b[0;31m---------------------------------------------------------------------------\u001b[0m",
      "\u001b[0;31mKeyError\u001b[0m                                  Traceback (most recent call last)",
      "Cell \u001b[0;32mIn[23], line 1\u001b[0m\n\u001b[0;32m----> 1\u001b[0m Q[initial_state()]\n",
      "File \u001b[0;32m~/anaconda3/lib/python3.11/site-packages/Game/tables.py:175\u001b[0m, in \u001b[0;36mTable.__getitem__\u001b[0;34m(self, key)\u001b[0m\n\u001b[1;32m    173\u001b[0m \u001b[38;5;28;01mdef\u001b[39;00m \u001b[38;5;21m__getitem__\u001b[39m(\u001b[38;5;28mself\u001b[39m, key):\n\u001b[1;32m    174\u001b[0m     key\u001b[38;5;241m=\u001b[39mmake_immutable(key)\n\u001b[0;32m--> 175\u001b[0m     \u001b[38;5;28;01mreturn\u001b[39;00m \u001b[38;5;28mdict\u001b[39m\u001b[38;5;241m.\u001b[39m\u001b[38;5;21m__getitem__\u001b[39m(\u001b[38;5;28mself\u001b[39m, key)\n",
      "\u001b[0;31mKeyError\u001b[0m: (0, 0, 0, 0, 0, 0, 0, 0, 0)"
     ]
    }
   ],
   "source": [
    "Q[initial_state()]"
   ]
  },
  {
   "cell_type": "code",
   "execution_count": 17,
   "id": "4d731b07-a046-49da-9d56-1f9d221f6146",
   "metadata": {},
   "outputs": [],
   "source": [
    "from Game.numpynet_tables import NumpyNetTable"
   ]
  },
  {
   "cell_type": "code",
   "execution_count": 18,
   "id": "a35ff076-8a67-407f-909e-f639d831b720",
   "metadata": {},
   "outputs": [],
   "source": [
    "def all_possible_moves():\n",
    "    all_moves=[]\n",
    "    for move in range(9):\n",
    "        all_moves.append(move)\n",
    "            \n",
    "    return all_moves\n",
    "\n",
    "\n",
    "# length 9 with +1, -1, 0\n",
    "def state_to_X(state):  \n",
    "    import numpy as np\n",
    "    N2=len(state)\n",
    "    arr=np.zeros((1,N2))  # number of samples, size\n",
    "    for i in range(N2):\n",
    "        if state[i]==0:\n",
    "            arr[0,i]=0\n",
    "        elif state[i]==1:\n",
    "            arr[0,i]=1\n",
    "        elif state[i]==2:\n",
    "            arr[0,i]=-1\n",
    "                     \n",
    "    return arr\n"
   ]
  },
  {
   "cell_type": "code",
   "execution_count": 19,
   "id": "582a0b00-7702-4a95-be3e-35050ee77e29",
   "metadata": {},
   "outputs": [
    {
     "data": {
      "text/plain": [
       "array([[ 1.,  0.,  0., -1.,  1.,  0.,  0.,  0., -1.]])"
      ]
     },
     "execution_count": 19,
     "metadata": {},
     "output_type": "execute_result"
    }
   ],
   "source": [
    "state_to_X(state)"
   ]
  },
  {
   "cell_type": "code",
   "execution_count": 20,
   "id": "74ab93e4-c28c-4076-9a8a-d549820f6531",
   "metadata": {},
   "outputs": [],
   "source": [
    "initial_X=state_to_X(initial_state())\n",
    "all_moves=all_possible_moves()\n"
   ]
  },
  {
   "cell_type": "code",
   "execution_count": 21,
   "id": "a52b78ae-86e8-43c8-9ccd-d34d24822aa9",
   "metadata": {},
   "outputs": [
    {
     "name": "stdout",
     "output_type": "stream",
     "text": [
      " 1  0  0 \n",
      " 2  1  0 \n",
      " 0  0  2 \n",
      "\n",
      "[[0. 0. 0. 0. 0. 0. 0. 0. 0.]]\n"
     ]
    }
   ],
   "source": [
    "print(state)\n",
    "print(initial_X)\n",
    "\n",
    "QNN=NumpyNetTable(state_to_X,all_possible_moves(),\n",
    "                {\n",
    "                    'input':initial_X.shape[1],               # number of inputs\n",
    "                    'hidden':[(81,'relu'),],\n",
    "                    'hidden':[(81,'relu'),],\n",
    "                    'output':(len(all_moves),'linear'),  # number of moves\n",
    "                    'cost':'mse',\n",
    "                },\n",
    "                        verbose=False)\n"
   ]
  },
  {
   "cell_type": "code",
   "execution_count": 24,
   "id": "479f1cc8-3c33-4bcc-96f6-d37d72f27952",
   "metadata": {},
   "outputs": [
    {
     "data": {
      "text/plain": [
       "{0: 0.09242741972271544,\n",
       " 1: -0.10754041223954636,\n",
       " 2: 0.004001744631292362,\n",
       " 3: 0.12902327160548385,\n",
       " 4: -0.16966319909519628,\n",
       " 5: -0.04323176256701303,\n",
       " 6: -0.07879978183247217,\n",
       " 7: 0.2410632335622699,\n",
       " 8: -0.028361946334877708}"
      ]
     },
     "execution_count": 24,
     "metadata": {},
     "output_type": "execute_result"
    }
   ],
   "source": [
    "QNN[state]"
   ]
  },
  {
   "cell_type": "code",
   "execution_count": 25,
   "id": "acee8b85-5805-472b-be52-57ab08b3fb50",
   "metadata": {},
   "outputs": [
    {
     "data": {
      "text/plain": [
       "{0: -0.001132374702782195,\n",
       " 1: 0.0012944430268066222,\n",
       " 2: -0.0013422148769138787,\n",
       " 3: -0.0014087259640921095,\n",
       " 4: 0.001527611272755956,\n",
       " 5: 0.001526644356728445,\n",
       " 6: 0.0006523858886368897,\n",
       " 7: -0.0015920420443661849,\n",
       " 8: 0.000901449137973542}"
      ]
     },
     "execution_count": 25,
     "metadata": {},
     "output_type": "execute_result"
    }
   ],
   "source": [
    "QNN[initial_state()]"
   ]
  },
  {
   "cell_type": "code",
   "execution_count": 28,
   "id": "8add9ce2-73a4-4e1d-8469-a984b31ff1ee",
   "metadata": {},
   "outputs": [
    {
     "data": {
      "text/plain": [
       "[-1, 1, 1, -1, -1, 1, 1, 1, -1]"
      ]
     },
     "execution_count": 28,
     "metadata": {},
     "output_type": "execute_result"
    }
   ],
   "source": [
    "possible_moves=all_possible_moves()\n",
    "target=[]\n",
    "for i,move in enumerate(possible_moves):\n",
    "    \n",
    "    if move not in valid_moves(state,player):\n",
    "        target.append(-1)\n",
    "    else:\n",
    "        target.append(1)\n",
    "target"
   ]
  },
  {
   "cell_type": "code",
   "execution_count": 29,
   "id": "f67e51a7-3daf-4f16-8ee3-795bd395a235",
   "metadata": {},
   "outputs": [],
   "source": [
    "QNN[state]=target"
   ]
  },
  {
   "cell_type": "code",
   "execution_count": 30,
   "id": "2bc60bea-5df6-4339-aaa2-96f9dee4bf84",
   "metadata": {},
   "outputs": [
    {
     "data": {
      "text/plain": [
       "{0: 0.09756322102560651,\n",
       " 1: -0.07121568007380179,\n",
       " 2: 0.037669147513364934,\n",
       " 3: 0.14284149785999886,\n",
       " 4: -0.1419044859469096,\n",
       " 5: -0.0047135464890438825,\n",
       " 6: -0.04758199571759376,\n",
       " 7: 0.25868234767622134,\n",
       " 8: -0.012984424422670967}"
      ]
     },
     "execution_count": 30,
     "metadata": {},
     "output_type": "execute_result"
    }
   ],
   "source": [
    "QNN[state]"
   ]
  },
  {
   "cell_type": "code",
   "execution_count": null,
   "id": "b70bac3e-96df-4be2-bae4-c939a9e987a9",
   "metadata": {},
   "outputs": [],
   "source": []
  }
 ],
 "metadata": {
  "kernelspec": {
   "display_name": "Python 3 (ipykernel)",
   "language": "python",
   "name": "python3"
  },
  "language_info": {
   "codemirror_mode": {
    "name": "ipython",
    "version": 3
   },
   "file_extension": ".py",
   "mimetype": "text/x-python",
   "name": "python",
   "nbconvert_exporter": "python",
   "pygments_lexer": "ipython3",
   "version": "3.11.5"
  }
 },
 "nbformat": 4,
 "nbformat_minor": 5
}
