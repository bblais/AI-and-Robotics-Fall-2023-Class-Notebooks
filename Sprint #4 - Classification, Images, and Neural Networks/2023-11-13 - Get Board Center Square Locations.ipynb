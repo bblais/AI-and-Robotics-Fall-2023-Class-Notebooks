{
 "cells": [
  {
   "cell_type": "code",
   "execution_count": 2,
   "metadata": {},
   "outputs": [],
   "source": [
    "%matplotlib qt5"
   ]
  },
  {
   "cell_type": "code",
   "execution_count": 3,
   "metadata": {},
   "outputs": [],
   "source": [
    "from pylab import *"
   ]
  },
  {
   "cell_type": "markdown",
   "metadata": {},
   "source": [
    "Take a bunch of board pictures from the same location.  This script will help you get the pixel locations of the squares.  Click on the squares in the order of the board -- upper left down to lower right."
   ]
  },
  {
   "cell_type": "code",
   "execution_count": 4,
   "metadata": {},
   "outputs": [],
   "source": [
    "def onkey(event):\n",
    "    global locations\n",
    "    from pylab import close\n",
    "    import os\n",
    "    import json\n",
    "    global fig\n",
    "    \n",
    "    if event.key=='escape':\n",
    "        print(\"locations=\",array(locations).__repr__())\n",
    "        with open('locations.json', 'w') as outfile:\n",
    "            json.dump(locations, outfile)\n",
    "    \n",
    "        close(fig)\n",
    "        \n",
    "def onclick(event):\n",
    "    from pylab import plot,show,close\n",
    "    global ix, iy\n",
    "    global locations,fig,ax\n",
    "    \n",
    "    ix, iy = event.xdata, event.ydata\n",
    "    global coords\n",
    "    coords = [int(ix), int(iy)]\n",
    "    print(coords)\n",
    "    \n",
    "    locations.append([coords[1],coords[0]])  # row,col not x, y\n",
    "    \n",
    "    ax.plot(ix,iy,'go')\n",
    "    fig.canvas.draw()\n",
    "    show()\n",
    "    return coords\n",
    "\n",
    "def get_square_locations(filefilter):\n",
    "    from pylab import imread,imsave,imshow,figure,show\n",
    "    from glob import glob\n",
    "    global locations,fig,ax\n",
    "    locations=[]\n",
    "    stop=False\n",
    "    \n",
    "    fnames=glob(filefilter)\n",
    "    \n",
    "    fig=figure()\n",
    "    ax=subplot(1,1,1)\n",
    "    arr=imread(fnames[0])\n",
    "    imshow(arr)\n",
    "    \n",
    "    cid = fig.canvas.mpl_connect('button_press_event', onclick)\n",
    "    cid2 = fig.canvas.mpl_connect('key_press_event', onkey)\n",
    "    show()\n",
    "    \n"
   ]
  },
  {
   "cell_type": "code",
   "execution_count": 6,
   "metadata": {},
   "outputs": [
    {
     "name": "stdout",
     "output_type": "stream",
     "text": [
      "[89, 55]\n",
      "[145, 55]\n",
      "[208, 55]\n",
      "[269, 54]\n",
      "[87, 105]\n",
      "[149, 105]\n",
      "[206, 105]\n",
      "[268, 105]\n",
      "[82, 163]\n",
      "[144, 163]\n",
      "[208, 163]\n",
      "[270, 162]\n",
      "[75, 222]\n",
      "[145, 222]\n",
      "[211, 223]\n",
      "[276, 221]\n",
      "locations= array([[ 55,  89],\n",
      "       [ 55, 145],\n",
      "       [ 55, 208],\n",
      "       [ 54, 269],\n",
      "       [105,  87],\n",
      "       [105, 149],\n",
      "       [105, 206],\n",
      "       [105, 268],\n",
      "       [163,  82],\n",
      "       [163, 144],\n",
      "       [163, 208],\n",
      "       [162, 270],\n",
      "       [222,  75],\n",
      "       [222, 145],\n",
      "       [223, 211],\n",
      "       [221, 276]])\n"
     ]
    }
   ],
   "source": [
    "get_square_locations(\"images/board images/test0.jpg\")"
   ]
  },
  {
   "cell_type": "code",
   "execution_count": null,
   "metadata": {},
   "outputs": [],
   "source": []
  }
 ],
 "metadata": {
  "kernelspec": {
   "display_name": "Python 3 (ipykernel)",
   "language": "python",
   "name": "python3"
  },
  "language_info": {
   "codemirror_mode": {
    "name": "ipython",
    "version": 3
   },
   "file_extension": ".py",
   "mimetype": "text/x-python",
   "name": "python",
   "nbconvert_exporter": "python",
   "pygments_lexer": "ipython3",
   "version": "3.11.5"
  }
 },
 "nbformat": 4,
 "nbformat_minor": 4
}
