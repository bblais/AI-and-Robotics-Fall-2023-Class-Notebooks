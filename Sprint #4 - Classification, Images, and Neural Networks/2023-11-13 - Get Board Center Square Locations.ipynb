{
 "cells": [
  {
   "cell_type": "code",
   "execution_count": 12,
   "metadata": {},
   "outputs": [],
   "source": [
    "%matplotlib qt5"
   ]
  },
  {
   "cell_type": "code",
   "execution_count": 13,
   "metadata": {},
   "outputs": [],
   "source": [
    "from pylab import *"
   ]
  },
  {
   "cell_type": "markdown",
   "metadata": {},
   "source": [
    "Take a bunch of board pictures from the same location.  This script will help you get the pixel locations of the squares.  Click on the squares in the order of the board -- upper left down to lower right."
   ]
  },
  {
   "cell_type": "code",
   "execution_count": 14,
   "metadata": {},
   "outputs": [],
   "source": [
    "def onkey(event):\n",
    "    global locations\n",
    "    from pylab import close\n",
    "    import os\n",
    "    import json\n",
    "    global fig\n",
    "    import tempfile\n",
    "    \n",
    "    if event.key=='escape':\n",
    "        print(\"locations=\",array(locations).__repr__())\n",
    "        # if os.path.exists('locations.json'):\n",
    "        #     os.rename('locations.json','locations_'+tempfile.mktemp(dir='')+\".json\")\n",
    "        with open('locations.json', 'w') as outfile:\n",
    "            json.dump(locations, outfile)\n",
    "    \n",
    "        close(fig)\n",
    "        \n",
    "def onclick(event):\n",
    "    from pylab import plot,show,close\n",
    "    global ix, iy\n",
    "    global locations,fig,ax\n",
    "    \n",
    "    ix, iy = event.xdata, event.ydata\n",
    "    global coords\n",
    "    coords = [int(ix), int(iy)]\n",
    "    print(coords)\n",
    "    \n",
    "    locations.append([coords[1],coords[0]])  # row,col not x, y\n",
    "    \n",
    "    ax.plot(ix,iy,'go')\n",
    "    fig.canvas.draw()\n",
    "    show()\n",
    "    return coords\n",
    "\n",
    "def get_square_locations(filefilter):\n",
    "    from pylab import imread,imsave,imshow,figure,show\n",
    "    from glob import glob\n",
    "    global locations,fig,ax\n",
    "    locations=[]\n",
    "    stop=False\n",
    "    \n",
    "    fnames=glob(filefilter)\n",
    "    \n",
    "    fig=figure()\n",
    "    ax=subplot(1,1,1)\n",
    "    arr=imread(fnames[0])\n",
    "    imshow(arr)\n",
    "    \n",
    "    cid = fig.canvas.mpl_connect('button_press_event', onclick)\n",
    "    cid2 = fig.canvas.mpl_connect('key_press_event', onkey)\n",
    "    show()\n",
    "    \n"
   ]
  },
  {
   "cell_type": "code",
   "execution_count": 15,
   "metadata": {},
   "outputs": [
    {
     "name": "stdout",
     "output_type": "stream",
     "text": [
      "[90, 56]\n",
      "[148, 56]\n",
      "[207, 56]\n",
      "[270, 55]\n",
      "[86, 108]\n",
      "[142, 108]\n",
      "[207, 108]\n",
      "[268, 108]\n",
      "[78, 165]\n",
      "[142, 165]\n",
      "[206, 165]\n",
      "[270, 165]\n",
      "[75, 225]\n",
      "[147, 225]\n",
      "[205, 224]\n",
      "[276, 223]\n",
      "locations= array([[ 56,  90],\n",
      "       [ 56, 148],\n",
      "       [ 56, 207],\n",
      "       [ 55, 270],\n",
      "       [108,  86],\n",
      "       [108, 142],\n",
      "       [108, 207],\n",
      "       [108, 268],\n",
      "       [165,  78],\n",
      "       [165, 142],\n",
      "       [165, 206],\n",
      "       [165, 270],\n",
      "       [225,  75],\n",
      "       [225, 147],\n",
      "       [224, 205],\n",
      "       [223, 276]])\n"
     ]
    }
   ],
   "source": [
    "get_square_locations(\"images/board images/test0.jpg\")"
   ]
  },
  {
   "cell_type": "code",
   "execution_count": null,
   "metadata": {},
   "outputs": [],
   "source": []
  }
 ],
 "metadata": {
  "kernelspec": {
   "display_name": "Python 3 (ipykernel)",
   "language": "python",
   "name": "python3"
  },
  "language_info": {
   "codemirror_mode": {
    "name": "ipython",
    "version": 3
   },
   "file_extension": ".py",
   "mimetype": "text/x-python",
   "name": "python",
   "nbconvert_exporter": "python",
   "pygments_lexer": "ipython3",
   "version": "3.11.5"
  }
 },
 "nbformat": 4,
 "nbformat_minor": 4
}
