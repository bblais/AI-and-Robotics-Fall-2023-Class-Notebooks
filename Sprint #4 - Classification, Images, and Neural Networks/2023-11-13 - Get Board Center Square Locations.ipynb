{
 "cells": [
  {
   "cell_type": "code",
   "execution_count": 1,
   "metadata": {},
   "outputs": [],
   "source": [
    "%matplotlib qt5"
   ]
  },
  {
   "cell_type": "code",
   "execution_count": 2,
   "metadata": {},
   "outputs": [],
   "source": [
    "from pylab import *"
   ]
  },
  {
   "cell_type": "markdown",
   "metadata": {},
   "source": [
    "Take a bunch of board pictures from the same location.  This script will help you get the pixel locations of the squares.  Click on the squares in the order of the board -- upper left down to lower right."
   ]
  },
  {
   "cell_type": "code",
   "execution_count": 7,
   "metadata": {},
   "outputs": [],
   "source": [
    "def onkey(event):\n",
    "    global locations\n",
    "    from pylab import close\n",
    "    import os\n",
    "    import json\n",
    "    global fig\n",
    "    \n",
    "    if event.key=='escape':\n",
    "        print(\"locations=\",array(locations).__repr__())\n",
    "        with open('locations.json', 'w') as outfile:\n",
    "            json.dump(locations, outfile)\n",
    "    \n",
    "        close(fig)\n",
    "        \n",
    "def onclick(event):\n",
    "    from pylab import plot,show,close\n",
    "    global ix, iy\n",
    "    global locations,fig,ax\n",
    "    \n",
    "    ix, iy = event.xdata, event.ydata\n",
    "    global coords\n",
    "    coords = [int(ix), int(iy)]\n",
    "    print(coords)\n",
    "    \n",
    "    locations.append([coords[1],coords[0]])  # row,col not x, y\n",
    "    \n",
    "    ax.plot(ix,iy,'go')\n",
    "    fig.canvas.draw()\n",
    "    show()\n",
    "    return coords\n",
    "\n",
    "def get_square_locations(filefilter):\n",
    "    from pylab import imread,imsave,imshow,figure,show\n",
    "    from glob import glob\n",
    "    global locations,fig,ax\n",
    "    locations=[]\n",
    "    stop=False\n",
    "    \n",
    "    fnames=glob(filefilter)\n",
    "    \n",
    "    fig=figure()\n",
    "    ax=subplot(1,1,1)\n",
    "    arr=imread(fnames[0])\n",
    "    imshow(arr)\n",
    "    \n",
    "    cid = fig.canvas.mpl_connect('button_press_event', onclick)\n",
    "    cid2 = fig.canvas.mpl_connect('key_press_event', onkey)\n",
    "    show()\n",
    "    \n"
   ]
  },
  {
   "cell_type": "code",
   "execution_count": 8,
   "metadata": {},
   "outputs": [
    {
     "name": "stdout",
     "output_type": "stream",
     "text": [
      "[57, 58]\n",
      "[146, 59]\n",
      "[233, 56]\n",
      "[326, 55]\n",
      "[414, 56]\n",
      "locations= array([[ 58,  57],\n",
      "       [ 59, 146],\n",
      "       [ 56, 233],\n",
      "       [ 55, 326],\n",
      "       [ 56, 414]])\n"
     ]
    }
   ],
   "source": [
    "get_square_locations(\"images/connect4.png\")"
   ]
  },
  {
   "cell_type": "code",
   "execution_count": null,
   "metadata": {},
   "outputs": [],
   "source": []
  }
 ],
 "metadata": {
  "kernelspec": {
   "display_name": "Python 3 (ipykernel)",
   "language": "python",
   "name": "python3"
  },
  "language_info": {
   "codemirror_mode": {
    "name": "ipython",
    "version": 3
   },
   "file_extension": ".py",
   "mimetype": "text/x-python",
   "name": "python",
   "nbconvert_exporter": "python",
   "pygments_lexer": "ipython3",
   "version": "3.11.5"
  }
 },
 "nbformat": 4,
 "nbformat_minor": 4
}
