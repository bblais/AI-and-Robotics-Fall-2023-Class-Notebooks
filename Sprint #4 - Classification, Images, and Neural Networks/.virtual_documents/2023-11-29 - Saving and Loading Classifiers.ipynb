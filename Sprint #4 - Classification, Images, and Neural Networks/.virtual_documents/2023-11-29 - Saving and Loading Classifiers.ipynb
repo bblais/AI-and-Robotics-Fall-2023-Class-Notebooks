%matplotlib inline
from pylab import *


from classy import *


data=load_excel('data/iris.xls')


C=NaiveBayes()
C.fit(data.vectors,data.targets)


print("On the full data set:",C.percent_correct(data.vectors,data.targets))


C.save("naive_bayes_iris_trained.json")


C1=NaiveBayes()
C1.load("naive_bayes_iris_trained.json")


print("On the full data set:",C1.percent_correct(data.vectors,data.targets))


C=kNearestNeighbor()
C.fit(data.vectors,data.targets)
C.save("knn_iris_trained.json")





C=NumPyNetBackProp({
    'input':4,               # number of features
    'output':(3,'linear'),  # number of classes
    'cost':'mse',
})


C.fit(data.vectors,data.targets,epochs=10000)
print("On the full data set:",C.percent_correct(data.vectors,data.targets))


number_of_features=4
number_of_categories=3





C=NumPyNetBackProp({
    'input':number_of_features,               # number of features
    'hidden':[(5,'logistic'),],   # this size is "arbitrary"
    'output':(number_of_categories,'logistic'),  # number of classes
    'cost':'mse',
})
C.fit(data.vectors,data.targets,epochs=3000)


print("On the full data set:",C.percent_correct(data.vectors,data.targets))


C.save("backprop_iris_trained.json")



