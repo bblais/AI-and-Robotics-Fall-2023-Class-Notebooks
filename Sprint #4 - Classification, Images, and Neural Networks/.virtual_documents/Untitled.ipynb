%matplotlib inline
from pylab import *


from classy import *


data=load_excel('data/iris.xls')



