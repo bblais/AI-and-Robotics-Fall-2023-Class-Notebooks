from Game import *


state=Board(4,4)


state


state.show_locations()


def all_possible_moves(player):
    moves=[]

    if player==1:
        for i in range(4,16):
            moves.append([i,i-4])
            if not i in [4,8,12]:
                moves.append([i,i-5])
            if not i in [7,11,15]:
                moves.append([i,i-3])
    elif player==2:
        for i in range(12):
            moves.append([i,i+4])
            if not i in [0,4,8]:
                moves.append([i,i+5])
            if not i in [3,7,11]:
                moves.append([i,i+3])
    else:
        raise ValueError("You can't get there from here")


    return moves
    





all_possible_moves()
