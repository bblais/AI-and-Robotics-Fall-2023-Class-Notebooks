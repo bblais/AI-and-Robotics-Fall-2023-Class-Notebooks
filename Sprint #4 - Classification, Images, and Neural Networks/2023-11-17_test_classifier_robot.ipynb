{
 "cells": [
  {
   "cell_type": "markdown",
   "id": "a7a19e2b-1dc7-4de8-83d3-a4a74033805f",
   "metadata": {},
   "source": [
    "In order to use a classifier for read_state you need a training set of image squares for your game.  See 2023-11-17 - Make a training image set of squares.ipynb to do that.\n",
    "\n",
    "In this example, my training set is in the folder \"images/training squares\"."
   ]
  },
  {
   "cell_type": "markdown",
   "id": "e136b5bc-4586-4696-ad53-7c5d0a7c4dc6",
   "metadata": {},
   "source": [
    "We'll start by debugging, and making sure it works, before making a complete read_state function"
   ]
  },
  {
   "cell_type": "code",
   "execution_count": 1,
   "id": "416e48de-a19c-467f-a10d-349683bdc9d5",
   "metadata": {},
   "outputs": [
    {
     "name": "stdout",
     "output_type": "stream",
     "text": [
      "Version  1.0.7\n",
      "Version:  0.0.46\n",
      "Version:  0.2.46\n"
     ]
    }
   ],
   "source": [
    "from classy import *\n",
    "from Game import Board"
   ]
  },
  {
   "cell_type": "code",
   "execution_count": 2,
   "id": "6504ba85-50fe-46be-bc82-be32ee6c5cf8",
   "metadata": {},
   "outputs": [
    {
     "name": "stdout",
     "output_type": "stream",
     "text": [
      "[player1]: 58 files found\n",
      "[blank]: 46 files found\n",
      "[player2]: 56 files found\n",
      "Images\n",
      "160 images of shape (50, 50, 3)\n",
      "Target values given.\n",
      "Target names: 'blank', 'player1', 'player2'\n",
      "[blank]: 46 files\n",
      "[player1]: 58 files\n",
      "[player2]: 56 files\n"
     ]
    }
   ],
   "source": [
    "images=image.load_images('images/training squares/')\n",
    "images=remap_targets(images,new_target_names=['blank','player1','player2'])\n",
    "summary(images)"
   ]
  },
  {
   "cell_type": "code",
   "execution_count": 3,
   "id": "1f5f640f-c059-4a13-b6ed-db3c0012ebad",
   "metadata": {},
   "outputs": [
    {
     "name": "stdout",
     "output_type": "stream",
     "text": [
      "160 vectors of length 7500\n",
      "Feature names: 'p0', 'p1', 'p2', 'p3', 'p4'  , ... ,  'p7495', 'p7496', 'p7497', 'p7498', 'p7499'  (7500 features)\n",
      "Target values given.\n",
      "Target names: 'blank', 'player1', 'player2'\n",
      "Mean:  [137.15625 144.91875 138.9875  ... 182.66875 186.55    177.63125]\n",
      "Median:  [153.  161.5 156.  ... 184.  188.  180. ]\n",
      "Stddev:  [49.87027507 52.84611763 53.1624853  ... 12.93334927 17.7122133\n",
      " 16.97741952]\n"
     ]
    }
   ],
   "source": [
    "data=image.images_to_vectors(images)"
   ]
  },
  {
   "cell_type": "markdown",
   "id": "199c3474-0e95-46d2-9fd0-b41af1a5b45c",
   "metadata": {},
   "source": [
    "The following should really be 100% -- if it can't identify the data that it knows about, it will make errors on any test"
   ]
  },
  {
   "cell_type": "code",
   "execution_count": 4,
   "id": "530f2837-a051-407c-bc50-91e35ce611b0",
   "metadata": {},
   "outputs": [
    {
     "name": "stdout",
     "output_type": "stream",
     "text": [
      "On the full data set: 100.0\n"
     ]
    }
   ],
   "source": [
    "C=NaiveBayes()\n",
    "C.fit(data.vectors,data.targets)\n",
    "print(\"On the full data set:\",C.percent_correct(data.vectors,data.targets))"
   ]
  },
  {
   "cell_type": "code",
   "execution_count": 5,
   "id": "bec2e961-d929-4bf6-8ce3-d53b664df76e",
   "metadata": {},
   "outputs": [],
   "source": [
    "C.save(\"naive_bayes_training_squares_trained.json\")\n",
    "C.save(\"naive_bayes_training_squares_trained2.json\")"
   ]
  },
  {
   "cell_type": "code",
   "execution_count": 6,
   "id": "a9306744-7675-49a8-a7aa-9084412d2518",
   "metadata": {},
   "outputs": [
    {
     "name": "stdout",
     "output_type": "stream",
     "text": [
      "On the full data set: 100.0\n"
     ]
    }
   ],
   "source": [
    "C1=NaiveBayes()\n",
    "C1.load(\"naive_bayes_training_squares_trained.json\")\n",
    "print(\"On the full data set:\",C1.percent_correct(data.vectors,data.targets))"
   ]
  },
  {
   "cell_type": "code",
   "execution_count": 7,
   "id": "9ac14276-eb2d-4c3c-844a-9852d6cb95ef",
   "metadata": {},
   "outputs": [
    {
     "name": "stdout",
     "output_type": "stream",
     "text": [
      "On the full data set: 99.375\n"
     ]
    }
   ],
   "source": [
    "C=kNearestNeighbor()\n",
    "C.fit(data.vectors,data.targets)\n",
    "print(\"On the full data set:\",C.percent_correct(data.vectors,data.targets))"
   ]
  },
  {
   "cell_type": "code",
   "execution_count": 8,
   "id": "6aac9f49-919d-466e-a651-3e62d54bb267",
   "metadata": {},
   "outputs": [],
   "source": [
    "C.save(\"kNearestNeighbor_training_squares_trained.json\")\n",
    "C.save(\"kNearestNeighbor_training_squares_trained2.json\")"
   ]
  },
  {
   "cell_type": "code",
   "execution_count": 9,
   "id": "f0ec9001-e027-41a1-b6f1-e42705621d6c",
   "metadata": {},
   "outputs": [
    {
     "name": "stdout",
     "output_type": "stream",
     "text": [
      "On the full data set: 99.375\n"
     ]
    }
   ],
   "source": [
    "C1=kNearestNeighbor()\n",
    "C1.load(\"kNearestNeighbor_training_squares_trained.json\")\n",
    "print(\"On the full data set:\",C1.percent_correct(data.vectors,data.targets))"
   ]
  },
  {
   "cell_type": "code",
   "execution_count": 10,
   "id": "c0b64c5a-2847-404d-99f0-b8b89065a7c1",
   "metadata": {},
   "outputs": [],
   "source": [
    "from pylab import imread\n",
    "from numpy import atleast_2d"
   ]
  },
  {
   "cell_type": "code",
   "execution_count": 11,
   "id": "1c9efc96-9aab-4603-99bf-c17283f643ee",
   "metadata": {},
   "outputs": [],
   "source": [
    "fname='images/board to reconstruct - was test9.jpg'\n",
    "im=imread(fname)"
   ]
  },
  {
   "cell_type": "markdown",
   "id": "42535758-742b-483e-9f0b-a7af7ac425e7",
   "metadata": {},
   "source": [
    "slice into squares"
   ]
  },
  {
   "cell_type": "code",
   "execution_count": 12,
   "id": "02ca638d-c0d3-47be-a31f-fbee9289ed87",
   "metadata": {},
   "outputs": [],
   "source": [
    "square_size=50 # choose a size that works for you\n",
    "import json\n",
    "with open('locations.json') as json_file:\n",
    "    locations = json.load(json_file)\n",
    "\n",
    "count=0\n",
    "im=imread(fname)\n",
    "\n",
    "values=[]\n",
    "for r,c in locations:\n",
    "    sr=r-square_size//2\n",
    "    er=sr+square_size\n",
    "    sc=c-square_size//2\n",
    "    ec=sc+square_size   \n",
    "    subimage=im[sr:er,sc:ec,:]\n",
    "\n",
    "    # convert the square image to a data vector for the classifier\n",
    "    vector=subimage.ravel()\n",
    "    prediction=C.predict(atleast_2d(vector))[0]\n",
    "\n",
    "    values.append(prediction)\n",
    "\n",
    "    count+=1"
   ]
  },
  {
   "cell_type": "code",
   "execution_count": 13,
   "id": "fc1f84dc-4da6-4dbb-a52b-74e7dd8dbcbb",
   "metadata": {},
   "outputs": [
    {
     "data": {
      "text/plain": [
       " 1  1  2  1 \n",
       " 1  2  1  1 \n",
       " 0  2  0  2 \n",
       " 1  0  1  1 "
      ]
     },
     "execution_count": 13,
     "metadata": {},
     "output_type": "execute_result"
    }
   ],
   "source": [
    "state=Board(4,4)\n",
    "state.board=values\n",
    "state"
   ]
  },
  {
   "cell_type": "markdown",
   "id": "7acf0b83-0c26-47e7-8841-4c9931043566",
   "metadata": {},
   "source": [
    "## Now put it all together into read_state\n",
    "    "
   ]
  },
  {
   "cell_type": "code",
   "execution_count": 14,
   "id": "3f80c6c9-fb24-447e-b59d-01ddc15b9dc0",
   "metadata": {},
   "outputs": [],
   "source": [
    "def read_state_from_file(filename):\n",
    "    from Game import Board\n",
    "    text=open(filename).read()\n",
    "    text=text.strip()\n",
    "    lines=[line.strip() for line in text.split('\\n')]  # get rid of \\n\n",
    "    \n",
    "    row=lines[0].split()\n",
    "    R,C=len(lines),len(row)\n",
    "    print(f\"{R}x{C} board\")\n",
    "    state=Board(R,C)\n",
    "    state.board=[int(val) for val in text.split()]  \n",
    "    print(state)\n",
    "    return state"
   ]
  },
  {
   "cell_type": "code",
   "execution_count": 15,
   "id": "a55b9fb6-1639-4151-bdc4-f37f7458c3cd",
   "metadata": {},
   "outputs": [],
   "source": [
    "def take_picture(fname):  # in jupyter have this, but don't put this on your robot!\n",
    "    pass"
   ]
  },
  {
   "cell_type": "code",
   "execution_count": 16,
   "id": "9ecd812d-fae0-49d2-90bf-d125fc34bf34",
   "metadata": {},
   "outputs": [],
   "source": [
    "def read_state():\n",
    "    from pylab import imread,imsave\n",
    "    from numpy import atleast_2d\n",
    "    import os\n",
    "    from Game import Board\n",
    "    from classy import image,NaiveBayes\n",
    "\n",
    "    # train the classifier\n",
    "    images=image.load_images('images/training squares/',delete_alpha=True)  #<=========\n",
    "    data=image.images_to_vectors(images,verbose=True)  # train on all of them\n",
    "\n",
    "    #classifier=kNearestNeighbor()\n",
    "    classifier=NaiveBayes()\n",
    "    classifier.load(\"naive_bayes_training_squares_trained.json\")\n",
    "    #classifier.fit(data.vectors,data.targets)\n",
    "\n",
    "\n",
    "    # get the picture\n",
    "    fname='current_board.jpg'              # for the robot\n",
    "    fname='images/board to reconstruct - was test9.jpg' # for debugging in jupyter\n",
    "    take_picture(fname)\n",
    "    im=imread(fname)\n",
    "\n",
    "    # slice the picture into squares of the right size\n",
    "    square_size=50 # choose a size that works for you\n",
    "    import json\n",
    "    with open('locations.json') as json_file:\n",
    "        locations = json.load(json_file)\n",
    "\n",
    "    count=0\n",
    "    # for debugging\n",
    "    if not os.path.exists('images/predicted'):\n",
    "        os.mkdir('images/predicted')\n",
    "    \n",
    "    values=[]\n",
    "    for r,c in locations:\n",
    "        sr=r-square_size//2\n",
    "        er=sr+square_size\n",
    "        sc=c-square_size//2\n",
    "        ec=sc+square_size   \n",
    "        subimage=im[sr:er,sc:ec,:]\n",
    "    \n",
    "        # convert the square image to a data vector for the classifier\n",
    "        vector=subimage.ravel()\n",
    "        prediction=C.predict(atleast_2d(vector))[0]\n",
    "    \n",
    "        values.append(prediction)\n",
    "\n",
    "        # for debugging\n",
    "        imsave('images/predicted/square %d predicted as %s.jpg' % (count,data.target_names[prediction]),subimage)\n",
    "    \n",
    "        count+=1\n",
    "\n",
    "    \n",
    "    # reconstruct the state from the predictions\n",
    "    state=Board(4,4)                                      #<========= change the size\n",
    "    state.board=values\n",
    "\n",
    "    print(\"Current state is:\")\n",
    "    print(state)\n",
    "\n",
    "    x=input(\"\"\"\n",
    "    Hit return if this is correct, otherwise type a character \n",
    "    and the state will be read from current_board.txt.\"\"\")\n",
    "\n",
    "    if x:\n",
    "        print(\"Reading from file...\")\n",
    "        state=read_state_from_file('board.txt')\n",
    "\n",
    "    print(\"Using\")\n",
    "    print(state)\n",
    "\n",
    "    \n",
    "    return state\n"
   ]
  },
  {
   "cell_type": "code",
   "execution_count": 17,
   "id": "94e25ba7-36bc-42b2-ab19-a5468c44f8bf",
   "metadata": {},
   "outputs": [
    {
     "name": "stdout",
     "output_type": "stream",
     "text": [
      "[player1]: 58 files found\n",
      "[blank]: 46 files found\n",
      "[player2]: 56 files found\n",
      "160 vectors of length 7500\n",
      "Feature names: 'p0', 'p1', 'p2', 'p3', 'p4'  , ... ,  'p7495', 'p7496', 'p7497', 'p7498', 'p7499'  (7500 features)\n",
      "Target values given.\n",
      "Target names: 'player1', 'blank', 'player2'\n",
      "Mean:  [137.15625 144.91875 138.9875  ... 182.66875 186.55    177.63125]\n",
      "Median:  [153.  161.5 156.  ... 184.  188.  180. ]\n",
      "Stddev:  [49.87027507 52.84611763 53.1624853  ... 12.93334927 17.7122133\n",
      " 16.97741952]\n",
      "Current state is:\n",
      " 1  1  2  1 \n",
      " 1  2  1  1 \n",
      " 0  2  0  2 \n",
      " 1  0  1  1 \n",
      "\n"
     ]
    },
    {
     "name": "stdin",
     "output_type": "stream",
     "text": [
      "\n",
      "    Hit return if this is correct, otherwise type a character \n",
      "    and the state will be read from current_board.txt. \n"
     ]
    },
    {
     "name": "stdout",
     "output_type": "stream",
     "text": [
      "Using\n",
      " 1  1  2  1 \n",
      " 1  2  1  1 \n",
      " 0  2  0  2 \n",
      " 1  0  1  1 \n",
      "\n"
     ]
    }
   ],
   "source": [
    "state=read_state()"
   ]
  },
  {
   "cell_type": "code",
   "execution_count": null,
   "id": "5b9647e8-32a8-42a0-aa17-f01574134673",
   "metadata": {},
   "outputs": [],
   "source": []
  }
 ],
 "metadata": {
  "kernelspec": {
   "display_name": "Python 3 (ipykernel)",
   "language": "python",
   "name": "python3"
  },
  "language_info": {
   "codemirror_mode": {
    "name": "ipython",
    "version": 3
   },
   "file_extension": ".py",
   "mimetype": "text/x-python",
   "name": "python",
   "nbconvert_exporter": "python",
   "pygments_lexer": "ipython3",
   "version": "3.11.5"
  }
 },
 "nbformat": 4,
 "nbformat_minor": 5
}
