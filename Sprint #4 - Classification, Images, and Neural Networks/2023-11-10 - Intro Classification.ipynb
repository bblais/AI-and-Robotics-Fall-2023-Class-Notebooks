{
 "cells": [
  {
   "cell_type": "code",
   "execution_count": 1,
   "id": "1533dd69-84df-451e-822f-9525e3d95fa4",
   "metadata": {},
   "outputs": [],
   "source": [
    "%matplotlib inline\n",
    "from pylab import *"
   ]
  },
  {
   "cell_type": "code",
   "execution_count": 3,
   "id": "39571e4b-7eb0-4b7f-a5e1-55b0e5fe4222",
   "metadata": {},
   "outputs": [
    {
     "name": "stdout",
     "output_type": "stream",
     "text": [
      "Version:  0.0.34\n"
     ]
    }
   ],
   "source": [
    "from classy import *"
   ]
  },
  {
   "cell_type": "code",
   "execution_count": 4,
   "id": "1e77f918-417b-4d2a-ac3c-72dfea2e03a3",
   "metadata": {},
   "outputs": [
    {
     "name": "stdout",
     "output_type": "stream",
     "text": [
      "iris.data 151 5\n"
     ]
    },
    {
     "ename": "AttributeError",
     "evalue": "'DictVectorizer' object has no attribute 'get_feature_names'",
     "output_type": "error",
     "traceback": [
      "\u001b[0;31m---------------------------------------------------------------------------\u001b[0m",
      "\u001b[0;31mAttributeError\u001b[0m                            Traceback (most recent call last)",
      "Cell \u001b[0;32mIn[4], line 1\u001b[0m\n\u001b[0;32m----> 1\u001b[0m data\u001b[38;5;241m=\u001b[39mload_excel(\u001b[38;5;124m'\u001b[39m\u001b[38;5;124mdata/iris.xls\u001b[39m\u001b[38;5;124m'\u001b[39m)\n",
      "File \u001b[0;32m~/anaconda3/lib/python3.11/site-packages/classy/datasets.py:330\u001b[0m, in \u001b[0;36mload_excel\u001b[0;34m(fname, max_lines, sparse, verbose, sheet)\u001b[0m\n\u001b[1;32m    325\u001b[0m vectorizer \u001b[38;5;241m=\u001b[39m DictVectorizer(sparse\u001b[38;5;241m=\u001b[39msparse)\n\u001b[1;32m    326\u001b[0m vectors \u001b[38;5;241m=\u001b[39m vectorizer\u001b[38;5;241m.\u001b[39mfit_transform(mapping) \n\u001b[1;32m    329\u001b[0m dataset\u001b[38;5;241m=\u001b[39mStruct(vectors\u001b[38;5;241m=\u001b[39mvectors,targets\u001b[38;5;241m=\u001b[39mtarget,\n\u001b[0;32m--> 330\u001b[0m             target_names\u001b[38;5;241m=\u001b[39mtarget_names,feature_names\u001b[38;5;241m=\u001b[39mvectorizer\u001b[38;5;241m.\u001b[39mget_feature_names(),\n\u001b[1;32m    331\u001b[0m             vectorizer\u001b[38;5;241m=\u001b[39mvectorizer)\n\u001b[1;32m    333\u001b[0m \u001b[38;5;28;01mif\u001b[39;00m verbose:\n\u001b[1;32m    334\u001b[0m     summary(dataset)\n",
      "\u001b[0;31mAttributeError\u001b[0m: 'DictVectorizer' object has no attribute 'get_feature_names'"
     ]
    }
   ],
   "source": [
    "data=load_excel('data/iris.xls')"
   ]
  },
  {
   "cell_type": "code",
   "execution_count": null,
   "id": "601d60a9-7554-466e-a265-548985416d31",
   "metadata": {},
   "outputs": [],
   "source": []
  }
 ],
 "metadata": {
  "kernelspec": {
   "display_name": "Python 3 (ipykernel)",
   "language": "python",
   "name": "python3"
  },
  "language_info": {
   "codemirror_mode": {
    "name": "ipython",
    "version": 3
   },
   "file_extension": ".py",
   "mimetype": "text/x-python",
   "name": "python",
   "nbconvert_exporter": "python",
   "pygments_lexer": "ipython3",
   "version": "3.11.5"
  }
 },
 "nbformat": 4,
 "nbformat_minor": 5
}
